{
  "nbformat": 4,
  "nbformat_minor": 0,
  "metadata": {
    "colab": {
      "provenance": [],
      "toc_visible": true,
      "machine_shape": "hm",
      "authorship_tag": "ABX9TyMh5ZzTaqrOPYsK2CLAu0bZ",
      "include_colab_link": true
    },
    "kernelspec": {
      "name": "python3",
      "display_name": "Python 3"
    },
    "language_info": {
      "name": "python"
    },
    "gpuClass": "premium",
    "accelerator": "GPU"
  },
  "cells": [
    {
      "cell_type": "markdown",
      "metadata": {
        "id": "view-in-github",
        "colab_type": "text"
      },
      "source": [
        "<a href=\"https://colab.research.google.com/github/BooEiEi/project/blob/main/abdominal_circumference.ipynb\" target=\"_parent\"><img src=\"https://colab.research.google.com/assets/colab-badge.svg\" alt=\"Open In Colab\"/></a>"
      ]
    },
    {
      "cell_type": "code",
      "source": [
        "import pandas as pd #นำเข้า pandas แทนที่ด้วย pd\n",
        "import os# os ใช้จัดการกับไฟล์ ว่าอยู่ที่ไหน\n",
        "import numpy as np\n",
        "import seaborn as sns\n",
        "import matplotlib.pyplot as plt\n",
        "from google.colab import drive #นำเข้าข้อมูลจาก drive\n",
        "drive.mount('/content/drive')\n",
        "path = '/content/drive/My Drive/project'# ชี้ dirve ที่เราต้องการ\n",
        "import missingno as mno\n",
        "import missingno as msno\n",
        "from sklearn import linear_model\n",
        "%matplotlib inline\n",
        "import matplotlib\n",
        "import sklearn \n",
        "from sklearn.impute import KNNImputer\n",
        "from sklearn.metrics import mean_squared_error\n",
        "import time"
      ],
      "metadata": {
        "colab": {
          "base_uri": "https://localhost:8080/"
        },
        "id": "XugUwkQYFrW9",
        "outputId": "6d64db1f-77aa-4eee-f510-324e8ede00cb"
      },
      "execution_count": 1,
      "outputs": [
        {
          "output_type": "stream",
          "name": "stdout",
          "text": [
            "Mounted at /content/drive\n"
          ]
        }
      ]
    },
    {
      "cell_type": "code",
      "source": [
        "data = pd.read_csv(os.path.join(path, 'DFforCreateNaN.csv'))\n",
        "data = data.drop(['Unnamed: 0'], axis=1)\n",
        "data"
      ],
      "metadata": {
        "colab": {
          "base_uri": "https://localhost:8080/",
          "height": 505
        },
        "id": "72kY0rKzFvd9",
        "outputId": "9b1f1de8-4bc4-4a4b-bc9c-f53156a4180a"
      },
      "execution_count": 2,
      "outputs": [
        {
          "output_type": "execute_result",
          "data": {
            "text/plain": [
              "     Sex  AgeSYear  Weight  Height   BMI  Systolic  Diastolic  HeartRate  \\\n",
              "0      2      57.0    47.4   153.0  20.2     114.0       75.0       69.0   \n",
              "1      2      24.0    53.2   157.0  21.6     103.0       69.0       78.0   \n",
              "2      2      62.0    54.4   165.0  20.0      95.0       75.0       83.0   \n",
              "3      2      35.0    56.3   161.0  21.7      95.0       57.0       72.0   \n",
              "4      1      46.0    72.3   170.0  25.0     133.0       77.0      107.0   \n",
              "..   ...       ...     ...     ...   ...       ...        ...        ...   \n",
              "148    1      60.0    72.0   170.0  24.9     131.0       74.0       69.0   \n",
              "149    1      58.0    62.0   168.0  22.0     103.0       76.0       72.0   \n",
              "150    2      42.0    55.5   165.0  20.4     102.0       52.0       77.0   \n",
              "151    2      61.0    61.8   159.0  24.4     117.0       60.0       72.0   \n",
              "152    2      31.0    58.2   169.0  20.4     108.0       69.0       73.0   \n",
              "\n",
              "      SMM  Fat Mass  ...  003_Creatinine  004_Uric Acid  005_Cholesterol  \\\n",
              "0    19.3      12.5  ...             1.0            5.0            176.0   \n",
              "1    21.3      14.6  ...             0.8            5.2            159.0   \n",
              "2    21.6      15.2  ...             0.7            4.1            230.0   \n",
              "3    22.5      15.4  ...             0.6            5.0            198.0   \n",
              "4    29.2      19.0  ...             0.9            6.9            194.0   \n",
              "..    ...       ...  ...             ...            ...              ...   \n",
              "148  30.5      13.8  ...             0.9            6.9            182.0   \n",
              "149  27.8      11.9  ...             1.0            6.8            191.0   \n",
              "150  22.9      14.1  ...             0.8            4.7            212.0   \n",
              "151  23.4      19.2  ...             0.8            5.1            235.0   \n",
              "152  25.0      13.0  ...             0.7            4.3            200.0   \n",
              "\n",
              "     006_Triglyceride  008_HDL-C  009_LDL  010_AST  012_ALT  \\\n",
              "0                51.0       72.0     94.0     16.0     16.0   \n",
              "1                45.0       52.0     98.0     13.0     17.0   \n",
              "2                94.0       61.0    151.0     18.0     31.0   \n",
              "3                47.0       68.0    120.0     16.0     20.0   \n",
              "4                63.0       60.0    122.0     15.0     19.0   \n",
              "..                ...        ...      ...      ...      ...   \n",
              "148             179.0       39.0    107.0     36.0     31.0   \n",
              "149              62.0       47.0    132.0     16.0     33.0   \n",
              "150              68.0       63.0    135.0     11.0     16.0   \n",
              "151              66.0       56.0    166.0     15.0     23.0   \n",
              "152              44.0       56.0    135.0     14.0     21.0   \n",
              "\n",
              "     013_Alkaline Phos  071_HbA1c  \n",
              "0                 62.0        5.1  \n",
              "1                 50.0        5.4  \n",
              "2                 76.0        5.6  \n",
              "3                 35.0        5.1  \n",
              "4                 69.0        5.2  \n",
              "..                 ...        ...  \n",
              "148               79.0        6.5  \n",
              "149               42.0        6.8  \n",
              "150               33.0        4.8  \n",
              "151               44.0        5.4  \n",
              "152               31.0        4.7  \n",
              "\n",
              "[153 rows x 26 columns]"
            ],
            "text/html": [
              "\n",
              "  <div id=\"df-cc9807da-ef3e-44bb-a5fb-2c9b130af3a8\">\n",
              "    <div class=\"colab-df-container\">\n",
              "      <div>\n",
              "<style scoped>\n",
              "    .dataframe tbody tr th:only-of-type {\n",
              "        vertical-align: middle;\n",
              "    }\n",
              "\n",
              "    .dataframe tbody tr th {\n",
              "        vertical-align: top;\n",
              "    }\n",
              "\n",
              "    .dataframe thead th {\n",
              "        text-align: right;\n",
              "    }\n",
              "</style>\n",
              "<table border=\"1\" class=\"dataframe\">\n",
              "  <thead>\n",
              "    <tr style=\"text-align: right;\">\n",
              "      <th></th>\n",
              "      <th>Sex</th>\n",
              "      <th>AgeSYear</th>\n",
              "      <th>Weight</th>\n",
              "      <th>Height</th>\n",
              "      <th>BMI</th>\n",
              "      <th>Systolic</th>\n",
              "      <th>Diastolic</th>\n",
              "      <th>HeartRate</th>\n",
              "      <th>SMM</th>\n",
              "      <th>Fat Mass</th>\n",
              "      <th>...</th>\n",
              "      <th>003_Creatinine</th>\n",
              "      <th>004_Uric Acid</th>\n",
              "      <th>005_Cholesterol</th>\n",
              "      <th>006_Triglyceride</th>\n",
              "      <th>008_HDL-C</th>\n",
              "      <th>009_LDL</th>\n",
              "      <th>010_AST</th>\n",
              "      <th>012_ALT</th>\n",
              "      <th>013_Alkaline Phos</th>\n",
              "      <th>071_HbA1c</th>\n",
              "    </tr>\n",
              "  </thead>\n",
              "  <tbody>\n",
              "    <tr>\n",
              "      <th>0</th>\n",
              "      <td>2</td>\n",
              "      <td>57.0</td>\n",
              "      <td>47.4</td>\n",
              "      <td>153.0</td>\n",
              "      <td>20.2</td>\n",
              "      <td>114.0</td>\n",
              "      <td>75.0</td>\n",
              "      <td>69.0</td>\n",
              "      <td>19.3</td>\n",
              "      <td>12.5</td>\n",
              "      <td>...</td>\n",
              "      <td>1.0</td>\n",
              "      <td>5.0</td>\n",
              "      <td>176.0</td>\n",
              "      <td>51.0</td>\n",
              "      <td>72.0</td>\n",
              "      <td>94.0</td>\n",
              "      <td>16.0</td>\n",
              "      <td>16.0</td>\n",
              "      <td>62.0</td>\n",
              "      <td>5.1</td>\n",
              "    </tr>\n",
              "    <tr>\n",
              "      <th>1</th>\n",
              "      <td>2</td>\n",
              "      <td>24.0</td>\n",
              "      <td>53.2</td>\n",
              "      <td>157.0</td>\n",
              "      <td>21.6</td>\n",
              "      <td>103.0</td>\n",
              "      <td>69.0</td>\n",
              "      <td>78.0</td>\n",
              "      <td>21.3</td>\n",
              "      <td>14.6</td>\n",
              "      <td>...</td>\n",
              "      <td>0.8</td>\n",
              "      <td>5.2</td>\n",
              "      <td>159.0</td>\n",
              "      <td>45.0</td>\n",
              "      <td>52.0</td>\n",
              "      <td>98.0</td>\n",
              "      <td>13.0</td>\n",
              "      <td>17.0</td>\n",
              "      <td>50.0</td>\n",
              "      <td>5.4</td>\n",
              "    </tr>\n",
              "    <tr>\n",
              "      <th>2</th>\n",
              "      <td>2</td>\n",
              "      <td>62.0</td>\n",
              "      <td>54.4</td>\n",
              "      <td>165.0</td>\n",
              "      <td>20.0</td>\n",
              "      <td>95.0</td>\n",
              "      <td>75.0</td>\n",
              "      <td>83.0</td>\n",
              "      <td>21.6</td>\n",
              "      <td>15.2</td>\n",
              "      <td>...</td>\n",
              "      <td>0.7</td>\n",
              "      <td>4.1</td>\n",
              "      <td>230.0</td>\n",
              "      <td>94.0</td>\n",
              "      <td>61.0</td>\n",
              "      <td>151.0</td>\n",
              "      <td>18.0</td>\n",
              "      <td>31.0</td>\n",
              "      <td>76.0</td>\n",
              "      <td>5.6</td>\n",
              "    </tr>\n",
              "    <tr>\n",
              "      <th>3</th>\n",
              "      <td>2</td>\n",
              "      <td>35.0</td>\n",
              "      <td>56.3</td>\n",
              "      <td>161.0</td>\n",
              "      <td>21.7</td>\n",
              "      <td>95.0</td>\n",
              "      <td>57.0</td>\n",
              "      <td>72.0</td>\n",
              "      <td>22.5</td>\n",
              "      <td>15.4</td>\n",
              "      <td>...</td>\n",
              "      <td>0.6</td>\n",
              "      <td>5.0</td>\n",
              "      <td>198.0</td>\n",
              "      <td>47.0</td>\n",
              "      <td>68.0</td>\n",
              "      <td>120.0</td>\n",
              "      <td>16.0</td>\n",
              "      <td>20.0</td>\n",
              "      <td>35.0</td>\n",
              "      <td>5.1</td>\n",
              "    </tr>\n",
              "    <tr>\n",
              "      <th>4</th>\n",
              "      <td>1</td>\n",
              "      <td>46.0</td>\n",
              "      <td>72.3</td>\n",
              "      <td>170.0</td>\n",
              "      <td>25.0</td>\n",
              "      <td>133.0</td>\n",
              "      <td>77.0</td>\n",
              "      <td>107.0</td>\n",
              "      <td>29.2</td>\n",
              "      <td>19.0</td>\n",
              "      <td>...</td>\n",
              "      <td>0.9</td>\n",
              "      <td>6.9</td>\n",
              "      <td>194.0</td>\n",
              "      <td>63.0</td>\n",
              "      <td>60.0</td>\n",
              "      <td>122.0</td>\n",
              "      <td>15.0</td>\n",
              "      <td>19.0</td>\n",
              "      <td>69.0</td>\n",
              "      <td>5.2</td>\n",
              "    </tr>\n",
              "    <tr>\n",
              "      <th>...</th>\n",
              "      <td>...</td>\n",
              "      <td>...</td>\n",
              "      <td>...</td>\n",
              "      <td>...</td>\n",
              "      <td>...</td>\n",
              "      <td>...</td>\n",
              "      <td>...</td>\n",
              "      <td>...</td>\n",
              "      <td>...</td>\n",
              "      <td>...</td>\n",
              "      <td>...</td>\n",
              "      <td>...</td>\n",
              "      <td>...</td>\n",
              "      <td>...</td>\n",
              "      <td>...</td>\n",
              "      <td>...</td>\n",
              "      <td>...</td>\n",
              "      <td>...</td>\n",
              "      <td>...</td>\n",
              "      <td>...</td>\n",
              "      <td>...</td>\n",
              "    </tr>\n",
              "    <tr>\n",
              "      <th>148</th>\n",
              "      <td>1</td>\n",
              "      <td>60.0</td>\n",
              "      <td>72.0</td>\n",
              "      <td>170.0</td>\n",
              "      <td>24.9</td>\n",
              "      <td>131.0</td>\n",
              "      <td>74.0</td>\n",
              "      <td>69.0</td>\n",
              "      <td>30.5</td>\n",
              "      <td>13.8</td>\n",
              "      <td>...</td>\n",
              "      <td>0.9</td>\n",
              "      <td>6.9</td>\n",
              "      <td>182.0</td>\n",
              "      <td>179.0</td>\n",
              "      <td>39.0</td>\n",
              "      <td>107.0</td>\n",
              "      <td>36.0</td>\n",
              "      <td>31.0</td>\n",
              "      <td>79.0</td>\n",
              "      <td>6.5</td>\n",
              "    </tr>\n",
              "    <tr>\n",
              "      <th>149</th>\n",
              "      <td>1</td>\n",
              "      <td>58.0</td>\n",
              "      <td>62.0</td>\n",
              "      <td>168.0</td>\n",
              "      <td>22.0</td>\n",
              "      <td>103.0</td>\n",
              "      <td>76.0</td>\n",
              "      <td>72.0</td>\n",
              "      <td>27.8</td>\n",
              "      <td>11.9</td>\n",
              "      <td>...</td>\n",
              "      <td>1.0</td>\n",
              "      <td>6.8</td>\n",
              "      <td>191.0</td>\n",
              "      <td>62.0</td>\n",
              "      <td>47.0</td>\n",
              "      <td>132.0</td>\n",
              "      <td>16.0</td>\n",
              "      <td>33.0</td>\n",
              "      <td>42.0</td>\n",
              "      <td>6.8</td>\n",
              "    </tr>\n",
              "    <tr>\n",
              "      <th>150</th>\n",
              "      <td>2</td>\n",
              "      <td>42.0</td>\n",
              "      <td>55.5</td>\n",
              "      <td>165.0</td>\n",
              "      <td>20.4</td>\n",
              "      <td>102.0</td>\n",
              "      <td>52.0</td>\n",
              "      <td>77.0</td>\n",
              "      <td>22.9</td>\n",
              "      <td>14.1</td>\n",
              "      <td>...</td>\n",
              "      <td>0.8</td>\n",
              "      <td>4.7</td>\n",
              "      <td>212.0</td>\n",
              "      <td>68.0</td>\n",
              "      <td>63.0</td>\n",
              "      <td>135.0</td>\n",
              "      <td>11.0</td>\n",
              "      <td>16.0</td>\n",
              "      <td>33.0</td>\n",
              "      <td>4.8</td>\n",
              "    </tr>\n",
              "    <tr>\n",
              "      <th>151</th>\n",
              "      <td>2</td>\n",
              "      <td>61.0</td>\n",
              "      <td>61.8</td>\n",
              "      <td>159.0</td>\n",
              "      <td>24.4</td>\n",
              "      <td>117.0</td>\n",
              "      <td>60.0</td>\n",
              "      <td>72.0</td>\n",
              "      <td>23.4</td>\n",
              "      <td>19.2</td>\n",
              "      <td>...</td>\n",
              "      <td>0.8</td>\n",
              "      <td>5.1</td>\n",
              "      <td>235.0</td>\n",
              "      <td>66.0</td>\n",
              "      <td>56.0</td>\n",
              "      <td>166.0</td>\n",
              "      <td>15.0</td>\n",
              "      <td>23.0</td>\n",
              "      <td>44.0</td>\n",
              "      <td>5.4</td>\n",
              "    </tr>\n",
              "    <tr>\n",
              "      <th>152</th>\n",
              "      <td>2</td>\n",
              "      <td>31.0</td>\n",
              "      <td>58.2</td>\n",
              "      <td>169.0</td>\n",
              "      <td>20.4</td>\n",
              "      <td>108.0</td>\n",
              "      <td>69.0</td>\n",
              "      <td>73.0</td>\n",
              "      <td>25.0</td>\n",
              "      <td>13.0</td>\n",
              "      <td>...</td>\n",
              "      <td>0.7</td>\n",
              "      <td>4.3</td>\n",
              "      <td>200.0</td>\n",
              "      <td>44.0</td>\n",
              "      <td>56.0</td>\n",
              "      <td>135.0</td>\n",
              "      <td>14.0</td>\n",
              "      <td>21.0</td>\n",
              "      <td>31.0</td>\n",
              "      <td>4.7</td>\n",
              "    </tr>\n",
              "  </tbody>\n",
              "</table>\n",
              "<p>153 rows × 26 columns</p>\n",
              "</div>\n",
              "      <button class=\"colab-df-convert\" onclick=\"convertToInteractive('df-cc9807da-ef3e-44bb-a5fb-2c9b130af3a8')\"\n",
              "              title=\"Convert this dataframe to an interactive table.\"\n",
              "              style=\"display:none;\">\n",
              "        \n",
              "  <svg xmlns=\"http://www.w3.org/2000/svg\" height=\"24px\"viewBox=\"0 0 24 24\"\n",
              "       width=\"24px\">\n",
              "    <path d=\"M0 0h24v24H0V0z\" fill=\"none\"/>\n",
              "    <path d=\"M18.56 5.44l.94 2.06.94-2.06 2.06-.94-2.06-.94-.94-2.06-.94 2.06-2.06.94zm-11 1L8.5 8.5l.94-2.06 2.06-.94-2.06-.94L8.5 2.5l-.94 2.06-2.06.94zm10 10l.94 2.06.94-2.06 2.06-.94-2.06-.94-.94-2.06-.94 2.06-2.06.94z\"/><path d=\"M17.41 7.96l-1.37-1.37c-.4-.4-.92-.59-1.43-.59-.52 0-1.04.2-1.43.59L10.3 9.45l-7.72 7.72c-.78.78-.78 2.05 0 2.83L4 21.41c.39.39.9.59 1.41.59.51 0 1.02-.2 1.41-.59l7.78-7.78 2.81-2.81c.8-.78.8-2.07 0-2.86zM5.41 20L4 18.59l7.72-7.72 1.47 1.35L5.41 20z\"/>\n",
              "  </svg>\n",
              "      </button>\n",
              "      \n",
              "  <style>\n",
              "    .colab-df-container {\n",
              "      display:flex;\n",
              "      flex-wrap:wrap;\n",
              "      gap: 12px;\n",
              "    }\n",
              "\n",
              "    .colab-df-convert {\n",
              "      background-color: #E8F0FE;\n",
              "      border: none;\n",
              "      border-radius: 50%;\n",
              "      cursor: pointer;\n",
              "      display: none;\n",
              "      fill: #1967D2;\n",
              "      height: 32px;\n",
              "      padding: 0 0 0 0;\n",
              "      width: 32px;\n",
              "    }\n",
              "\n",
              "    .colab-df-convert:hover {\n",
              "      background-color: #E2EBFA;\n",
              "      box-shadow: 0px 1px 2px rgba(60, 64, 67, 0.3), 0px 1px 3px 1px rgba(60, 64, 67, 0.15);\n",
              "      fill: #174EA6;\n",
              "    }\n",
              "\n",
              "    [theme=dark] .colab-df-convert {\n",
              "      background-color: #3B4455;\n",
              "      fill: #D2E3FC;\n",
              "    }\n",
              "\n",
              "    [theme=dark] .colab-df-convert:hover {\n",
              "      background-color: #434B5C;\n",
              "      box-shadow: 0px 1px 3px 1px rgba(0, 0, 0, 0.15);\n",
              "      filter: drop-shadow(0px 1px 2px rgba(0, 0, 0, 0.3));\n",
              "      fill: #FFFFFF;\n",
              "    }\n",
              "  </style>\n",
              "\n",
              "      <script>\n",
              "        const buttonEl =\n",
              "          document.querySelector('#df-cc9807da-ef3e-44bb-a5fb-2c9b130af3a8 button.colab-df-convert');\n",
              "        buttonEl.style.display =\n",
              "          google.colab.kernel.accessAllowed ? 'block' : 'none';\n",
              "\n",
              "        async function convertToInteractive(key) {\n",
              "          const element = document.querySelector('#df-cc9807da-ef3e-44bb-a5fb-2c9b130af3a8');\n",
              "          const dataTable =\n",
              "            await google.colab.kernel.invokeFunction('convertToInteractive',\n",
              "                                                     [key], {});\n",
              "          if (!dataTable) return;\n",
              "\n",
              "          const docLinkHtml = 'Like what you see? Visit the ' +\n",
              "            '<a target=\"_blank\" href=https://colab.research.google.com/notebooks/data_table.ipynb>data table notebook</a>'\n",
              "            + ' to learn more about interactive tables.';\n",
              "          element.innerHTML = '';\n",
              "          dataTable['output_type'] = 'display_data';\n",
              "          await google.colab.output.renderOutput(dataTable, element);\n",
              "          const docLink = document.createElement('div');\n",
              "          docLink.innerHTML = docLinkHtml;\n",
              "          element.appendChild(docLink);\n",
              "        }\n",
              "      </script>\n",
              "    </div>\n",
              "  </div>\n",
              "  "
            ]
          },
          "metadata": {},
          "execution_count": 2
        }
      ]
    },
    {
      "cell_type": "markdown",
      "source": [
        "# 10 % random nan "
      ],
      "metadata": {
        "id": "EHnJmrOMt0EC"
      }
    },
    {
      "cell_type": "code",
      "source": [
        "for i in range(1,1001):\n",
        "  globals()[f'abdominal_circumference1{i}'] = data.copy() # for loop variable name\n",
        "  np.random.seed(i) # for loop seed\n",
        "  n = int((153*10/100)) \n",
        "  index_nan = np.random.choice(globals()[f'abdominal_circumference1{i}']['abdominal circumference'].size, n, replace=False)\n",
        "  globals()[f'abdominal_circumference1{i}']['abdominal circumference'].ravel()[index_nan] = np.nan"
      ],
      "metadata": {
        "id": "fNbz2mXgNkOj"
      },
      "execution_count": 3,
      "outputs": []
    },
    {
      "cell_type": "markdown",
      "source": [
        "## Imputation using Mean"
      ],
      "metadata": {
        "id": "YjwJ6-Qb7rt3"
      }
    },
    {
      "cell_type": "code",
      "source": [
        "from sklearn.impute import SimpleImputer"
      ],
      "metadata": {
        "id": "z2nfqhdh-yXe"
      },
      "execution_count": 4,
      "outputs": []
    },
    {
      "cell_type": "code",
      "source": [
        "t_start = time.time()\n",
        "mean10_imputer = SimpleImputer(strategy='mean')\n",
        "for i in range(1,1001):\n",
        "  globals()[f'imputed_mean10_{i}'] = mean10_imputer.fit_transform(globals()[f'abdominal_circumference1{i}'].copy()) #for loop miss forest impputation \n",
        "  globals()[f'MSE_MEAN10_{i}'] = mean_squared_error(data, globals()[f'imputed_mean10_{i}']) # for loop mean_squared_error\n",
        "t_end = time.time()\n",
        "t10_MEAN= (t_end- t_start)"
      ],
      "metadata": {
        "id": "zJS_wIka_iTE"
      },
      "execution_count": 5,
      "outputs": []
    },
    {
      "cell_type": "code",
      "source": [
        "t_start = time.time()\n",
        "mse_mean10_total = 0 \n",
        "MSE_MEAN10_1001 = 0\n",
        "for i in range(1,1001):\n",
        "  mse_mean10_total = mse_mean10_total + globals()[f'MSE_MEAN10_{i}']\n",
        "AMSE_abdominal_circumference1_mean = mse_mean10_total/1000\n",
        "print(f'AMSE_abdominal_circumference1_mean = {AMSE_abdominal_circumference1_mean}')\n",
        "t_end = time.time()\n",
        "print(f'เวลาที่ใช้ในการประมวลผล {t_end- t_start} วินาที')\n",
        "print(f'เวลาที่ใช้ในการประมวลผล {(t_end- t_start)/60} นาที')"
      ],
      "metadata": {
        "id": "fpVr60a-_yGy",
        "colab": {
          "base_uri": "https://localhost:8080/"
        },
        "outputId": "0cd1e517-f6e0-45ab-9590-730db48134d8"
      },
      "execution_count": 6,
      "outputs": [
        {
          "output_type": "stream",
          "name": "stdout",
          "text": [
            "AMSE_abdominal_circumference1_mean = 0.16900359738842471\n",
            "เวลาที่ใช้ในการประมวลผล 0.0013053417205810547 วินาที\n",
            "เวลาที่ใช้ในการประมวลผล 2.1755695343017578e-05 นาที\n"
          ]
        }
      ]
    },
    {
      "cell_type": "markdown",
      "source": [
        "## Imputation using the miss forest"
      ],
      "metadata": {
        "id": "yYzw-Hj6Lcd4"
      }
    },
    {
      "cell_type": "code",
      "source": [
        "import sys\n",
        "import sklearn.neighbors._base\n",
        "sys.modules['sklearn.neighbors.base'] = sklearn.neighbors._base\n",
        "!pip install missingpy\n",
        "import missingpy\n",
        "from missingpy import MissForest\n",
        "from sklearn.metrics import mean_squared_error"
      ],
      "metadata": {
        "id": "LySNylXpbrZY",
        "colab": {
          "base_uri": "https://localhost:8080/"
        },
        "outputId": "a836a8ae-bc74-474a-a639-c99d914c8218"
      },
      "execution_count": 7,
      "outputs": [
        {
          "output_type": "stream",
          "name": "stdout",
          "text": [
            "Looking in indexes: https://pypi.org/simple, https://us-python.pkg.dev/colab-wheels/public/simple/\n",
            "Collecting missingpy\n",
            "  Downloading missingpy-0.2.0-py3-none-any.whl (49 kB)\n",
            "\u001b[2K     \u001b[90m━━━━━━━━━━━━━━━━━━━━━━━━━━━━━━━━━━━━━━━━\u001b[0m \u001b[32m49.1/49.1 KB\u001b[0m \u001b[31m7.1 MB/s\u001b[0m eta \u001b[36m0:00:00\u001b[0m\n",
            "\u001b[?25hInstalling collected packages: missingpy\n",
            "Successfully installed missingpy-0.2.0\n"
          ]
        }
      ]
    },
    {
      "cell_type": "code",
      "source": [
        "t_start = time.time()\n",
        "MF10_imputer = MissForest()\n",
        "for i in range(1,1001):\n",
        "  globals()[f'imputed_mf10_{i}'] = MF10_imputer.fit_transform(globals()[f'abdominal_circumference1{i}'].copy()) #for loop miss forest impputation \n",
        "  globals()[f'MSE_MF10_{i}'] = mean_squared_error(data, globals()[f'imputed_mf10_{i}']) # for loop mean_squared_error\n",
        "t_end = time.time()\n",
        "t10_MF= (t_end- t_start)"
      ],
      "metadata": {
        "id": "jpVrBlWkczgN"
      },
      "execution_count": null,
      "outputs": []
    },
    {
      "cell_type": "code",
      "source": [
        "t_start = time.time()\n",
        "mse_mf10_total = 0 \n",
        "MSE_MF10_1001 = 0\n",
        "for i in range(1,1001):\n",
        "  mse_mf10_total = mse_mf10_total + globals()[f'MSE_MF10_{i}']\n",
        "AMSE_abdominal_circumference1_mf = mse_mf10_total/1000\n",
        "print(f'AMSE_abdominal_circumference1_mf = {AMSE_abdominal_circumference1_mf}')\n",
        "t_end = time.time()\n",
        "print(f'เวลาที่ใช้ในการประมวลผล {t_end- t_start} วินาที')\n",
        "print(f'เวลาที่ใช้ในการประมวลผล {(t_end- t_start)/60} นาที')"
      ],
      "metadata": {
        "id": "itymgxccG8Yj",
        "colab": {
          "base_uri": "https://localhost:8080/"
        },
        "outputId": "16742cb3-b662-407b-8c30-2a054ceaa309"
      },
      "execution_count": 9,
      "outputs": [
        {
          "output_type": "stream",
          "name": "stdout",
          "text": [
            "AMSE_abdominal_circumference1_mf = 0.016231306643539486\n",
            "เวลาที่ใช้ในการประมวลผล 0.0007922649383544922 วินาที\n",
            "เวลาที่ใช้ในการประมวลผล 1.3204415639241536e-05 นาที\n"
          ]
        }
      ]
    },
    {
      "cell_type": "markdown",
      "source": [
        "## Imputation using the KNN"
      ],
      "metadata": {
        "id": "AH3QecnbePSA"
      }
    },
    {
      "cell_type": "code",
      "source": [
        "from sklearn import neighbors\n",
        "from sklearn.impute import KNNImputer"
      ],
      "metadata": {
        "id": "PpTM8fjNRgta"
      },
      "execution_count": 10,
      "outputs": []
    },
    {
      "cell_type": "code",
      "source": [
        "t_start = time.time()\n",
        "KNN10_imputer = KNNImputer(n_neighbors = 15)\n",
        "for i in range(1,1001):\n",
        "  globals()[f'imputed_KNN10_{i}'] = KNN10_imputer.fit_transform(globals()[f'abdominal_circumference1{i}'].copy())\n",
        "  globals()[f'MSE_KNN10_{i}'] = mean_squared_error(data, globals()[f'imputed_KNN10_{i}'])\n",
        "t_end = time.time()\n",
        "t10_KNN= (t_end- t_start)"
      ],
      "metadata": {
        "id": "0j-UtJFbjj19"
      },
      "execution_count": 11,
      "outputs": []
    },
    {
      "cell_type": "code",
      "source": [
        "t_start = time.time()\n",
        "mse_knn10_total = 0 \n",
        "MSE_KNN10_1001 = 0\n",
        "for i in range(1,1001):\n",
        "  mse_knn10_total = mse_knn10_total + globals()[f'MSE_KNN10_{i}']\n",
        "AMSE_abdominal_circumference1_knn = mse_knn10_total/1000\n",
        "print(f'AMSE_abdominal_circumference1_knn = {AMSE_abdominal_circumference1_knn}')\n",
        "t_end = time.time()\n",
        "print(f'เวลาที่ใช้ในการประมวลผล {t_end- t_start} วินาที')\n",
        "print(f'เวลาที่ใช้ในการประมวลผล {(t_end- t_start)/60} นาที')"
      ],
      "metadata": {
        "id": "Y7aDqUh_klXX",
        "colab": {
          "base_uri": "https://localhost:8080/"
        },
        "outputId": "404d987f-742c-47b5-b3b0-e49c58a3c0bd"
      },
      "execution_count": 12,
      "outputs": [
        {
          "output_type": "stream",
          "name": "stdout",
          "text": [
            "AMSE_abdominal_circumference1_knn = 0.052802590101111706\n",
            "เวลาที่ใช้ในการประมวลผล 0.0007319450378417969 วินาที\n",
            "เวลาที่ใช้ในการประมวลผล 1.2199083964029947e-05 นาที\n"
          ]
        }
      ]
    },
    {
      "cell_type": "markdown",
      "source": [
        "## Imputation using the MICE"
      ],
      "metadata": {
        "id": "bNG85n-5mgJ5"
      }
    },
    {
      "cell_type": "code",
      "source": [
        "from sklearn.experimental import enable_iterative_imputer\n",
        "from sklearn.impute import IterativeImputer\n",
        "from sklearn.linear_model import LinearRegression\n",
        "from sklearn import svm"
      ],
      "metadata": {
        "id": "jdG8Wkt5PqYA"
      },
      "execution_count": 13,
      "outputs": []
    },
    {
      "cell_type": "markdown",
      "source": [
        "### LinearRegression model"
      ],
      "metadata": {
        "id": "KO_irahVV3Ny"
      }
    },
    {
      "cell_type": "code",
      "source": [
        "t_start = time.time()\n",
        "lr = LinearRegression()\n",
        "for i in range(1,1001):\n",
        "  imp = IterativeImputer(estimator= lr , max_iter= 10, verbose=2, imputation_order='roman',initial_strategy = 'mean',random_state= i)\n",
        "  globals()[f'imputed_lr10_{i}'] = imp.fit_transform(globals()[f'abdominal_circumference1{i}'].copy())\n",
        "  globals()[f'MSE_lr10_{i}'] = mean_squared_error(data, globals()[f'imputed_lr10_{i}'])\n",
        "t_end = time.time()\n",
        "t10_LR= (t_end- t_start)"
      ],
      "metadata": {
        "id": "ocdE53Z3WGwP"
      },
      "execution_count": null,
      "outputs": []
    },
    {
      "cell_type": "code",
      "source": [
        "t_start = time.time()\n",
        "mse_lr10_total = 0 \n",
        "MSE_lr10_1001 = 0\n",
        "for i in range(1,1001):\n",
        "  mse_lr10_total = mse_lr10_total + globals()[f'MSE_lr10_{i}']\n",
        "AMSE_abdominal_circumference1_lr = mse_lr10_total/1000\n",
        "print(f'AMSE_abdominal_circumference1_lr = {AMSE_abdominal_circumference1_lr}')\n",
        "t_end = time.time()\n",
        "print(f'เวลาที่ใช้ในการประมวลผล {t_end- t_start} วินาที')\n",
        "print(f'เวลาที่ใช้ในการประมวลผล {(t_end- t_start)/60} นาที')"
      ],
      "metadata": {
        "id": "Zv8b8tpgXTqV",
        "colab": {
          "base_uri": "https://localhost:8080/"
        },
        "outputId": "172b4c85-7971-4eee-d1a3-797abaef09f7"
      },
      "execution_count": 15,
      "outputs": [
        {
          "output_type": "stream",
          "name": "stdout",
          "text": [
            "AMSE_abdominal_circumference1_lr = 0.029385186611861947\n",
            "เวลาที่ใช้ในการประมวลผล 0.0012288093566894531 วินาที\n",
            "เวลาที่ใช้ในการประมวลผล 2.048015594482422e-05 นาที\n"
          ]
        }
      ]
    },
    {
      "cell_type": "markdown",
      "source": [
        "### Support Vector Machine model"
      ],
      "metadata": {
        "id": "Q_etxqbFV-c-"
      }
    },
    {
      "cell_type": "code",
      "source": [
        "t_start = time.time()\n",
        "regr = svm.SVR()\n",
        "for i in range(1,1001):\n",
        "  svm_svr = IterativeImputer(estimator= regr, max_iter= 10, verbose=2, imputation_order='roman',initial_strategy = 'mean',random_state= i)\n",
        "  globals()[f'imputed_svm10_{i}'] = svm_svr.fit_transform(globals()[f'abdominal_circumference1{i}'].copy())\n",
        "  globals()[f'MSE_svm10_{i}'] = mean_squared_error(data, globals()[f'imputed_svm10_{i}'])\n",
        "t_end = time.time()\n",
        "t10_SVM= (t_end- t_start)"
      ],
      "metadata": {
        "id": "yICe2SxBWDiV"
      },
      "execution_count": null,
      "outputs": []
    },
    {
      "cell_type": "code",
      "source": [
        "t_start = time.time()\n",
        "mse_svm10_total = 0 \n",
        "MSE_svm10_1001 = 0\n",
        "for i in range(1,1001):\n",
        "  mse_svm10_total = mse_svm10_total + globals()[f'MSE_svm10_{i}']\n",
        "AMSE_abdominal_circumference1_svm = mse_svm10_total/1000\n",
        "print(f'AMSE_abdominal_circumference1_svm = {AMSE_abdominal_circumference1_svm}')\n",
        "t_end = time.time()\n",
        "print(f'เวลาที่ใช้ในการประมวลผล {t_end- t_start} วินาที')\n",
        "print(f'เวลาที่ใช้ในการประมวลผล {(t_end- t_start)/60} นาที')"
      ],
      "metadata": {
        "id": "Kg6Ga9K4XvWz",
        "colab": {
          "base_uri": "https://localhost:8080/"
        },
        "outputId": "9c754103-ac22-4f7e-a778-cd794c7e158c"
      },
      "execution_count": 17,
      "outputs": [
        {
          "output_type": "stream",
          "name": "stdout",
          "text": [
            "AMSE_abdominal_circumference1_svm = 0.07929840800377863\n",
            "เวลาที่ใช้ในการประมวลผล 0.0010852813720703125 วินาที\n",
            "เวลาที่ใช้ในการประมวลผล 1.808802286783854e-05 นาที\n"
          ]
        }
      ]
    },
    {
      "cell_type": "markdown",
      "source": [
        "## Imputation using the EM"
      ],
      "metadata": {
        "id": "CBhCn1dleov0"
      }
    },
    {
      "cell_type": "markdown",
      "source": [
        "### impy.em"
      ],
      "metadata": {
        "id": "okGFHwzYnBSm"
      }
    },
    {
      "cell_type": "code",
      "source": [
        "!pip install impyute\n",
        "import impyute as impy"
      ],
      "metadata": {
        "id": "MoYcRZ9unCRN",
        "colab": {
          "base_uri": "https://localhost:8080/"
        },
        "outputId": "371679d1-64b3-45dd-afa3-56c1fefa25de"
      },
      "execution_count": 18,
      "outputs": [
        {
          "output_type": "stream",
          "name": "stdout",
          "text": [
            "Looking in indexes: https://pypi.org/simple, https://us-python.pkg.dev/colab-wheels/public/simple/\n",
            "Collecting impyute\n",
            "  Downloading impyute-0.0.8-py2.py3-none-any.whl (31 kB)\n",
            "Requirement already satisfied: scipy in /usr/local/lib/python3.8/dist-packages (from impyute) (1.7.3)\n",
            "Requirement already satisfied: numpy in /usr/local/lib/python3.8/dist-packages (from impyute) (1.21.6)\n",
            "Requirement already satisfied: scikit-learn in /usr/local/lib/python3.8/dist-packages (from impyute) (1.0.2)\n",
            "Requirement already satisfied: joblib>=0.11 in /usr/local/lib/python3.8/dist-packages (from scikit-learn->impyute) (1.2.0)\n",
            "Requirement already satisfied: threadpoolctl>=2.0.0 in /usr/local/lib/python3.8/dist-packages (from scikit-learn->impyute) (3.1.0)\n",
            "Installing collected packages: impyute\n",
            "Successfully installed impyute-0.0.8\n"
          ]
        }
      ]
    },
    {
      "cell_type": "code",
      "source": [
        "t_start = time.time()\n",
        "for i in range(1,1001):\n",
        "  globals()[f'imputed_impy10_{i}'] = impy.em(globals()[f'abdominal_circumference1{i}'].values.copy())\n",
        "  globals()[f'MSE_impy10_{i}'] = mean_squared_error(data, globals()[f'imputed_impy10_{i}'])\n",
        "t_end = time.time()\n",
        "t10_EM= (t_end- t_start)"
      ],
      "metadata": {
        "id": "q8hPK-5WqHua"
      },
      "execution_count": 19,
      "outputs": []
    },
    {
      "cell_type": "code",
      "source": [
        "t_start = time.time()\n",
        "mse_impy10_total = 0 \n",
        "MSE_impy10_1001 = 0\n",
        "for i in range(1,1001):\n",
        "  mse_impy10_total = mse_impy10_total + globals()[f'MSE_impy10_{i}']\n",
        "AMSE_abdominal_circumference1_impy = mse_impy10_total/1000\n",
        "print(f'AMSE_abdominal_circumference1_impy = {AMSE_abdominal_circumference1_impy}')\n",
        "t_end = time.time()\n",
        "print(f'เวลาที่ใช้ในการประมวลผล {t_end- t_start} วินาที')\n",
        "print(f'เวลาที่ใช้ในการประมวลผล {(t_end- t_start)/60} นาที')"
      ],
      "metadata": {
        "id": "dxBu9e5fqHZw",
        "colab": {
          "base_uri": "https://localhost:8080/"
        },
        "outputId": "868076d6-722a-48e2-9222-4557065f2ca6"
      },
      "execution_count": 20,
      "outputs": [
        {
          "output_type": "stream",
          "name": "stdout",
          "text": [
            "AMSE_abdominal_circumference1_impy = 0.31428594477756894\n",
            "เวลาที่ใช้ในการประมวลผล 0.0007579326629638672 วินาที\n",
            "เวลาที่ใช้ในการประมวลผล 1.2632211049397787e-05 นาที\n"
          ]
        }
      ]
    },
    {
      "cell_type": "markdown",
      "source": [
        "# 20 % random nan "
      ],
      "metadata": {
        "id": "nWI5U_wRLKqO"
      }
    },
    {
      "cell_type": "code",
      "source": [
        "for i in range(1,1001):\n",
        "  globals()[f'abdominal_circumference2{i}'] = data.copy() # for loop variable name\n",
        "  np.random.seed(i) # for loop seed\n",
        "  n = int((153*20/100)) \n",
        "  index_nan = np.random.choice(globals()[f'abdominal_circumference2{i}']['abdominal circumference'].size, n, replace=False)\n",
        "  globals()[f'abdominal_circumference2{i}']['abdominal circumference'].ravel()[index_nan] = np.nan"
      ],
      "metadata": {
        "id": "GPdggkvyNtSY"
      },
      "execution_count": 21,
      "outputs": []
    },
    {
      "cell_type": "markdown",
      "source": [
        "## Imputation using Mean"
      ],
      "metadata": {
        "id": "xy1GWM6y9Jtm"
      }
    },
    {
      "cell_type": "code",
      "source": [
        "from sklearn.impute import SimpleImputer"
      ],
      "metadata": {
        "id": "T1MLAs8s9Hxn"
      },
      "execution_count": 22,
      "outputs": []
    },
    {
      "cell_type": "code",
      "source": [
        "t_start = time.time()\n",
        "mean20_imputer = SimpleImputer(strategy='mean')\n",
        "for i in range(1,1001):\n",
        "  globals()[f'imputed_mean20_{i}'] = mean10_imputer.fit_transform(globals()[f'abdominal_circumference2{i}'].copy()) #for loop miss forest impputation \n",
        "  globals()[f'MSE_MEAN20_{i}'] = mean_squared_error(data, globals()[f'imputed_mean20_{i}']) # for loop mean_squared_error\n",
        "t_end = time.time()\n",
        "t20_MEAN = (t_end- t_start)"
      ],
      "metadata": {
        "id": "mFAe7adO9LOb"
      },
      "execution_count": 23,
      "outputs": []
    },
    {
      "cell_type": "code",
      "source": [
        "t_start = time.time()\n",
        "mse_mean20_total = 0 \n",
        "MSE_MEAN20_1001 = 0\n",
        "for i in range(1,1001):\n",
        "  mse_mean20_total = mse_mean20_total + globals()[f'MSE_MEAN20_{i}']\n",
        "AMSE_abdominal_circumference2_mean = mse_mean20_total/1000\n",
        "print(f'AMSE_abdominal_circumference2_mean = {AMSE_abdominal_circumference2_mean}')\n",
        "t_end = time.time()\n",
        "print(f'เวลาที่ใช้ในการประมวลผล {t_end- t_start} วินาที')\n",
        "print(f'เวลาที่ใช้ในการประมวลผล {(t_end- t_start)/60} นาที')"
      ],
      "metadata": {
        "colab": {
          "base_uri": "https://localhost:8080/"
        },
        "id": "dP3uqjcJ9MTq",
        "outputId": "676faf60-faa0-4420-87d0-f248d7ef8639"
      },
      "execution_count": 24,
      "outputs": [
        {
          "output_type": "stream",
          "name": "stdout",
          "text": [
            "AMSE_abdominal_circumference2_mean = 0.3327964527177885\n",
            "เวลาที่ใช้ในการประมวลผล 0.0008537769317626953 วินาที\n",
            "เวลาที่ใช้ในการประมวลผล 1.4229615529378254e-05 นาที\n"
          ]
        }
      ]
    },
    {
      "cell_type": "markdown",
      "source": [
        "## Imputation using the miss forest"
      ],
      "metadata": {
        "id": "Hed_Y1mK9Nkz"
      }
    },
    {
      "cell_type": "code",
      "source": [
        "import sys\n",
        "import sklearn.neighbors._base\n",
        "sys.modules['sklearn.neighbors.base'] = sklearn.neighbors._base\n",
        "!pip install missingpy\n",
        "import missingpy\n",
        "from missingpy import MissForest\n",
        "from sklearn.metrics import mean_squared_error"
      ],
      "metadata": {
        "colab": {
          "base_uri": "https://localhost:8080/"
        },
        "id": "TiwxOr0j9PK3",
        "outputId": "aae21eb3-6e06-475f-cc80-323fa0e820ed"
      },
      "execution_count": 25,
      "outputs": [
        {
          "output_type": "stream",
          "name": "stdout",
          "text": [
            "Looking in indexes: https://pypi.org/simple, https://us-python.pkg.dev/colab-wheels/public/simple/\n",
            "Requirement already satisfied: missingpy in /usr/local/lib/python3.8/dist-packages (0.2.0)\n"
          ]
        }
      ]
    },
    {
      "cell_type": "code",
      "source": [
        "t_start = time.time()\n",
        "MF20_imputer = MissForest()\n",
        "for i in range(1,1001):\n",
        "  globals()[f'imputed_mf20_{i}'] = MF20_imputer.fit_transform(globals()[f'abdominal_circumference2{i}'].copy()) #for loop miss forest impputation \n",
        "  globals()[f'MSE_MF20_{i}'] = mean_squared_error(data, globals()[f'imputed_mf20_{i}']) # for loop mean_squared_error\n",
        "t_end = time.time()\n",
        "t20_MF = (t_end- t_start)"
      ],
      "metadata": {
        "id": "ZWaupzuJ9Qhs"
      },
      "execution_count": null,
      "outputs": []
    },
    {
      "cell_type": "code",
      "source": [
        "t_start = time.time()\n",
        "mse_mf20_total = 0 \n",
        "MSE_MF20_1001 = 0\n",
        "for i in range(1,1001):\n",
        "  mse_mf20_total = mse_mf20_total + globals()[f'MSE_MF20_{i}']\n",
        "AMSE_abdominal_circumference2_mf = mse_mf20_total/1000\n",
        "print(f'AMSE_abdominal_circumference2_mf = {AMSE_abdominal_circumference2_mf}')\n",
        "t_end = time.time()\n",
        "print(f'เวลาที่ใช้ในการประมวลผล {t_end- t_start} วินาที')\n",
        "print(f'เวลาที่ใช้ในการประมวลผล {(t_end- t_start)/60} นาที')"
      ],
      "metadata": {
        "colab": {
          "base_uri": "https://localhost:8080/"
        },
        "id": "MEm96KRG9Rod",
        "outputId": "de61f6e4-6c6d-4ebc-b2ca-da868e1edb33"
      },
      "execution_count": 27,
      "outputs": [
        {
          "output_type": "stream",
          "name": "stdout",
          "text": [
            "AMSE_abdominal_circumference2_mf = 0.03482109516742084\n",
            "เวลาที่ใช้ในการประมวลผล 0.006083488464355469 วินาที\n",
            "เวลาที่ใช้ในการประมวลผล 0.00010139147440592448 นาที\n"
          ]
        }
      ]
    },
    {
      "cell_type": "markdown",
      "source": [
        "## Imputation using the KNN"
      ],
      "metadata": {
        "id": "UfF5vX5Q9S94"
      }
    },
    {
      "cell_type": "code",
      "source": [
        "from sklearn import neighbors\n",
        "from sklearn.impute import KNNImputer"
      ],
      "metadata": {
        "id": "AHpkgOPZ9WUf"
      },
      "execution_count": 28,
      "outputs": []
    },
    {
      "cell_type": "code",
      "source": [
        "t_start = time.time()\n",
        "KNN20_imputer = KNNImputer(n_neighbors = 15)\n",
        "for i in range(1,1001):\n",
        "  globals()[f'imputed_KNN20_{i}'] = KNN10_imputer.fit_transform(globals()[f'abdominal_circumference2{i}'].copy())\n",
        "  globals()[f'MSE_KNN20_{i}'] = mean_squared_error(data, globals()[f'imputed_KNN20_{i}'])\n",
        "t_end = time.time()\n",
        "t20_KNN = (t_end- t_start)"
      ],
      "metadata": {
        "id": "8kEdzGA39cTD"
      },
      "execution_count": 29,
      "outputs": []
    },
    {
      "cell_type": "code",
      "source": [
        "t_start = time.time()\n",
        "mse_knn20_total = 0 \n",
        "MSE_KNN20_1001 = 0\n",
        "for i in range(1,1001):\n",
        "  mse_knn20_total = mse_knn20_total + globals()[f'MSE_KNN20_{i}']\n",
        "AMSE_abdominal_circumference2_knn = mse_knn20_total/1000\n",
        "print(f'AMSE_abdominal_circumference2_knn = {AMSE_abdominal_circumference2_knn}')\n",
        "t_end = time.time()\n",
        "print(f'เวลาที่ใช้ในการประมวลผล {t_end- t_start} วินาที')\n",
        "print(f'เวลาที่ใช้ในการประมวลผล {(t_end- t_start)/60} นาที')"
      ],
      "metadata": {
        "colab": {
          "base_uri": "https://localhost:8080/"
        },
        "id": "LZgwK6JK9dZR",
        "outputId": "90cbb053-a188-429e-812d-a457526eb620"
      },
      "execution_count": 30,
      "outputs": [
        {
          "output_type": "stream",
          "name": "stdout",
          "text": [
            "AMSE_abdominal_circumference2_knn = 0.10819156238198989\n",
            "เวลาที่ใช้ในการประมวลผล 0.0007607936859130859 วินาที\n",
            "เวลาที่ใช้ในการประมวลผล 1.2679894765218098e-05 นาที\n"
          ]
        }
      ]
    },
    {
      "cell_type": "markdown",
      "source": [
        "## Imputation using the MICE"
      ],
      "metadata": {
        "id": "auJuWiL_9fL3"
      }
    },
    {
      "cell_type": "code",
      "source": [
        "from sklearn.experimental import enable_iterative_imputer\n",
        "from sklearn.impute import IterativeImputer\n",
        "from sklearn.linear_model import LinearRegression\n",
        "from sklearn import svm"
      ],
      "metadata": {
        "id": "DauelpXl9h9y"
      },
      "execution_count": 31,
      "outputs": []
    },
    {
      "cell_type": "markdown",
      "source": [
        "### LinearRegression model"
      ],
      "metadata": {
        "id": "psGn8U449nCL"
      }
    },
    {
      "cell_type": "code",
      "source": [
        "t_start = time.time()\n",
        "lr = LinearRegression()\n",
        "for i in range(1,1001):\n",
        "  imp20 = IterativeImputer(estimator= lr , max_iter= 10, verbose=2, imputation_order='roman',initial_strategy = 'mean',random_state= i)\n",
        "  globals()[f'imputed_lr20_{i}'] = imp20.fit_transform(globals()[f'abdominal_circumference2{i}'].copy())\n",
        "  globals()[f'MSE_lr20_{i}'] = mean_squared_error(data, globals()[f'imputed_lr20_{i}'])\n",
        "t_end = time.time()\n",
        "t20_LR = (t_end- t_start)"
      ],
      "metadata": {
        "id": "s9UxTJc29oSm"
      },
      "execution_count": null,
      "outputs": []
    },
    {
      "cell_type": "code",
      "source": [
        "t_start = time.time()\n",
        "mse_lr20_total = 0 \n",
        "MSE_lr20_1001 = 0\n",
        "for i in range(1,1001):\n",
        "  mse_lr20_total = mse_lr20_total + globals()[f'MSE_lr20_{i}']\n",
        "AMSE_abdominal_circumference2_lr = mse_lr20_total/1000\n",
        "print(f'AMSE_abdominal_circumference2_lr = {AMSE_abdominal_circumference2_lr}')\n",
        "t_end = time.time()\n",
        "print(f'เวลาที่ใช้ในการประมวลผล {t_end- t_start} วินาที')\n",
        "print(f'เวลาที่ใช้ในการประมวลผล {(t_end- t_start)/60} นาที')"
      ],
      "metadata": {
        "colab": {
          "base_uri": "https://localhost:8080/"
        },
        "id": "8a9KhTav9psy",
        "outputId": "16966185-85d2-4c69-a2f7-5de0f8f44e2a"
      },
      "execution_count": 33,
      "outputs": [
        {
          "output_type": "stream",
          "name": "stdout",
          "text": [
            "AMSE_abdominal_circumference2_lr = 0.06166485055851545\n",
            "เวลาที่ใช้ในการประมวลผล 0.0013318061828613281 วินาที\n",
            "เวลาที่ใช้ในการประมวลผล 2.2196769714355467e-05 นาที\n"
          ]
        }
      ]
    },
    {
      "cell_type": "markdown",
      "source": [
        "### Support Vector Machine model"
      ],
      "metadata": {
        "id": "tbt5vQOw94ux"
      }
    },
    {
      "cell_type": "code",
      "source": [
        "t_start = time.time()\n",
        "regr = svm.SVR()\n",
        "for i in range(1,1001):\n",
        "  svm_svr = IterativeImputer(estimator= regr, max_iter= 10, verbose=2, imputation_order='roman',initial_strategy = 'mean',random_state= i)\n",
        "  globals()[f'imputed_svm20_{i}'] = svm_svr.fit_transform(globals()[f'abdominal_circumference2{i}'].copy())\n",
        "  globals()[f'MSE_svm20_{i}'] = mean_squared_error(data, globals()[f'imputed_svm20_{i}'])\n",
        "t_end = time.time()\n",
        "t20_SVM = (t_end- t_start)"
      ],
      "metadata": {
        "id": "7X4Mu0oN97S5"
      },
      "execution_count": null,
      "outputs": []
    },
    {
      "cell_type": "code",
      "source": [
        "t_start = time.time()\n",
        "mse_svm20_total = 0 \n",
        "MSE_svm20_1001 = 0\n",
        "for i in range(1,1001):\n",
        "  mse_svm20_total = mse_svm20_total + globals()[f'MSE_svm20_{i}']\n",
        "AMSE_abdominal_circumference2_svm = mse_svm20_total/1000\n",
        "print(f'AMSE_abdominal_circumference2_svm = {AMSE_abdominal_circumference2_svm}')\n",
        "t_end = time.time()\n",
        "print(f'เวลาที่ใช้ในการประมวลผล {t_end- t_start} วินาที')\n",
        "print(f'เวลาที่ใช้ในการประมวลผล {(t_end- t_start)/60} นาที')"
      ],
      "metadata": {
        "colab": {
          "base_uri": "https://localhost:8080/"
        },
        "id": "1DyNlSAY97i5",
        "outputId": "c01d470d-41cc-42af-b8f0-e1037f22c2d8"
      },
      "execution_count": 35,
      "outputs": [
        {
          "output_type": "stream",
          "name": "stdout",
          "text": [
            "AMSE_abdominal_circumference2_svm = 0.16571509118066002\n",
            "เวลาที่ใช้ในการประมวลผล 0.0013227462768554688 วินาที\n",
            "เวลาที่ใช้ในการประมวลผล 2.204577128092448e-05 นาที\n"
          ]
        }
      ]
    },
    {
      "cell_type": "markdown",
      "source": [
        "## Imputation using the EM"
      ],
      "metadata": {
        "id": "7Sb6gEJM-Jdo"
      }
    },
    {
      "cell_type": "markdown",
      "source": [
        "### impy.em"
      ],
      "metadata": {
        "id": "y2cByPPO-Msu"
      }
    },
    {
      "cell_type": "code",
      "source": [
        "!pip install impyute\n",
        "import impyute as impy"
      ],
      "metadata": {
        "id": "uwqQL2RQ-Lzf",
        "colab": {
          "base_uri": "https://localhost:8080/"
        },
        "outputId": "7fcefe20-8c4e-4878-f994-ddc68f2c823c"
      },
      "execution_count": 36,
      "outputs": [
        {
          "output_type": "stream",
          "name": "stdout",
          "text": [
            "Looking in indexes: https://pypi.org/simple, https://us-python.pkg.dev/colab-wheels/public/simple/\n",
            "Requirement already satisfied: impyute in /usr/local/lib/python3.8/dist-packages (0.0.8)\n",
            "Requirement already satisfied: scikit-learn in /usr/local/lib/python3.8/dist-packages (from impyute) (1.0.2)\n",
            "Requirement already satisfied: numpy in /usr/local/lib/python3.8/dist-packages (from impyute) (1.21.6)\n",
            "Requirement already satisfied: scipy in /usr/local/lib/python3.8/dist-packages (from impyute) (1.7.3)\n",
            "Requirement already satisfied: joblib>=0.11 in /usr/local/lib/python3.8/dist-packages (from scikit-learn->impyute) (1.2.0)\n",
            "Requirement already satisfied: threadpoolctl>=2.0.0 in /usr/local/lib/python3.8/dist-packages (from scikit-learn->impyute) (3.1.0)\n"
          ]
        }
      ]
    },
    {
      "cell_type": "code",
      "source": [
        "t_start = time.time()\n",
        "for i in range(1,1001):\n",
        "  globals()[f'imputed_impy20_{i}'] = impy.em(globals()[f'abdominal_circumference2{i}'].values.copy())\n",
        "  globals()[f'MSE_impy20_{i}'] = mean_squared_error(data, globals()[f'imputed_impy20_{i}'])\n",
        "t_end = time.time()\n",
        "t20_EM = (t_end- t_start)"
      ],
      "metadata": {
        "id": "05L6OvE1-PbH"
      },
      "execution_count": 37,
      "outputs": []
    },
    {
      "cell_type": "code",
      "source": [
        "t_start = time.time()\n",
        "mse_impy20_total = 0 \n",
        "MSE_impy20_1001 = 0\n",
        "for i in range(1,1001):\n",
        "  mse_impy20_total = mse_impy20_total + globals()[f'MSE_impy20_{i}']\n",
        "AMSE_abdominal_circumference2_impy = mse_impy20_total/1000\n",
        "print(f'AMSE_abdominal_circumference2_impy = {AMSE_abdominal_circumference2_impy}')\n",
        "t_end = time.time()\n",
        "print(f'เวลาที่ใช้ในการประมวลผล {t_end- t_start} วินาที')\n",
        "print(f'เวลาที่ใช้ในการประมวลผล {(t_end- t_start)/60} นาที')"
      ],
      "metadata": {
        "colab": {
          "base_uri": "https://localhost:8080/"
        },
        "id": "bh0_6saM-UEW",
        "outputId": "a536d733-39ad-4b84-b03c-24bf06d9dda9"
      },
      "execution_count": 38,
      "outputs": [
        {
          "output_type": "stream",
          "name": "stdout",
          "text": [
            "AMSE_abdominal_circumference2_impy = 0.6231475370775457\n",
            "เวลาที่ใช้ในการประมวลผล 0.0009126663208007812 วินาที\n",
            "เวลาที่ใช้ในการประมวลผล 1.5211105346679687e-05 นาที\n"
          ]
        }
      ]
    },
    {
      "cell_type": "markdown",
      "source": [
        "# 30 % random nan "
      ],
      "metadata": {
        "id": "NCxJUtjWLLTP"
      }
    },
    {
      "cell_type": "code",
      "source": [
        "for i in range(1,1001):\n",
        "  globals()[f'abdominal_circumference3{i}'] = data.copy() # for loop variable name\n",
        "  np.random.seed(i) # for loop seed\n",
        "  n = int((153*30/100)) \n",
        "  index_nan = np.random.choice(globals()[f'abdominal_circumference3{i}']['abdominal circumference'].size, n, replace=False)\n",
        "  globals()[f'abdominal_circumference3{i}']['abdominal circumference'].ravel()[index_nan] = np.nan"
      ],
      "metadata": {
        "id": "W_Y9abbhNxYV"
      },
      "execution_count": 39,
      "outputs": []
    },
    {
      "cell_type": "markdown",
      "source": [
        "## Imputation using Mean"
      ],
      "metadata": {
        "id": "_9_X7xsT-iLc"
      }
    },
    {
      "cell_type": "code",
      "source": [
        "from sklearn.impute import SimpleImputer"
      ],
      "metadata": {
        "id": "3OECQY-m-iLc"
      },
      "execution_count": 40,
      "outputs": []
    },
    {
      "cell_type": "code",
      "source": [
        "t_start = time.time()\n",
        "mean30_imputer = SimpleImputer(strategy='mean')\n",
        "for i in range(1,1001):\n",
        "  globals()[f'imputed_mean30_{i}'] = mean30_imputer.fit_transform(globals()[f'abdominal_circumference3{i}'].copy()) #for loop miss forest impputation \n",
        "  globals()[f'MSE_MEAN30_{i}'] = mean_squared_error(data, globals()[f'imputed_mean30_{i}']) # for loop mean_squared_error\n",
        "t_end = time.time()\n",
        "t30_MEAN = (t_end- t_start)"
      ],
      "metadata": {
        "id": "-HTHbMU4-iLc"
      },
      "execution_count": 41,
      "outputs": []
    },
    {
      "cell_type": "code",
      "source": [
        "t_start = time.time()\n",
        "mse_mean30_total = 0 \n",
        "MSE_MEAN30_1001 = 0\n",
        "for i in range(1,1001):\n",
        "  mse_mean30_total = mse_mean30_total + globals()[f'MSE_MEAN30_{i}']\n",
        "AMSE_abdominal_circumference3_mean = mse_mean30_total/1000\n",
        "print(f'AMSE_abdominal_circumference3_mean = {AMSE_abdominal_circumference3_mean}')\n",
        "t_end = time.time()\n",
        "print(f'เวลาที่ใช้ในการประมวลผล {t_end- t_start} วินาที')\n",
        "print(f'เวลาที่ใช้ในการประมวลผล {(t_end- t_start)/60} นาที')"
      ],
      "metadata": {
        "colab": {
          "base_uri": "https://localhost:8080/"
        },
        "id": "aKvhrp2L-iLc",
        "outputId": "b2bae49a-cb11-4931-94d6-b5f1c1f17347"
      },
      "execution_count": 42,
      "outputs": [
        {
          "output_type": "stream",
          "name": "stdout",
          "text": [
            "AMSE_abdominal_circumference3_mean = 0.5058179442877184\n",
            "เวลาที่ใช้ในการประมวลผล 0.0009522438049316406 วินาที\n",
            "เวลาที่ใช้ในการประมวลผล 1.587073008219401e-05 นาที\n"
          ]
        }
      ]
    },
    {
      "cell_type": "markdown",
      "source": [
        "## Imputation using the miss forest"
      ],
      "metadata": {
        "id": "HOVmU_ZU-iLd"
      }
    },
    {
      "cell_type": "code",
      "source": [
        "import sys\n",
        "import sklearn.neighbors._base\n",
        "sys.modules['sklearn.neighbors.base'] = sklearn.neighbors._base\n",
        "!pip install missingpy\n",
        "import missingpy\n",
        "from missingpy import MissForest\n",
        "from sklearn.metrics import mean_squared_error"
      ],
      "metadata": {
        "colab": {
          "base_uri": "https://localhost:8080/"
        },
        "id": "yr07MK0a-iLd",
        "outputId": "6c8e25bf-347b-43eb-fd2e-a491f0a3dd18"
      },
      "execution_count": 43,
      "outputs": [
        {
          "output_type": "stream",
          "name": "stdout",
          "text": [
            "Looking in indexes: https://pypi.org/simple, https://us-python.pkg.dev/colab-wheels/public/simple/\n",
            "Requirement already satisfied: missingpy in /usr/local/lib/python3.8/dist-packages (0.2.0)\n"
          ]
        }
      ]
    },
    {
      "cell_type": "code",
      "source": [
        "t_start = time.time()\n",
        "MF30_imputer = MissForest()\n",
        "for i in range(1,1001):\n",
        "  globals()[f'imputed_mf30_{i}'] = MF30_imputer.fit_transform(globals()[f'abdominal_circumference3{i}'].copy()) #for loop miss forest impputation \n",
        "  globals()[f'MSE_MF30_{i}'] = mean_squared_error(data, globals()[f'imputed_mf30_{i}']) # for loop mean_squared_error\n",
        "t_end = time.time()\n",
        "t30_MF = (t_end- t_start)"
      ],
      "metadata": {
        "id": "ddvfMGoE-iLd"
      },
      "execution_count": null,
      "outputs": []
    },
    {
      "cell_type": "code",
      "source": [
        "t_start = time.time()\n",
        "mse_mf30_total = 0 \n",
        "MSE_MF30_1001 = 0\n",
        "for i in range(1,1001):\n",
        "  mse_mf30_total = mse_mf30_total + globals()[f'MSE_MF30_{i}']\n",
        "AMSE_abdominal_circumference3_mf = mse_mf30_total/1000\n",
        "print(f'AMSE_abdominal_circumference3_mf = {AMSE_abdominal_circumference3_mf}')\n",
        "t_end = time.time()\n",
        "print(f'เวลาที่ใช้ในการประมวลผล {t_end- t_start} วินาที')\n",
        "print(f'เวลาที่ใช้ในการประมวลผล {(t_end- t_start)/60} นาที')"
      ],
      "metadata": {
        "colab": {
          "base_uri": "https://localhost:8080/"
        },
        "id": "5Mdi3FYR-iLd",
        "outputId": "fc442f0c-5b8c-4b9d-b088-ee98ff501f77"
      },
      "execution_count": 45,
      "outputs": [
        {
          "output_type": "stream",
          "name": "stdout",
          "text": [
            "AMSE_abdominal_circumference3_mf = 0.05821679891528404\n",
            "เวลาที่ใช้ในการประมวลผล 0.0010585784912109375 วินาที\n",
            "เวลาที่ใช้ในการประมวลผล 1.7642974853515625e-05 นาที\n"
          ]
        }
      ]
    },
    {
      "cell_type": "markdown",
      "source": [
        "## Imputation using the KNN"
      ],
      "metadata": {
        "id": "u2jzYXxN-iLd"
      }
    },
    {
      "cell_type": "code",
      "source": [
        "from sklearn import neighbors\n",
        "from sklearn.impute import KNNImputer"
      ],
      "metadata": {
        "id": "fysuzPj1-iLd"
      },
      "execution_count": 46,
      "outputs": []
    },
    {
      "cell_type": "code",
      "source": [
        "t_start = time.time()\n",
        "KNN30_imputer = KNNImputer(n_neighbors = 15)\n",
        "for i in range(1,1001):\n",
        "  globals()[f'imputed_KNN30_{i}'] = KNN30_imputer.fit_transform(globals()[f'abdominal_circumference3{i}'].copy())\n",
        "  globals()[f'MSE_KNN30_{i}'] = mean_squared_error(data, globals()[f'imputed_KNN30_{i}'])\n",
        "t_end = time.time()\n",
        "t30_KNN = (t_end- t_start)"
      ],
      "metadata": {
        "id": "O1oBDgmo-iLd"
      },
      "execution_count": 47,
      "outputs": []
    },
    {
      "cell_type": "code",
      "source": [
        "t_start = time.time()\n",
        "mse_knn30_total = 0 \n",
        "MSE_KNN30_1001 = 0\n",
        "for i in range(1,1001):\n",
        "  mse_knn30_total = mse_knn30_total + globals()[f'MSE_KNN30_{i}']\n",
        "AMSE_abdominal_circumference3_knn = mse_knn30_total/1000\n",
        "print(f'AMSE_abdominal_circumference3_knn = {AMSE_abdominal_circumference3_knn}')\n",
        "t_end = time.time()\n",
        "print(f'เวลาที่ใช้ในการประมวลผล {t_end- t_start} วินาที')\n",
        "print(f'เวลาที่ใช้ในการประมวลผล {(t_end- t_start)/60} นาที')"
      ],
      "metadata": {
        "colab": {
          "base_uri": "https://localhost:8080/"
        },
        "id": "aTBGlBrK-iLd",
        "outputId": "99ca1597-75c9-4df6-d428-7c6bbeed7126"
      },
      "execution_count": 48,
      "outputs": [
        {
          "output_type": "stream",
          "name": "stdout",
          "text": [
            "AMSE_abdominal_circumference3_knn = 0.1724304894586895\n",
            "เวลาที่ใช้ในการประมวลผล 0.0009467601776123047 วินาที\n",
            "เวลาที่ใช้ในการประมวลผล 1.5779336293538412e-05 นาที\n"
          ]
        }
      ]
    },
    {
      "cell_type": "markdown",
      "source": [
        "## Imputation using the MICE"
      ],
      "metadata": {
        "id": "wMp1v_wb-iLd"
      }
    },
    {
      "cell_type": "code",
      "source": [
        "from sklearn.experimental import enable_iterative_imputer\n",
        "from sklearn.impute import IterativeImputer\n",
        "from sklearn.linear_model import LinearRegression\n",
        "from sklearn import svm"
      ],
      "metadata": {
        "id": "OGS8y0Sy-iLd"
      },
      "execution_count": 49,
      "outputs": []
    },
    {
      "cell_type": "markdown",
      "source": [
        "### LinearRegression model"
      ],
      "metadata": {
        "id": "pNQOIROB-iLe"
      }
    },
    {
      "cell_type": "code",
      "source": [
        "t_start = time.time()\n",
        "lr = LinearRegression()\n",
        "for i in range(1,1001):\n",
        "  imp30 = IterativeImputer(estimator= lr , max_iter= 10, verbose=2, imputation_order='roman',initial_strategy = 'mean',random_state= i)\n",
        "  globals()[f'imputed_lr30_{i}'] = imp30.fit_transform(globals()[f'abdominal_circumference3{i}'].copy())\n",
        "  globals()[f'MSE_lr30_{i}'] = mean_squared_error(data, globals()[f'imputed_lr30_{i}'])\n",
        "t_end = time.time()\n",
        "t30_LR = (t_end- t_start)"
      ],
      "metadata": {
        "id": "_It4FTix-iLe"
      },
      "execution_count": null,
      "outputs": []
    },
    {
      "cell_type": "code",
      "source": [
        "t_start = time.time()\n",
        "mse_lr30_total = 0 \n",
        "MSE_lr30_1001 = 0\n",
        "for i in range(1,1001):\n",
        "  mse_lr30_total = mse_lr30_total + globals()[f'MSE_lr30_{i}']\n",
        "AMSE_abdominal_circumference3_lr = mse_lr30_total/1000\n",
        "print(f'AMSE_abdominal_circumference3_lr = {AMSE_abdominal_circumference3_lr}')\n",
        "t_end = time.time()\n",
        "print(f'เวลาที่ใช้ในการประมวลผล {t_end- t_start} วินาที')\n",
        "print(f'เวลาที่ใช้ในการประมวลผล {(t_end- t_start)/60} นาที')"
      ],
      "metadata": {
        "colab": {
          "base_uri": "https://localhost:8080/"
        },
        "id": "E9xo20YS-iLe",
        "outputId": "8b40fd12-1443-4637-a8b5-183b58f974b7"
      },
      "execution_count": 51,
      "outputs": [
        {
          "output_type": "stream",
          "name": "stdout",
          "text": [
            "AMSE_abdominal_circumference3_lr = 0.09623414306920253\n",
            "เวลาที่ใช้ในการประมวลผล 0.0011036396026611328 วินาที\n",
            "เวลาที่ใช้ในการประมวลผล 1.8393993377685548e-05 นาที\n"
          ]
        }
      ]
    },
    {
      "cell_type": "markdown",
      "source": [
        "### Support Vector Machine model"
      ],
      "metadata": {
        "id": "KS3K5S_x-iLe"
      }
    },
    {
      "cell_type": "code",
      "source": [
        "t_start = time.time()\n",
        "regr = svm.SVR()\n",
        "for i in range(1,1001):\n",
        "  svm_svr = IterativeImputer(estimator= regr, max_iter= 10, verbose=2, imputation_order='roman',initial_strategy = 'mean',random_state= i)\n",
        "  globals()[f'imputed_svm30_{i}'] = svm_svr.fit_transform(globals()[f'abdominal_circumference3{i}'].copy())\n",
        "  globals()[f'MSE_svm30_{i}'] = mean_squared_error(data, globals()[f'imputed_svm30_{i}'])\n",
        "t_end = time.time()\n",
        "t30_SVM = (t_end- t_start)"
      ],
      "metadata": {
        "id": "nJGUtgZU-iLe"
      },
      "execution_count": null,
      "outputs": []
    },
    {
      "cell_type": "code",
      "source": [
        "t_start = time.time()\n",
        "mse_svm30_total = 0 \n",
        "MSE_svm30_1001 = 0\n",
        "for i in range(1,1001):\n",
        "  mse_svm30_total = mse_svm30_total + globals()[f'MSE_svm30_{i}']\n",
        "AMSE_abdominal_circumference3_svm = mse_svm30_total/1000\n",
        "print(f'AMSE_abdominal_circumference3_svm = {AMSE_abdominal_circumference3_svm}')\n",
        "t_end = time.time()\n",
        "print(f'เวลาที่ใช้ในการประมวลผล {t_end- t_start} วินาที')\n",
        "print(f'เวลาที่ใช้ในการประมวลผล {(t_end- t_start)/60} นาที')"
      ],
      "metadata": {
        "colab": {
          "base_uri": "https://localhost:8080/"
        },
        "id": "CXvvofpc-iLe",
        "outputId": "e0eee69a-a3ee-474a-8361-27240df8df13"
      },
      "execution_count": 53,
      "outputs": [
        {
          "output_type": "stream",
          "name": "stdout",
          "text": [
            "AMSE_abdominal_circumference3_svm = 0.271566740292242\n",
            "เวลาที่ใช้ในการประมวลผล 0.0015900135040283203 วินาที\n",
            "เวลาที่ใช้ในการประมวลผล 2.6500225067138673e-05 นาที\n"
          ]
        }
      ]
    },
    {
      "cell_type": "markdown",
      "source": [
        "## Imputation using the EM"
      ],
      "metadata": {
        "id": "gdYnxFLe-iLe"
      }
    },
    {
      "cell_type": "markdown",
      "source": [
        "### impy.em"
      ],
      "metadata": {
        "id": "jN7A5_ov-iLe"
      }
    },
    {
      "cell_type": "code",
      "source": [
        "!pip install impyute\n",
        "import impyute as impy"
      ],
      "metadata": {
        "id": "zY0qRmZN-iLe",
        "colab": {
          "base_uri": "https://localhost:8080/"
        },
        "outputId": "141b05a4-9ada-47f2-d5eb-11c7189a5c65"
      },
      "execution_count": 54,
      "outputs": [
        {
          "output_type": "stream",
          "name": "stdout",
          "text": [
            "Looking in indexes: https://pypi.org/simple, https://us-python.pkg.dev/colab-wheels/public/simple/\n",
            "Requirement already satisfied: impyute in /usr/local/lib/python3.8/dist-packages (0.0.8)\n",
            "Requirement already satisfied: scikit-learn in /usr/local/lib/python3.8/dist-packages (from impyute) (1.0.2)\n",
            "Requirement already satisfied: numpy in /usr/local/lib/python3.8/dist-packages (from impyute) (1.21.6)\n",
            "Requirement already satisfied: scipy in /usr/local/lib/python3.8/dist-packages (from impyute) (1.7.3)\n",
            "Requirement already satisfied: threadpoolctl>=2.0.0 in /usr/local/lib/python3.8/dist-packages (from scikit-learn->impyute) (3.1.0)\n",
            "Requirement already satisfied: joblib>=0.11 in /usr/local/lib/python3.8/dist-packages (from scikit-learn->impyute) (1.2.0)\n"
          ]
        }
      ]
    },
    {
      "cell_type": "code",
      "source": [
        "t_start = time.time()\n",
        "for i in range(1,1001):\n",
        "  globals()[f'imputed_impy30_{i}'] = impy.em(globals()[f'abdominal_circumference3{i}'].values.copy())\n",
        "  globals()[f'MSE_impy30_{i}'] = mean_squared_error(data, globals()[f'imputed_impy30_{i}'])\n",
        "t_end = time.time()\n",
        "t30_EM = (t_end- t_start)"
      ],
      "metadata": {
        "id": "0XkDEd8Q-iLe"
      },
      "execution_count": 55,
      "outputs": []
    },
    {
      "cell_type": "code",
      "source": [
        "t_start = time.time()\n",
        "mse_impy30_total = 0 \n",
        "MSE_impy30_1001 = 0\n",
        "for i in range(1,1001):\n",
        "  mse_impy30_total = mse_impy30_total + globals()[f'MSE_impy30_{i}']\n",
        "AMSE_abdominal_circumference3_impy = mse_impy30_total/1000\n",
        "print(f'AMSE_abdominal_circumference3_impy = {AMSE_abdominal_circumference3_impy}')\n",
        "t_end = time.time()\n",
        "print(f'เวลาที่ใช้ในการประมวลผล {t_end- t_start} วินาที')\n",
        "print(f'เวลาที่ใช้ในการประมวลผล {(t_end- t_start)/60} นาที')"
      ],
      "metadata": {
        "colab": {
          "base_uri": "https://localhost:8080/"
        },
        "outputId": "6278cfd2-827b-499c-da29-681476ac9c96",
        "id": "LI1x2SVG-iLf"
      },
      "execution_count": 56,
      "outputs": [
        {
          "output_type": "stream",
          "name": "stdout",
          "text": [
            "AMSE_abdominal_circumference3_impy = 0.9407533590767244\n",
            "เวลาที่ใช้ในการประมวลผล 0.0012359619140625 วินาที\n",
            "เวลาที่ใช้ในการประมวลผล 2.0599365234375e-05 นาที\n"
          ]
        }
      ]
    },
    {
      "cell_type": "markdown",
      "source": [
        "# 40 % random nan "
      ],
      "metadata": {
        "id": "a0LBgAlJLNvc"
      }
    },
    {
      "cell_type": "code",
      "source": [
        "for i in range(1,1001):\n",
        "  globals()[f'abdominal_circumference4{i}'] = data.copy() # for loop variable name\n",
        "  np.random.seed(i) # for loop seed\n",
        "  n = int((153*40/100)) \n",
        "  index_nan = np.random.choice(globals()[f'abdominal_circumference4{i}']['abdominal circumference'].size, n, replace=False)\n",
        "  globals()[f'abdominal_circumference4{i}']['abdominal circumference'].ravel()[index_nan] = np.nan"
      ],
      "metadata": {
        "id": "JQEvhyCUN1jq"
      },
      "execution_count": 57,
      "outputs": []
    },
    {
      "cell_type": "markdown",
      "source": [
        "## Imputation using Mean"
      ],
      "metadata": {
        "id": "y5UI-GbFxF8J"
      }
    },
    {
      "cell_type": "code",
      "source": [
        "from sklearn.impute import SimpleImputer"
      ],
      "metadata": {
        "id": "K-fVlF-NxF8J"
      },
      "execution_count": 58,
      "outputs": []
    },
    {
      "cell_type": "code",
      "source": [
        "t_start = time.time()\n",
        "mean40_imputer = SimpleImputer(strategy='mean')\n",
        "for i in range(1,1001):\n",
        "  globals()[f'imputed_mean40_{i}'] = mean40_imputer.fit_transform(globals()[f'abdominal_circumference4{i}'].copy()) #for loop miss forest impputation \n",
        "  globals()[f'MSE_MEAN40_{i}'] = mean_squared_error(data, globals()[f'imputed_mean40_{i}']) # for loop mean_squared_error\n",
        "t_end = time.time()\n",
        "t40_MEAN = (t_end- t_start)"
      ],
      "metadata": {
        "id": "ju1mNRXPxF8J"
      },
      "execution_count": 59,
      "outputs": []
    },
    {
      "cell_type": "code",
      "source": [
        "t_start = time.time()\n",
        "mse_mean40_total = 0 \n",
        "MSE_MEAN40_1001 = 0\n",
        "for i in range(1,1001):\n",
        "  mse_mean40_total = mse_mean40_total + globals()[f'MSE_MEAN40_{i}']\n",
        "AMSE_abdominal_circumference4_mean = mse_mean40_total/1000\n",
        "print(f'AMSE_abdominal_circumference4_mean = {AMSE_abdominal_circumference4_mean}')\n",
        "t_end = time.time()\n",
        "print(f'เวลาที่ใช้ในการประมวลผล {t_end- t_start} วินาที')\n",
        "print(f'เวลาที่ใช้ในการประมวลผล {(t_end- t_start)/60} นาที')"
      ],
      "metadata": {
        "colab": {
          "base_uri": "https://localhost:8080/"
        },
        "outputId": "62aff28b-d783-44ad-f59f-cb169257928b",
        "id": "o0HQSUjbxF8J"
      },
      "execution_count": 60,
      "outputs": [
        {
          "output_type": "stream",
          "name": "stdout",
          "text": [
            "AMSE_abdominal_circumference4_mean = 0.6871151927282463\n",
            "เวลาที่ใช้ในการประมวลผล 0.0010199546813964844 วินาที\n",
            "เวลาที่ใช้ในการประมวลผล 1.6999244689941406e-05 นาที\n"
          ]
        }
      ]
    },
    {
      "cell_type": "markdown",
      "source": [
        "## Imputation using the miss forest"
      ],
      "metadata": {
        "id": "XXkbylvnxF8J"
      }
    },
    {
      "cell_type": "code",
      "source": [
        "import sys\n",
        "import sklearn.neighbors._base\n",
        "sys.modules['sklearn.neighbors.base'] = sklearn.neighbors._base\n",
        "!pip install missingpy\n",
        "import missingpy\n",
        "from missingpy import MissForest\n",
        "from sklearn.metrics import mean_squared_error"
      ],
      "metadata": {
        "colab": {
          "base_uri": "https://localhost:8080/"
        },
        "outputId": "d0aa8c58-9d90-4c17-fd16-e370c0f3b28a",
        "id": "AvQUsclOxF8J"
      },
      "execution_count": 61,
      "outputs": [
        {
          "output_type": "stream",
          "name": "stdout",
          "text": [
            "Looking in indexes: https://pypi.org/simple, https://us-python.pkg.dev/colab-wheels/public/simple/\n",
            "Requirement already satisfied: missingpy in /usr/local/lib/python3.8/dist-packages (0.2.0)\n"
          ]
        }
      ]
    },
    {
      "cell_type": "code",
      "source": [
        "t_start = time.time()\n",
        "MF40_imputer = MissForest()\n",
        "for i in range(1,1001):\n",
        "  globals()[f'imputed_mf40_{i}'] = MF40_imputer.fit_transform(globals()[f'abdominal_circumference4{i}'].copy()) #for loop miss forest impputation \n",
        "  globals()[f'MSE_MF40_{i}'] = mean_squared_error(data, globals()[f'imputed_mf40_{i}']) # for loop mean_squared_error\n",
        "t_end = time.time()\n",
        "t40_MF = (t_end- t_start)"
      ],
      "metadata": {
        "id": "E5Cloy12xF8K"
      },
      "execution_count": null,
      "outputs": []
    },
    {
      "cell_type": "code",
      "source": [
        "t_start = time.time()\n",
        "mse_mf40_total = 0 \n",
        "MSE_MF40_1001 = 0\n",
        "for i in range(1,1001):\n",
        "  mse_mf40_total = mse_mf40_total + globals()[f'MSE_MF40_{i}']\n",
        "AMSE_abdominal_circumference4_mf = mse_mf40_total/1000\n",
        "print(f'AMSE_abdominal_circumference4_mf = {AMSE_abdominal_circumference4_mf}')\n",
        "t_end = time.time()\n",
        "print(f'เวลาที่ใช้ในการประมวลผล {t_end- t_start} วินาที')\n",
        "print(f'เวลาที่ใช้ในการประมวลผล {(t_end- t_start)/60} นาที')"
      ],
      "metadata": {
        "colab": {
          "base_uri": "https://localhost:8080/"
        },
        "outputId": "fb9b0ef4-a34d-47c4-ef9c-5ad58e7f6e59",
        "id": "24jcRFsixF8K"
      },
      "execution_count": 63,
      "outputs": [
        {
          "output_type": "stream",
          "name": "stdout",
          "text": [
            "AMSE_abdominal_circumference4_mf = 0.08611260559049781\n",
            "เวลาที่ใช้ในการประมวลผล 0.0009777545928955078 วินาที\n",
            "เวลาที่ใช้ในการประมวลผล 1.6295909881591796e-05 นาที\n"
          ]
        }
      ]
    },
    {
      "cell_type": "markdown",
      "source": [
        "## Imputation using the KNN"
      ],
      "metadata": {
        "id": "ByZK4rUxxF8K"
      }
    },
    {
      "cell_type": "code",
      "source": [
        "from sklearn import neighbors\n",
        "from sklearn.impute import KNNImputer"
      ],
      "metadata": {
        "id": "FCQV3ecwxF8K"
      },
      "execution_count": 64,
      "outputs": []
    },
    {
      "cell_type": "code",
      "source": [
        "t_start = time.time()\n",
        "KNN40_imputer = KNNImputer(n_neighbors = 15)\n",
        "for i in range(1,1001):\n",
        "  globals()[f'imputed_KNN40_{i}'] = KNN40_imputer.fit_transform(globals()[f'abdominal_circumference4{i}'].copy())\n",
        "  globals()[f'MSE_KNN40_{i}'] = mean_squared_error(data, globals()[f'imputed_KNN40_{i}'])\n",
        "t_end = time.time()\n",
        "t40_KNN = (t_end- t_start)"
      ],
      "metadata": {
        "id": "hw2GUZpJxF8K"
      },
      "execution_count": 65,
      "outputs": []
    },
    {
      "cell_type": "code",
      "source": [
        "t_start = time.time()\n",
        "mse_knn40_total = 0 \n",
        "MSE_KNN40_1001 = 0\n",
        "for i in range(1,1001):\n",
        "  mse_knn40_total = mse_knn40_total + globals()[f'MSE_KNN40_{i}']\n",
        "AMSE_abdominal_circumference4_knn = mse_knn40_total/1000\n",
        "print(f'AMSE_abdominal_circumference4_knn = {AMSE_abdominal_circumference4_knn}')\n",
        "t_end = time.time()\n",
        "print(f'เวลาที่ใช้ในการประมวลผล {t_end- t_start} วินาที')\n",
        "print(f'เวลาที่ใช้ในการประมวลผล {(t_end- t_start)/60} นาที')"
      ],
      "metadata": {
        "colab": {
          "base_uri": "https://localhost:8080/"
        },
        "outputId": "03139593-b5d8-404d-9950-9e1cee68e80b",
        "id": "GBugPWFbxF8K"
      },
      "execution_count": 66,
      "outputs": [
        {
          "output_type": "stream",
          "name": "stdout",
          "text": [
            "AMSE_abdominal_circumference4_knn = 0.2461953546170606\n",
            "เวลาที่ใช้ในการประมวลผล 0.0011968612670898438 วินาที\n",
            "เวลาที่ใช้ในการประมวลผล 1.994768778483073e-05 นาที\n"
          ]
        }
      ]
    },
    {
      "cell_type": "markdown",
      "source": [
        "## Imputation using the MICE"
      ],
      "metadata": {
        "id": "v37ywhX8xF8K"
      }
    },
    {
      "cell_type": "code",
      "source": [
        "from sklearn.experimental import enable_iterative_imputer\n",
        "from sklearn.impute import IterativeImputer\n",
        "from sklearn.linear_model import LinearRegression\n",
        "from sklearn import svm"
      ],
      "metadata": {
        "id": "LGR4ctD7xF8K"
      },
      "execution_count": 67,
      "outputs": []
    },
    {
      "cell_type": "markdown",
      "source": [
        "### LinearRegression model"
      ],
      "metadata": {
        "id": "PwRqZL2TxF8K"
      }
    },
    {
      "cell_type": "code",
      "source": [
        "t_start = time.time()\n",
        "lr = LinearRegression()\n",
        "for i in range(1,1001):\n",
        "  imp40 = IterativeImputer(estimator= lr , max_iter= 10, verbose=2, imputation_order='roman',initial_strategy = 'mean',random_state= i)\n",
        "  globals()[f'imputed_lr40_{i}'] = imp40.fit_transform(globals()[f'abdominal_circumference4{i}'].copy())\n",
        "  globals()[f'MSE_lr40_{i}'] = mean_squared_error(data, globals()[f'imputed_lr40_{i}'])\n",
        "t_end = time.time()\n",
        "t40_LR = (t_end- t_start)"
      ],
      "metadata": {
        "id": "tFJStNTSxF8K"
      },
      "execution_count": null,
      "outputs": []
    },
    {
      "cell_type": "code",
      "source": [
        "t_start = time.time()\n",
        "mse_lr40_total = 0 \n",
        "MSE_lr40_1001 = 0\n",
        "for i in range(1,1001):\n",
        "  mse_lr40_total = mse_lr40_total + globals()[f'MSE_lr40_{i}']\n",
        "AMSE_abdominal_circumference4_lr = mse_lr40_total/1000\n",
        "print(f'AMSE_abdominal_circumference4_lr = {AMSE_abdominal_circumference4_lr}')\n",
        "t_end = time.time()\n",
        "print(f'เวลาที่ใช้ในการประมวลผล {t_end- t_start} วินาที')\n",
        "print(f'เวลาที่ใช้ในการประมวลผล {(t_end- t_start)/60} นาที')"
      ],
      "metadata": {
        "colab": {
          "base_uri": "https://localhost:8080/"
        },
        "outputId": "d0867f9a-6f83-4d86-e879-f18efe57976e",
        "id": "wLgupnIMxF8L"
      },
      "execution_count": 69,
      "outputs": [
        {
          "output_type": "stream",
          "name": "stdout",
          "text": [
            "AMSE_abdominal_circumference4_lr = 0.12557007278578186\n",
            "เวลาที่ใช้ในการประมวลผล 0.0011227130889892578 วินาที\n",
            "เวลาที่ใช้ในการประมวลผล 1.871188481648763e-05 นาที\n"
          ]
        }
      ]
    },
    {
      "cell_type": "markdown",
      "source": [
        "### Support Vector Machine model"
      ],
      "metadata": {
        "id": "_LKDX_qwxF8L"
      }
    },
    {
      "cell_type": "code",
      "source": [
        "t_start = time.time()\n",
        "regr = svm.SVR()\n",
        "for i in range(1,1001):\n",
        "  svm_svr = IterativeImputer(estimator= regr, max_iter= 10, verbose=2, imputation_order='roman',initial_strategy = 'mean',random_state= i)\n",
        "  globals()[f'imputed_svm40_{i}'] = svm_svr.fit_transform(globals()[f'abdominal_circumference4{i}'].copy())\n",
        "  globals()[f'MSE_svm40_{i}'] = mean_squared_error(data, globals()[f'imputed_svm40_{i}'])\n",
        "t_end = time.time()\n",
        "t40_SVM = (t_end- t_start)"
      ],
      "metadata": {
        "id": "mL48MjEExF8L"
      },
      "execution_count": null,
      "outputs": []
    },
    {
      "cell_type": "code",
      "source": [
        "t_start = time.time()\n",
        "mse_svm40_total = 0 \n",
        "MSE_svm40_1001 = 0\n",
        "for i in range(1,1001):\n",
        "  mse_svm40_total = mse_svm40_total + globals()[f'MSE_svm40_{i}']\n",
        "AMSE_abdominal_circumference4_svm = mse_svm40_total/1000\n",
        "print(f'AMSE_abdominal_circumference4_svm = {AMSE_abdominal_circumference4_svm}')\n",
        "t_end = time.time()\n",
        "print(f'เวลาที่ใช้ในการประมวลผล {t_end- t_start} วินาที')\n",
        "print(f'เวลาที่ใช้ในการประมวลผล {(t_end- t_start)/60} นาที')"
      ],
      "metadata": {
        "colab": {
          "base_uri": "https://localhost:8080/"
        },
        "outputId": "7c5c914b-3cf3-48d8-8ca9-34eecd5e6a05",
        "id": "EFj2jMLzxF8L"
      },
      "execution_count": 71,
      "outputs": [
        {
          "output_type": "stream",
          "name": "stdout",
          "text": [
            "AMSE_abdominal_circumference4_svm = 0.3998595462753965\n",
            "เวลาที่ใช้ในการประมวลผล 0.0011649131774902344 วินาที\n",
            "เวลาที่ใช้ในการประมวลผล 1.941521962483724e-05 นาที\n"
          ]
        }
      ]
    },
    {
      "cell_type": "markdown",
      "source": [
        "## Imputation using the EM"
      ],
      "metadata": {
        "id": "3Q2rQ7TIxF8L"
      }
    },
    {
      "cell_type": "markdown",
      "source": [
        "### impy.em"
      ],
      "metadata": {
        "id": "DfapUmfPxF8L"
      }
    },
    {
      "cell_type": "code",
      "source": [
        "!pip install impyute\n",
        "import impyute as impy"
      ],
      "metadata": {
        "id": "1aayA_3FxF8L",
        "colab": {
          "base_uri": "https://localhost:8080/"
        },
        "outputId": "2b8d40fc-b208-4a8a-b178-c3ee887ac9ce"
      },
      "execution_count": 72,
      "outputs": [
        {
          "output_type": "stream",
          "name": "stdout",
          "text": [
            "Looking in indexes: https://pypi.org/simple, https://us-python.pkg.dev/colab-wheels/public/simple/\n",
            "Requirement already satisfied: impyute in /usr/local/lib/python3.8/dist-packages (0.0.8)\n",
            "Requirement already satisfied: scipy in /usr/local/lib/python3.8/dist-packages (from impyute) (1.7.3)\n",
            "Requirement already satisfied: scikit-learn in /usr/local/lib/python3.8/dist-packages (from impyute) (1.0.2)\n",
            "Requirement already satisfied: numpy in /usr/local/lib/python3.8/dist-packages (from impyute) (1.21.6)\n",
            "Requirement already satisfied: threadpoolctl>=2.0.0 in /usr/local/lib/python3.8/dist-packages (from scikit-learn->impyute) (3.1.0)\n",
            "Requirement already satisfied: joblib>=0.11 in /usr/local/lib/python3.8/dist-packages (from scikit-learn->impyute) (1.2.0)\n"
          ]
        }
      ]
    },
    {
      "cell_type": "code",
      "source": [
        "t_start = time.time()\n",
        "for i in range(1,1001):\n",
        "  globals()[f'imputed_impy40_{i}'] = impy.em(globals()[f'abdominal_circumference4{i}'].values.copy())\n",
        "  globals()[f'MSE_impy40_{i}'] = mean_squared_error(data, globals()[f'imputed_impy40_{i}'])\n",
        "t_end = time.time()\n",
        "t40_EM = (t_end- t_start)"
      ],
      "metadata": {
        "id": "eYAHqF5uxF8L"
      },
      "execution_count": 73,
      "outputs": []
    },
    {
      "cell_type": "code",
      "source": [
        "t_start = time.time()\n",
        "mse_impy40_total = 0 \n",
        "MSE_impy40_1001 = 0\n",
        "for i in range(1,1001):\n",
        "  mse_impy40_total = mse_impy40_total + globals()[f'MSE_impy40_{i}']\n",
        "AMSE_abdominal_circumference4_impy = mse_impy40_total/1000\n",
        "print(f'AMSE_abdominal_circumference4_impy = {AMSE_abdominal_circumference4_impy}')\n",
        "t_end = time.time()\n",
        "print(f'เวลาที่ใช้ในการประมวลผล {t_end- t_start} วินาที')\n",
        "print(f'เวลาที่ใช้ในการประมวลผล {(t_end- t_start)/60} นาที')"
      ],
      "metadata": {
        "colab": {
          "base_uri": "https://localhost:8080/"
        },
        "outputId": "c4722737-6df2-4695-9b58-4204944a9aa7",
        "id": "yN9ceKVrxF8L"
      },
      "execution_count": 74,
      "outputs": [
        {
          "output_type": "stream",
          "name": "stdout",
          "text": [
            "AMSE_abdominal_circumference4_impy = 1.2836437548364787\n",
            "เวลาที่ใช้ในการประมวลผล 0.0008637905120849609 วินาที\n",
            "เวลาที่ใช้ในการประมวลผล 1.4396508534749349e-05 นาที\n"
          ]
        }
      ]
    },
    {
      "cell_type": "markdown",
      "source": [
        "# 50 % random nan "
      ],
      "metadata": {
        "id": "Repf93l4LOPD"
      }
    },
    {
      "cell_type": "code",
      "source": [
        "for i in range(1,1001):\n",
        "  globals()[f'abdominal_circumference5{i}'] = data.copy() # for loop variable name\n",
        "  np.random.seed(i) # for loop seed\n",
        "  n = int((153*50/100)) \n",
        "  index_nan = np.random.choice(globals()[f'abdominal_circumference5{i}']['abdominal circumference'].size, n, replace=False)\n",
        "  globals()[f'abdominal_circumference5{i}']['abdominal circumference'].ravel()[index_nan] = np.nan"
      ],
      "metadata": {
        "id": "wmZ6hwvZN4-i"
      },
      "execution_count": 75,
      "outputs": []
    },
    {
      "cell_type": "markdown",
      "source": [
        "## Imputation using Mean"
      ],
      "metadata": {
        "id": "09fmoc8cxJGM"
      }
    },
    {
      "cell_type": "code",
      "source": [
        "from sklearn.impute import SimpleImputer"
      ],
      "metadata": {
        "id": "zlQrlDEoxJGM"
      },
      "execution_count": 76,
      "outputs": []
    },
    {
      "cell_type": "code",
      "source": [
        "t_start = time.time()\n",
        "mean50_imputer = SimpleImputer(strategy='mean')\n",
        "for i in range(1,1001):\n",
        "  globals()[f'imputed_mean50_{i}'] = mean50_imputer.fit_transform(globals()[f'abdominal_circumference5{i}'].copy()) #for loop miss forest impputation \n",
        "  globals()[f'MSE_MEAN50_{i}'] = mean_squared_error(data, globals()[f'imputed_mean50_{i}']) # for loop mean_squared_error\n",
        "t_end = time.time()\n",
        "t50_MEAN = (t_end- t_start)"
      ],
      "metadata": {
        "id": "lbEsLoPpxJGM"
      },
      "execution_count": 77,
      "outputs": []
    },
    {
      "cell_type": "code",
      "source": [
        "t_start = time.time()\n",
        "mse_mean50_total = 0 \n",
        "MSE_MEAN50_1001 = 0\n",
        "for i in range(1,1001):\n",
        "  mse_mean50_total = mse_mean50_total + globals()[f'MSE_MEAN50_{i}']\n",
        "AMSE_abdominal_circumference5_mean = mse_mean50_total/1000\n",
        "print(f'AMSE_abdominal_circumference5_mean = {AMSE_abdominal_circumference5_mean}')\n",
        "t_end = time.time()\n",
        "print(f'เวลาที่ใช้ในการประมวลผล {t_end- t_start} วินาที')\n",
        "print(f'เวลาที่ใช้ในการประมวลผล {(t_end- t_start)/60} นาที')"
      ],
      "metadata": {
        "colab": {
          "base_uri": "https://localhost:8080/"
        },
        "outputId": "9d451329-4367-42b8-b13f-30deb30d5adc",
        "id": "Oi0OOBWnxJGM"
      },
      "execution_count": 78,
      "outputs": [
        {
          "output_type": "stream",
          "name": "stdout",
          "text": [
            "AMSE_abdominal_circumference5_mean = 0.8622018302519137\n",
            "เวลาที่ใช้ในการประมวลผล 0.0015330314636230469 วินาที\n",
            "เวลาที่ใช้ในการประมวลผล 2.555052439371745e-05 นาที\n"
          ]
        }
      ]
    },
    {
      "cell_type": "markdown",
      "source": [
        "## Imputation using the miss forest"
      ],
      "metadata": {
        "id": "OaeCvvmKxJGM"
      }
    },
    {
      "cell_type": "code",
      "source": [
        "import sys\n",
        "import sklearn.neighbors._base\n",
        "sys.modules['sklearn.neighbors.base'] = sklearn.neighbors._base\n",
        "!pip install missingpy\n",
        "import missingpy\n",
        "from missingpy import MissForest\n",
        "from sklearn.metrics import mean_squared_error"
      ],
      "metadata": {
        "colab": {
          "base_uri": "https://localhost:8080/"
        },
        "outputId": "4882b857-0d99-4106-f8cd-2936d4ea4529",
        "id": "H5JCUazRxJGM"
      },
      "execution_count": 79,
      "outputs": [
        {
          "output_type": "stream",
          "name": "stdout",
          "text": [
            "Looking in indexes: https://pypi.org/simple, https://us-python.pkg.dev/colab-wheels/public/simple/\n",
            "Requirement already satisfied: missingpy in /usr/local/lib/python3.8/dist-packages (0.2.0)\n"
          ]
        }
      ]
    },
    {
      "cell_type": "code",
      "source": [
        "t_start = time.time()\n",
        "MF50_imputer = MissForest()\n",
        "for i in range(1,1001):\n",
        "  globals()[f'imputed_mf50_{i}'] = MF50_imputer.fit_transform(globals()[f'abdominal_circumference5{i}'].copy()) #for loop miss forest impputation \n",
        "  globals()[f'MSE_MF50_{i}'] = mean_squared_error(data, globals()[f'imputed_mf50_{i}']) # for loop mean_squared_error\n",
        "t_end = time.time()\n",
        "t50_MF = (t_end- t_start)"
      ],
      "metadata": {
        "id": "2NhmjytlxJGN"
      },
      "execution_count": null,
      "outputs": []
    },
    {
      "cell_type": "code",
      "source": [
        "t_start = time.time()\n",
        "mse_mf50_total = 0 \n",
        "MSE_MF50_1001 = 0\n",
        "for i in range(0,1001):\n",
        "  mse_mf50_total = mse_mf50_total + globals()[f'MSE_MF50_{i+1}']\n",
        "AMSE_abdominal_circumference5_mf = mse_mf50_total/1000\n",
        "print(f'AMSE_abdominal_circumference5_mf = {AMSE_abdominal_circumference5_mf}')\n",
        "t_end = time.time()\n",
        "print(f'เวลาที่ใช้ในการประมวลผล {t_end- t_start} วินาที')\n",
        "print(f'เวลาที่ใช้ในการประมวลผล {(t_end- t_start)/60} นาที')"
      ],
      "metadata": {
        "colab": {
          "base_uri": "https://localhost:8080/"
        },
        "outputId": "1d04f7c4-599c-4382-a380-2209ba346b56",
        "id": "1nNQI2G8xJGN"
      },
      "execution_count": 81,
      "outputs": [
        {
          "output_type": "stream",
          "name": "stdout",
          "text": [
            "AMSE_abdominal_circumference5_mf = 0.1190859082244848\n",
            "เวลาที่ใช้ในการประมวลผล 0.0014374256134033203 วินาที\n",
            "เวลาที่ใช้ในการประมวลผล 2.3957093556722005e-05 นาที\n"
          ]
        }
      ]
    },
    {
      "cell_type": "markdown",
      "source": [
        "## Imputation using the KNN"
      ],
      "metadata": {
        "id": "CTek1P-HxJGN"
      }
    },
    {
      "cell_type": "code",
      "source": [
        "from sklearn import neighbors\n",
        "from sklearn.impute import KNNImputer"
      ],
      "metadata": {
        "id": "WgRrhETZxJGN"
      },
      "execution_count": 82,
      "outputs": []
    },
    {
      "cell_type": "code",
      "source": [
        "t_start = time.time()\n",
        "KNN50_imputer = KNNImputer(n_neighbors = 15)\n",
        "for i in range(1,1001):\n",
        "  globals()[f'imputed_KNN50_{i}'] = KNN30_imputer.fit_transform(globals()[f'abdominal_circumference5{i}'].copy())\n",
        "  globals()[f'MSE_KNN50_{i}'] = mean_squared_error(data, globals()[f'imputed_KNN50_{i}'])\n",
        "t_end = time.time()\n",
        "t50_KNN = (t_end- t_start)"
      ],
      "metadata": {
        "id": "B3nXS3c3xJGN"
      },
      "execution_count": 83,
      "outputs": []
    },
    {
      "cell_type": "code",
      "source": [
        "t_start = time.time()\n",
        "mse_knn50_total = 0 \n",
        "MSE_KNN50_1001 = 0\n",
        "for i in range(1,1001):\n",
        "  mse_knn50_total = mse_knn30_total + globals()[f'MSE_KNN50_{i}']\n",
        "AMSE_abdominal_circumference5_knn = mse_knn30_total/1000\n",
        "print(f'AMSE_abdominal_circumference5_knn = {AMSE_abdominal_circumference5_knn}')\n",
        "t_end = time.time()\n",
        "print(f'เวลาที่ใช้ในการประมวลผล {t_end- t_start} วินาที')\n",
        "print(f'เวลาที่ใช้ในการประมวลผล {(t_end- t_start)/60} นาที')"
      ],
      "metadata": {
        "colab": {
          "base_uri": "https://localhost:8080/"
        },
        "outputId": "72c01f6e-9b95-4afd-e022-4ec8cf991976",
        "id": "RL45RGOJxJGN"
      },
      "execution_count": 84,
      "outputs": [
        {
          "output_type": "stream",
          "name": "stdout",
          "text": [
            "AMSE_abdominal_circumference5_knn = 0.1724304894586895\n",
            "เวลาที่ใช้ในการประมวลผล 0.002622842788696289 วินาที\n",
            "เวลาที่ใช้ในการประมวลผล 4.371404647827148e-05 นาที\n"
          ]
        }
      ]
    },
    {
      "cell_type": "markdown",
      "source": [
        "## Imputation using the MICE"
      ],
      "metadata": {
        "id": "91Jd7pYDxJGN"
      }
    },
    {
      "cell_type": "code",
      "source": [
        "from sklearn.experimental import enable_iterative_imputer\n",
        "from sklearn.impute import IterativeImputer\n",
        "from sklearn.linear_model import LinearRegression\n",
        "from sklearn import svm"
      ],
      "metadata": {
        "id": "SsRXVmwAxJGN"
      },
      "execution_count": 85,
      "outputs": []
    },
    {
      "cell_type": "markdown",
      "source": [
        "### LinearRegression model"
      ],
      "metadata": {
        "id": "n1Ve627wxJGN"
      }
    },
    {
      "cell_type": "code",
      "source": [
        "t_start = time.time()\n",
        "lr = LinearRegression()\n",
        "for i in range(1,1001):\n",
        "  imp50 = IterativeImputer(estimator= lr , max_iter= 10, verbose=2, imputation_order='roman',initial_strategy = 'mean',random_state= i)\n",
        "  globals()[f'imputed_lr50_{i}'] = imp50.fit_transform(globals()[f'abdominal_circumference5{i}'].copy())\n",
        "  globals()[f'MSE_lr50_{i}'] = mean_squared_error(data, globals()[f'imputed_lr50_{i}'])\n",
        "t_end = time.time()\n",
        "t50_LR = (t_end- t_start)"
      ],
      "metadata": {
        "id": "YuqcjeD8xJGN"
      },
      "execution_count": null,
      "outputs": []
    },
    {
      "cell_type": "code",
      "source": [
        "t_start = time.time()\n",
        "mse_lr50_total = 0 \n",
        "MSE_lr50_1001 = 0\n",
        "for i in range(1,1001):\n",
        "  mse_lr50_total = mse_lr50_total + globals()[f'MSE_lr50_{i}']\n",
        "AMSE_abdominal_circumference5_lr = mse_lr50_total/1000\n",
        "print(f'AMSE_abdominal_circumference5_lr = {AMSE_abdominal_circumference5_lr}')\n",
        "t_end = time.time()\n",
        "print(f'เวลาที่ใช้ในการประมวลผล {t_end- t_start} วินาที')\n",
        "print(f'เวลาที่ใช้ในการประมวลผล {(t_end- t_start)/60} นาที')"
      ],
      "metadata": {
        "colab": {
          "base_uri": "https://localhost:8080/"
        },
        "outputId": "91050d66-8c9f-4a63-fe81-0ec5a2c37958",
        "id": "XS09mcJPxJGO"
      },
      "execution_count": 87,
      "outputs": [
        {
          "output_type": "stream",
          "name": "stdout",
          "text": [
            "AMSE_abdominal_circumference5_lr = 0.15787942231242585\n",
            "เวลาที่ใช้ในการประมวลผล 0.0009508132934570312 วินาที\n",
            "เวลาที่ใช้ในการประมวลผล 1.5846888224283855e-05 นาที\n"
          ]
        }
      ]
    },
    {
      "cell_type": "markdown",
      "source": [
        "### Support Vector Machine model"
      ],
      "metadata": {
        "id": "3WgsEJaKxJGO"
      }
    },
    {
      "cell_type": "code",
      "source": [
        "t_start = time.time()\n",
        "regr = svm.SVR()\n",
        "for i in range(1,1001):\n",
        "  svm_svr = IterativeImputer(estimator= regr, max_iter= 10, verbose=2, imputation_order='roman',initial_strategy = 'mean',random_state= i)\n",
        "  globals()[f'imputed_svm50_{i}'] = svm_svr.fit_transform(globals()[f'abdominal_circumference5{i}'].copy())\n",
        "  globals()[f'MSE_svm50_{i}'] = mean_squared_error(data, globals()[f'imputed_svm50_{i}'])\n",
        "t_end = time.time()\n",
        "t50_SVM = (t_end- t_start)"
      ],
      "metadata": {
        "id": "4Ao5WPLjxJGO"
      },
      "execution_count": null,
      "outputs": []
    },
    {
      "cell_type": "code",
      "source": [
        "t_start = time.time()\n",
        "mse_svm50_total = 0 \n",
        "MSE_svm50_1001 = 0\n",
        "for i in range(1,1001):\n",
        "  mse_svm50_total = mse_svm50_total + globals()[f'MSE_svm50_{i}']\n",
        "AMSE_abdominal_circumference5_svm = mse_svm50_total/1000\n",
        "print(f'AMSE_abdominal_circumference5_svm = {AMSE_abdominal_circumference5_svm}')\n",
        "t_end = time.time()\n",
        "print(f'เวลาที่ใช้ในการประมวลผล {t_end- t_start} วินาที')\n",
        "print(f'เวลาที่ใช้ในการประมวลผล {(t_end- t_start)/60} นาที')"
      ],
      "metadata": {
        "colab": {
          "base_uri": "https://localhost:8080/"
        },
        "outputId": "fab6f602-b1f8-4872-ccca-e0c412e690fa",
        "id": "JQAn3b4fxJGO"
      },
      "execution_count": 89,
      "outputs": [
        {
          "output_type": "stream",
          "name": "stdout",
          "text": [
            "AMSE_abdominal_circumference5_svm = 0.5471374917238632\n",
            "เวลาที่ใช้ในการประมวลผล 0.0012669563293457031 วินาที\n",
            "เวลาที่ใช้ในการประมวลผล 2.1115938822428385e-05 นาที\n"
          ]
        }
      ]
    },
    {
      "cell_type": "markdown",
      "source": [
        "## Imputation using the EM"
      ],
      "metadata": {
        "id": "tRupRwupxJGO"
      }
    },
    {
      "cell_type": "markdown",
      "source": [
        "### impy.em"
      ],
      "metadata": {
        "id": "QB8VR4fixJGO"
      }
    },
    {
      "cell_type": "code",
      "source": [
        "!pip install impyute\n",
        "import impyute as impy"
      ],
      "metadata": {
        "id": "fHHrWk7PxJGO",
        "colab": {
          "base_uri": "https://localhost:8080/"
        },
        "outputId": "3ac98659-6d5c-4b60-d2e5-4b86569d30c0"
      },
      "execution_count": 90,
      "outputs": [
        {
          "output_type": "stream",
          "name": "stdout",
          "text": [
            "Looking in indexes: https://pypi.org/simple, https://us-python.pkg.dev/colab-wheels/public/simple/\n",
            "Requirement already satisfied: impyute in /usr/local/lib/python3.8/dist-packages (0.0.8)\n",
            "Requirement already satisfied: scikit-learn in /usr/local/lib/python3.8/dist-packages (from impyute) (1.0.2)\n",
            "Requirement already satisfied: numpy in /usr/local/lib/python3.8/dist-packages (from impyute) (1.21.6)\n",
            "Requirement already satisfied: scipy in /usr/local/lib/python3.8/dist-packages (from impyute) (1.7.3)\n",
            "Requirement already satisfied: joblib>=0.11 in /usr/local/lib/python3.8/dist-packages (from scikit-learn->impyute) (1.2.0)\n",
            "Requirement already satisfied: threadpoolctl>=2.0.0 in /usr/local/lib/python3.8/dist-packages (from scikit-learn->impyute) (3.1.0)\n"
          ]
        }
      ]
    },
    {
      "cell_type": "code",
      "source": [
        "t_start = time.time()\n",
        "for i in range(1,1001):\n",
        "  globals()[f'imputed_impy50_{i}'] = impy.em(globals()[f'abdominal_circumference5{i}'].values.copy())\n",
        "  globals()[f'MSE_impy50_{i}'] = mean_squared_error(data, globals()[f'imputed_impy50_{i}'])\n",
        "t_end = time.time()\n",
        "t50_EM = (t_end- t_start)"
      ],
      "metadata": {
        "id": "cqN-xQHYxJGO"
      },
      "execution_count": 91,
      "outputs": []
    },
    {
      "cell_type": "code",
      "source": [
        "t_start = time.time()\n",
        "mse_impy50_total = 0 \n",
        "MSE_impy50_1001 = 0\n",
        "for i in range(1,1001):\n",
        "  mse_impy50_total = mse_impy50_total + globals()[f'MSE_impy50_{i}']\n",
        "AMSE_abdominal_circumference5_impy = mse_impy50_total/1000\n",
        "print(f'AMSE_abdominal_circumference5_impy = {AMSE_abdominal_circumference5_impy}')\n",
        "t_end = time.time()\n",
        "print(f'เวลาที่ใช้ในการประมวลผล {t_end- t_start} วินาที')\n",
        "print(f'เวลาที่ใช้ในการประมวลผล {(t_end- t_start)/60} นาที')"
      ],
      "metadata": {
        "colab": {
          "base_uri": "https://localhost:8080/"
        },
        "outputId": "13a4dce7-9b32-4ceb-d354-7335be819c28",
        "id": "jBIZfVmnxJGO"
      },
      "execution_count": 92,
      "outputs": [
        {
          "output_type": "stream",
          "name": "stdout",
          "text": [
            "AMSE_abdominal_circumference5_impy = 1.62613440274002\n",
            "เวลาที่ใช้ในการประมวลผล 0.0013320446014404297 วินาที\n",
            "เวลาที่ใช้ในการประมวลผล 2.2200743357340493e-05 นาที\n"
          ]
        }
      ]
    },
    {
      "cell_type": "code",
      "source": [],
      "metadata": {
        "id": "7ghkE3l8LOuR"
      },
      "execution_count": 92,
      "outputs": []
    },
    {
      "cell_type": "markdown",
      "source": [
        "# 60 % random nan "
      ],
      "metadata": {
        "id": "88K33yckLOxP"
      }
    },
    {
      "cell_type": "code",
      "source": [
        "for i in range(1,1001):\n",
        "  globals()[f'abdominal_circumference6{i}'] = data.copy() # for loop variable name\n",
        "  np.random.seed(i) # for loop seed\n",
        "  n = int((153*60/100)) \n",
        "  index_nan = np.random.choice(globals()[f'abdominal_circumference6{i}']['abdominal circumference'].size, n, replace=False)\n",
        "  globals()[f'abdominal_circumference6{i}']['abdominal circumference'].ravel()[index_nan] = np.nan"
      ],
      "metadata": {
        "id": "KpNJ2NasN9vS"
      },
      "execution_count": 93,
      "outputs": []
    },
    {
      "cell_type": "markdown",
      "source": [
        "## Imputation using Mean"
      ],
      "metadata": {
        "id": "yJcPr6AqxNlS"
      }
    },
    {
      "cell_type": "code",
      "source": [
        "from sklearn.impute import SimpleImputer"
      ],
      "metadata": {
        "id": "GYvN__ZixNlS"
      },
      "execution_count": 94,
      "outputs": []
    },
    {
      "cell_type": "code",
      "source": [
        "t_start = time.time()\n",
        "mean60_imputer = SimpleImputer(strategy='mean')\n",
        "for i in range(1,1001):\n",
        "  globals()[f'imputed_mean60_{i}'] = mean60_imputer.fit_transform(globals()[f'abdominal_circumference6{i}'].copy()) #for loop miss forest impputation \n",
        "  globals()[f'MSE_MEAN60_{i}'] = mean_squared_error(data, globals()[f'imputed_mean60_{i}']) # for loop mean_squared_error\n",
        "t_end = time.time()\n",
        "t60_MEAN = (t_end- t_start)"
      ],
      "metadata": {
        "id": "mwaFbWz5xNlS"
      },
      "execution_count": 95,
      "outputs": []
    },
    {
      "cell_type": "code",
      "source": [
        "t_start = time.time()\n",
        "mse_mean60_total = 0 \n",
        "MSE_MEAN60_1001 = 0\n",
        "for i in range(1,1001):\n",
        "  mse_mean60_total = mse_mean60_total + globals()[f'MSE_MEAN60_{i}']\n",
        "AMSE_abdominal_circumference6_mean = mse_mean60_total/1000\n",
        "print(f'AMSE_abdominal_circumference6_mean = {AMSE_abdominal_circumference6_mean}')\n",
        "t_end = time.time()\n",
        "print(f'เวลาที่ใช้ในการประมวลผล {t_end- t_start} วินาที')\n",
        "print(f'เวลาที่ใช้ในการประมวลผล {(t_end- t_start)/60} นาที')"
      ],
      "metadata": {
        "colab": {
          "base_uri": "https://localhost:8080/"
        },
        "outputId": "fb1002cb-d466-42f7-b39d-db86deb6f00d",
        "id": "83LFmQgyxNlS"
      },
      "execution_count": 96,
      "outputs": [
        {
          "output_type": "stream",
          "name": "stdout",
          "text": [
            "AMSE_abdominal_circumference6_mean = 1.039383024041176\n",
            "เวลาที่ใช้ในการประมวลผล 0.0009663105010986328 วินาที\n",
            "เวลาที่ใช้ในการประมวลผล 1.6105175018310546e-05 นาที\n"
          ]
        }
      ]
    },
    {
      "cell_type": "markdown",
      "source": [
        "## Imputation using the miss forest"
      ],
      "metadata": {
        "id": "Yah9QGgaxNlT"
      }
    },
    {
      "cell_type": "code",
      "source": [
        "import sys\n",
        "import sklearn.neighbors._base\n",
        "sys.modules['sklearn.neighbors.base'] = sklearn.neighbors._base\n",
        "!pip install missingpy\n",
        "import missingpy\n",
        "from missingpy import MissForest\n",
        "from sklearn.metrics import mean_squared_error"
      ],
      "metadata": {
        "colab": {
          "base_uri": "https://localhost:8080/"
        },
        "outputId": "fede325c-5834-4932-c1a3-c52505fb1306",
        "id": "iemphgiHxNlT"
      },
      "execution_count": 97,
      "outputs": [
        {
          "output_type": "stream",
          "name": "stdout",
          "text": [
            "Looking in indexes: https://pypi.org/simple, https://us-python.pkg.dev/colab-wheels/public/simple/\n",
            "Requirement already satisfied: missingpy in /usr/local/lib/python3.8/dist-packages (0.2.0)\n"
          ]
        }
      ]
    },
    {
      "cell_type": "code",
      "source": [
        "t_start = time.time()\n",
        "MF60_imputer = MissForest()\n",
        "for i in range(1,1001):\n",
        "  globals()[f'imputed_mf60_{i}'] = MF60_imputer.fit_transform(globals()[f'abdominal_circumference6{i}'].copy()) #for loop miss forest impputation \n",
        "  globals()[f'MSE_MF60_{i}'] = mean_squared_error(data, globals()[f'imputed_mf60_{i}']) # for loop mean_squared_error\n",
        "t_end = time.time()\n",
        "t60_MF = (t_end- t_start)"
      ],
      "metadata": {
        "id": "IgWVTn3sxNlT"
      },
      "execution_count": null,
      "outputs": []
    },
    {
      "cell_type": "code",
      "source": [
        "t_start = time.time()\n",
        "mse_mf60_total = 0 \n",
        "MSE_MF60_1001 = 0\n",
        "for i in range(1,1001):\n",
        "  mse_mf60_total = mse_mf60_total + globals()[f'MSE_MF60_{i}']\n",
        "AMSE_abdominal_circumference6_mf = mse_mf60_total/1000\n",
        "print(f'AMSE_abdominal_circumference6_mf = {AMSE_abdominal_circumference6_mf}')\n",
        "t_end = time.time()\n",
        "print(f'เวลาที่ใช้ในการประมวลผล {t_end- t_start} วินาที')\n",
        "print(f'เวลาที่ใช้ในการประมวลผล {(t_end- t_start)/60} นาที')"
      ],
      "metadata": {
        "colab": {
          "base_uri": "https://localhost:8080/"
        },
        "outputId": "5a783716-8390-42a2-b1a6-b60a389f23be",
        "id": "McMLT0_axNlT"
      },
      "execution_count": 99,
      "outputs": [
        {
          "output_type": "stream",
          "name": "stdout",
          "text": [
            "AMSE_abdominal_circumference6_mf = 0.15871829600879836\n",
            "เวลาที่ใช้ในการประมวลผล 0.001129150390625 วินาที\n",
            "เวลาที่ใช้ในการประมวลผล 1.8819173177083334e-05 นาที\n"
          ]
        }
      ]
    },
    {
      "cell_type": "markdown",
      "source": [
        "## Imputation using the KNN"
      ],
      "metadata": {
        "id": "zSkA4iezxNlT"
      }
    },
    {
      "cell_type": "code",
      "source": [
        "from sklearn import neighbors\n",
        "from sklearn.impute import KNNImputer"
      ],
      "metadata": {
        "id": "sdViCAcqxNlT"
      },
      "execution_count": 100,
      "outputs": []
    },
    {
      "cell_type": "code",
      "source": [
        "t_start = time.time()\n",
        "KNN60_imputer = KNNImputer(n_neighbors = 15)\n",
        "for i in range(1,1001):\n",
        "  globals()[f'imputed_KNN60_{i}'] = KNN60_imputer.fit_transform(globals()[f'abdominal_circumference6{i}'].copy())\n",
        "  globals()[f'MSE_KNN60_{i}'] = mean_squared_error(data, globals()[f'imputed_KNN60_{i}'])\n",
        "t_end = time.time()\n",
        "t60_KNN = (t_end- t_start)"
      ],
      "metadata": {
        "id": "CaTlV9cExNlT"
      },
      "execution_count": 101,
      "outputs": []
    },
    {
      "cell_type": "code",
      "source": [
        "t_start = time.time()\n",
        "mse_knn60_total = 0 \n",
        "MSE_KNN60_1001 = 0\n",
        "for i in range(1,1001):\n",
        "  mse_knn60_total = mse_knn60_total + globals()[f'MSE_KNN60_{i}']\n",
        "AMSE_abdominal_circumference6_knn = mse_knn60_total/1000\n",
        "print(f'AMSE_abdominal_circumference6_knn = {AMSE_abdominal_circumference6_knn}')\n",
        "t_end = time.time()\n",
        "print(f'เวลาที่ใช้ในการประมวลผล {t_end- t_start} วินาที')\n",
        "print(f'เวลาที่ใช้ในการประมวลผล {(t_end- t_start)/60} นาที')"
      ],
      "metadata": {
        "colab": {
          "base_uri": "https://localhost:8080/"
        },
        "outputId": "83cebd52-cc0f-4299-aeb1-7a454a19597e",
        "id": "W3q7WkSvxNlT"
      },
      "execution_count": 102,
      "outputs": [
        {
          "output_type": "stream",
          "name": "stdout",
          "text": [
            "AMSE_abdominal_circumference6_knn = 0.44123015884028893\n",
            "เวลาที่ใช้ในการประมวลผล 0.0022253990173339844 วินาที\n",
            "เวลาที่ใช้ในการประมวลผล 3.708998362223307e-05 นาที\n"
          ]
        }
      ]
    },
    {
      "cell_type": "markdown",
      "source": [
        "## Imputation using the MICE"
      ],
      "metadata": {
        "id": "CiQPljY3xNlT"
      }
    },
    {
      "cell_type": "code",
      "source": [
        "from sklearn.experimental import enable_iterative_imputer\n",
        "from sklearn.impute import IterativeImputer\n",
        "from sklearn.linear_model import LinearRegression\n",
        "from sklearn import svm"
      ],
      "metadata": {
        "id": "AFJlOHBKxNlT"
      },
      "execution_count": 103,
      "outputs": []
    },
    {
      "cell_type": "markdown",
      "source": [
        "### LinearRegression model"
      ],
      "metadata": {
        "id": "fIzzFLZ1xNlU"
      }
    },
    {
      "cell_type": "code",
      "source": [
        "t_start = time.time()\n",
        "lr = LinearRegression()\n",
        "for i in range(1,1001):\n",
        "  imp60 = IterativeImputer(estimator= lr , max_iter= 10, verbose=2, imputation_order='roman',initial_strategy = 'mean',random_state= i)\n",
        "  globals()[f'imputed_lr60_{i}'] = imp60.fit_transform(globals()[f'abdominal_circumference6{i}'].copy())\n",
        "  globals()[f'MSE_lr60_{i}'] = mean_squared_error(data, globals()[f'imputed_lr60_{i}'])\n",
        "t_end = time.time()\n",
        "t60_LR = (t_end- t_start)"
      ],
      "metadata": {
        "id": "5dUEJCKvxNlU"
      },
      "execution_count": null,
      "outputs": []
    },
    {
      "cell_type": "code",
      "source": [
        "t_start = time.time()\n",
        "mse_lr60_total = 0 \n",
        "MSE_lr60_1001 = 0\n",
        "for i in range(1,1001):\n",
        "  mse_lr60_total = mse_lr60_total + globals()[f'MSE_lr60_{i}']\n",
        "AMSE_abdominal_circumference6_lr = mse_lr60_total/1000\n",
        "print(f'AMSE_abdominal_circumference6_lr = {AMSE_abdominal_circumference6_lr}')\n",
        "t_end = time.time()\n",
        "print(f'เวลาที่ใช้ในการประมวลผล {t_end- t_start} วินาที')\n",
        "print(f'เวลาที่ใช้ในการประมวลผล {(t_end- t_start)/60} นาที')"
      ],
      "metadata": {
        "colab": {
          "base_uri": "https://localhost:8080/"
        },
        "outputId": "743a0d54-5b91-4a65-cb4c-e3d3c9fcee00",
        "id": "BsT5i34JxNlU"
      },
      "execution_count": 105,
      "outputs": [
        {
          "output_type": "stream",
          "name": "stdout",
          "text": [
            "AMSE_abdominal_circumference6_lr = 0.20061217931684525\n",
            "เวลาที่ใช้ในการประมวลผล 0.0010716915130615234 วินาที\n",
            "เวลาที่ใช้ในการประมวลผล 1.786152521769206e-05 นาที\n"
          ]
        }
      ]
    },
    {
      "cell_type": "markdown",
      "source": [
        "### Support Vector Machine model"
      ],
      "metadata": {
        "id": "ipBIRd7uxNlU"
      }
    },
    {
      "cell_type": "code",
      "source": [
        "t_start = time.time()\n",
        "regr = svm.SVR()\n",
        "for i in range(1,1001):\n",
        "  svm_svr = IterativeImputer(estimator= regr, max_iter= 10, verbose=2, imputation_order='roman',initial_strategy = 'mean',random_state= i)\n",
        "  globals()[f'imputed_svm60_{i}'] = svm_svr.fit_transform(globals()[f'abdominal_circumference6{i}'].copy())\n",
        "  globals()[f'MSE_svm60_{i}'] = mean_squared_error(data, globals()[f'imputed_svm60_{i}'])\n",
        "t_end = time.time()\n",
        "t60_SVM = (t_end- t_start)"
      ],
      "metadata": {
        "id": "Lg7rddJ_xNlU"
      },
      "execution_count": null,
      "outputs": []
    },
    {
      "cell_type": "code",
      "source": [
        "t_start = time.time()\n",
        "mse_svm60_total = 0 \n",
        "MSE_svm60_1001 = 0\n",
        "for i in range(1,1001):\n",
        "  mse_svm60_total = mse_svm60_total + globals()[f'MSE_svm60_{i}']\n",
        "AMSE_abdominal_circumference6_svm = mse_svm60_total/1000\n",
        "print(f'AMSE_abdominal_circumference6_svm = {AMSE_abdominal_circumference6_svm}')\n",
        "t_end = time.time()\n",
        "print(f'เวลาที่ใช้ในการประมวลผล {t_end- t_start} วินาที')\n",
        "print(f'เวลาที่ใช้ในการประมวลผล {(t_end- t_start)/60} นาที')"
      ],
      "metadata": {
        "colab": {
          "base_uri": "https://localhost:8080/"
        },
        "outputId": "0f488b41-c2c9-475d-8ea6-914fb9649ab0",
        "id": "_Q000ZcGxNlU"
      },
      "execution_count": 107,
      "outputs": [
        {
          "output_type": "stream",
          "name": "stdout",
          "text": [
            "AMSE_abdominal_circumference6_svm = 0.7224949879475254\n",
            "เวลาที่ใช้ในการประมวลผล 0.0015554428100585938 วินาที\n",
            "เวลาที่ใช้ในการประมวลผล 2.5924046834309896e-05 นาที\n"
          ]
        }
      ]
    },
    {
      "cell_type": "markdown",
      "source": [
        "## Imputation using the EM"
      ],
      "metadata": {
        "id": "zKY3uyc-xNlU"
      }
    },
    {
      "cell_type": "markdown",
      "source": [
        "### impy.em"
      ],
      "metadata": {
        "id": "NUSi_0_HxNlU"
      }
    },
    {
      "cell_type": "code",
      "source": [
        "!pip install impyute\n",
        "import impyute as impy"
      ],
      "metadata": {
        "id": "dsQH_icHxNlU",
        "colab": {
          "base_uri": "https://localhost:8080/"
        },
        "outputId": "2ce6de0f-06f8-4a21-98e4-2c530263b1bd"
      },
      "execution_count": 108,
      "outputs": [
        {
          "output_type": "stream",
          "name": "stdout",
          "text": [
            "Looking in indexes: https://pypi.org/simple, https://us-python.pkg.dev/colab-wheels/public/simple/\n",
            "Requirement already satisfied: impyute in /usr/local/lib/python3.8/dist-packages (0.0.8)\n",
            "Requirement already satisfied: numpy in /usr/local/lib/python3.8/dist-packages (from impyute) (1.21.6)\n",
            "Requirement already satisfied: scikit-learn in /usr/local/lib/python3.8/dist-packages (from impyute) (1.0.2)\n",
            "Requirement already satisfied: scipy in /usr/local/lib/python3.8/dist-packages (from impyute) (1.7.3)\n",
            "Requirement already satisfied: joblib>=0.11 in /usr/local/lib/python3.8/dist-packages (from scikit-learn->impyute) (1.2.0)\n",
            "Requirement already satisfied: threadpoolctl>=2.0.0 in /usr/local/lib/python3.8/dist-packages (from scikit-learn->impyute) (3.1.0)\n"
          ]
        }
      ]
    },
    {
      "cell_type": "code",
      "source": [
        "t_start = time.time()\n",
        "for i in range(1,1001):\n",
        "  globals()[f'imputed_impy60_{i}'] = impy.em(globals()[f'abdominal_circumference6{i}'].values.copy())\n",
        "  globals()[f'MSE_impy60_{i}'] = mean_squared_error(data, globals()[f'imputed_impy60_{i}'])\n",
        "t_end = time.time()\n",
        "t60_EM = (t_end- t_start)"
      ],
      "metadata": {
        "id": "BeZYd_QAxNlU"
      },
      "execution_count": 109,
      "outputs": []
    },
    {
      "cell_type": "code",
      "source": [
        "t_start = time.time()\n",
        "mse_impy60_total = 0 \n",
        "MSE_impy60_1001 = 0\n",
        "for i in range(1,1001):\n",
        "  mse_impy60_total = mse_impy60_total + globals()[f'MSE_impy60_{i}']\n",
        "AMSE_abdominal_circumference6_impy = mse_impy60_total/1000\n",
        "print(f'AMSE_abdominal_circumference6_impy = {AMSE_abdominal_circumference6_impy}')\n",
        "t_end = time.time()\n",
        "print(f'เวลาที่ใช้ในการประมวลผล {t_end- t_start} วินาที')\n",
        "print(f'เวลาที่ใช้ในการประมวลผล {(t_end- t_start)/60} นาที')"
      ],
      "metadata": {
        "colab": {
          "base_uri": "https://localhost:8080/"
        },
        "outputId": "11952c43-103a-45e8-d91d-d59dc0bedf1e",
        "id": "-P6bFMcIxNlV"
      },
      "execution_count": 110,
      "outputs": [
        {
          "output_type": "stream",
          "name": "stdout",
          "text": [
            "AMSE_abdominal_circumference6_impy = 1.9370303902209733\n",
            "เวลาที่ใช้ในการประมวลผล 0.0009024143218994141 วินาที\n",
            "เวลาที่ใช้ในการประมวลผล 1.5040238698323568e-05 นาที\n"
          ]
        }
      ]
    },
    {
      "cell_type": "markdown",
      "source": [
        "# AMSE"
      ],
      "metadata": {
        "id": "WAEeUftzBw-9"
      }
    },
    {
      "cell_type": "code",
      "source": [
        "amse_value = {'Method':['MEAN','Miss Forest','KNN','MICE-LR','MICE-SVM','EM'],\n",
        "              '10%':[AMSE_abdominal_circumference1_mean,AMSE_abdominal_circumference1_mf,AMSE_abdominal_circumference1_knn,AMSE_abdominal_circumference1_lr,AMSE_abdominal_circumference1_svm,AMSE_abdominal_circumference1_impy],\n",
        "      '20%':[AMSE_abdominal_circumference2_mean,AMSE_abdominal_circumference2_mf,AMSE_abdominal_circumference2_knn,AMSE_abdominal_circumference2_lr,AMSE_abdominal_circumference2_svm,AMSE_abdominal_circumference2_impy],\n",
        "      '30%':[AMSE_abdominal_circumference3_mean,AMSE_abdominal_circumference3_mf,AMSE_abdominal_circumference3_knn,AMSE_abdominal_circumference3_lr,AMSE_abdominal_circumference3_svm,AMSE_abdominal_circumference3_impy],\n",
        "      '40%':[AMSE_abdominal_circumference4_mean,AMSE_abdominal_circumference4_mf,AMSE_abdominal_circumference4_knn,AMSE_abdominal_circumference4_lr,AMSE_abdominal_circumference4_svm,AMSE_abdominal_circumference4_impy],\n",
        "      '50%':[AMSE_abdominal_circumference5_mean,AMSE_abdominal_circumference5_mf,AMSE_abdominal_circumference5_knn,AMSE_abdominal_circumference5_lr,AMSE_abdominal_circumference5_svm,AMSE_abdominal_circumference5_impy]\n",
        "      ,'60%':[AMSE_abdominal_circumference6_mean,AMSE_abdominal_circumference6_mf,AMSE_abdominal_circumference6_knn,AMSE_abdominal_circumference6_lr,AMSE_abdominal_circumference6_svm,AMSE_abdominal_circumference6_impy]}"
      ],
      "metadata": {
        "id": "x6plIFznBy3z"
      },
      "execution_count": 111,
      "outputs": []
    },
    {
      "cell_type": "code",
      "source": [
        "data_AMSE = pd.DataFrame.from_dict(amse_value)\n",
        "data_AMSE"
      ],
      "metadata": {
        "id": "HoKT3tf0BzV7",
        "colab": {
          "base_uri": "https://localhost:8080/",
          "height": 237
        },
        "outputId": "2dc783d0-f250-4ed4-b38b-2f28cff37728"
      },
      "execution_count": 112,
      "outputs": [
        {
          "output_type": "execute_result",
          "data": {
            "text/plain": [
              "        Method       10%       20%       30%       40%       50%       60%\n",
              "0         MEAN  0.169004  0.332796  0.505818  0.687115  0.862202  1.039383\n",
              "1  Miss Forest  0.016231  0.034821  0.058217  0.086113  0.119086  0.158718\n",
              "2          KNN  0.052803  0.108192  0.172430  0.246195  0.172430  0.441230\n",
              "3      MICE-LR  0.029385  0.061665  0.096234  0.125570  0.157879  0.200612\n",
              "4     MICE-SVM  0.079298  0.165715  0.271567  0.399860  0.547137  0.722495\n",
              "5           EM  0.314286  0.623148  0.940753  1.283644  1.626134  1.937030"
            ],
            "text/html": [
              "\n",
              "  <div id=\"df-08be5b50-31fe-4fac-bbc1-55d0fb747b4c\">\n",
              "    <div class=\"colab-df-container\">\n",
              "      <div>\n",
              "<style scoped>\n",
              "    .dataframe tbody tr th:only-of-type {\n",
              "        vertical-align: middle;\n",
              "    }\n",
              "\n",
              "    .dataframe tbody tr th {\n",
              "        vertical-align: top;\n",
              "    }\n",
              "\n",
              "    .dataframe thead th {\n",
              "        text-align: right;\n",
              "    }\n",
              "</style>\n",
              "<table border=\"1\" class=\"dataframe\">\n",
              "  <thead>\n",
              "    <tr style=\"text-align: right;\">\n",
              "      <th></th>\n",
              "      <th>Method</th>\n",
              "      <th>10%</th>\n",
              "      <th>20%</th>\n",
              "      <th>30%</th>\n",
              "      <th>40%</th>\n",
              "      <th>50%</th>\n",
              "      <th>60%</th>\n",
              "    </tr>\n",
              "  </thead>\n",
              "  <tbody>\n",
              "    <tr>\n",
              "      <th>0</th>\n",
              "      <td>MEAN</td>\n",
              "      <td>0.169004</td>\n",
              "      <td>0.332796</td>\n",
              "      <td>0.505818</td>\n",
              "      <td>0.687115</td>\n",
              "      <td>0.862202</td>\n",
              "      <td>1.039383</td>\n",
              "    </tr>\n",
              "    <tr>\n",
              "      <th>1</th>\n",
              "      <td>Miss Forest</td>\n",
              "      <td>0.016231</td>\n",
              "      <td>0.034821</td>\n",
              "      <td>0.058217</td>\n",
              "      <td>0.086113</td>\n",
              "      <td>0.119086</td>\n",
              "      <td>0.158718</td>\n",
              "    </tr>\n",
              "    <tr>\n",
              "      <th>2</th>\n",
              "      <td>KNN</td>\n",
              "      <td>0.052803</td>\n",
              "      <td>0.108192</td>\n",
              "      <td>0.172430</td>\n",
              "      <td>0.246195</td>\n",
              "      <td>0.172430</td>\n",
              "      <td>0.441230</td>\n",
              "    </tr>\n",
              "    <tr>\n",
              "      <th>3</th>\n",
              "      <td>MICE-LR</td>\n",
              "      <td>0.029385</td>\n",
              "      <td>0.061665</td>\n",
              "      <td>0.096234</td>\n",
              "      <td>0.125570</td>\n",
              "      <td>0.157879</td>\n",
              "      <td>0.200612</td>\n",
              "    </tr>\n",
              "    <tr>\n",
              "      <th>4</th>\n",
              "      <td>MICE-SVM</td>\n",
              "      <td>0.079298</td>\n",
              "      <td>0.165715</td>\n",
              "      <td>0.271567</td>\n",
              "      <td>0.399860</td>\n",
              "      <td>0.547137</td>\n",
              "      <td>0.722495</td>\n",
              "    </tr>\n",
              "    <tr>\n",
              "      <th>5</th>\n",
              "      <td>EM</td>\n",
              "      <td>0.314286</td>\n",
              "      <td>0.623148</td>\n",
              "      <td>0.940753</td>\n",
              "      <td>1.283644</td>\n",
              "      <td>1.626134</td>\n",
              "      <td>1.937030</td>\n",
              "    </tr>\n",
              "  </tbody>\n",
              "</table>\n",
              "</div>\n",
              "      <button class=\"colab-df-convert\" onclick=\"convertToInteractive('df-08be5b50-31fe-4fac-bbc1-55d0fb747b4c')\"\n",
              "              title=\"Convert this dataframe to an interactive table.\"\n",
              "              style=\"display:none;\">\n",
              "        \n",
              "  <svg xmlns=\"http://www.w3.org/2000/svg\" height=\"24px\"viewBox=\"0 0 24 24\"\n",
              "       width=\"24px\">\n",
              "    <path d=\"M0 0h24v24H0V0z\" fill=\"none\"/>\n",
              "    <path d=\"M18.56 5.44l.94 2.06.94-2.06 2.06-.94-2.06-.94-.94-2.06-.94 2.06-2.06.94zm-11 1L8.5 8.5l.94-2.06 2.06-.94-2.06-.94L8.5 2.5l-.94 2.06-2.06.94zm10 10l.94 2.06.94-2.06 2.06-.94-2.06-.94-.94-2.06-.94 2.06-2.06.94z\"/><path d=\"M17.41 7.96l-1.37-1.37c-.4-.4-.92-.59-1.43-.59-.52 0-1.04.2-1.43.59L10.3 9.45l-7.72 7.72c-.78.78-.78 2.05 0 2.83L4 21.41c.39.39.9.59 1.41.59.51 0 1.02-.2 1.41-.59l7.78-7.78 2.81-2.81c.8-.78.8-2.07 0-2.86zM5.41 20L4 18.59l7.72-7.72 1.47 1.35L5.41 20z\"/>\n",
              "  </svg>\n",
              "      </button>\n",
              "      \n",
              "  <style>\n",
              "    .colab-df-container {\n",
              "      display:flex;\n",
              "      flex-wrap:wrap;\n",
              "      gap: 12px;\n",
              "    }\n",
              "\n",
              "    .colab-df-convert {\n",
              "      background-color: #E8F0FE;\n",
              "      border: none;\n",
              "      border-radius: 50%;\n",
              "      cursor: pointer;\n",
              "      display: none;\n",
              "      fill: #1967D2;\n",
              "      height: 32px;\n",
              "      padding: 0 0 0 0;\n",
              "      width: 32px;\n",
              "    }\n",
              "\n",
              "    .colab-df-convert:hover {\n",
              "      background-color: #E2EBFA;\n",
              "      box-shadow: 0px 1px 2px rgba(60, 64, 67, 0.3), 0px 1px 3px 1px rgba(60, 64, 67, 0.15);\n",
              "      fill: #174EA6;\n",
              "    }\n",
              "\n",
              "    [theme=dark] .colab-df-convert {\n",
              "      background-color: #3B4455;\n",
              "      fill: #D2E3FC;\n",
              "    }\n",
              "\n",
              "    [theme=dark] .colab-df-convert:hover {\n",
              "      background-color: #434B5C;\n",
              "      box-shadow: 0px 1px 3px 1px rgba(0, 0, 0, 0.15);\n",
              "      filter: drop-shadow(0px 1px 2px rgba(0, 0, 0, 0.3));\n",
              "      fill: #FFFFFF;\n",
              "    }\n",
              "  </style>\n",
              "\n",
              "      <script>\n",
              "        const buttonEl =\n",
              "          document.querySelector('#df-08be5b50-31fe-4fac-bbc1-55d0fb747b4c button.colab-df-convert');\n",
              "        buttonEl.style.display =\n",
              "          google.colab.kernel.accessAllowed ? 'block' : 'none';\n",
              "\n",
              "        async function convertToInteractive(key) {\n",
              "          const element = document.querySelector('#df-08be5b50-31fe-4fac-bbc1-55d0fb747b4c');\n",
              "          const dataTable =\n",
              "            await google.colab.kernel.invokeFunction('convertToInteractive',\n",
              "                                                     [key], {});\n",
              "          if (!dataTable) return;\n",
              "\n",
              "          const docLinkHtml = 'Like what you see? Visit the ' +\n",
              "            '<a target=\"_blank\" href=https://colab.research.google.com/notebooks/data_table.ipynb>data table notebook</a>'\n",
              "            + ' to learn more about interactive tables.';\n",
              "          element.innerHTML = '';\n",
              "          dataTable['output_type'] = 'display_data';\n",
              "          await google.colab.output.renderOutput(dataTable, element);\n",
              "          const docLink = document.createElement('div');\n",
              "          docLink.innerHTML = docLinkHtml;\n",
              "          element.appendChild(docLink);\n",
              "        }\n",
              "      </script>\n",
              "    </div>\n",
              "  </div>\n",
              "  "
            ]
          },
          "metadata": {},
          "execution_count": 112
        }
      ]
    },
    {
      "cell_type": "markdown",
      "source": [
        "# เวลาทั้งหมดในการรัน"
      ],
      "metadata": {
        "id": "_zhlMnVr3Gy3"
      }
    },
    {
      "cell_type": "markdown",
      "source": [
        "## second "
      ],
      "metadata": {
        "id": "T1nA7nW1Sa3a"
      }
    },
    {
      "cell_type": "code",
      "source": [
        "data_t_sec = {'Method':['MEAN','Miss Forest','KNN','MICE-LR','MICE-SVM','EM'],'10%':[t10_MEAN,t10_MF,t10_KNN,t10_LR,t10_SVM,t10_EM],\n",
        "      '20%':[t20_MEAN,t20_MF,t20_KNN,t20_LR,t20_SVM,t20_EM],'30%':[t30_MEAN,t30_MF,t30_KNN,t30_LR,t30_SVM,t30_EM],'40%':[t40_MEAN,t40_MF,t40_KNN,t40_LR,t40_SVM,t40_EM],\n",
        "      '50%':[t50_MEAN,t50_MF,t50_KNN,t50_LR,t50_SVM,t50_EM],'60%':[t60_MEAN,t60_MF,t60_KNN,t60_LR,t60_SVM,t60_EM]}"
      ],
      "metadata": {
        "id": "nDAaW3BTp9dK"
      },
      "execution_count": 113,
      "outputs": []
    },
    {
      "cell_type": "code",
      "source": [
        "data_second = pd.DataFrame.from_dict(data_t_sec)\n",
        "data_second"
      ],
      "metadata": {
        "colab": {
          "base_uri": "https://localhost:8080/",
          "height": 237
        },
        "id": "sXKLG_XAr_8U",
        "outputId": "22b4c13f-01fb-45e1-f54f-c87446f42e7a"
      },
      "execution_count": 114,
      "outputs": [
        {
          "output_type": "execute_result",
          "data": {
            "text/plain": [
              "        Method         10%         20%         30%         40%         50%  \\\n",
              "0         MEAN    3.878519    3.996482    4.376721    4.162577    4.017060   \n",
              "1  Miss Forest  705.317540  699.256074  707.461816  690.173945  678.117614   \n",
              "2          KNN    4.977095    4.964570    5.267459    5.236624    8.826624   \n",
              "3      MICE-LR   56.992903   60.489444   58.770725   56.144807   56.571422   \n",
              "4     MICE-SVM  118.228019  123.976384  120.327806  120.375727  119.083922   \n",
              "5           EM    6.195721   12.324701   17.708438   23.059941   28.158552   \n",
              "\n",
              "          60%  \n",
              "0    4.144574  \n",
              "1  672.946895  \n",
              "2    8.628359  \n",
              "3   56.780871  \n",
              "4  120.396756  \n",
              "5   31.720716  "
            ],
            "text/html": [
              "\n",
              "  <div id=\"df-214b018e-4b99-4416-a38a-d896bdee6c09\">\n",
              "    <div class=\"colab-df-container\">\n",
              "      <div>\n",
              "<style scoped>\n",
              "    .dataframe tbody tr th:only-of-type {\n",
              "        vertical-align: middle;\n",
              "    }\n",
              "\n",
              "    .dataframe tbody tr th {\n",
              "        vertical-align: top;\n",
              "    }\n",
              "\n",
              "    .dataframe thead th {\n",
              "        text-align: right;\n",
              "    }\n",
              "</style>\n",
              "<table border=\"1\" class=\"dataframe\">\n",
              "  <thead>\n",
              "    <tr style=\"text-align: right;\">\n",
              "      <th></th>\n",
              "      <th>Method</th>\n",
              "      <th>10%</th>\n",
              "      <th>20%</th>\n",
              "      <th>30%</th>\n",
              "      <th>40%</th>\n",
              "      <th>50%</th>\n",
              "      <th>60%</th>\n",
              "    </tr>\n",
              "  </thead>\n",
              "  <tbody>\n",
              "    <tr>\n",
              "      <th>0</th>\n",
              "      <td>MEAN</td>\n",
              "      <td>3.878519</td>\n",
              "      <td>3.996482</td>\n",
              "      <td>4.376721</td>\n",
              "      <td>4.162577</td>\n",
              "      <td>4.017060</td>\n",
              "      <td>4.144574</td>\n",
              "    </tr>\n",
              "    <tr>\n",
              "      <th>1</th>\n",
              "      <td>Miss Forest</td>\n",
              "      <td>705.317540</td>\n",
              "      <td>699.256074</td>\n",
              "      <td>707.461816</td>\n",
              "      <td>690.173945</td>\n",
              "      <td>678.117614</td>\n",
              "      <td>672.946895</td>\n",
              "    </tr>\n",
              "    <tr>\n",
              "      <th>2</th>\n",
              "      <td>KNN</td>\n",
              "      <td>4.977095</td>\n",
              "      <td>4.964570</td>\n",
              "      <td>5.267459</td>\n",
              "      <td>5.236624</td>\n",
              "      <td>8.826624</td>\n",
              "      <td>8.628359</td>\n",
              "    </tr>\n",
              "    <tr>\n",
              "      <th>3</th>\n",
              "      <td>MICE-LR</td>\n",
              "      <td>56.992903</td>\n",
              "      <td>60.489444</td>\n",
              "      <td>58.770725</td>\n",
              "      <td>56.144807</td>\n",
              "      <td>56.571422</td>\n",
              "      <td>56.780871</td>\n",
              "    </tr>\n",
              "    <tr>\n",
              "      <th>4</th>\n",
              "      <td>MICE-SVM</td>\n",
              "      <td>118.228019</td>\n",
              "      <td>123.976384</td>\n",
              "      <td>120.327806</td>\n",
              "      <td>120.375727</td>\n",
              "      <td>119.083922</td>\n",
              "      <td>120.396756</td>\n",
              "    </tr>\n",
              "    <tr>\n",
              "      <th>5</th>\n",
              "      <td>EM</td>\n",
              "      <td>6.195721</td>\n",
              "      <td>12.324701</td>\n",
              "      <td>17.708438</td>\n",
              "      <td>23.059941</td>\n",
              "      <td>28.158552</td>\n",
              "      <td>31.720716</td>\n",
              "    </tr>\n",
              "  </tbody>\n",
              "</table>\n",
              "</div>\n",
              "      <button class=\"colab-df-convert\" onclick=\"convertToInteractive('df-214b018e-4b99-4416-a38a-d896bdee6c09')\"\n",
              "              title=\"Convert this dataframe to an interactive table.\"\n",
              "              style=\"display:none;\">\n",
              "        \n",
              "  <svg xmlns=\"http://www.w3.org/2000/svg\" height=\"24px\"viewBox=\"0 0 24 24\"\n",
              "       width=\"24px\">\n",
              "    <path d=\"M0 0h24v24H0V0z\" fill=\"none\"/>\n",
              "    <path d=\"M18.56 5.44l.94 2.06.94-2.06 2.06-.94-2.06-.94-.94-2.06-.94 2.06-2.06.94zm-11 1L8.5 8.5l.94-2.06 2.06-.94-2.06-.94L8.5 2.5l-.94 2.06-2.06.94zm10 10l.94 2.06.94-2.06 2.06-.94-2.06-.94-.94-2.06-.94 2.06-2.06.94z\"/><path d=\"M17.41 7.96l-1.37-1.37c-.4-.4-.92-.59-1.43-.59-.52 0-1.04.2-1.43.59L10.3 9.45l-7.72 7.72c-.78.78-.78 2.05 0 2.83L4 21.41c.39.39.9.59 1.41.59.51 0 1.02-.2 1.41-.59l7.78-7.78 2.81-2.81c.8-.78.8-2.07 0-2.86zM5.41 20L4 18.59l7.72-7.72 1.47 1.35L5.41 20z\"/>\n",
              "  </svg>\n",
              "      </button>\n",
              "      \n",
              "  <style>\n",
              "    .colab-df-container {\n",
              "      display:flex;\n",
              "      flex-wrap:wrap;\n",
              "      gap: 12px;\n",
              "    }\n",
              "\n",
              "    .colab-df-convert {\n",
              "      background-color: #E8F0FE;\n",
              "      border: none;\n",
              "      border-radius: 50%;\n",
              "      cursor: pointer;\n",
              "      display: none;\n",
              "      fill: #1967D2;\n",
              "      height: 32px;\n",
              "      padding: 0 0 0 0;\n",
              "      width: 32px;\n",
              "    }\n",
              "\n",
              "    .colab-df-convert:hover {\n",
              "      background-color: #E2EBFA;\n",
              "      box-shadow: 0px 1px 2px rgba(60, 64, 67, 0.3), 0px 1px 3px 1px rgba(60, 64, 67, 0.15);\n",
              "      fill: #174EA6;\n",
              "    }\n",
              "\n",
              "    [theme=dark] .colab-df-convert {\n",
              "      background-color: #3B4455;\n",
              "      fill: #D2E3FC;\n",
              "    }\n",
              "\n",
              "    [theme=dark] .colab-df-convert:hover {\n",
              "      background-color: #434B5C;\n",
              "      box-shadow: 0px 1px 3px 1px rgba(0, 0, 0, 0.15);\n",
              "      filter: drop-shadow(0px 1px 2px rgba(0, 0, 0, 0.3));\n",
              "      fill: #FFFFFF;\n",
              "    }\n",
              "  </style>\n",
              "\n",
              "      <script>\n",
              "        const buttonEl =\n",
              "          document.querySelector('#df-214b018e-4b99-4416-a38a-d896bdee6c09 button.colab-df-convert');\n",
              "        buttonEl.style.display =\n",
              "          google.colab.kernel.accessAllowed ? 'block' : 'none';\n",
              "\n",
              "        async function convertToInteractive(key) {\n",
              "          const element = document.querySelector('#df-214b018e-4b99-4416-a38a-d896bdee6c09');\n",
              "          const dataTable =\n",
              "            await google.colab.kernel.invokeFunction('convertToInteractive',\n",
              "                                                     [key], {});\n",
              "          if (!dataTable) return;\n",
              "\n",
              "          const docLinkHtml = 'Like what you see? Visit the ' +\n",
              "            '<a target=\"_blank\" href=https://colab.research.google.com/notebooks/data_table.ipynb>data table notebook</a>'\n",
              "            + ' to learn more about interactive tables.';\n",
              "          element.innerHTML = '';\n",
              "          dataTable['output_type'] = 'display_data';\n",
              "          await google.colab.output.renderOutput(dataTable, element);\n",
              "          const docLink = document.createElement('div');\n",
              "          docLink.innerHTML = docLinkHtml;\n",
              "          element.appendChild(docLink);\n",
              "        }\n",
              "      </script>\n",
              "    </div>\n",
              "  </div>\n",
              "  "
            ]
          },
          "metadata": {},
          "execution_count": 114
        }
      ]
    },
    {
      "cell_type": "markdown",
      "source": [
        "## minutes"
      ],
      "metadata": {
        "id": "1dgvYfG7buFl"
      }
    },
    {
      "cell_type": "code",
      "source": [
        "data_t_min = {'Method':['MEAN','Miss Forest','KNN','MICE-LR','MICE-SVM','EM'],'10%':[t10_MEAN/60,t10_MF/60,t10_KNN/60,t10_LR/60,t10_SVM/60,t10_EM/60],\n",
        "      '20%':[t20_MEAN/60,t20_MF/60,t20_KNN/60,t20_LR/60,t20_SVM/60,t20_EM/60],'30%':[t30_MEAN/60,t30_MF/60,t30_KNN/60,t30_LR/60,t30_SVM/60,t30_EM/60]\n",
        "      ,'40%':[t40_MEAN/60,t40_MF/60,t40_KNN/60,t40_LR/60,t40_SVM/60,t40_EM/60],'50%':[t50_MEAN/60,t50_MF/60,t50_KNN/60,t50_LR/60,t50_SVM/60,t50_EM/60],\n",
        "      '60%':[t60_MEAN/60,t60_MF/60,t60_KNN/60,t60_LR/60,t60_SVM/60,t60_EM/60]}"
      ],
      "metadata": {
        "id": "IAW-_u76bKX2"
      },
      "execution_count": 115,
      "outputs": []
    },
    {
      "cell_type": "code",
      "source": [
        "data_minutes = pd.DataFrame.from_dict(data_t_min)\n",
        "data_minutes"
      ],
      "metadata": {
        "colab": {
          "base_uri": "https://localhost:8080/",
          "height": 237
        },
        "id": "RfrWwD6fbimt",
        "outputId": "f01b36ef-d642-46f8-a93a-89ecb37adccf"
      },
      "execution_count": 116,
      "outputs": [
        {
          "output_type": "execute_result",
          "data": {
            "text/plain": [
              "        Method        10%        20%        30%        40%        50%  \\\n",
              "0         MEAN   0.064642   0.066608   0.072945   0.069376   0.066951   \n",
              "1  Miss Forest  11.755292  11.654268  11.791030  11.502899  11.301960   \n",
              "2          KNN   0.082952   0.082743   0.087791   0.087277   0.147110   \n",
              "3      MICE-LR   0.949882   1.008157   0.979512   0.935747   0.942857   \n",
              "4     MICE-SVM   1.970467   2.066273   2.005463   2.006262   1.984732   \n",
              "5           EM   0.103262   0.205412   0.295141   0.384332   0.469309   \n",
              "\n",
              "         60%  \n",
              "0   0.069076  \n",
              "1  11.215782  \n",
              "2   0.143806  \n",
              "3   0.946348  \n",
              "4   2.006613  \n",
              "5   0.528679  "
            ],
            "text/html": [
              "\n",
              "  <div id=\"df-db07512e-0ece-435e-9fe4-d1d1f03a73e4\">\n",
              "    <div class=\"colab-df-container\">\n",
              "      <div>\n",
              "<style scoped>\n",
              "    .dataframe tbody tr th:only-of-type {\n",
              "        vertical-align: middle;\n",
              "    }\n",
              "\n",
              "    .dataframe tbody tr th {\n",
              "        vertical-align: top;\n",
              "    }\n",
              "\n",
              "    .dataframe thead th {\n",
              "        text-align: right;\n",
              "    }\n",
              "</style>\n",
              "<table border=\"1\" class=\"dataframe\">\n",
              "  <thead>\n",
              "    <tr style=\"text-align: right;\">\n",
              "      <th></th>\n",
              "      <th>Method</th>\n",
              "      <th>10%</th>\n",
              "      <th>20%</th>\n",
              "      <th>30%</th>\n",
              "      <th>40%</th>\n",
              "      <th>50%</th>\n",
              "      <th>60%</th>\n",
              "    </tr>\n",
              "  </thead>\n",
              "  <tbody>\n",
              "    <tr>\n",
              "      <th>0</th>\n",
              "      <td>MEAN</td>\n",
              "      <td>0.064642</td>\n",
              "      <td>0.066608</td>\n",
              "      <td>0.072945</td>\n",
              "      <td>0.069376</td>\n",
              "      <td>0.066951</td>\n",
              "      <td>0.069076</td>\n",
              "    </tr>\n",
              "    <tr>\n",
              "      <th>1</th>\n",
              "      <td>Miss Forest</td>\n",
              "      <td>11.755292</td>\n",
              "      <td>11.654268</td>\n",
              "      <td>11.791030</td>\n",
              "      <td>11.502899</td>\n",
              "      <td>11.301960</td>\n",
              "      <td>11.215782</td>\n",
              "    </tr>\n",
              "    <tr>\n",
              "      <th>2</th>\n",
              "      <td>KNN</td>\n",
              "      <td>0.082952</td>\n",
              "      <td>0.082743</td>\n",
              "      <td>0.087791</td>\n",
              "      <td>0.087277</td>\n",
              "      <td>0.147110</td>\n",
              "      <td>0.143806</td>\n",
              "    </tr>\n",
              "    <tr>\n",
              "      <th>3</th>\n",
              "      <td>MICE-LR</td>\n",
              "      <td>0.949882</td>\n",
              "      <td>1.008157</td>\n",
              "      <td>0.979512</td>\n",
              "      <td>0.935747</td>\n",
              "      <td>0.942857</td>\n",
              "      <td>0.946348</td>\n",
              "    </tr>\n",
              "    <tr>\n",
              "      <th>4</th>\n",
              "      <td>MICE-SVM</td>\n",
              "      <td>1.970467</td>\n",
              "      <td>2.066273</td>\n",
              "      <td>2.005463</td>\n",
              "      <td>2.006262</td>\n",
              "      <td>1.984732</td>\n",
              "      <td>2.006613</td>\n",
              "    </tr>\n",
              "    <tr>\n",
              "      <th>5</th>\n",
              "      <td>EM</td>\n",
              "      <td>0.103262</td>\n",
              "      <td>0.205412</td>\n",
              "      <td>0.295141</td>\n",
              "      <td>0.384332</td>\n",
              "      <td>0.469309</td>\n",
              "      <td>0.528679</td>\n",
              "    </tr>\n",
              "  </tbody>\n",
              "</table>\n",
              "</div>\n",
              "      <button class=\"colab-df-convert\" onclick=\"convertToInteractive('df-db07512e-0ece-435e-9fe4-d1d1f03a73e4')\"\n",
              "              title=\"Convert this dataframe to an interactive table.\"\n",
              "              style=\"display:none;\">\n",
              "        \n",
              "  <svg xmlns=\"http://www.w3.org/2000/svg\" height=\"24px\"viewBox=\"0 0 24 24\"\n",
              "       width=\"24px\">\n",
              "    <path d=\"M0 0h24v24H0V0z\" fill=\"none\"/>\n",
              "    <path d=\"M18.56 5.44l.94 2.06.94-2.06 2.06-.94-2.06-.94-.94-2.06-.94 2.06-2.06.94zm-11 1L8.5 8.5l.94-2.06 2.06-.94-2.06-.94L8.5 2.5l-.94 2.06-2.06.94zm10 10l.94 2.06.94-2.06 2.06-.94-2.06-.94-.94-2.06-.94 2.06-2.06.94z\"/><path d=\"M17.41 7.96l-1.37-1.37c-.4-.4-.92-.59-1.43-.59-.52 0-1.04.2-1.43.59L10.3 9.45l-7.72 7.72c-.78.78-.78 2.05 0 2.83L4 21.41c.39.39.9.59 1.41.59.51 0 1.02-.2 1.41-.59l7.78-7.78 2.81-2.81c.8-.78.8-2.07 0-2.86zM5.41 20L4 18.59l7.72-7.72 1.47 1.35L5.41 20z\"/>\n",
              "  </svg>\n",
              "      </button>\n",
              "      \n",
              "  <style>\n",
              "    .colab-df-container {\n",
              "      display:flex;\n",
              "      flex-wrap:wrap;\n",
              "      gap: 12px;\n",
              "    }\n",
              "\n",
              "    .colab-df-convert {\n",
              "      background-color: #E8F0FE;\n",
              "      border: none;\n",
              "      border-radius: 50%;\n",
              "      cursor: pointer;\n",
              "      display: none;\n",
              "      fill: #1967D2;\n",
              "      height: 32px;\n",
              "      padding: 0 0 0 0;\n",
              "      width: 32px;\n",
              "    }\n",
              "\n",
              "    .colab-df-convert:hover {\n",
              "      background-color: #E2EBFA;\n",
              "      box-shadow: 0px 1px 2px rgba(60, 64, 67, 0.3), 0px 1px 3px 1px rgba(60, 64, 67, 0.15);\n",
              "      fill: #174EA6;\n",
              "    }\n",
              "\n",
              "    [theme=dark] .colab-df-convert {\n",
              "      background-color: #3B4455;\n",
              "      fill: #D2E3FC;\n",
              "    }\n",
              "\n",
              "    [theme=dark] .colab-df-convert:hover {\n",
              "      background-color: #434B5C;\n",
              "      box-shadow: 0px 1px 3px 1px rgba(0, 0, 0, 0.15);\n",
              "      filter: drop-shadow(0px 1px 2px rgba(0, 0, 0, 0.3));\n",
              "      fill: #FFFFFF;\n",
              "    }\n",
              "  </style>\n",
              "\n",
              "      <script>\n",
              "        const buttonEl =\n",
              "          document.querySelector('#df-db07512e-0ece-435e-9fe4-d1d1f03a73e4 button.colab-df-convert');\n",
              "        buttonEl.style.display =\n",
              "          google.colab.kernel.accessAllowed ? 'block' : 'none';\n",
              "\n",
              "        async function convertToInteractive(key) {\n",
              "          const element = document.querySelector('#df-db07512e-0ece-435e-9fe4-d1d1f03a73e4');\n",
              "          const dataTable =\n",
              "            await google.colab.kernel.invokeFunction('convertToInteractive',\n",
              "                                                     [key], {});\n",
              "          if (!dataTable) return;\n",
              "\n",
              "          const docLinkHtml = 'Like what you see? Visit the ' +\n",
              "            '<a target=\"_blank\" href=https://colab.research.google.com/notebooks/data_table.ipynb>data table notebook</a>'\n",
              "            + ' to learn more about interactive tables.';\n",
              "          element.innerHTML = '';\n",
              "          dataTable['output_type'] = 'display_data';\n",
              "          await google.colab.output.renderOutput(dataTable, element);\n",
              "          const docLink = document.createElement('div');\n",
              "          docLink.innerHTML = docLinkHtml;\n",
              "          element.appendChild(docLink);\n",
              "        }\n",
              "      </script>\n",
              "    </div>\n",
              "  </div>\n",
              "  "
            ]
          },
          "metadata": {},
          "execution_count": 116
        }
      ]
    }
  ]
}