{
  "cells": [
    {
      "cell_type": "markdown",
      "metadata": {
        "id": "view-in-github",
        "colab_type": "text"
      },
      "source": [
        "<a href=\"https://colab.research.google.com/github/BooEiEi/project/blob/main/013_Alkaline_Phos.ipynb\" target=\"_parent\"><img src=\"https://colab.research.google.com/assets/colab-badge.svg\" alt=\"Open In Colab\"/></a>"
      ]
    },
    {
      "cell_type": "code",
      "execution_count": 1,
      "metadata": {
        "colab": {
          "base_uri": "https://localhost:8080/"
        },
        "id": "XugUwkQYFrW9",
        "outputId": "185e2060-a58d-4d3a-acbb-2e6335bcd2db"
      },
      "outputs": [
        {
          "output_type": "stream",
          "name": "stdout",
          "text": [
            "Mounted at /content/drive\n"
          ]
        }
      ],
      "source": [
        "import pandas as pd #นำเข้า pandas แทนที่ด้วย pd\n",
        "import os# os ใช้จัดการกับไฟล์ ว่าอยู่ที่ไหน\n",
        "import numpy as np\n",
        "import seaborn as sns\n",
        "import matplotlib.pyplot as plt\n",
        "from google.colab import drive #นำเข้าข้อมูลจาก drive\n",
        "drive.mount('/content/drive')\n",
        "path = '/content/drive/My Drive/project'# ชี้ dirve ที่เราต้องการ\n",
        "import missingno as mno\n",
        "import missingno as msno\n",
        "from sklearn import linear_model\n",
        "%matplotlib inline\n",
        "import matplotlib\n",
        "import sklearn \n",
        "from sklearn.impute import KNNImputer\n",
        "from sklearn.metrics import mean_squared_error\n",
        "import time"
      ]
    },
    {
      "cell_type": "code",
      "execution_count": 2,
      "metadata": {
        "colab": {
          "base_uri": "https://localhost:8080/",
          "height": 505
        },
        "id": "72kY0rKzFvd9",
        "outputId": "de831e41-4eb2-4d2a-f92b-bd703e4b9a5b"
      },
      "outputs": [
        {
          "output_type": "execute_result",
          "data": {
            "text/plain": [
              "     Sex  AgeSYear  Weight  Height   BMI  Systolic  Diastolic  HeartRate  \\\n",
              "0      2      57.0    47.4   153.0  20.2     114.0       75.0       69.0   \n",
              "1      2      24.0    53.2   157.0  21.6     103.0       69.0       78.0   \n",
              "2      2      62.0    54.4   165.0  20.0      95.0       75.0       83.0   \n",
              "3      2      35.0    56.3   161.0  21.7      95.0       57.0       72.0   \n",
              "4      1      46.0    72.3   170.0  25.0     133.0       77.0      107.0   \n",
              "..   ...       ...     ...     ...   ...       ...        ...        ...   \n",
              "148    1      60.0    72.0   170.0  24.9     131.0       74.0       69.0   \n",
              "149    1      58.0    62.0   168.0  22.0     103.0       76.0       72.0   \n",
              "150    2      42.0    55.5   165.0  20.4     102.0       52.0       77.0   \n",
              "151    2      61.0    61.8   159.0  24.4     117.0       60.0       72.0   \n",
              "152    2      31.0    58.2   169.0  20.4     108.0       69.0       73.0   \n",
              "\n",
              "      SMM  Fat Mass  ...  003_Creatinine  004_Uric Acid  005_Cholesterol  \\\n",
              "0    19.3      12.5  ...             1.0            5.0            176.0   \n",
              "1    21.3      14.6  ...             0.8            5.2            159.0   \n",
              "2    21.6      15.2  ...             0.7            4.1            230.0   \n",
              "3    22.5      15.4  ...             0.6            5.0            198.0   \n",
              "4    29.2      19.0  ...             0.9            6.9            194.0   \n",
              "..    ...       ...  ...             ...            ...              ...   \n",
              "148  30.5      13.8  ...             0.9            6.9            182.0   \n",
              "149  27.8      11.9  ...             1.0            6.8            191.0   \n",
              "150  22.9      14.1  ...             0.8            4.7            212.0   \n",
              "151  23.4      19.2  ...             0.8            5.1            235.0   \n",
              "152  25.0      13.0  ...             0.7            4.3            200.0   \n",
              "\n",
              "     006_Triglyceride  008_HDL-C  009_LDL  010_AST  012_ALT  \\\n",
              "0                51.0       72.0     94.0     16.0     16.0   \n",
              "1                45.0       52.0     98.0     13.0     17.0   \n",
              "2                94.0       61.0    151.0     18.0     31.0   \n",
              "3                47.0       68.0    120.0     16.0     20.0   \n",
              "4                63.0       60.0    122.0     15.0     19.0   \n",
              "..                ...        ...      ...      ...      ...   \n",
              "148             179.0       39.0    107.0     36.0     31.0   \n",
              "149              62.0       47.0    132.0     16.0     33.0   \n",
              "150              68.0       63.0    135.0     11.0     16.0   \n",
              "151              66.0       56.0    166.0     15.0     23.0   \n",
              "152              44.0       56.0    135.0     14.0     21.0   \n",
              "\n",
              "     013_Alkaline Phos  071_HbA1c  \n",
              "0                 62.0        5.1  \n",
              "1                 50.0        5.4  \n",
              "2                 76.0        5.6  \n",
              "3                 35.0        5.1  \n",
              "4                 69.0        5.2  \n",
              "..                 ...        ...  \n",
              "148               79.0        6.5  \n",
              "149               42.0        6.8  \n",
              "150               33.0        4.8  \n",
              "151               44.0        5.4  \n",
              "152               31.0        4.7  \n",
              "\n",
              "[153 rows x 26 columns]"
            ],
            "text/html": [
              "\n",
              "  <div id=\"df-cd89d3c6-45e9-4f6d-b8b4-17817001ccfe\">\n",
              "    <div class=\"colab-df-container\">\n",
              "      <div>\n",
              "<style scoped>\n",
              "    .dataframe tbody tr th:only-of-type {\n",
              "        vertical-align: middle;\n",
              "    }\n",
              "\n",
              "    .dataframe tbody tr th {\n",
              "        vertical-align: top;\n",
              "    }\n",
              "\n",
              "    .dataframe thead th {\n",
              "        text-align: right;\n",
              "    }\n",
              "</style>\n",
              "<table border=\"1\" class=\"dataframe\">\n",
              "  <thead>\n",
              "    <tr style=\"text-align: right;\">\n",
              "      <th></th>\n",
              "      <th>Sex</th>\n",
              "      <th>AgeSYear</th>\n",
              "      <th>Weight</th>\n",
              "      <th>Height</th>\n",
              "      <th>BMI</th>\n",
              "      <th>Systolic</th>\n",
              "      <th>Diastolic</th>\n",
              "      <th>HeartRate</th>\n",
              "      <th>SMM</th>\n",
              "      <th>Fat Mass</th>\n",
              "      <th>...</th>\n",
              "      <th>003_Creatinine</th>\n",
              "      <th>004_Uric Acid</th>\n",
              "      <th>005_Cholesterol</th>\n",
              "      <th>006_Triglyceride</th>\n",
              "      <th>008_HDL-C</th>\n",
              "      <th>009_LDL</th>\n",
              "      <th>010_AST</th>\n",
              "      <th>012_ALT</th>\n",
              "      <th>013_Alkaline Phos</th>\n",
              "      <th>071_HbA1c</th>\n",
              "    </tr>\n",
              "  </thead>\n",
              "  <tbody>\n",
              "    <tr>\n",
              "      <th>0</th>\n",
              "      <td>2</td>\n",
              "      <td>57.0</td>\n",
              "      <td>47.4</td>\n",
              "      <td>153.0</td>\n",
              "      <td>20.2</td>\n",
              "      <td>114.0</td>\n",
              "      <td>75.0</td>\n",
              "      <td>69.0</td>\n",
              "      <td>19.3</td>\n",
              "      <td>12.5</td>\n",
              "      <td>...</td>\n",
              "      <td>1.0</td>\n",
              "      <td>5.0</td>\n",
              "      <td>176.0</td>\n",
              "      <td>51.0</td>\n",
              "      <td>72.0</td>\n",
              "      <td>94.0</td>\n",
              "      <td>16.0</td>\n",
              "      <td>16.0</td>\n",
              "      <td>62.0</td>\n",
              "      <td>5.1</td>\n",
              "    </tr>\n",
              "    <tr>\n",
              "      <th>1</th>\n",
              "      <td>2</td>\n",
              "      <td>24.0</td>\n",
              "      <td>53.2</td>\n",
              "      <td>157.0</td>\n",
              "      <td>21.6</td>\n",
              "      <td>103.0</td>\n",
              "      <td>69.0</td>\n",
              "      <td>78.0</td>\n",
              "      <td>21.3</td>\n",
              "      <td>14.6</td>\n",
              "      <td>...</td>\n",
              "      <td>0.8</td>\n",
              "      <td>5.2</td>\n",
              "      <td>159.0</td>\n",
              "      <td>45.0</td>\n",
              "      <td>52.0</td>\n",
              "      <td>98.0</td>\n",
              "      <td>13.0</td>\n",
              "      <td>17.0</td>\n",
              "      <td>50.0</td>\n",
              "      <td>5.4</td>\n",
              "    </tr>\n",
              "    <tr>\n",
              "      <th>2</th>\n",
              "      <td>2</td>\n",
              "      <td>62.0</td>\n",
              "      <td>54.4</td>\n",
              "      <td>165.0</td>\n",
              "      <td>20.0</td>\n",
              "      <td>95.0</td>\n",
              "      <td>75.0</td>\n",
              "      <td>83.0</td>\n",
              "      <td>21.6</td>\n",
              "      <td>15.2</td>\n",
              "      <td>...</td>\n",
              "      <td>0.7</td>\n",
              "      <td>4.1</td>\n",
              "      <td>230.0</td>\n",
              "      <td>94.0</td>\n",
              "      <td>61.0</td>\n",
              "      <td>151.0</td>\n",
              "      <td>18.0</td>\n",
              "      <td>31.0</td>\n",
              "      <td>76.0</td>\n",
              "      <td>5.6</td>\n",
              "    </tr>\n",
              "    <tr>\n",
              "      <th>3</th>\n",
              "      <td>2</td>\n",
              "      <td>35.0</td>\n",
              "      <td>56.3</td>\n",
              "      <td>161.0</td>\n",
              "      <td>21.7</td>\n",
              "      <td>95.0</td>\n",
              "      <td>57.0</td>\n",
              "      <td>72.0</td>\n",
              "      <td>22.5</td>\n",
              "      <td>15.4</td>\n",
              "      <td>...</td>\n",
              "      <td>0.6</td>\n",
              "      <td>5.0</td>\n",
              "      <td>198.0</td>\n",
              "      <td>47.0</td>\n",
              "      <td>68.0</td>\n",
              "      <td>120.0</td>\n",
              "      <td>16.0</td>\n",
              "      <td>20.0</td>\n",
              "      <td>35.0</td>\n",
              "      <td>5.1</td>\n",
              "    </tr>\n",
              "    <tr>\n",
              "      <th>4</th>\n",
              "      <td>1</td>\n",
              "      <td>46.0</td>\n",
              "      <td>72.3</td>\n",
              "      <td>170.0</td>\n",
              "      <td>25.0</td>\n",
              "      <td>133.0</td>\n",
              "      <td>77.0</td>\n",
              "      <td>107.0</td>\n",
              "      <td>29.2</td>\n",
              "      <td>19.0</td>\n",
              "      <td>...</td>\n",
              "      <td>0.9</td>\n",
              "      <td>6.9</td>\n",
              "      <td>194.0</td>\n",
              "      <td>63.0</td>\n",
              "      <td>60.0</td>\n",
              "      <td>122.0</td>\n",
              "      <td>15.0</td>\n",
              "      <td>19.0</td>\n",
              "      <td>69.0</td>\n",
              "      <td>5.2</td>\n",
              "    </tr>\n",
              "    <tr>\n",
              "      <th>...</th>\n",
              "      <td>...</td>\n",
              "      <td>...</td>\n",
              "      <td>...</td>\n",
              "      <td>...</td>\n",
              "      <td>...</td>\n",
              "      <td>...</td>\n",
              "      <td>...</td>\n",
              "      <td>...</td>\n",
              "      <td>...</td>\n",
              "      <td>...</td>\n",
              "      <td>...</td>\n",
              "      <td>...</td>\n",
              "      <td>...</td>\n",
              "      <td>...</td>\n",
              "      <td>...</td>\n",
              "      <td>...</td>\n",
              "      <td>...</td>\n",
              "      <td>...</td>\n",
              "      <td>...</td>\n",
              "      <td>...</td>\n",
              "      <td>...</td>\n",
              "    </tr>\n",
              "    <tr>\n",
              "      <th>148</th>\n",
              "      <td>1</td>\n",
              "      <td>60.0</td>\n",
              "      <td>72.0</td>\n",
              "      <td>170.0</td>\n",
              "      <td>24.9</td>\n",
              "      <td>131.0</td>\n",
              "      <td>74.0</td>\n",
              "      <td>69.0</td>\n",
              "      <td>30.5</td>\n",
              "      <td>13.8</td>\n",
              "      <td>...</td>\n",
              "      <td>0.9</td>\n",
              "      <td>6.9</td>\n",
              "      <td>182.0</td>\n",
              "      <td>179.0</td>\n",
              "      <td>39.0</td>\n",
              "      <td>107.0</td>\n",
              "      <td>36.0</td>\n",
              "      <td>31.0</td>\n",
              "      <td>79.0</td>\n",
              "      <td>6.5</td>\n",
              "    </tr>\n",
              "    <tr>\n",
              "      <th>149</th>\n",
              "      <td>1</td>\n",
              "      <td>58.0</td>\n",
              "      <td>62.0</td>\n",
              "      <td>168.0</td>\n",
              "      <td>22.0</td>\n",
              "      <td>103.0</td>\n",
              "      <td>76.0</td>\n",
              "      <td>72.0</td>\n",
              "      <td>27.8</td>\n",
              "      <td>11.9</td>\n",
              "      <td>...</td>\n",
              "      <td>1.0</td>\n",
              "      <td>6.8</td>\n",
              "      <td>191.0</td>\n",
              "      <td>62.0</td>\n",
              "      <td>47.0</td>\n",
              "      <td>132.0</td>\n",
              "      <td>16.0</td>\n",
              "      <td>33.0</td>\n",
              "      <td>42.0</td>\n",
              "      <td>6.8</td>\n",
              "    </tr>\n",
              "    <tr>\n",
              "      <th>150</th>\n",
              "      <td>2</td>\n",
              "      <td>42.0</td>\n",
              "      <td>55.5</td>\n",
              "      <td>165.0</td>\n",
              "      <td>20.4</td>\n",
              "      <td>102.0</td>\n",
              "      <td>52.0</td>\n",
              "      <td>77.0</td>\n",
              "      <td>22.9</td>\n",
              "      <td>14.1</td>\n",
              "      <td>...</td>\n",
              "      <td>0.8</td>\n",
              "      <td>4.7</td>\n",
              "      <td>212.0</td>\n",
              "      <td>68.0</td>\n",
              "      <td>63.0</td>\n",
              "      <td>135.0</td>\n",
              "      <td>11.0</td>\n",
              "      <td>16.0</td>\n",
              "      <td>33.0</td>\n",
              "      <td>4.8</td>\n",
              "    </tr>\n",
              "    <tr>\n",
              "      <th>151</th>\n",
              "      <td>2</td>\n",
              "      <td>61.0</td>\n",
              "      <td>61.8</td>\n",
              "      <td>159.0</td>\n",
              "      <td>24.4</td>\n",
              "      <td>117.0</td>\n",
              "      <td>60.0</td>\n",
              "      <td>72.0</td>\n",
              "      <td>23.4</td>\n",
              "      <td>19.2</td>\n",
              "      <td>...</td>\n",
              "      <td>0.8</td>\n",
              "      <td>5.1</td>\n",
              "      <td>235.0</td>\n",
              "      <td>66.0</td>\n",
              "      <td>56.0</td>\n",
              "      <td>166.0</td>\n",
              "      <td>15.0</td>\n",
              "      <td>23.0</td>\n",
              "      <td>44.0</td>\n",
              "      <td>5.4</td>\n",
              "    </tr>\n",
              "    <tr>\n",
              "      <th>152</th>\n",
              "      <td>2</td>\n",
              "      <td>31.0</td>\n",
              "      <td>58.2</td>\n",
              "      <td>169.0</td>\n",
              "      <td>20.4</td>\n",
              "      <td>108.0</td>\n",
              "      <td>69.0</td>\n",
              "      <td>73.0</td>\n",
              "      <td>25.0</td>\n",
              "      <td>13.0</td>\n",
              "      <td>...</td>\n",
              "      <td>0.7</td>\n",
              "      <td>4.3</td>\n",
              "      <td>200.0</td>\n",
              "      <td>44.0</td>\n",
              "      <td>56.0</td>\n",
              "      <td>135.0</td>\n",
              "      <td>14.0</td>\n",
              "      <td>21.0</td>\n",
              "      <td>31.0</td>\n",
              "      <td>4.7</td>\n",
              "    </tr>\n",
              "  </tbody>\n",
              "</table>\n",
              "<p>153 rows × 26 columns</p>\n",
              "</div>\n",
              "      <button class=\"colab-df-convert\" onclick=\"convertToInteractive('df-cd89d3c6-45e9-4f6d-b8b4-17817001ccfe')\"\n",
              "              title=\"Convert this dataframe to an interactive table.\"\n",
              "              style=\"display:none;\">\n",
              "        \n",
              "  <svg xmlns=\"http://www.w3.org/2000/svg\" height=\"24px\"viewBox=\"0 0 24 24\"\n",
              "       width=\"24px\">\n",
              "    <path d=\"M0 0h24v24H0V0z\" fill=\"none\"/>\n",
              "    <path d=\"M18.56 5.44l.94 2.06.94-2.06 2.06-.94-2.06-.94-.94-2.06-.94 2.06-2.06.94zm-11 1L8.5 8.5l.94-2.06 2.06-.94-2.06-.94L8.5 2.5l-.94 2.06-2.06.94zm10 10l.94 2.06.94-2.06 2.06-.94-2.06-.94-.94-2.06-.94 2.06-2.06.94z\"/><path d=\"M17.41 7.96l-1.37-1.37c-.4-.4-.92-.59-1.43-.59-.52 0-1.04.2-1.43.59L10.3 9.45l-7.72 7.72c-.78.78-.78 2.05 0 2.83L4 21.41c.39.39.9.59 1.41.59.51 0 1.02-.2 1.41-.59l7.78-7.78 2.81-2.81c.8-.78.8-2.07 0-2.86zM5.41 20L4 18.59l7.72-7.72 1.47 1.35L5.41 20z\"/>\n",
              "  </svg>\n",
              "      </button>\n",
              "      \n",
              "  <style>\n",
              "    .colab-df-container {\n",
              "      display:flex;\n",
              "      flex-wrap:wrap;\n",
              "      gap: 12px;\n",
              "    }\n",
              "\n",
              "    .colab-df-convert {\n",
              "      background-color: #E8F0FE;\n",
              "      border: none;\n",
              "      border-radius: 50%;\n",
              "      cursor: pointer;\n",
              "      display: none;\n",
              "      fill: #1967D2;\n",
              "      height: 32px;\n",
              "      padding: 0 0 0 0;\n",
              "      width: 32px;\n",
              "    }\n",
              "\n",
              "    .colab-df-convert:hover {\n",
              "      background-color: #E2EBFA;\n",
              "      box-shadow: 0px 1px 2px rgba(60, 64, 67, 0.3), 0px 1px 3px 1px rgba(60, 64, 67, 0.15);\n",
              "      fill: #174EA6;\n",
              "    }\n",
              "\n",
              "    [theme=dark] .colab-df-convert {\n",
              "      background-color: #3B4455;\n",
              "      fill: #D2E3FC;\n",
              "    }\n",
              "\n",
              "    [theme=dark] .colab-df-convert:hover {\n",
              "      background-color: #434B5C;\n",
              "      box-shadow: 0px 1px 3px 1px rgba(0, 0, 0, 0.15);\n",
              "      filter: drop-shadow(0px 1px 2px rgba(0, 0, 0, 0.3));\n",
              "      fill: #FFFFFF;\n",
              "    }\n",
              "  </style>\n",
              "\n",
              "      <script>\n",
              "        const buttonEl =\n",
              "          document.querySelector('#df-cd89d3c6-45e9-4f6d-b8b4-17817001ccfe button.colab-df-convert');\n",
              "        buttonEl.style.display =\n",
              "          google.colab.kernel.accessAllowed ? 'block' : 'none';\n",
              "\n",
              "        async function convertToInteractive(key) {\n",
              "          const element = document.querySelector('#df-cd89d3c6-45e9-4f6d-b8b4-17817001ccfe');\n",
              "          const dataTable =\n",
              "            await google.colab.kernel.invokeFunction('convertToInteractive',\n",
              "                                                     [key], {});\n",
              "          if (!dataTable) return;\n",
              "\n",
              "          const docLinkHtml = 'Like what you see? Visit the ' +\n",
              "            '<a target=\"_blank\" href=https://colab.research.google.com/notebooks/data_table.ipynb>data table notebook</a>'\n",
              "            + ' to learn more about interactive tables.';\n",
              "          element.innerHTML = '';\n",
              "          dataTable['output_type'] = 'display_data';\n",
              "          await google.colab.output.renderOutput(dataTable, element);\n",
              "          const docLink = document.createElement('div');\n",
              "          docLink.innerHTML = docLinkHtml;\n",
              "          element.appendChild(docLink);\n",
              "        }\n",
              "      </script>\n",
              "    </div>\n",
              "  </div>\n",
              "  "
            ]
          },
          "metadata": {},
          "execution_count": 2
        }
      ],
      "source": [
        "data = pd.read_csv(os.path.join(path, 'DFforCreateNaN.csv'))\n",
        "data = data.drop(['Unnamed: 0'], axis=1)\n",
        "data"
      ]
    },
    {
      "cell_type": "markdown",
      "metadata": {
        "id": "EHnJmrOMt0EC"
      },
      "source": [
        "# 10 % random nan "
      ]
    },
    {
      "cell_type": "code",
      "execution_count": 3,
      "metadata": {
        "id": "fNbz2mXgNkOj"
      },
      "outputs": [],
      "source": [
        "for i in range(1,1001):\n",
        "  globals()[f'Alkaline_Phos1{i}'] = data.copy() # for loop variable name\n",
        "  np.random.seed(i) # for loop seed\n",
        "  n = int((153*10/100)) \n",
        "  index_nan = np.random.choice(globals()[f'Alkaline_Phos1{i}']['013_Alkaline Phos'].size, n, replace=False)\n",
        "  globals()[f'Alkaline_Phos1{i}']['013_Alkaline Phos'].ravel()[index_nan] = np.nan"
      ]
    },
    {
      "cell_type": "markdown",
      "metadata": {
        "id": "YjwJ6-Qb7rt3"
      },
      "source": [
        "## Imputation using Mean"
      ]
    },
    {
      "cell_type": "code",
      "execution_count": 4,
      "metadata": {
        "id": "z2nfqhdh-yXe"
      },
      "outputs": [],
      "source": [
        "from sklearn.impute import SimpleImputer"
      ]
    },
    {
      "cell_type": "code",
      "execution_count": 5,
      "metadata": {
        "id": "zJS_wIka_iTE"
      },
      "outputs": [],
      "source": [
        "t_start = time.time()\n",
        "mean10_imputer = SimpleImputer(strategy='mean')\n",
        "for i in range(1,1001):\n",
        "  globals()[f'imputed_mean10_{i}'] = mean10_imputer.fit_transform(globals()[f'Alkaline_Phos1{i}'].copy()) #for loop miss forest impputation \n",
        "  globals()[f'MSE_MEAN10_{i}'] = mean_squared_error(data, globals()[f'imputed_mean10_{i}']) # for loop mean_squared_error\n",
        "t_end = time.time()\n",
        "t10_MEAN= (t_end- t_start)"
      ]
    },
    {
      "cell_type": "code",
      "execution_count": 6,
      "metadata": {
        "colab": {
          "base_uri": "https://localhost:8080/"
        },
        "id": "fpVr60a-_yGy",
        "outputId": "289f2d09-dd85-40e1-97c0-e85c176b589b"
      },
      "outputs": [
        {
          "output_type": "stream",
          "name": "stdout",
          "text": [
            "AMSE_Alkaline_Phos1_mean = 0.899738305521262\n",
            "เวลาที่ใช้ในการประมวลผล 0.0007956027984619141 วินาที\n",
            "เวลาที่ใช้ในการประมวลผล 1.3260046641031901e-05 นาที\n"
          ]
        }
      ],
      "source": [
        "t_start = time.time()\n",
        "mse_mean10_total = 0 \n",
        "MSE_MEAN10_1001 = 0\n",
        "for i in range(1,1001):\n",
        "  mse_mean10_total = mse_mean10_total + globals()[f'MSE_MEAN10_{i}']\n",
        "AMSE_Alkaline_Phos1_mean = mse_mean10_total/1000\n",
        "print(f'AMSE_Alkaline_Phos1_mean = {AMSE_Alkaline_Phos1_mean}')\n",
        "t_end = time.time()\n",
        "print(f'เวลาที่ใช้ในการประมวลผล {t_end- t_start} วินาที')\n",
        "print(f'เวลาที่ใช้ในการประมวลผล {(t_end- t_start)/60} นาที')"
      ]
    },
    {
      "cell_type": "markdown",
      "metadata": {
        "id": "yYzw-Hj6Lcd4"
      },
      "source": [
        "## Imputation using the miss forest"
      ]
    },
    {
      "cell_type": "code",
      "execution_count": 7,
      "metadata": {
        "colab": {
          "base_uri": "https://localhost:8080/"
        },
        "id": "LySNylXpbrZY",
        "outputId": "1d0cd73b-1cf7-462c-86a9-915917c84233"
      },
      "outputs": [
        {
          "output_type": "stream",
          "name": "stdout",
          "text": [
            "Looking in indexes: https://pypi.org/simple, https://us-python.pkg.dev/colab-wheels/public/simple/\n",
            "Collecting missingpy\n",
            "  Downloading missingpy-0.2.0-py3-none-any.whl (49 kB)\n",
            "\u001b[?25l\r\u001b[K     |██████▊                         | 10 kB 33.6 MB/s eta 0:00:01\r\u001b[K     |█████████████▍                  | 20 kB 10.1 MB/s eta 0:00:01\r\u001b[K     |████████████████████            | 30 kB 8.6 MB/s eta 0:00:01\r\u001b[K     |██████████████████████████▊     | 40 kB 4.0 MB/s eta 0:00:01\r\u001b[K     |████████████████████████████████| 49 kB 2.9 MB/s \n",
            "\u001b[?25hInstalling collected packages: missingpy\n",
            "Successfully installed missingpy-0.2.0\n"
          ]
        }
      ],
      "source": [
        "import sys\n",
        "import sklearn.neighbors._base\n",
        "sys.modules['sklearn.neighbors.base'] = sklearn.neighbors._base\n",
        "!pip install missingpy\n",
        "import missingpy\n",
        "from missingpy import MissForest\n",
        "from sklearn.metrics import mean_squared_error"
      ]
    },
    {
      "cell_type": "code",
      "execution_count": null,
      "metadata": {
        "id": "jpVrBlWkczgN"
      },
      "outputs": [],
      "source": [
        "t_start = time.time()\n",
        "MF10_imputer = MissForest()\n",
        "for i in range(1,1001):\n",
        "  globals()[f'imputed_mf10_{i}'] = MF10_imputer.fit_transform(globals()[f'Alkaline_Phos1{i}'].copy()) #for loop miss forest impputation \n",
        "  globals()[f'MSE_MF10_{i}'] = mean_squared_error(data, globals()[f'imputed_mf10_{i}']) # for loop mean_squared_error\n",
        "t_end = time.time()\n",
        "t10_MF= (t_end- t_start)"
      ]
    },
    {
      "cell_type": "code",
      "execution_count": 9,
      "metadata": {
        "colab": {
          "base_uri": "https://localhost:8080/"
        },
        "id": "itymgxccG8Yj",
        "outputId": "8a53e857-7143-4143-8551-2bcdb12e0141"
      },
      "outputs": [
        {
          "output_type": "stream",
          "name": "stdout",
          "text": [
            "AMSE_Alkaline_Phos1_mf = 0.8341806830065353\n",
            "เวลาที่ใช้ในการประมวลผล 0.0011947154998779297 วินาที\n",
            "เวลาที่ใช้ในการประมวลผล 1.9911924997965495e-05 นาที\n"
          ]
        }
      ],
      "source": [
        "t_start = time.time()\n",
        "mse_mf10_total = 0 \n",
        "MSE_MF10_1001 = 0\n",
        "for i in range(1,1001):\n",
        "  mse_mf10_total = mse_mf10_total + globals()[f'MSE_MF10_{i}']\n",
        "AMSE_Alkaline_Phos1_mf = mse_mf10_total/1000\n",
        "print(f'AMSE_Alkaline_Phos1_mf = {AMSE_Alkaline_Phos1_mf}')\n",
        "t_end = time.time()\n",
        "print(f'เวลาที่ใช้ในการประมวลผล {t_end- t_start} วินาที')\n",
        "print(f'เวลาที่ใช้ในการประมวลผล {(t_end- t_start)/60} นาที')"
      ]
    },
    {
      "cell_type": "markdown",
      "metadata": {
        "id": "AH3QecnbePSA"
      },
      "source": [
        "## Imputation using the KNN"
      ]
    },
    {
      "cell_type": "code",
      "execution_count": 10,
      "metadata": {
        "id": "PpTM8fjNRgta"
      },
      "outputs": [],
      "source": [
        "from sklearn import neighbors\n",
        "from sklearn.impute import KNNImputer"
      ]
    },
    {
      "cell_type": "code",
      "execution_count": 11,
      "metadata": {
        "id": "0j-UtJFbjj19"
      },
      "outputs": [],
      "source": [
        "t_start = time.time()\n",
        "KNN10_imputer = KNNImputer(n_neighbors = 15)\n",
        "for i in range(1,1001):\n",
        "  globals()[f'imputed_KNN10_{i}'] = KNN10_imputer.fit_transform(globals()[f'Alkaline_Phos1{i}'].copy())\n",
        "  globals()[f'MSE_KNN10_{i}'] = mean_squared_error(data, globals()[f'imputed_KNN10_{i}'])\n",
        "t_end = time.time()\n",
        "t10_KNN= (t_end- t_start)"
      ]
    },
    {
      "cell_type": "code",
      "execution_count": 12,
      "metadata": {
        "colab": {
          "base_uri": "https://localhost:8080/"
        },
        "id": "Y7aDqUh_klXX",
        "outputId": "e76771b3-3379-4cc3-f5d2-c3d7014818fe"
      },
      "outputs": [
        {
          "output_type": "stream",
          "name": "stdout",
          "text": [
            "AMSE_Alkaline_Phos1_knn = 0.8322797799005645\n",
            "เวลาที่ใช้ในการประมวลผล 0.0015692710876464844 วินาที\n",
            "เวลาที่ใช้ในการประมวลผล 2.6154518127441407e-05 นาที\n"
          ]
        }
      ],
      "source": [
        "t_start = time.time()\n",
        "mse_knn10_total = 0 \n",
        "MSE_KNN10_1001 = 0\n",
        "for i in range(1,1001):\n",
        "  mse_knn10_total = mse_knn10_total + globals()[f'MSE_KNN10_{i}']\n",
        "AMSE_Alkaline_Phos1_knn = mse_knn10_total/1000\n",
        "print(f'AMSE_Alkaline_Phos1_knn = {AMSE_Alkaline_Phos1_knn}')\n",
        "t_end = time.time()\n",
        "print(f'เวลาที่ใช้ในการประมวลผล {t_end- t_start} วินาที')\n",
        "print(f'เวลาที่ใช้ในการประมวลผล {(t_end- t_start)/60} นาที')"
      ]
    },
    {
      "cell_type": "markdown",
      "metadata": {
        "id": "bNG85n-5mgJ5"
      },
      "source": [
        "## Imputation using the MICE"
      ]
    },
    {
      "cell_type": "code",
      "execution_count": 13,
      "metadata": {
        "id": "jdG8Wkt5PqYA"
      },
      "outputs": [],
      "source": [
        "from sklearn.experimental import enable_iterative_imputer\n",
        "from sklearn.impute import IterativeImputer\n",
        "from sklearn.linear_model import LinearRegression\n",
        "from sklearn import svm"
      ]
    },
    {
      "cell_type": "markdown",
      "metadata": {
        "id": "KO_irahVV3Ny"
      },
      "source": [
        "### LinearRegression model"
      ]
    },
    {
      "cell_type": "code",
      "execution_count": null,
      "metadata": {
        "id": "ocdE53Z3WGwP"
      },
      "outputs": [],
      "source": [
        "t_start = time.time()\n",
        "lr = LinearRegression()\n",
        "for i in range(1,1001):\n",
        "  imp = IterativeImputer(estimator= lr , max_iter= 10, verbose=2, imputation_order='roman',initial_strategy = 'mean',random_state= i)\n",
        "  globals()[f'imputed_lr10_{i}'] = imp.fit_transform(globals()[f'Alkaline_Phos1{i}'].copy())\n",
        "  globals()[f'MSE_lr10_{i}'] = mean_squared_error(data, globals()[f'imputed_lr10_{i}'])\n",
        "t_end = time.time()\n",
        "t10_LR= (t_end- t_start)"
      ]
    },
    {
      "cell_type": "code",
      "execution_count": 15,
      "metadata": {
        "colab": {
          "base_uri": "https://localhost:8080/"
        },
        "id": "Zv8b8tpgXTqV",
        "outputId": "444b43a1-9734-44c6-d1d9-54960536ab94"
      },
      "outputs": [
        {
          "output_type": "stream",
          "name": "stdout",
          "text": [
            "AMSE_Alkaline_Phos1_lr = 0.9994145765286515\n",
            "เวลาที่ใช้ในการประมวลผล 0.0010349750518798828 วินาที\n",
            "เวลาที่ใช้ในการประมวลผล 1.7249584197998046e-05 นาที\n"
          ]
        }
      ],
      "source": [
        "t_start = time.time()\n",
        "mse_lr10_total = 0 \n",
        "MSE_lr10_1001 = 0\n",
        "for i in range(1,1001):\n",
        "  mse_lr10_total = mse_lr10_total + globals()[f'MSE_lr10_{i}']\n",
        "AMSE_Alkaline_Phos1_lr = mse_lr10_total/1000\n",
        "print(f'AMSE_Alkaline_Phos1_lr = {AMSE_Alkaline_Phos1_lr}')\n",
        "t_end = time.time()\n",
        "print(f'เวลาที่ใช้ในการประมวลผล {t_end- t_start} วินาที')\n",
        "print(f'เวลาที่ใช้ในการประมวลผล {(t_end- t_start)/60} นาที')"
      ]
    },
    {
      "cell_type": "markdown",
      "metadata": {
        "id": "Q_etxqbFV-c-"
      },
      "source": [
        "### Support Vector Machine model"
      ]
    },
    {
      "cell_type": "code",
      "execution_count": null,
      "metadata": {
        "id": "yICe2SxBWDiV"
      },
      "outputs": [],
      "source": [
        "t_start = time.time()\n",
        "regr = svm.SVR()\n",
        "for i in range(1,1001):\n",
        "  svm_svr = IterativeImputer(estimator= regr, max_iter= 10, verbose=2, imputation_order='roman',initial_strategy = 'mean',random_state= i)\n",
        "  globals()[f'imputed_svm10_{i}'] = svm_svr.fit_transform(globals()[f'Alkaline_Phos1{i}'].copy())\n",
        "  globals()[f'MSE_svm10_{i}'] = mean_squared_error(data, globals()[f'imputed_svm10_{i}'])\n",
        "t_end = time.time()\n",
        "t10_SVM= (t_end- t_start)"
      ]
    },
    {
      "cell_type": "code",
      "execution_count": 17,
      "metadata": {
        "colab": {
          "base_uri": "https://localhost:8080/"
        },
        "id": "Kg6Ga9K4XvWz",
        "outputId": "de1c4a94-7549-4f99-b603-9b27fc7c16f4"
      },
      "outputs": [
        {
          "output_type": "stream",
          "name": "stdout",
          "text": [
            "AMSE_Alkaline_Phos1_svm = 0.8614920886933973\n",
            "เวลาที่ใช้ในการประมวลผล 0.0008554458618164062 วินาที\n",
            "เวลาที่ใช้ในการประมวลผล 1.4257431030273437e-05 นาที\n"
          ]
        }
      ],
      "source": [
        "t_start = time.time()\n",
        "mse_svm10_total = 0 \n",
        "MSE_svm10_1001 = 0\n",
        "for i in range(1,1001):\n",
        "  mse_svm10_total = mse_svm10_total + globals()[f'MSE_svm10_{i}']\n",
        "AMSE_Alkaline_Phos1_svm = mse_svm10_total/1000\n",
        "print(f'AMSE_Alkaline_Phos1_svm = {AMSE_Alkaline_Phos1_svm}')\n",
        "t_end = time.time()\n",
        "print(f'เวลาที่ใช้ในการประมวลผล {t_end- t_start} วินาที')\n",
        "print(f'เวลาที่ใช้ในการประมวลผล {(t_end- t_start)/60} นาที')"
      ]
    },
    {
      "cell_type": "markdown",
      "metadata": {
        "id": "CBhCn1dleov0"
      },
      "source": [
        "## Imputation using the EM"
      ]
    },
    {
      "cell_type": "markdown",
      "metadata": {
        "id": "okGFHwzYnBSm"
      },
      "source": [
        "### impy.em"
      ]
    },
    {
      "cell_type": "code",
      "execution_count": 18,
      "metadata": {
        "colab": {
          "base_uri": "https://localhost:8080/"
        },
        "id": "MoYcRZ9unCRN",
        "outputId": "54ba9acc-e32a-4fcf-c767-a2ccab8d360f"
      },
      "outputs": [
        {
          "output_type": "stream",
          "name": "stdout",
          "text": [
            "Looking in indexes: https://pypi.org/simple, https://us-python.pkg.dev/colab-wheels/public/simple/\n",
            "Collecting impyute\n",
            "  Downloading impyute-0.0.8-py2.py3-none-any.whl (31 kB)\n",
            "Requirement already satisfied: scipy in /usr/local/lib/python3.8/dist-packages (from impyute) (1.7.3)\n",
            "Requirement already satisfied: scikit-learn in /usr/local/lib/python3.8/dist-packages (from impyute) (1.0.2)\n",
            "Requirement already satisfied: numpy in /usr/local/lib/python3.8/dist-packages (from impyute) (1.21.6)\n",
            "Requirement already satisfied: threadpoolctl>=2.0.0 in /usr/local/lib/python3.8/dist-packages (from scikit-learn->impyute) (3.1.0)\n",
            "Requirement already satisfied: joblib>=0.11 in /usr/local/lib/python3.8/dist-packages (from scikit-learn->impyute) (1.2.0)\n",
            "Installing collected packages: impyute\n",
            "Successfully installed impyute-0.0.8\n"
          ]
        }
      ],
      "source": [
        "!pip install impyute\n",
        "import impyute as impy"
      ]
    },
    {
      "cell_type": "code",
      "execution_count": 19,
      "metadata": {
        "id": "q8hPK-5WqHua"
      },
      "outputs": [],
      "source": [
        "t_start = time.time()\n",
        "for i in range(1,1001):\n",
        "  globals()[f'imputed_impy10_{i}'] = impy.em(globals()[f'Alkaline_Phos1{i}'].values.copy())\n",
        "  globals()[f'MSE_impy10_{i}'] = mean_squared_error(data, globals()[f'imputed_impy10_{i}'])\n",
        "t_end = time.time()\n",
        "t10_EM= (t_end- t_start)"
      ]
    },
    {
      "cell_type": "code",
      "execution_count": 20,
      "metadata": {
        "colab": {
          "base_uri": "https://localhost:8080/"
        },
        "id": "dxBu9e5fqHZw",
        "outputId": "ce9a7631-0827-4809-9e22-9eb609890db8"
      },
      "outputs": [
        {
          "output_type": "stream",
          "name": "stdout",
          "text": [
            "AMSE_Alkaline_Phos1_impy = 1.6982785729427758\n",
            "เวลาที่ใช้ในการประมวลผล 0.0011057853698730469 วินาที\n",
            "เวลาที่ใช้ในการประมวลผล 1.842975616455078e-05 นาที\n"
          ]
        }
      ],
      "source": [
        "t_start = time.time()\n",
        "mse_impy10_total = 0 \n",
        "MSE_impy10_1001 = 0\n",
        "for i in range(1,1001):\n",
        "  mse_impy10_total = mse_impy10_total + globals()[f'MSE_impy10_{i}']\n",
        "AMSE_Alkaline_Phos1_impy = mse_impy10_total/1000\n",
        "print(f'AMSE_Alkaline_Phos1_impy = {AMSE_Alkaline_Phos1_impy}')\n",
        "t_end = time.time()\n",
        "print(f'เวลาที่ใช้ในการประมวลผล {t_end- t_start} วินาที')\n",
        "print(f'เวลาที่ใช้ในการประมวลผล {(t_end- t_start)/60} นาที')"
      ]
    },
    {
      "cell_type": "markdown",
      "metadata": {
        "id": "nWI5U_wRLKqO"
      },
      "source": [
        "# 20 % random nan "
      ]
    },
    {
      "cell_type": "code",
      "execution_count": 21,
      "metadata": {
        "id": "GPdggkvyNtSY"
      },
      "outputs": [],
      "source": [
        "for i in range(1,1001):\n",
        "  globals()[f'Alkaline_Phos2{i}'] = data.copy() # for loop variable name\n",
        "  np.random.seed(i) # for loop seed\n",
        "  n = int((153*10/100)) \n",
        "  index_nan = np.random.choice(globals()[f'Alkaline_Phos2{i}']['013_Alkaline Phos'].size, n, replace=False)\n",
        "  globals()[f'Alkaline_Phos2{i}']['013_Alkaline Phos'].ravel()[index_nan] = np.nan"
      ]
    },
    {
      "cell_type": "markdown",
      "metadata": {
        "id": "xy1GWM6y9Jtm"
      },
      "source": [
        "## Imputation using Mean"
      ]
    },
    {
      "cell_type": "code",
      "execution_count": 22,
      "metadata": {
        "id": "T1MLAs8s9Hxn"
      },
      "outputs": [],
      "source": [
        "from sklearn.impute import SimpleImputer"
      ]
    },
    {
      "cell_type": "code",
      "execution_count": 23,
      "metadata": {
        "id": "mFAe7adO9LOb"
      },
      "outputs": [],
      "source": [
        "t_start = time.time()\n",
        "mean20_imputer = SimpleImputer(strategy='mean')\n",
        "for i in range(1,1001):\n",
        "  globals()[f'imputed_mean20_{i}'] = mean10_imputer.fit_transform(globals()[f'Alkaline_Phos2{i}'].copy()) #for loop miss forest impputation \n",
        "  globals()[f'MSE_MEAN20_{i}'] = mean_squared_error(data, globals()[f'imputed_mean20_{i}']) # for loop mean_squared_error\n",
        "t_end = time.time()\n",
        "t20_MEAN = (t_end- t_start)"
      ]
    },
    {
      "cell_type": "code",
      "execution_count": 24,
      "metadata": {
        "colab": {
          "base_uri": "https://localhost:8080/"
        },
        "id": "dP3uqjcJ9MTq",
        "outputId": "20178822-d49b-4f5f-88cd-8f7fe71ef6c7"
      },
      "outputs": [
        {
          "output_type": "stream",
          "name": "stdout",
          "text": [
            "AMSE_Alkaline_Phos2_mean = 0.899738305521262\n",
            "เวลาที่ใช้ในการประมวลผล 0.0009114742279052734 วินาที\n",
            "เวลาที่ใช้ในการประมวลผล 1.5191237131754558e-05 นาที\n"
          ]
        }
      ],
      "source": [
        "t_start = time.time()\n",
        "mse_mean20_total = 0 \n",
        "MSE_MEAN20_1001 = 0\n",
        "for i in range(1,1001):\n",
        "  mse_mean20_total = mse_mean20_total + globals()[f'MSE_MEAN20_{i}']\n",
        "AMSE_Alkaline_Phos2_mean = mse_mean20_total/1000\n",
        "print(f'AMSE_Alkaline_Phos2_mean = {AMSE_Alkaline_Phos2_mean}')\n",
        "t_end = time.time()\n",
        "print(f'เวลาที่ใช้ในการประมวลผล {t_end- t_start} วินาที')\n",
        "print(f'เวลาที่ใช้ในการประมวลผล {(t_end- t_start)/60} นาที')"
      ]
    },
    {
      "cell_type": "markdown",
      "metadata": {
        "id": "Hed_Y1mK9Nkz"
      },
      "source": [
        "## Imputation using the miss forest"
      ]
    },
    {
      "cell_type": "code",
      "execution_count": 25,
      "metadata": {
        "colab": {
          "base_uri": "https://localhost:8080/"
        },
        "id": "TiwxOr0j9PK3",
        "outputId": "9299a279-cf79-4c4f-ae99-c65e8057e689"
      },
      "outputs": [
        {
          "output_type": "stream",
          "name": "stdout",
          "text": [
            "Looking in indexes: https://pypi.org/simple, https://us-python.pkg.dev/colab-wheels/public/simple/\n",
            "Requirement already satisfied: missingpy in /usr/local/lib/python3.8/dist-packages (0.2.0)\n"
          ]
        }
      ],
      "source": [
        "import sys\n",
        "import sklearn.neighbors._base\n",
        "sys.modules['sklearn.neighbors.base'] = sklearn.neighbors._base\n",
        "!pip install missingpy\n",
        "import missingpy\n",
        "from missingpy import MissForest\n",
        "from sklearn.metrics import mean_squared_error"
      ]
    },
    {
      "cell_type": "code",
      "execution_count": null,
      "metadata": {
        "id": "ZWaupzuJ9Qhs"
      },
      "outputs": [],
      "source": [
        "t_start = time.time()\n",
        "MF20_imputer = MissForest()\n",
        "for i in range(1,1001):\n",
        "  globals()[f'imputed_mf20_{i}'] = MF20_imputer.fit_transform(globals()[f'Alkaline_Phos2{i}'].copy()) #for loop miss forest impputation \n",
        "  globals()[f'MSE_MF20_{i}'] = mean_squared_error(data, globals()[f'imputed_mf20_{i}']) # for loop mean_squared_error\n",
        "t_end = time.time()\n",
        "t20_MF = (t_end- t_start)"
      ]
    },
    {
      "cell_type": "code",
      "execution_count": 27,
      "metadata": {
        "colab": {
          "base_uri": "https://localhost:8080/"
        },
        "id": "MEm96KRG9Rod",
        "outputId": "8547a022-0ab8-481c-c237-3f51818be8d0"
      },
      "outputs": [
        {
          "output_type": "stream",
          "name": "stdout",
          "text": [
            "AMSE_Alkaline_Phos2_mf = 0.8341806830065353\n",
            "เวลาที่ใช้ในการประมวลผล 0.0010182857513427734 วินาที\n",
            "เวลาที่ใช้ในการประมวลผล 1.6971429189046225e-05 นาที\n"
          ]
        }
      ],
      "source": [
        "t_start = time.time()\n",
        "mse_mf20_total = 0 \n",
        "MSE_MF20_1001 = 0\n",
        "for i in range(1,1001):\n",
        "  mse_mf20_total = mse_mf20_total + globals()[f'MSE_MF20_{i}']\n",
        "AMSE_Alkaline_Phos2_mf = mse_mf20_total/1000\n",
        "print(f'AMSE_Alkaline_Phos2_mf = {AMSE_Alkaline_Phos2_mf}')\n",
        "t_end = time.time()\n",
        "print(f'เวลาที่ใช้ในการประมวลผล {t_end- t_start} วินาที')\n",
        "print(f'เวลาที่ใช้ในการประมวลผล {(t_end- t_start)/60} นาที')"
      ]
    },
    {
      "cell_type": "markdown",
      "metadata": {
        "id": "UfF5vX5Q9S94"
      },
      "source": [
        "## Imputation using the KNN"
      ]
    },
    {
      "cell_type": "code",
      "execution_count": 28,
      "metadata": {
        "id": "AHpkgOPZ9WUf"
      },
      "outputs": [],
      "source": [
        "from sklearn import neighbors\n",
        "from sklearn.impute import KNNImputer"
      ]
    },
    {
      "cell_type": "code",
      "execution_count": 29,
      "metadata": {
        "id": "8kEdzGA39cTD"
      },
      "outputs": [],
      "source": [
        "t_start = time.time()\n",
        "KNN20_imputer = KNNImputer(n_neighbors = 15)\n",
        "for i in range(1,1001):\n",
        "  globals()[f'imputed_KNN20_{i}'] = KNN10_imputer.fit_transform(globals()[f'Alkaline_Phos2{i}'].copy())\n",
        "  globals()[f'MSE_KNN20_{i}'] = mean_squared_error(data, globals()[f'imputed_KNN20_{i}'])\n",
        "t_end = time.time()\n",
        "t20_KNN = (t_end- t_start)"
      ]
    },
    {
      "cell_type": "code",
      "execution_count": 30,
      "metadata": {
        "colab": {
          "base_uri": "https://localhost:8080/"
        },
        "id": "LZgwK6JK9dZR",
        "outputId": "f769d0b6-9d44-4277-d9b8-838febb49392"
      },
      "outputs": [
        {
          "output_type": "stream",
          "name": "stdout",
          "text": [
            "AMSE_Alkaline_Phos2_knn = 0.8322797799005645\n",
            "เวลาที่ใช้ในการประมวลผล 0.0011639595031738281 วินาที\n",
            "เวลาที่ใช้ในการประมวลผล 1.9399325052897134e-05 นาที\n"
          ]
        }
      ],
      "source": [
        "t_start = time.time()\n",
        "mse_knn20_total = 0 \n",
        "MSE_KNN20_1001 = 0\n",
        "for i in range(1,1001):\n",
        "  mse_knn20_total = mse_knn20_total + globals()[f'MSE_KNN20_{i}']\n",
        "AMSE_Alkaline_Phos2_knn = mse_knn20_total/1000\n",
        "print(f'AMSE_Alkaline_Phos2_knn = {AMSE_Alkaline_Phos2_knn}')\n",
        "t_end = time.time()\n",
        "print(f'เวลาที่ใช้ในการประมวลผล {t_end- t_start} วินาที')\n",
        "print(f'เวลาที่ใช้ในการประมวลผล {(t_end- t_start)/60} นาที')"
      ]
    },
    {
      "cell_type": "markdown",
      "metadata": {
        "id": "auJuWiL_9fL3"
      },
      "source": [
        "## Imputation using the MICE"
      ]
    },
    {
      "cell_type": "code",
      "execution_count": 31,
      "metadata": {
        "id": "DauelpXl9h9y"
      },
      "outputs": [],
      "source": [
        "from sklearn.experimental import enable_iterative_imputer\n",
        "from sklearn.impute import IterativeImputer\n",
        "from sklearn.linear_model import LinearRegression\n",
        "from sklearn import svm"
      ]
    },
    {
      "cell_type": "markdown",
      "metadata": {
        "id": "psGn8U449nCL"
      },
      "source": [
        "### LinearRegression model"
      ]
    },
    {
      "cell_type": "code",
      "execution_count": null,
      "metadata": {
        "id": "s9UxTJc29oSm"
      },
      "outputs": [],
      "source": [
        "t_start = time.time()\n",
        "lr = LinearRegression()\n",
        "for i in range(1,1001):\n",
        "  imp20 = IterativeImputer(estimator= lr , max_iter= 10, verbose=2, imputation_order='roman',initial_strategy = 'mean',random_state= i)\n",
        "  globals()[f'imputed_lr20_{i}'] = imp20.fit_transform(globals()[f'Alkaline_Phos2{i}'].copy())\n",
        "  globals()[f'MSE_lr20_{i}'] = mean_squared_error(data, globals()[f'imputed_lr20_{i}'])\n",
        "t_end = time.time()\n",
        "t20_LR = (t_end- t_start)"
      ]
    },
    {
      "cell_type": "code",
      "execution_count": 33,
      "metadata": {
        "colab": {
          "base_uri": "https://localhost:8080/"
        },
        "id": "8a9KhTav9psy",
        "outputId": "ecdf7050-336b-4893-da7f-a606196ae47e"
      },
      "outputs": [
        {
          "output_type": "stream",
          "name": "stdout",
          "text": [
            "AMSE_Alkaline_Phos2_lr = 0.9994145765286515\n",
            "เวลาที่ใช้ในการประมวลผล 0.0009350776672363281 วินาที\n",
            "เวลาที่ใช้ในการประมวลผล 1.5584627787272134e-05 นาที\n"
          ]
        }
      ],
      "source": [
        "t_start = time.time()\n",
        "mse_lr20_total = 0 \n",
        "MSE_lr20_1001 = 0\n",
        "for i in range(1,1001):\n",
        "  mse_lr20_total = mse_lr20_total + globals()[f'MSE_lr20_{i}']\n",
        "AMSE_Alkaline_Phos2_lr = mse_lr20_total/1000\n",
        "print(f'AMSE_Alkaline_Phos2_lr = {AMSE_Alkaline_Phos2_lr}')\n",
        "t_end = time.time()\n",
        "print(f'เวลาที่ใช้ในการประมวลผล {t_end- t_start} วินาที')\n",
        "print(f'เวลาที่ใช้ในการประมวลผล {(t_end- t_start)/60} นาที')"
      ]
    },
    {
      "cell_type": "markdown",
      "metadata": {
        "id": "tbt5vQOw94ux"
      },
      "source": [
        "### Support Vector Machine model"
      ]
    },
    {
      "cell_type": "code",
      "execution_count": null,
      "metadata": {
        "id": "7X4Mu0oN97S5"
      },
      "outputs": [],
      "source": [
        "t_start = time.time()\n",
        "regr = svm.SVR()\n",
        "for i in range(1,1001):\n",
        "  svm_svr = IterativeImputer(estimator= regr, max_iter= 10, verbose=2, imputation_order='roman',initial_strategy = 'mean',random_state= i)\n",
        "  globals()[f'imputed_svm20_{i}'] = svm_svr.fit_transform(globals()[f'Alkaline_Phos2{i}'].copy())\n",
        "  globals()[f'MSE_svm20_{i}'] = mean_squared_error(data, globals()[f'imputed_svm20_{i}'])\n",
        "t_end = time.time()\n",
        "t20_SVM = (t_end- t_start)"
      ]
    },
    {
      "cell_type": "code",
      "execution_count": 35,
      "metadata": {
        "colab": {
          "base_uri": "https://localhost:8080/"
        },
        "id": "1DyNlSAY97i5",
        "outputId": "864a74ef-ce97-4506-873f-af40762a57e1"
      },
      "outputs": [
        {
          "output_type": "stream",
          "name": "stdout",
          "text": [
            "AMSE_Alkaline_Phos2_svm = 0.8614920886933973\n",
            "เวลาที่ใช้ในการประมวลผล 0.0012004375457763672 วินาที\n",
            "เวลาที่ใช้ในการประมวลผล 2.000729242960612e-05 นาที\n"
          ]
        }
      ],
      "source": [
        "t_start = time.time()\n",
        "mse_svm20_total = 0 \n",
        "MSE_svm20_1001 = 0\n",
        "for i in range(1,1001):\n",
        "  mse_svm20_total = mse_svm20_total + globals()[f'MSE_svm20_{i}']\n",
        "AMSE_Alkaline_Phos2_svm = mse_svm20_total/1000\n",
        "print(f'AMSE_Alkaline_Phos2_svm = {AMSE_Alkaline_Phos2_svm}')\n",
        "t_end = time.time()\n",
        "print(f'เวลาที่ใช้ในการประมวลผล {t_end- t_start} วินาที')\n",
        "print(f'เวลาที่ใช้ในการประมวลผล {(t_end- t_start)/60} นาที')"
      ]
    },
    {
      "cell_type": "markdown",
      "metadata": {
        "id": "7Sb6gEJM-Jdo"
      },
      "source": [
        "## Imputation using the EM"
      ]
    },
    {
      "cell_type": "markdown",
      "metadata": {
        "id": "y2cByPPO-Msu"
      },
      "source": [
        "### impy.em"
      ]
    },
    {
      "cell_type": "code",
      "execution_count": 36,
      "metadata": {
        "colab": {
          "base_uri": "https://localhost:8080/"
        },
        "id": "uwqQL2RQ-Lzf",
        "outputId": "11553877-05bd-4a08-ebdd-3517a53f7a3a"
      },
      "outputs": [
        {
          "output_type": "stream",
          "name": "stdout",
          "text": [
            "Looking in indexes: https://pypi.org/simple, https://us-python.pkg.dev/colab-wheels/public/simple/\n",
            "Requirement already satisfied: impyute in /usr/local/lib/python3.8/dist-packages (0.0.8)\n",
            "Requirement already satisfied: scipy in /usr/local/lib/python3.8/dist-packages (from impyute) (1.7.3)\n",
            "Requirement already satisfied: numpy in /usr/local/lib/python3.8/dist-packages (from impyute) (1.21.6)\n",
            "Requirement already satisfied: scikit-learn in /usr/local/lib/python3.8/dist-packages (from impyute) (1.0.2)\n",
            "Requirement already satisfied: joblib>=0.11 in /usr/local/lib/python3.8/dist-packages (from scikit-learn->impyute) (1.2.0)\n",
            "Requirement already satisfied: threadpoolctl>=2.0.0 in /usr/local/lib/python3.8/dist-packages (from scikit-learn->impyute) (3.1.0)\n"
          ]
        }
      ],
      "source": [
        "!pip install impyute\n",
        "import impyute as impy"
      ]
    },
    {
      "cell_type": "code",
      "execution_count": 37,
      "metadata": {
        "id": "05L6OvE1-PbH"
      },
      "outputs": [],
      "source": [
        "t_start = time.time()\n",
        "for i in range(1,1001):\n",
        "  globals()[f'imputed_impy20_{i}'] = impy.em(globals()[f'Alkaline_Phos2{i}'].values.copy())\n",
        "  globals()[f'MSE_impy20_{i}'] = mean_squared_error(data, globals()[f'imputed_impy20_{i}'])\n",
        "t_end = time.time()\n",
        "t20_EM = (t_end- t_start)"
      ]
    },
    {
      "cell_type": "code",
      "execution_count": 38,
      "metadata": {
        "colab": {
          "base_uri": "https://localhost:8080/"
        },
        "id": "bh0_6saM-UEW",
        "outputId": "5d17b642-5505-4b2a-cc4e-1ddd12cc1ada"
      },
      "outputs": [
        {
          "output_type": "stream",
          "name": "stdout",
          "text": [
            "AMSE_Alkaline_Phos2_impy = 1.6982785729427758\n",
            "เวลาที่ใช้ในการประมวลผล 0.001194000244140625 วินาที\n",
            "เวลาที่ใช้ในการประมวลผล 1.9900004069010417e-05 นาที\n"
          ]
        }
      ],
      "source": [
        "t_start = time.time()\n",
        "mse_impy20_total = 0 \n",
        "MSE_impy20_1001 = 0\n",
        "for i in range(1,1001):\n",
        "  mse_impy20_total = mse_impy20_total + globals()[f'MSE_impy20_{i}']\n",
        "AMSE_Alkaline_Phos2_impy = mse_impy20_total/1000\n",
        "print(f'AMSE_Alkaline_Phos2_impy = {AMSE_Alkaline_Phos2_impy}')\n",
        "t_end = time.time()\n",
        "print(f'เวลาที่ใช้ในการประมวลผล {t_end- t_start} วินาที')\n",
        "print(f'เวลาที่ใช้ในการประมวลผล {(t_end- t_start)/60} นาที')"
      ]
    },
    {
      "cell_type": "markdown",
      "metadata": {
        "id": "NCxJUtjWLLTP"
      },
      "source": [
        "# 30 % random nan "
      ]
    },
    {
      "cell_type": "code",
      "execution_count": 39,
      "metadata": {
        "id": "W_Y9abbhNxYV"
      },
      "outputs": [],
      "source": [
        "for i in range(1,1001):\n",
        "  globals()[f'Alkaline_Phos3{i}'] = data.copy() # for loop variable name\n",
        "  np.random.seed(i) # for loop seed\n",
        "  n = int((153*10/100)) \n",
        "  index_nan = np.random.choice(globals()[f'Alkaline_Phos3{i}']['013_Alkaline Phos'].size, n, replace=False)\n",
        "  globals()[f'Alkaline_Phos3{i}']['013_Alkaline Phos'].ravel()[index_nan] = np.nan"
      ]
    },
    {
      "cell_type": "markdown",
      "metadata": {
        "id": "_9_X7xsT-iLc"
      },
      "source": [
        "## Imputation using Mean"
      ]
    },
    {
      "cell_type": "code",
      "execution_count": 40,
      "metadata": {
        "id": "3OECQY-m-iLc"
      },
      "outputs": [],
      "source": [
        "from sklearn.impute import SimpleImputer"
      ]
    },
    {
      "cell_type": "code",
      "execution_count": 41,
      "metadata": {
        "id": "-HTHbMU4-iLc"
      },
      "outputs": [],
      "source": [
        "t_start = time.time()\n",
        "mean30_imputer = SimpleImputer(strategy='mean')\n",
        "for i in range(1,1001):\n",
        "  globals()[f'imputed_mean30_{i}'] = mean30_imputer.fit_transform(globals()[f'Alkaline_Phos3{i}'].copy()) #for loop miss forest impputation \n",
        "  globals()[f'MSE_MEAN30_{i}'] = mean_squared_error(data, globals()[f'imputed_mean30_{i}']) # for loop mean_squared_error\n",
        "t_end = time.time()\n",
        "t30_MEAN = (t_end- t_start)"
      ]
    },
    {
      "cell_type": "code",
      "execution_count": 42,
      "metadata": {
        "colab": {
          "base_uri": "https://localhost:8080/"
        },
        "id": "aKvhrp2L-iLc",
        "outputId": "c6687754-f1a5-4d1b-fb3a-e42d0837d35f"
      },
      "outputs": [
        {
          "output_type": "stream",
          "name": "stdout",
          "text": [
            "AMSE_Alkaline_Phos3_mean = 0.899738305521262\n",
            "เวลาที่ใช้ในการประมวลผล 0.0011818408966064453 วินาที\n",
            "เวลาที่ใช้ในการประมวลผล 1.9697348276774087e-05 นาที\n"
          ]
        }
      ],
      "source": [
        "t_start = time.time()\n",
        "mse_mean30_total = 0 \n",
        "MSE_MEAN30_1001 = 0\n",
        "for i in range(1,1001):\n",
        "  mse_mean30_total = mse_mean30_total + globals()[f'MSE_MEAN30_{i}']\n",
        "AMSE_Alkaline_Phos3_mean = mse_mean30_total/1000\n",
        "print(f'AMSE_Alkaline_Phos3_mean = {AMSE_Alkaline_Phos3_mean}')\n",
        "t_end = time.time()\n",
        "print(f'เวลาที่ใช้ในการประมวลผล {t_end- t_start} วินาที')\n",
        "print(f'เวลาที่ใช้ในการประมวลผล {(t_end- t_start)/60} นาที')"
      ]
    },
    {
      "cell_type": "markdown",
      "metadata": {
        "id": "HOVmU_ZU-iLd"
      },
      "source": [
        "## Imputation using the miss forest"
      ]
    },
    {
      "cell_type": "code",
      "execution_count": 43,
      "metadata": {
        "colab": {
          "base_uri": "https://localhost:8080/"
        },
        "id": "yr07MK0a-iLd",
        "outputId": "ca107ec2-74dd-4425-ddbc-817c4615072f"
      },
      "outputs": [
        {
          "output_type": "stream",
          "name": "stdout",
          "text": [
            "Looking in indexes: https://pypi.org/simple, https://us-python.pkg.dev/colab-wheels/public/simple/\n",
            "Requirement already satisfied: missingpy in /usr/local/lib/python3.8/dist-packages (0.2.0)\n"
          ]
        }
      ],
      "source": [
        "import sys\n",
        "import sklearn.neighbors._base\n",
        "sys.modules['sklearn.neighbors.base'] = sklearn.neighbors._base\n",
        "!pip install missingpy\n",
        "import missingpy\n",
        "from missingpy import MissForest\n",
        "from sklearn.metrics import mean_squared_error"
      ]
    },
    {
      "cell_type": "code",
      "execution_count": null,
      "metadata": {
        "id": "ddvfMGoE-iLd"
      },
      "outputs": [],
      "source": [
        "t_start = time.time()\n",
        "MF30_imputer = MissForest()\n",
        "for i in range(1,1001):\n",
        "  globals()[f'imputed_mf30_{i}'] = MF30_imputer.fit_transform(globals()[f'Alkaline_Phos3{i}'].copy()) #for loop miss forest impputation \n",
        "  globals()[f'MSE_MF30_{i}'] = mean_squared_error(data, globals()[f'imputed_mf30_{i}']) # for loop mean_squared_error\n",
        "t_end = time.time()\n",
        "t30_MF = (t_end- t_start)"
      ]
    },
    {
      "cell_type": "code",
      "execution_count": 45,
      "metadata": {
        "colab": {
          "base_uri": "https://localhost:8080/"
        },
        "id": "5Mdi3FYR-iLd",
        "outputId": "8e131a6c-ad15-4369-bee9-5660a90e683e"
      },
      "outputs": [
        {
          "output_type": "stream",
          "name": "stdout",
          "text": [
            "AMSE_Alkaline_Phos3_mf = 0.8341806830065353\n",
            "เวลาที่ใช้ในการประมวลผล 0.0010104179382324219 วินาที\n",
            "เวลาที่ใช้ในการประมวลผล 1.6840298970540366e-05 นาที\n"
          ]
        }
      ],
      "source": [
        "t_start = time.time()\n",
        "mse_mf30_total = 0 \n",
        "MSE_MF30_1001 = 0\n",
        "for i in range(1,1001):\n",
        "  mse_mf30_total = mse_mf30_total + globals()[f'MSE_MF30_{i}']\n",
        "AMSE_Alkaline_Phos3_mf = mse_mf30_total/1000\n",
        "print(f'AMSE_Alkaline_Phos3_mf = {AMSE_Alkaline_Phos3_mf}')\n",
        "t_end = time.time()\n",
        "print(f'เวลาที่ใช้ในการประมวลผล {t_end- t_start} วินาที')\n",
        "print(f'เวลาที่ใช้ในการประมวลผล {(t_end- t_start)/60} นาที')"
      ]
    },
    {
      "cell_type": "markdown",
      "metadata": {
        "id": "u2jzYXxN-iLd"
      },
      "source": [
        "## Imputation using the KNN"
      ]
    },
    {
      "cell_type": "code",
      "execution_count": 46,
      "metadata": {
        "id": "fysuzPj1-iLd"
      },
      "outputs": [],
      "source": [
        "from sklearn import neighbors\n",
        "from sklearn.impute import KNNImputer"
      ]
    },
    {
      "cell_type": "code",
      "execution_count": 47,
      "metadata": {
        "id": "O1oBDgmo-iLd"
      },
      "outputs": [],
      "source": [
        "t_start = time.time()\n",
        "KNN30_imputer = KNNImputer(n_neighbors = 15)\n",
        "for i in range(1,1001):\n",
        "  globals()[f'imputed_KNN30_{i}'] = KNN30_imputer.fit_transform(globals()[f'Alkaline_Phos3{i}'].copy())\n",
        "  globals()[f'MSE_KNN30_{i}'] = mean_squared_error(data, globals()[f'imputed_KNN30_{i}'])\n",
        "t_end = time.time()\n",
        "t30_KNN = (t_end- t_start)"
      ]
    },
    {
      "cell_type": "code",
      "execution_count": 48,
      "metadata": {
        "colab": {
          "base_uri": "https://localhost:8080/"
        },
        "id": "aTBGlBrK-iLd",
        "outputId": "de05cb48-9e61-42e0-97d9-e475fdd9784c"
      },
      "outputs": [
        {
          "output_type": "stream",
          "name": "stdout",
          "text": [
            "AMSE_Alkaline_Phos3_knn = 0.8322797799005645\n",
            "เวลาที่ใช้ในการประมวลผล 0.00091552734375 วินาที\n",
            "เวลาที่ใช้ในการประมวลผล 1.52587890625e-05 นาที\n"
          ]
        }
      ],
      "source": [
        "t_start = time.time()\n",
        "mse_knn30_total = 0 \n",
        "MSE_KNN30_1001 = 0\n",
        "for i in range(1,1001):\n",
        "  mse_knn30_total = mse_knn30_total + globals()[f'MSE_KNN30_{i}']\n",
        "AMSE_Alkaline_Phos3_knn = mse_knn30_total/1000\n",
        "print(f'AMSE_Alkaline_Phos3_knn = {AMSE_Alkaline_Phos3_knn}')\n",
        "t_end = time.time()\n",
        "print(f'เวลาที่ใช้ในการประมวลผล {t_end- t_start} วินาที')\n",
        "print(f'เวลาที่ใช้ในการประมวลผล {(t_end- t_start)/60} นาที')"
      ]
    },
    {
      "cell_type": "markdown",
      "metadata": {
        "id": "wMp1v_wb-iLd"
      },
      "source": [
        "## Imputation using the MICE"
      ]
    },
    {
      "cell_type": "code",
      "execution_count": 49,
      "metadata": {
        "id": "OGS8y0Sy-iLd"
      },
      "outputs": [],
      "source": [
        "from sklearn.experimental import enable_iterative_imputer\n",
        "from sklearn.impute import IterativeImputer\n",
        "from sklearn.linear_model import LinearRegression\n",
        "from sklearn import svm"
      ]
    },
    {
      "cell_type": "markdown",
      "metadata": {
        "id": "pNQOIROB-iLe"
      },
      "source": [
        "### LinearRegression model"
      ]
    },
    {
      "cell_type": "code",
      "execution_count": null,
      "metadata": {
        "id": "_It4FTix-iLe"
      },
      "outputs": [],
      "source": [
        "t_start = time.time()\n",
        "lr = LinearRegression()\n",
        "for i in range(1,1001):\n",
        "  imp30 = IterativeImputer(estimator= lr , max_iter= 10, verbose=2, imputation_order='roman',initial_strategy = 'mean',random_state= i)\n",
        "  globals()[f'imputed_lr30_{i}'] = imp30.fit_transform(globals()[f'Alkaline_Phos3{i}'].copy())\n",
        "  globals()[f'MSE_lr30_{i}'] = mean_squared_error(data, globals()[f'imputed_lr30_{i}'])\n",
        "t_end = time.time()\n",
        "t30_LR = (t_end- t_start)"
      ]
    },
    {
      "cell_type": "code",
      "execution_count": 51,
      "metadata": {
        "colab": {
          "base_uri": "https://localhost:8080/"
        },
        "id": "E9xo20YS-iLe",
        "outputId": "952d7e9f-29a2-4abf-e815-149892c738c5"
      },
      "outputs": [
        {
          "output_type": "stream",
          "name": "stdout",
          "text": [
            "AMSE_Alkaline_Phos3_lr = 0.9994145765286515\n",
            "เวลาที่ใช้ในการประมวลผล 0.0009789466857910156 วินาที\n",
            "เวลาที่ใช้ในการประมวลผล 1.6315778096516928e-05 นาที\n"
          ]
        }
      ],
      "source": [
        "t_start = time.time()\n",
        "mse_lr30_total = 0 \n",
        "MSE_lr30_1001 = 0\n",
        "for i in range(1,1001):\n",
        "  mse_lr30_total = mse_lr30_total + globals()[f'MSE_lr30_{i}']\n",
        "AMSE_Alkaline_Phos3_lr = mse_lr30_total/1000\n",
        "print(f'AMSE_Alkaline_Phos3_lr = {AMSE_Alkaline_Phos3_lr}')\n",
        "t_end = time.time()\n",
        "print(f'เวลาที่ใช้ในการประมวลผล {t_end- t_start} วินาที')\n",
        "print(f'เวลาที่ใช้ในการประมวลผล {(t_end- t_start)/60} นาที')"
      ]
    },
    {
      "cell_type": "markdown",
      "metadata": {
        "id": "KS3K5S_x-iLe"
      },
      "source": [
        "### Support Vector Machine model"
      ]
    },
    {
      "cell_type": "code",
      "execution_count": null,
      "metadata": {
        "id": "nJGUtgZU-iLe"
      },
      "outputs": [],
      "source": [
        "t_start = time.time()\n",
        "regr = svm.SVR()\n",
        "for i in range(1,1001):\n",
        "  svm_svr = IterativeImputer(estimator= regr, max_iter= 10, verbose=2, imputation_order='roman',initial_strategy = 'mean',random_state= i)\n",
        "  globals()[f'imputed_svm30_{i}'] = svm_svr.fit_transform(globals()[f'Alkaline_Phos3{i}'].copy())\n",
        "  globals()[f'MSE_svm30_{i}'] = mean_squared_error(data, globals()[f'imputed_svm30_{i}'])\n",
        "t_end = time.time()\n",
        "t30_SVM = (t_end- t_start)"
      ]
    },
    {
      "cell_type": "code",
      "execution_count": 53,
      "metadata": {
        "id": "CXvvofpc-iLe",
        "colab": {
          "base_uri": "https://localhost:8080/"
        },
        "outputId": "e878b9bc-bbf0-4856-9b97-879dd43c1d8d"
      },
      "outputs": [
        {
          "output_type": "stream",
          "name": "stdout",
          "text": [
            "AMSE_Alkaline_Phos3_svm = 0.8614920886933973\n",
            "เวลาที่ใช้ในการประมวลผล 0.0009980201721191406 วินาที\n",
            "เวลาที่ใช้ในการประมวลผล 1.663366953531901e-05 นาที\n"
          ]
        }
      ],
      "source": [
        "t_start = time.time()\n",
        "mse_svm30_total = 0 \n",
        "MSE_svm30_1001 = 0\n",
        "for i in range(1,1001):\n",
        "  mse_svm30_total = mse_svm30_total + globals()[f'MSE_svm30_{i}']\n",
        "AMSE_Alkaline_Phos3_svm = mse_svm30_total/1000\n",
        "print(f'AMSE_Alkaline_Phos3_svm = {AMSE_Alkaline_Phos3_svm}')\n",
        "t_end = time.time()\n",
        "print(f'เวลาที่ใช้ในการประมวลผล {t_end- t_start} วินาที')\n",
        "print(f'เวลาที่ใช้ในการประมวลผล {(t_end- t_start)/60} นาที')"
      ]
    },
    {
      "cell_type": "markdown",
      "metadata": {
        "id": "gdYnxFLe-iLe"
      },
      "source": [
        "## Imputation using the EM"
      ]
    },
    {
      "cell_type": "markdown",
      "metadata": {
        "id": "jN7A5_ov-iLe"
      },
      "source": [
        "### impy.em"
      ]
    },
    {
      "cell_type": "code",
      "execution_count": 54,
      "metadata": {
        "id": "zY0qRmZN-iLe",
        "colab": {
          "base_uri": "https://localhost:8080/"
        },
        "outputId": "f6893eba-4053-48d3-dd86-8ebe0ae9102d"
      },
      "outputs": [
        {
          "output_type": "stream",
          "name": "stdout",
          "text": [
            "Looking in indexes: https://pypi.org/simple, https://us-python.pkg.dev/colab-wheels/public/simple/\n",
            "Requirement already satisfied: impyute in /usr/local/lib/python3.8/dist-packages (0.0.8)\n",
            "Requirement already satisfied: scikit-learn in /usr/local/lib/python3.8/dist-packages (from impyute) (1.0.2)\n",
            "Requirement already satisfied: numpy in /usr/local/lib/python3.8/dist-packages (from impyute) (1.21.6)\n",
            "Requirement already satisfied: scipy in /usr/local/lib/python3.8/dist-packages (from impyute) (1.7.3)\n",
            "Requirement already satisfied: joblib>=0.11 in /usr/local/lib/python3.8/dist-packages (from scikit-learn->impyute) (1.2.0)\n",
            "Requirement already satisfied: threadpoolctl>=2.0.0 in /usr/local/lib/python3.8/dist-packages (from scikit-learn->impyute) (3.1.0)\n"
          ]
        }
      ],
      "source": [
        "!pip install impyute\n",
        "import impyute as impy"
      ]
    },
    {
      "cell_type": "code",
      "execution_count": 55,
      "metadata": {
        "id": "0XkDEd8Q-iLe"
      },
      "outputs": [],
      "source": [
        "t_start = time.time()\n",
        "for i in range(1,1001):\n",
        "  globals()[f'imputed_impy30_{i}'] = impy.em(globals()[f'Alkaline_Phos3{i}'].values.copy())\n",
        "  globals()[f'MSE_impy30_{i}'] = mean_squared_error(data, globals()[f'imputed_impy30_{i}'])\n",
        "t_end = time.time()\n",
        "t30_EM = (t_end- t_start)"
      ]
    },
    {
      "cell_type": "code",
      "execution_count": 56,
      "metadata": {
        "id": "LI1x2SVG-iLf",
        "colab": {
          "base_uri": "https://localhost:8080/"
        },
        "outputId": "af8c125f-d0e3-428b-becb-dd933d316ef3"
      },
      "outputs": [
        {
          "output_type": "stream",
          "name": "stdout",
          "text": [
            "AMSE_Alkaline_Phos3_impy = 1.6982785729427758\n",
            "เวลาที่ใช้ในการประมวลผล 0.0011692047119140625 วินาที\n",
            "เวลาที่ใช้ในการประมวลผล 1.948674519856771e-05 นาที\n"
          ]
        }
      ],
      "source": [
        "t_start = time.time()\n",
        "mse_impy30_total = 0 \n",
        "MSE_impy30_1001 = 0\n",
        "for i in range(1,1001):\n",
        "  mse_impy30_total = mse_impy30_total + globals()[f'MSE_impy30_{i}']\n",
        "AMSE_Alkaline_Phos3_impy = mse_impy30_total/1000\n",
        "print(f'AMSE_Alkaline_Phos3_impy = {AMSE_Alkaline_Phos3_impy}')\n",
        "t_end = time.time()\n",
        "print(f'เวลาที่ใช้ในการประมวลผล {t_end- t_start} วินาที')\n",
        "print(f'เวลาที่ใช้ในการประมวลผล {(t_end- t_start)/60} นาที')"
      ]
    },
    {
      "cell_type": "markdown",
      "metadata": {
        "id": "a0LBgAlJLNvc"
      },
      "source": [
        "# 40 % random nan "
      ]
    },
    {
      "cell_type": "code",
      "execution_count": 57,
      "metadata": {
        "id": "JQEvhyCUN1jq"
      },
      "outputs": [],
      "source": [
        "for i in range(1,1001):\n",
        "  globals()[f'Alkaline_Phos4{i}'] = data.copy() # for loop variable name\n",
        "  np.random.seed(i) # for loop seed\n",
        "  n = int((153*10/100)) \n",
        "  index_nan = np.random.choice(globals()[f'Alkaline_Phos4{i}']['013_Alkaline Phos'].size, n, replace=False)\n",
        "  globals()[f'Alkaline_Phos4{i}']['013_Alkaline Phos'].ravel()[index_nan] = np.nan"
      ]
    },
    {
      "cell_type": "markdown",
      "metadata": {
        "id": "y5UI-GbFxF8J"
      },
      "source": [
        "## Imputation using Mean"
      ]
    },
    {
      "cell_type": "code",
      "execution_count": 58,
      "metadata": {
        "id": "K-fVlF-NxF8J"
      },
      "outputs": [],
      "source": [
        "from sklearn.impute import SimpleImputer"
      ]
    },
    {
      "cell_type": "code",
      "execution_count": 59,
      "metadata": {
        "id": "ju1mNRXPxF8J"
      },
      "outputs": [],
      "source": [
        "t_start = time.time()\n",
        "mean40_imputer = SimpleImputer(strategy='mean')\n",
        "for i in range(1,1001):\n",
        "  globals()[f'imputed_mean40_{i}'] = mean40_imputer.fit_transform(globals()[f'Alkaline_Phos4{i}'].copy()) #for loop miss forest impputation \n",
        "  globals()[f'MSE_MEAN40_{i}'] = mean_squared_error(data, globals()[f'imputed_mean40_{i}']) # for loop mean_squared_error\n",
        "t_end = time.time()\n",
        "t40_MEAN = (t_end- t_start)"
      ]
    },
    {
      "cell_type": "code",
      "execution_count": 60,
      "metadata": {
        "id": "o0HQSUjbxF8J",
        "colab": {
          "base_uri": "https://localhost:8080/"
        },
        "outputId": "733d16ae-84c1-4ac0-a5bf-01257bf44d96"
      },
      "outputs": [
        {
          "output_type": "stream",
          "name": "stdout",
          "text": [
            "AMSE_Alkaline_Phos4_mean = 0.899738305521262\n",
            "เวลาที่ใช้ในการประมวลผล 0.0009169578552246094 วินาที\n",
            "เวลาที่ใช้ในการประมวลผล 1.5282630920410155e-05 นาที\n"
          ]
        }
      ],
      "source": [
        "t_start = time.time()\n",
        "mse_mean40_total = 0 \n",
        "MSE_MEAN40_1001 = 0\n",
        "for i in range(1,1001):\n",
        "  mse_mean40_total = mse_mean40_total + globals()[f'MSE_MEAN40_{i}']\n",
        "AMSE_Alkaline_Phos4_mean = mse_mean40_total/1000\n",
        "print(f'AMSE_Alkaline_Phos4_mean = {AMSE_Alkaline_Phos4_mean}')\n",
        "t_end = time.time()\n",
        "print(f'เวลาที่ใช้ในการประมวลผล {t_end- t_start} วินาที')\n",
        "print(f'เวลาที่ใช้ในการประมวลผล {(t_end- t_start)/60} นาที')"
      ]
    },
    {
      "cell_type": "markdown",
      "metadata": {
        "id": "XXkbylvnxF8J"
      },
      "source": [
        "## Imputation using the miss forest"
      ]
    },
    {
      "cell_type": "code",
      "execution_count": 61,
      "metadata": {
        "id": "AvQUsclOxF8J",
        "colab": {
          "base_uri": "https://localhost:8080/"
        },
        "outputId": "977e4c98-6393-4d5a-deb0-64c32646e25f"
      },
      "outputs": [
        {
          "output_type": "stream",
          "name": "stdout",
          "text": [
            "Looking in indexes: https://pypi.org/simple, https://us-python.pkg.dev/colab-wheels/public/simple/\n",
            "Requirement already satisfied: missingpy in /usr/local/lib/python3.8/dist-packages (0.2.0)\n"
          ]
        }
      ],
      "source": [
        "import sys\n",
        "import sklearn.neighbors._base\n",
        "sys.modules['sklearn.neighbors.base'] = sklearn.neighbors._base\n",
        "!pip install missingpy\n",
        "import missingpy\n",
        "from missingpy import MissForest\n",
        "from sklearn.metrics import mean_squared_error"
      ]
    },
    {
      "cell_type": "code",
      "execution_count": null,
      "metadata": {
        "id": "E5Cloy12xF8K"
      },
      "outputs": [],
      "source": [
        "t_start = time.time()\n",
        "MF40_imputer = MissForest()\n",
        "for i in range(1,1001):\n",
        "  globals()[f'imputed_mf40_{i}'] = MF40_imputer.fit_transform(globals()[f'Alkaline_Phos4{i}'].copy()) #for loop miss forest impputation \n",
        "  globals()[f'MSE_MF40_{i}'] = mean_squared_error(data, globals()[f'imputed_mf40_{i}']) # for loop mean_squared_error\n",
        "t_end = time.time()\n",
        "t40_MF = (t_end- t_start)"
      ]
    },
    {
      "cell_type": "code",
      "execution_count": 63,
      "metadata": {
        "id": "24jcRFsixF8K",
        "colab": {
          "base_uri": "https://localhost:8080/"
        },
        "outputId": "6e1df464-4839-4921-bf7e-c961b866eea9"
      },
      "outputs": [
        {
          "output_type": "stream",
          "name": "stdout",
          "text": [
            "AMSE_Alkaline_Phos4_mf = 0.8341806830065353\n",
            "เวลาที่ใช้ในการประมวลผล 0.0016355514526367188 วินาที\n",
            "เวลาที่ใช้ในการประมวลผล 2.7259190877278645e-05 นาที\n"
          ]
        }
      ],
      "source": [
        "t_start = time.time()\n",
        "mse_mf40_total = 0 \n",
        "MSE_MF40_1001 = 0\n",
        "for i in range(1,1001):\n",
        "  mse_mf40_total = mse_mf40_total + globals()[f'MSE_MF40_{i}']\n",
        "AMSE_Alkaline_Phos4_mf = mse_mf40_total/1000\n",
        "print(f'AMSE_Alkaline_Phos4_mf = {AMSE_Alkaline_Phos4_mf}')\n",
        "t_end = time.time()\n",
        "print(f'เวลาที่ใช้ในการประมวลผล {t_end- t_start} วินาที')\n",
        "print(f'เวลาที่ใช้ในการประมวลผล {(t_end- t_start)/60} นาที')"
      ]
    },
    {
      "cell_type": "markdown",
      "metadata": {
        "id": "ByZK4rUxxF8K"
      },
      "source": [
        "## Imputation using the KNN"
      ]
    },
    {
      "cell_type": "code",
      "execution_count": 64,
      "metadata": {
        "id": "FCQV3ecwxF8K"
      },
      "outputs": [],
      "source": [
        "from sklearn import neighbors\n",
        "from sklearn.impute import KNNImputer"
      ]
    },
    {
      "cell_type": "code",
      "execution_count": 65,
      "metadata": {
        "id": "hw2GUZpJxF8K"
      },
      "outputs": [],
      "source": [
        "t_start = time.time()\n",
        "KNN40_imputer = KNNImputer(n_neighbors = 15)\n",
        "for i in range(1,1001):\n",
        "  globals()[f'imputed_KNN40_{i}'] = KNN40_imputer.fit_transform(globals()[f'Alkaline_Phos4{i}'].copy())\n",
        "  globals()[f'MSE_KNN40_{i}'] = mean_squared_error(data, globals()[f'imputed_KNN40_{i}'])\n",
        "t_end = time.time()\n",
        "t40_KNN = (t_end- t_start)"
      ]
    },
    {
      "cell_type": "code",
      "execution_count": 66,
      "metadata": {
        "id": "GBugPWFbxF8K",
        "colab": {
          "base_uri": "https://localhost:8080/"
        },
        "outputId": "92a26b5f-ed57-4f66-ae7f-84a47e3bcb17"
      },
      "outputs": [
        {
          "output_type": "stream",
          "name": "stdout",
          "text": [
            "AMSE_Alkaline_Phos4_knn = 0.8322797799005645\n",
            "เวลาที่ใช้ในการประมวลผล 0.0012860298156738281 วินาที\n",
            "เวลาที่ใช้ในการประมวลผล 2.143383026123047e-05 นาที\n"
          ]
        }
      ],
      "source": [
        "t_start = time.time()\n",
        "mse_knn40_total = 0 \n",
        "MSE_KNN40_1001 = 0\n",
        "for i in range(1,1001):\n",
        "  mse_knn40_total = mse_knn40_total + globals()[f'MSE_KNN40_{i}']\n",
        "AMSE_Alkaline_Phos4_knn = mse_knn40_total/1000\n",
        "print(f'AMSE_Alkaline_Phos4_knn = {AMSE_Alkaline_Phos4_knn}')\n",
        "t_end = time.time()\n",
        "print(f'เวลาที่ใช้ในการประมวลผล {t_end- t_start} วินาที')\n",
        "print(f'เวลาที่ใช้ในการประมวลผล {(t_end- t_start)/60} นาที')"
      ]
    },
    {
      "cell_type": "markdown",
      "metadata": {
        "id": "v37ywhX8xF8K"
      },
      "source": [
        "## Imputation using the MICE"
      ]
    },
    {
      "cell_type": "code",
      "execution_count": 67,
      "metadata": {
        "id": "LGR4ctD7xF8K"
      },
      "outputs": [],
      "source": [
        "from sklearn.experimental import enable_iterative_imputer\n",
        "from sklearn.impute import IterativeImputer\n",
        "from sklearn.linear_model import LinearRegression\n",
        "from sklearn import svm"
      ]
    },
    {
      "cell_type": "markdown",
      "metadata": {
        "id": "PwRqZL2TxF8K"
      },
      "source": [
        "### LinearRegression model"
      ]
    },
    {
      "cell_type": "code",
      "execution_count": null,
      "metadata": {
        "id": "tFJStNTSxF8K"
      },
      "outputs": [],
      "source": [
        "t_start = time.time()\n",
        "lr = LinearRegression()\n",
        "for i in range(1,1001):\n",
        "  imp40 = IterativeImputer(estimator= lr , max_iter= 10, verbose=2, imputation_order='roman',initial_strategy = 'mean',random_state= i)\n",
        "  globals()[f'imputed_lr40_{i}'] = imp40.fit_transform(globals()[f'Alkaline_Phos4{i}'].copy())\n",
        "  globals()[f'MSE_lr40_{i}'] = mean_squared_error(data, globals()[f'imputed_lr40_{i}'])\n",
        "t_end = time.time()\n",
        "t40_LR = (t_end- t_start)"
      ]
    },
    {
      "cell_type": "code",
      "execution_count": 69,
      "metadata": {
        "id": "wLgupnIMxF8L",
        "colab": {
          "base_uri": "https://localhost:8080/"
        },
        "outputId": "03476df4-f983-429a-9aa6-425dcdcf49e5"
      },
      "outputs": [
        {
          "output_type": "stream",
          "name": "stdout",
          "text": [
            "AMSE_Alkaline_Phos4_lr = 0.9994145765286515\n",
            "เวลาที่ใช้ในการประมวลผล 0.0009639263153076172 วินาที\n",
            "เวลาที่ใช้ในการประมวลผล 1.6065438588460288e-05 นาที\n"
          ]
        }
      ],
      "source": [
        "t_start = time.time()\n",
        "mse_lr40_total = 0 \n",
        "MSE_lr40_1001 = 0\n",
        "for i in range(1,1001):\n",
        "  mse_lr40_total = mse_lr40_total + globals()[f'MSE_lr40_{i}']\n",
        "AMSE_Alkaline_Phos4_lr = mse_lr40_total/1000\n",
        "print(f'AMSE_Alkaline_Phos4_lr = {AMSE_Alkaline_Phos4_lr}')\n",
        "t_end = time.time()\n",
        "print(f'เวลาที่ใช้ในการประมวลผล {t_end- t_start} วินาที')\n",
        "print(f'เวลาที่ใช้ในการประมวลผล {(t_end- t_start)/60} นาที')"
      ]
    },
    {
      "cell_type": "markdown",
      "metadata": {
        "id": "_LKDX_qwxF8L"
      },
      "source": [
        "### Support Vector Machine model"
      ]
    },
    {
      "cell_type": "code",
      "execution_count": null,
      "metadata": {
        "id": "mL48MjEExF8L"
      },
      "outputs": [],
      "source": [
        "t_start = time.time()\n",
        "regr = svm.SVR()\n",
        "for i in range(1,1001):\n",
        "  svm_svr = IterativeImputer(estimator= regr, max_iter= 10, verbose=2, imputation_order='roman',initial_strategy = 'mean',random_state= i)\n",
        "  globals()[f'imputed_svm40_{i}'] = svm_svr.fit_transform(globals()[f'Alkaline_Phos4{i}'].copy())\n",
        "  globals()[f'MSE_svm40_{i}'] = mean_squared_error(data, globals()[f'imputed_svm40_{i}'])\n",
        "t_end = time.time()\n",
        "t40_SVM = (t_end- t_start)"
      ]
    },
    {
      "cell_type": "code",
      "execution_count": 71,
      "metadata": {
        "id": "EFj2jMLzxF8L",
        "colab": {
          "base_uri": "https://localhost:8080/"
        },
        "outputId": "96e6f792-1295-46e7-dcd3-f9442444c478"
      },
      "outputs": [
        {
          "output_type": "stream",
          "name": "stdout",
          "text": [
            "AMSE_Alkaline_Phos4_svm = 0.8614920886933973\n",
            "เวลาที่ใช้ในการประมวลผล 0.000919342041015625 วินาที\n",
            "เวลาที่ใช้ในการประมวลผล 1.5322367350260416e-05 นาที\n"
          ]
        }
      ],
      "source": [
        "t_start = time.time()\n",
        "mse_svm40_total = 0 \n",
        "MSE_svm40_1001 = 0\n",
        "for i in range(1,1001):\n",
        "  mse_svm40_total = mse_svm40_total + globals()[f'MSE_svm40_{i}']\n",
        "AMSE_Alkaline_Phos4_svm = mse_svm40_total/1000\n",
        "print(f'AMSE_Alkaline_Phos4_svm = {AMSE_Alkaline_Phos4_svm}')\n",
        "t_end = time.time()\n",
        "print(f'เวลาที่ใช้ในการประมวลผล {t_end- t_start} วินาที')\n",
        "print(f'เวลาที่ใช้ในการประมวลผล {(t_end- t_start)/60} นาที')"
      ]
    },
    {
      "cell_type": "markdown",
      "metadata": {
        "id": "3Q2rQ7TIxF8L"
      },
      "source": [
        "## Imputation using the EM"
      ]
    },
    {
      "cell_type": "markdown",
      "metadata": {
        "id": "DfapUmfPxF8L"
      },
      "source": [
        "### impy.em"
      ]
    },
    {
      "cell_type": "code",
      "execution_count": 72,
      "metadata": {
        "id": "1aayA_3FxF8L",
        "colab": {
          "base_uri": "https://localhost:8080/"
        },
        "outputId": "e7194878-5879-46f1-c815-18e66292aa67"
      },
      "outputs": [
        {
          "output_type": "stream",
          "name": "stdout",
          "text": [
            "Looking in indexes: https://pypi.org/simple, https://us-python.pkg.dev/colab-wheels/public/simple/\n",
            "Requirement already satisfied: impyute in /usr/local/lib/python3.8/dist-packages (0.0.8)\n",
            "Requirement already satisfied: scipy in /usr/local/lib/python3.8/dist-packages (from impyute) (1.7.3)\n",
            "Requirement already satisfied: numpy in /usr/local/lib/python3.8/dist-packages (from impyute) (1.21.6)\n",
            "Requirement already satisfied: scikit-learn in /usr/local/lib/python3.8/dist-packages (from impyute) (1.0.2)\n",
            "Requirement already satisfied: joblib>=0.11 in /usr/local/lib/python3.8/dist-packages (from scikit-learn->impyute) (1.2.0)\n",
            "Requirement already satisfied: threadpoolctl>=2.0.0 in /usr/local/lib/python3.8/dist-packages (from scikit-learn->impyute) (3.1.0)\n"
          ]
        }
      ],
      "source": [
        "!pip install impyute\n",
        "import impyute as impy"
      ]
    },
    {
      "cell_type": "code",
      "execution_count": 73,
      "metadata": {
        "id": "eYAHqF5uxF8L"
      },
      "outputs": [],
      "source": [
        "t_start = time.time()\n",
        "for i in range(1,1001):\n",
        "  globals()[f'imputed_impy40_{i}'] = impy.em(globals()[f'Alkaline_Phos4{i}'].values.copy())\n",
        "  globals()[f'MSE_impy40_{i}'] = mean_squared_error(data, globals()[f'imputed_impy40_{i}'])\n",
        "t_end = time.time()\n",
        "t40_EM = (t_end- t_start)"
      ]
    },
    {
      "cell_type": "code",
      "execution_count": 74,
      "metadata": {
        "id": "yN9ceKVrxF8L",
        "colab": {
          "base_uri": "https://localhost:8080/"
        },
        "outputId": "b335fc5f-6e70-4bc0-d267-a1d60fc9c3a5"
      },
      "outputs": [
        {
          "output_type": "stream",
          "name": "stdout",
          "text": [
            "AMSE_Alkaline_Phos4_impy = 1.6982785729427758\n",
            "เวลาที่ใช้ในการประมวลผล 0.0009827613830566406 วินาที\n",
            "เวลาที่ใช้ในการประมวลผล 1.6379356384277344e-05 นาที\n"
          ]
        }
      ],
      "source": [
        "t_start = time.time()\n",
        "mse_impy40_total = 0 \n",
        "MSE_impy40_1001 = 0\n",
        "for i in range(1,1001):\n",
        "  mse_impy40_total = mse_impy40_total + globals()[f'MSE_impy40_{i}']\n",
        "AMSE_Alkaline_Phos4_impy = mse_impy40_total/1000\n",
        "print(f'AMSE_Alkaline_Phos4_impy = {AMSE_Alkaline_Phos4_impy}')\n",
        "t_end = time.time()\n",
        "print(f'เวลาที่ใช้ในการประมวลผล {t_end- t_start} วินาที')\n",
        "print(f'เวลาที่ใช้ในการประมวลผล {(t_end- t_start)/60} นาที')"
      ]
    },
    {
      "cell_type": "markdown",
      "metadata": {
        "id": "Repf93l4LOPD"
      },
      "source": [
        "# 50 % random nan "
      ]
    },
    {
      "cell_type": "code",
      "execution_count": 75,
      "metadata": {
        "id": "wmZ6hwvZN4-i"
      },
      "outputs": [],
      "source": [
        "for i in range(1,1001):\n",
        "  globals()[f'Alkaline_Phos5{i}'] = data.copy() # for loop variable name\n",
        "  np.random.seed(i) # for loop seed\n",
        "  n = int((153*10/100)) \n",
        "  index_nan = np.random.choice(globals()[f'Alkaline_Phos5{i}']['013_Alkaline Phos'].size, n, replace=False)\n",
        "  globals()[f'Alkaline_Phos5{i}']['013_Alkaline Phos'].ravel()[index_nan] = np.nan"
      ]
    },
    {
      "cell_type": "markdown",
      "metadata": {
        "id": "09fmoc8cxJGM"
      },
      "source": [
        "## Imputation using Mean"
      ]
    },
    {
      "cell_type": "code",
      "execution_count": 76,
      "metadata": {
        "id": "zlQrlDEoxJGM"
      },
      "outputs": [],
      "source": [
        "from sklearn.impute import SimpleImputer"
      ]
    },
    {
      "cell_type": "code",
      "execution_count": 77,
      "metadata": {
        "id": "lbEsLoPpxJGM"
      },
      "outputs": [],
      "source": [
        "t_start = time.time()\n",
        "mean50_imputer = SimpleImputer(strategy='mean')\n",
        "for i in range(1,1001):\n",
        "  globals()[f'imputed_mean50_{i}'] = mean50_imputer.fit_transform(globals()[f'Alkaline_Phos5{i}'].copy()) #for loop miss forest impputation \n",
        "  globals()[f'MSE_MEAN50_{i}'] = mean_squared_error(data, globals()[f'imputed_mean50_{i}']) # for loop mean_squared_error\n",
        "t_end = time.time()\n",
        "t50_MEAN = (t_end- t_start)"
      ]
    },
    {
      "cell_type": "code",
      "execution_count": 78,
      "metadata": {
        "id": "Oi0OOBWnxJGM",
        "colab": {
          "base_uri": "https://localhost:8080/"
        },
        "outputId": "866c3e3d-c83e-4b89-f9e6-7f258ba5403e"
      },
      "outputs": [
        {
          "output_type": "stream",
          "name": "stdout",
          "text": [
            "AMSE_Alkaline_Phos5_mean = 0.899738305521262\n",
            "เวลาที่ใช้ในการประมวลผล 0.0012319087982177734 วินาที\n",
            "เวลาที่ใช้ในการประมวลผล 2.0531813303629556e-05 นาที\n"
          ]
        }
      ],
      "source": [
        "t_start = time.time()\n",
        "mse_mean50_total = 0 \n",
        "MSE_MEAN50_1001 = 0\n",
        "for i in range(1,1001):\n",
        "  mse_mean50_total = mse_mean50_total + globals()[f'MSE_MEAN50_{i}']\n",
        "AMSE_Alkaline_Phos5_mean = mse_mean50_total/1000\n",
        "print(f'AMSE_Alkaline_Phos5_mean = {AMSE_Alkaline_Phos5_mean}')\n",
        "t_end = time.time()\n",
        "print(f'เวลาที่ใช้ในการประมวลผล {t_end- t_start} วินาที')\n",
        "print(f'เวลาที่ใช้ในการประมวลผล {(t_end- t_start)/60} นาที')"
      ]
    },
    {
      "cell_type": "markdown",
      "metadata": {
        "id": "OaeCvvmKxJGM"
      },
      "source": [
        "## Imputation using the miss forest"
      ]
    },
    {
      "cell_type": "code",
      "execution_count": 79,
      "metadata": {
        "id": "H5JCUazRxJGM",
        "colab": {
          "base_uri": "https://localhost:8080/"
        },
        "outputId": "6a33e127-1d87-442b-9013-5a82180ecbe2"
      },
      "outputs": [
        {
          "output_type": "stream",
          "name": "stdout",
          "text": [
            "Looking in indexes: https://pypi.org/simple, https://us-python.pkg.dev/colab-wheels/public/simple/\n",
            "Requirement already satisfied: missingpy in /usr/local/lib/python3.8/dist-packages (0.2.0)\n"
          ]
        }
      ],
      "source": [
        "import sys\n",
        "import sklearn.neighbors._base\n",
        "sys.modules['sklearn.neighbors.base'] = sklearn.neighbors._base\n",
        "!pip install missingpy\n",
        "import missingpy\n",
        "from missingpy import MissForest\n",
        "from sklearn.metrics import mean_squared_error"
      ]
    },
    {
      "cell_type": "code",
      "execution_count": null,
      "metadata": {
        "id": "2NhmjytlxJGN"
      },
      "outputs": [],
      "source": [
        "t_start = time.time()\n",
        "MF50_imputer = MissForest()\n",
        "for i in range(1,1001):\n",
        "  globals()[f'imputed_mf50_{i}'] = MF50_imputer.fit_transform(globals()[f'Alkaline_Phos5{i}'].copy()) #for loop miss forest impputation \n",
        "  globals()[f'MSE_MF50_{i}'] = mean_squared_error(data, globals()[f'imputed_mf50_{i}']) # for loop mean_squared_error\n",
        "t_end = time.time()\n",
        "t50_MF = (t_end- t_start)"
      ]
    },
    {
      "cell_type": "code",
      "execution_count": 81,
      "metadata": {
        "id": "1nNQI2G8xJGN",
        "colab": {
          "base_uri": "https://localhost:8080/"
        },
        "outputId": "cb05eac9-1438-4887-d17a-1cee6d085900"
      },
      "outputs": [
        {
          "output_type": "stream",
          "name": "stdout",
          "text": [
            "AMSE_Alkaline_Phos5_mf = 0.8341806830065353\n",
            "เวลาที่ใช้ในการประมวลผล 0.0012030601501464844 วินาที\n",
            "เวลาที่ใช้ในการประมวลผล 2.0051002502441405e-05 นาที\n"
          ]
        }
      ],
      "source": [
        "t_start = time.time()\n",
        "mse_mf50_total = 0 \n",
        "MSE_MF50_1001 = 0\n",
        "for i in range(0,1001):\n",
        "  mse_mf50_total = mse_mf50_total + globals()[f'MSE_MF50_{i+1}']\n",
        "AMSE_Alkaline_Phos5_mf = mse_mf50_total/1000\n",
        "print(f'AMSE_Alkaline_Phos5_mf = {AMSE_Alkaline_Phos5_mf}')\n",
        "t_end = time.time()\n",
        "print(f'เวลาที่ใช้ในการประมวลผล {t_end- t_start} วินาที')\n",
        "print(f'เวลาที่ใช้ในการประมวลผล {(t_end- t_start)/60} นาที')"
      ]
    },
    {
      "cell_type": "markdown",
      "metadata": {
        "id": "CTek1P-HxJGN"
      },
      "source": [
        "## Imputation using the KNN"
      ]
    },
    {
      "cell_type": "code",
      "execution_count": 82,
      "metadata": {
        "id": "WgRrhETZxJGN"
      },
      "outputs": [],
      "source": [
        "from sklearn import neighbors\n",
        "from sklearn.impute import KNNImputer"
      ]
    },
    {
      "cell_type": "code",
      "execution_count": 83,
      "metadata": {
        "id": "B3nXS3c3xJGN"
      },
      "outputs": [],
      "source": [
        "t_start = time.time()\n",
        "KNN50_imputer = KNNImputer(n_neighbors = 15)\n",
        "for i in range(1,1001):\n",
        "  globals()[f'imputed_KNN50_{i}'] = KNN30_imputer.fit_transform(globals()[f'Alkaline_Phos5{i}'].copy())\n",
        "  globals()[f'MSE_KNN50_{i}'] = mean_squared_error(data, globals()[f'imputed_KNN50_{i}'])\n",
        "t_end = time.time()\n",
        "t50_KNN = (t_end- t_start)"
      ]
    },
    {
      "cell_type": "code",
      "execution_count": 84,
      "metadata": {
        "id": "RL45RGOJxJGN",
        "colab": {
          "base_uri": "https://localhost:8080/"
        },
        "outputId": "deb36483-457b-4ed0-d8eb-cf3849abeb86"
      },
      "outputs": [
        {
          "output_type": "stream",
          "name": "stdout",
          "text": [
            "AMSE_Alkaline_Phos5_knn = 0.8322797799005645\n",
            "เวลาที่ใช้ในการประมวลผล 0.0012240409851074219 วินาที\n",
            "เวลาที่ใช้ในการประมวลผล 2.0400683085123697e-05 นาที\n"
          ]
        }
      ],
      "source": [
        "t_start = time.time()\n",
        "mse_knn50_total = 0 \n",
        "MSE_KNN50_1001 = 0\n",
        "for i in range(1,1001):\n",
        "  mse_knn50_total = mse_knn30_total + globals()[f'MSE_KNN50_{i}']\n",
        "AMSE_Alkaline_Phos5_knn = mse_knn30_total/1000\n",
        "print(f'AMSE_Alkaline_Phos5_knn = {AMSE_Alkaline_Phos5_knn}')\n",
        "t_end = time.time()\n",
        "print(f'เวลาที่ใช้ในการประมวลผล {t_end- t_start} วินาที')\n",
        "print(f'เวลาที่ใช้ในการประมวลผล {(t_end- t_start)/60} นาที')"
      ]
    },
    {
      "cell_type": "markdown",
      "metadata": {
        "id": "91Jd7pYDxJGN"
      },
      "source": [
        "## Imputation using the MICE"
      ]
    },
    {
      "cell_type": "code",
      "execution_count": 85,
      "metadata": {
        "id": "SsRXVmwAxJGN"
      },
      "outputs": [],
      "source": [
        "from sklearn.experimental import enable_iterative_imputer\n",
        "from sklearn.impute import IterativeImputer\n",
        "from sklearn.linear_model import LinearRegression\n",
        "from sklearn import svm"
      ]
    },
    {
      "cell_type": "markdown",
      "metadata": {
        "id": "n1Ve627wxJGN"
      },
      "source": [
        "### LinearRegression model"
      ]
    },
    {
      "cell_type": "code",
      "execution_count": null,
      "metadata": {
        "id": "YuqcjeD8xJGN"
      },
      "outputs": [],
      "source": [
        "t_start = time.time()\n",
        "lr = LinearRegression()\n",
        "for i in range(1,1001):\n",
        "  imp50 = IterativeImputer(estimator= lr , max_iter= 10, verbose=2, imputation_order='roman',initial_strategy = 'mean',random_state= i)\n",
        "  globals()[f'imputed_lr50_{i}'] = imp50.fit_transform(globals()[f'Alkaline_Phos5{i}'].copy())\n",
        "  globals()[f'MSE_lr50_{i}'] = mean_squared_error(data, globals()[f'imputed_lr50_{i}'])\n",
        "t_end = time.time()\n",
        "t50_LR = (t_end- t_start)"
      ]
    },
    {
      "cell_type": "code",
      "execution_count": 87,
      "metadata": {
        "id": "XS09mcJPxJGO",
        "colab": {
          "base_uri": "https://localhost:8080/"
        },
        "outputId": "266980cb-c93f-49a4-aea5-80cae82e2562"
      },
      "outputs": [
        {
          "output_type": "stream",
          "name": "stdout",
          "text": [
            "AMSE_Alkaline_Phos5_lr = 0.9994145765286515\n",
            "เวลาที่ใช้ในการประมวลผล 0.0012159347534179688 วินาที\n",
            "เวลาที่ใช้ในการประมวลผล 2.0265579223632812e-05 นาที\n"
          ]
        }
      ],
      "source": [
        "t_start = time.time()\n",
        "mse_lr50_total = 0 \n",
        "MSE_lr50_1001 = 0\n",
        "for i in range(1,1001):\n",
        "  mse_lr50_total = mse_lr50_total + globals()[f'MSE_lr50_{i}']\n",
        "AMSE_Alkaline_Phos5_lr = mse_lr50_total/1000\n",
        "print(f'AMSE_Alkaline_Phos5_lr = {AMSE_Alkaline_Phos5_lr}')\n",
        "t_end = time.time()\n",
        "print(f'เวลาที่ใช้ในการประมวลผล {t_end- t_start} วินาที')\n",
        "print(f'เวลาที่ใช้ในการประมวลผล {(t_end- t_start)/60} นาที')"
      ]
    },
    {
      "cell_type": "markdown",
      "metadata": {
        "id": "3WgsEJaKxJGO"
      },
      "source": [
        "### Support Vector Machine model"
      ]
    },
    {
      "cell_type": "code",
      "execution_count": null,
      "metadata": {
        "id": "4Ao5WPLjxJGO"
      },
      "outputs": [],
      "source": [
        "t_start = time.time()\n",
        "regr = svm.SVR()\n",
        "for i in range(1,1001):\n",
        "  svm_svr = IterativeImputer(estimator= regr, max_iter= 10, verbose=2, imputation_order='roman',initial_strategy = 'mean',random_state= i)\n",
        "  globals()[f'imputed_svm50_{i}'] = svm_svr.fit_transform(globals()[f'Alkaline_Phos5{i}'].copy())\n",
        "  globals()[f'MSE_svm50_{i}'] = mean_squared_error(data, globals()[f'imputed_svm50_{i}'])\n",
        "t_end = time.time()\n",
        "t50_SVM = (t_end- t_start)"
      ]
    },
    {
      "cell_type": "code",
      "execution_count": 89,
      "metadata": {
        "id": "JQAn3b4fxJGO",
        "colab": {
          "base_uri": "https://localhost:8080/"
        },
        "outputId": "d2ac1095-8f27-4d19-f3e9-c3720e262e76"
      },
      "outputs": [
        {
          "output_type": "stream",
          "name": "stdout",
          "text": [
            "AMSE_Alkaline_Phos5_svm = 0.8614920886933973\n",
            "เวลาที่ใช้ในการประมวลผล 0.001169443130493164 วินาที\n",
            "เวลาที่ใช้ในการประมวลผล 1.9490718841552734e-05 นาที\n"
          ]
        }
      ],
      "source": [
        "t_start = time.time()\n",
        "mse_svm50_total = 0 \n",
        "MSE_svm50_1001 = 0\n",
        "for i in range(1,1001):\n",
        "  mse_svm50_total = mse_svm50_total + globals()[f'MSE_svm50_{i}']\n",
        "AMSE_Alkaline_Phos5_svm = mse_svm50_total/1000\n",
        "print(f'AMSE_Alkaline_Phos5_svm = {AMSE_Alkaline_Phos5_svm}')\n",
        "t_end = time.time()\n",
        "print(f'เวลาที่ใช้ในการประมวลผล {t_end- t_start} วินาที')\n",
        "print(f'เวลาที่ใช้ในการประมวลผล {(t_end- t_start)/60} นาที')"
      ]
    },
    {
      "cell_type": "markdown",
      "metadata": {
        "id": "tRupRwupxJGO"
      },
      "source": [
        "## Imputation using the EM"
      ]
    },
    {
      "cell_type": "markdown",
      "metadata": {
        "id": "QB8VR4fixJGO"
      },
      "source": [
        "### impy.em"
      ]
    },
    {
      "cell_type": "code",
      "execution_count": 90,
      "metadata": {
        "id": "fHHrWk7PxJGO",
        "colab": {
          "base_uri": "https://localhost:8080/"
        },
        "outputId": "ef8a740d-5301-41ae-f1b8-4fb1b5f9dd69"
      },
      "outputs": [
        {
          "output_type": "stream",
          "name": "stdout",
          "text": [
            "Looking in indexes: https://pypi.org/simple, https://us-python.pkg.dev/colab-wheels/public/simple/\n",
            "Requirement already satisfied: impyute in /usr/local/lib/python3.8/dist-packages (0.0.8)\n",
            "Requirement already satisfied: numpy in /usr/local/lib/python3.8/dist-packages (from impyute) (1.21.6)\n",
            "Requirement already satisfied: scikit-learn in /usr/local/lib/python3.8/dist-packages (from impyute) (1.0.2)\n",
            "Requirement already satisfied: scipy in /usr/local/lib/python3.8/dist-packages (from impyute) (1.7.3)\n",
            "Requirement already satisfied: threadpoolctl>=2.0.0 in /usr/local/lib/python3.8/dist-packages (from scikit-learn->impyute) (3.1.0)\n",
            "Requirement already satisfied: joblib>=0.11 in /usr/local/lib/python3.8/dist-packages (from scikit-learn->impyute) (1.2.0)\n"
          ]
        }
      ],
      "source": [
        "!pip install impyute\n",
        "import impyute as impy"
      ]
    },
    {
      "cell_type": "code",
      "execution_count": 91,
      "metadata": {
        "id": "cqN-xQHYxJGO"
      },
      "outputs": [],
      "source": [
        "t_start = time.time()\n",
        "for i in range(1,1001):\n",
        "  globals()[f'imputed_impy50_{i}'] = impy.em(globals()[f'Alkaline_Phos5{i}'].values.copy())\n",
        "  globals()[f'MSE_impy50_{i}'] = mean_squared_error(data, globals()[f'imputed_impy50_{i}'])\n",
        "t_end = time.time()\n",
        "t50_EM = (t_end- t_start)"
      ]
    },
    {
      "cell_type": "code",
      "execution_count": 92,
      "metadata": {
        "id": "jBIZfVmnxJGO",
        "colab": {
          "base_uri": "https://localhost:8080/"
        },
        "outputId": "34c22283-2b77-40de-c872-a8d45cba4fc5"
      },
      "outputs": [
        {
          "output_type": "stream",
          "name": "stdout",
          "text": [
            "AMSE_Alkaline_Phos5_impy = 1.6982785729427758\n",
            "เวลาที่ใช้ในการประมวลผล 0.0009489059448242188 วินาที\n",
            "เวลาที่ใช้ในการประมวลผล 1.5815099080403645e-05 นาที\n"
          ]
        }
      ],
      "source": [
        "t_start = time.time()\n",
        "mse_impy50_total = 0 \n",
        "MSE_impy50_1001 = 0\n",
        "for i in range(1,1001):\n",
        "  mse_impy50_total = mse_impy50_total + globals()[f'MSE_impy50_{i}']\n",
        "AMSE_Alkaline_Phos5_impy = mse_impy50_total/1000\n",
        "print(f'AMSE_Alkaline_Phos5_impy = {AMSE_Alkaline_Phos5_impy}')\n",
        "t_end = time.time()\n",
        "print(f'เวลาที่ใช้ในการประมวลผล {t_end- t_start} วินาที')\n",
        "print(f'เวลาที่ใช้ในการประมวลผล {(t_end- t_start)/60} นาที')"
      ]
    },
    {
      "cell_type": "code",
      "execution_count": 92,
      "metadata": {
        "id": "7ghkE3l8LOuR"
      },
      "outputs": [],
      "source": []
    },
    {
      "cell_type": "markdown",
      "metadata": {
        "id": "88K33yckLOxP"
      },
      "source": [
        "# 60 % random nan "
      ]
    },
    {
      "cell_type": "code",
      "execution_count": 93,
      "metadata": {
        "id": "KpNJ2NasN9vS"
      },
      "outputs": [],
      "source": [
        "for i in range(1,1001):\n",
        "  globals()[f'Alkaline_Phos6{i}'] = data.copy() # for loop variable name\n",
        "  np.random.seed(i) # for loop seed\n",
        "  n = int((153*10/100)) \n",
        "  index_nan = np.random.choice(globals()[f'Alkaline_Phos6{i}']['013_Alkaline Phos'].size, n, replace=False)\n",
        "  globals()[f'Alkaline_Phos6{i}']['013_Alkaline Phos'].ravel()[index_nan] = np.nan"
      ]
    },
    {
      "cell_type": "markdown",
      "metadata": {
        "id": "yJcPr6AqxNlS"
      },
      "source": [
        "## Imputation using Mean"
      ]
    },
    {
      "cell_type": "code",
      "execution_count": 94,
      "metadata": {
        "id": "GYvN__ZixNlS"
      },
      "outputs": [],
      "source": [
        "from sklearn.impute import SimpleImputer"
      ]
    },
    {
      "cell_type": "code",
      "execution_count": 95,
      "metadata": {
        "id": "mwaFbWz5xNlS"
      },
      "outputs": [],
      "source": [
        "t_start = time.time()\n",
        "mean60_imputer = SimpleImputer(strategy='mean')\n",
        "for i in range(1,1001):\n",
        "  globals()[f'imputed_mean60_{i}'] = mean60_imputer.fit_transform(globals()[f'Alkaline_Phos6{i}'].copy()) #for loop miss forest impputation \n",
        "  globals()[f'MSE_MEAN60_{i}'] = mean_squared_error(data, globals()[f'imputed_mean60_{i}']) # for loop mean_squared_error\n",
        "t_end = time.time()\n",
        "t60_MEAN = (t_end- t_start)"
      ]
    },
    {
      "cell_type": "code",
      "execution_count": 96,
      "metadata": {
        "id": "83LFmQgyxNlS",
        "colab": {
          "base_uri": "https://localhost:8080/"
        },
        "outputId": "6acc996f-b5f9-4436-9fea-0cf846836a4a"
      },
      "outputs": [
        {
          "output_type": "stream",
          "name": "stdout",
          "text": [
            "AMSE_Alkaline_Phos6_mean = 0.899738305521262\n",
            "เวลาที่ใช้ในการประมวลผล 0.0012705326080322266 วินาที\n",
            "เวลาที่ใช้ในการประมวลผล 2.1175543467203775e-05 นาที\n"
          ]
        }
      ],
      "source": [
        "t_start = time.time()\n",
        "mse_mean60_total = 0 \n",
        "MSE_MEAN60_1001 = 0\n",
        "for i in range(1,1001):\n",
        "  mse_mean60_total = mse_mean60_total + globals()[f'MSE_MEAN60_{i}']\n",
        "AMSE_Alkaline_Phos6_mean = mse_mean60_total/1000\n",
        "print(f'AMSE_Alkaline_Phos6_mean = {AMSE_Alkaline_Phos6_mean}')\n",
        "t_end = time.time()\n",
        "print(f'เวลาที่ใช้ในการประมวลผล {t_end- t_start} วินาที')\n",
        "print(f'เวลาที่ใช้ในการประมวลผล {(t_end- t_start)/60} นาที')"
      ]
    },
    {
      "cell_type": "markdown",
      "metadata": {
        "id": "Yah9QGgaxNlT"
      },
      "source": [
        "## Imputation using the miss forest"
      ]
    },
    {
      "cell_type": "code",
      "execution_count": 97,
      "metadata": {
        "id": "iemphgiHxNlT",
        "colab": {
          "base_uri": "https://localhost:8080/"
        },
        "outputId": "6c996852-96a7-4a5f-832a-34d753c8b804"
      },
      "outputs": [
        {
          "output_type": "stream",
          "name": "stdout",
          "text": [
            "Looking in indexes: https://pypi.org/simple, https://us-python.pkg.dev/colab-wheels/public/simple/\n",
            "Requirement already satisfied: missingpy in /usr/local/lib/python3.8/dist-packages (0.2.0)\n"
          ]
        }
      ],
      "source": [
        "import sys\n",
        "import sklearn.neighbors._base\n",
        "sys.modules['sklearn.neighbors.base'] = sklearn.neighbors._base\n",
        "!pip install missingpy\n",
        "import missingpy\n",
        "from missingpy import MissForest\n",
        "from sklearn.metrics import mean_squared_error"
      ]
    },
    {
      "cell_type": "code",
      "execution_count": null,
      "metadata": {
        "id": "IgWVTn3sxNlT"
      },
      "outputs": [],
      "source": [
        "t_start = time.time()\n",
        "MF60_imputer = MissForest()\n",
        "for i in range(1,1001):\n",
        "  globals()[f'imputed_mf60_{i}'] = MF60_imputer.fit_transform(globals()[f'Alkaline_Phos6{i}'].copy()) #for loop miss forest impputation \n",
        "  globals()[f'MSE_MF60_{i}'] = mean_squared_error(data, globals()[f'imputed_mf60_{i}']) # for loop mean_squared_error\n",
        "t_end = time.time()\n",
        "t60_MF = (t_end- t_start)"
      ]
    },
    {
      "cell_type": "code",
      "execution_count": 99,
      "metadata": {
        "id": "McMLT0_axNlT",
        "colab": {
          "base_uri": "https://localhost:8080/"
        },
        "outputId": "40b2da88-0262-42b1-af9f-ba07a2483f3e"
      },
      "outputs": [
        {
          "output_type": "stream",
          "name": "stdout",
          "text": [
            "AMSE_Alkaline_Phos6_mf = 0.8341806830065353\n",
            "เวลาที่ใช้ในการประมวลผล 0.001331329345703125 วินาที\n",
            "เวลาที่ใช้ในการประมวลผล 2.2188822428385416e-05 นาที\n"
          ]
        }
      ],
      "source": [
        "t_start = time.time()\n",
        "mse_mf60_total = 0 \n",
        "MSE_MF60_1001 = 0\n",
        "for i in range(1,1001):\n",
        "  mse_mf60_total = mse_mf60_total + globals()[f'MSE_MF60_{i}']\n",
        "AMSE_Alkaline_Phos6_mf = mse_mf60_total/1000\n",
        "print(f'AMSE_Alkaline_Phos6_mf = {AMSE_Alkaline_Phos6_mf}')\n",
        "t_end = time.time()\n",
        "print(f'เวลาที่ใช้ในการประมวลผล {t_end- t_start} วินาที')\n",
        "print(f'เวลาที่ใช้ในการประมวลผล {(t_end- t_start)/60} นาที')"
      ]
    },
    {
      "cell_type": "markdown",
      "metadata": {
        "id": "zSkA4iezxNlT"
      },
      "source": [
        "## Imputation using the KNN"
      ]
    },
    {
      "cell_type": "code",
      "execution_count": 100,
      "metadata": {
        "id": "sdViCAcqxNlT"
      },
      "outputs": [],
      "source": [
        "from sklearn import neighbors\n",
        "from sklearn.impute import KNNImputer"
      ]
    },
    {
      "cell_type": "code",
      "execution_count": 101,
      "metadata": {
        "id": "CaTlV9cExNlT"
      },
      "outputs": [],
      "source": [
        "t_start = time.time()\n",
        "KNN60_imputer = KNNImputer(n_neighbors = 15)\n",
        "for i in range(1,1001):\n",
        "  globals()[f'imputed_KNN60_{i}'] = KNN60_imputer.fit_transform(globals()[f'Alkaline_Phos6{i}'].copy())\n",
        "  globals()[f'MSE_KNN60_{i}'] = mean_squared_error(data, globals()[f'imputed_KNN60_{i}'])\n",
        "t_end = time.time()\n",
        "t60_KNN = (t_end- t_start)"
      ]
    },
    {
      "cell_type": "code",
      "execution_count": 102,
      "metadata": {
        "id": "W3q7WkSvxNlT",
        "colab": {
          "base_uri": "https://localhost:8080/"
        },
        "outputId": "cd9bc685-c719-4451-a4c4-09047ec99c44"
      },
      "outputs": [
        {
          "output_type": "stream",
          "name": "stdout",
          "text": [
            "AMSE_Alkaline_Phos6_knn = 0.8322797799005645\n",
            "เวลาที่ใช้ในการประมวลผล 0.0009937286376953125 วินาที\n",
            "เวลาที่ใช้ในการประมวลผล 1.6562143961588542e-05 นาที\n"
          ]
        }
      ],
      "source": [
        "t_start = time.time()\n",
        "mse_knn60_total = 0 \n",
        "MSE_KNN60_1001 = 0\n",
        "for i in range(1,1001):\n",
        "  mse_knn60_total = mse_knn60_total + globals()[f'MSE_KNN60_{i}']\n",
        "AMSE_Alkaline_Phos6_knn = mse_knn60_total/1000\n",
        "print(f'AMSE_Alkaline_Phos6_knn = {AMSE_Alkaline_Phos6_knn}')\n",
        "t_end = time.time()\n",
        "print(f'เวลาที่ใช้ในการประมวลผล {t_end- t_start} วินาที')\n",
        "print(f'เวลาที่ใช้ในการประมวลผล {(t_end- t_start)/60} นาที')"
      ]
    },
    {
      "cell_type": "markdown",
      "metadata": {
        "id": "CiQPljY3xNlT"
      },
      "source": [
        "## Imputation using the MICE"
      ]
    },
    {
      "cell_type": "code",
      "execution_count": 103,
      "metadata": {
        "id": "AFJlOHBKxNlT"
      },
      "outputs": [],
      "source": [
        "from sklearn.experimental import enable_iterative_imputer\n",
        "from sklearn.impute import IterativeImputer\n",
        "from sklearn.linear_model import LinearRegression\n",
        "from sklearn import svm"
      ]
    },
    {
      "cell_type": "markdown",
      "metadata": {
        "id": "fIzzFLZ1xNlU"
      },
      "source": [
        "### LinearRegression model"
      ]
    },
    {
      "cell_type": "code",
      "execution_count": null,
      "metadata": {
        "id": "5dUEJCKvxNlU"
      },
      "outputs": [],
      "source": [
        "t_start = time.time()\n",
        "lr = LinearRegression()\n",
        "for i in range(1,1001):\n",
        "  imp60 = IterativeImputer(estimator= lr , max_iter= 10, verbose=2, imputation_order='roman',initial_strategy = 'mean',random_state= i)\n",
        "  globals()[f'imputed_lr60_{i}'] = imp60.fit_transform(globals()[f'Alkaline_Phos6{i}'].copy())\n",
        "  globals()[f'MSE_lr60_{i}'] = mean_squared_error(data, globals()[f'imputed_lr60_{i}'])\n",
        "t_end = time.time()\n",
        "t60_LR = (t_end- t_start)"
      ]
    },
    {
      "cell_type": "code",
      "execution_count": 105,
      "metadata": {
        "id": "BsT5i34JxNlU",
        "colab": {
          "base_uri": "https://localhost:8080/"
        },
        "outputId": "f9e64ffd-ff83-48dc-f591-0192e66a2dcb"
      },
      "outputs": [
        {
          "output_type": "stream",
          "name": "stdout",
          "text": [
            "AMSE_Alkaline_Phos6_lr = 0.9994145765286515\n",
            "เวลาที่ใช้ในการประมวลผล 0.0009784698486328125 วินาที\n",
            "เวลาที่ใช้ในการประมวลผล 1.6307830810546876e-05 นาที\n"
          ]
        }
      ],
      "source": [
        "t_start = time.time()\n",
        "mse_lr60_total = 0 \n",
        "MSE_lr60_1001 = 0\n",
        "for i in range(1,1001):\n",
        "  mse_lr60_total = mse_lr60_total + globals()[f'MSE_lr60_{i}']\n",
        "AMSE_Alkaline_Phos6_lr = mse_lr60_total/1000\n",
        "print(f'AMSE_Alkaline_Phos6_lr = {AMSE_Alkaline_Phos6_lr}')\n",
        "t_end = time.time()\n",
        "print(f'เวลาที่ใช้ในการประมวลผล {t_end- t_start} วินาที')\n",
        "print(f'เวลาที่ใช้ในการประมวลผล {(t_end- t_start)/60} นาที')"
      ]
    },
    {
      "cell_type": "markdown",
      "metadata": {
        "id": "ipBIRd7uxNlU"
      },
      "source": [
        "### Support Vector Machine model"
      ]
    },
    {
      "cell_type": "code",
      "execution_count": null,
      "metadata": {
        "id": "Lg7rddJ_xNlU"
      },
      "outputs": [],
      "source": [
        "t_start = time.time()\n",
        "regr = svm.SVR()\n",
        "for i in range(1,1001):\n",
        "  svm_svr = IterativeImputer(estimator= regr, max_iter= 10, verbose=2, imputation_order='roman',initial_strategy = 'mean',random_state= i)\n",
        "  globals()[f'imputed_svm60_{i}'] = svm_svr.fit_transform(globals()[f'Alkaline_Phos6{i}'].copy())\n",
        "  globals()[f'MSE_svm60_{i}'] = mean_squared_error(data, globals()[f'imputed_svm60_{i}'])\n",
        "t_end = time.time()\n",
        "t60_SVM = (t_end- t_start)"
      ]
    },
    {
      "cell_type": "code",
      "execution_count": 107,
      "metadata": {
        "id": "_Q000ZcGxNlU",
        "colab": {
          "base_uri": "https://localhost:8080/"
        },
        "outputId": "98f47b59-d28c-44f4-b8f8-7d4ad4c8bd77"
      },
      "outputs": [
        {
          "output_type": "stream",
          "name": "stdout",
          "text": [
            "AMSE_Alkaline_Phos6_svm = 0.8614920886933973\n",
            "เวลาที่ใช้ในการประมวลผล 0.0009737014770507812 วินาที\n",
            "เวลาที่ใช้ในการประมวลผล 1.6228357950846353e-05 นาที\n"
          ]
        }
      ],
      "source": [
        "t_start = time.time()\n",
        "mse_svm60_total = 0 \n",
        "MSE_svm60_1001 = 0\n",
        "for i in range(1,1001):\n",
        "  mse_svm60_total = mse_svm60_total + globals()[f'MSE_svm60_{i}']\n",
        "AMSE_Alkaline_Phos6_svm = mse_svm60_total/1000\n",
        "print(f'AMSE_Alkaline_Phos6_svm = {AMSE_Alkaline_Phos6_svm}')\n",
        "t_end = time.time()\n",
        "print(f'เวลาที่ใช้ในการประมวลผล {t_end- t_start} วินาที')\n",
        "print(f'เวลาที่ใช้ในการประมวลผล {(t_end- t_start)/60} นาที')"
      ]
    },
    {
      "cell_type": "markdown",
      "metadata": {
        "id": "zKY3uyc-xNlU"
      },
      "source": [
        "## Imputation using the EM"
      ]
    },
    {
      "cell_type": "markdown",
      "metadata": {
        "id": "NUSi_0_HxNlU"
      },
      "source": [
        "### impy.em"
      ]
    },
    {
      "cell_type": "code",
      "execution_count": 108,
      "metadata": {
        "id": "dsQH_icHxNlU",
        "colab": {
          "base_uri": "https://localhost:8080/"
        },
        "outputId": "9ee5eff8-2ce4-4644-d48b-69b368050565"
      },
      "outputs": [
        {
          "output_type": "stream",
          "name": "stdout",
          "text": [
            "Looking in indexes: https://pypi.org/simple, https://us-python.pkg.dev/colab-wheels/public/simple/\n",
            "Requirement already satisfied: impyute in /usr/local/lib/python3.8/dist-packages (0.0.8)\n",
            "Requirement already satisfied: scipy in /usr/local/lib/python3.8/dist-packages (from impyute) (1.7.3)\n",
            "Requirement already satisfied: scikit-learn in /usr/local/lib/python3.8/dist-packages (from impyute) (1.0.2)\n",
            "Requirement already satisfied: numpy in /usr/local/lib/python3.8/dist-packages (from impyute) (1.21.6)\n",
            "Requirement already satisfied: joblib>=0.11 in /usr/local/lib/python3.8/dist-packages (from scikit-learn->impyute) (1.2.0)\n",
            "Requirement already satisfied: threadpoolctl>=2.0.0 in /usr/local/lib/python3.8/dist-packages (from scikit-learn->impyute) (3.1.0)\n"
          ]
        }
      ],
      "source": [
        "!pip install impyute\n",
        "import impyute as impy"
      ]
    },
    {
      "cell_type": "code",
      "execution_count": 109,
      "metadata": {
        "id": "BeZYd_QAxNlU"
      },
      "outputs": [],
      "source": [
        "t_start = time.time()\n",
        "for i in range(1,1001):\n",
        "  globals()[f'imputed_impy60_{i}'] = impy.em(globals()[f'Alkaline_Phos6{i}'].values.copy())\n",
        "  globals()[f'MSE_impy60_{i}'] = mean_squared_error(data, globals()[f'imputed_impy60_{i}'])\n",
        "t_end = time.time()\n",
        "t60_EM = (t_end- t_start)"
      ]
    },
    {
      "cell_type": "code",
      "execution_count": 110,
      "metadata": {
        "id": "-P6bFMcIxNlV",
        "colab": {
          "base_uri": "https://localhost:8080/"
        },
        "outputId": "d390d1ab-bfd3-4862-e2ca-bfae6b4bd495"
      },
      "outputs": [
        {
          "output_type": "stream",
          "name": "stdout",
          "text": [
            "AMSE_Alkaline_Phos6_impy = 1.6982785729427758\n",
            "เวลาที่ใช้ในการประมวลผล 0.00128936767578125 วินาที\n",
            "เวลาที่ใช้ในการประมวลผล 2.1489461263020835e-05 นาที\n"
          ]
        }
      ],
      "source": [
        "t_start = time.time()\n",
        "mse_impy60_total = 0 \n",
        "MSE_impy60_1001 = 0\n",
        "for i in range(1,1001):\n",
        "  mse_impy60_total = mse_impy60_total + globals()[f'MSE_impy60_{i}']\n",
        "AMSE_Alkaline_Phos6_impy = mse_impy60_total/1000\n",
        "print(f'AMSE_Alkaline_Phos6_impy = {AMSE_Alkaline_Phos6_impy}')\n",
        "t_end = time.time()\n",
        "print(f'เวลาที่ใช้ในการประมวลผล {t_end- t_start} วินาที')\n",
        "print(f'เวลาที่ใช้ในการประมวลผล {(t_end- t_start)/60} นาที')"
      ]
    },
    {
      "cell_type": "markdown",
      "metadata": {
        "id": "WAEeUftzBw-9"
      },
      "source": [
        "# AMSE"
      ]
    },
    {
      "cell_type": "code",
      "execution_count": 111,
      "metadata": {
        "id": "x6plIFznBy3z"
      },
      "outputs": [],
      "source": [
        "amse_value = {'Method':['MEAN','Miss Forest','KNN','MICE-LR','MICE-SVM','EM'],\n",
        "              '10%':[AMSE_Alkaline_Phos1_mean,AMSE_Alkaline_Phos1_mf,AMSE_Alkaline_Phos1_knn,AMSE_Alkaline_Phos1_lr,AMSE_Alkaline_Phos1_svm,AMSE_Alkaline_Phos1_impy],\n",
        "      '20%':[AMSE_Alkaline_Phos2_mean,AMSE_Alkaline_Phos2_mf,AMSE_Alkaline_Phos2_knn,AMSE_Alkaline_Phos2_lr,AMSE_Alkaline_Phos2_svm,AMSE_Alkaline_Phos2_impy],\n",
        "      '30%':[AMSE_Alkaline_Phos3_mean,AMSE_Alkaline_Phos3_mf,AMSE_Alkaline_Phos3_knn,AMSE_Alkaline_Phos3_lr,AMSE_Alkaline_Phos3_svm,AMSE_Alkaline_Phos3_impy],\n",
        "      '40%':[AMSE_Alkaline_Phos4_mean,AMSE_Alkaline_Phos4_mf,AMSE_Alkaline_Phos4_knn,AMSE_Alkaline_Phos4_lr,AMSE_Alkaline_Phos4_svm,AMSE_Alkaline_Phos4_impy],\n",
        "      '50%':[AMSE_Alkaline_Phos5_mean,AMSE_Alkaline_Phos5_mf,AMSE_Alkaline_Phos5_knn,AMSE_Alkaline_Phos5_lr,AMSE_Alkaline_Phos5_svm,AMSE_Alkaline_Phos5_impy]\n",
        "      ,'60%':[AMSE_Alkaline_Phos6_mean,AMSE_Alkaline_Phos6_mf,AMSE_Alkaline_Phos6_knn,AMSE_Alkaline_Phos6_lr,AMSE_Alkaline_Phos6_svm,AMSE_Alkaline_Phos6_impy]}"
      ]
    },
    {
      "cell_type": "code",
      "execution_count": 112,
      "metadata": {
        "id": "HoKT3tf0BzV7",
        "colab": {
          "base_uri": "https://localhost:8080/",
          "height": 237
        },
        "outputId": "f4872a87-b1e3-4b87-8605-74b2278ba404"
      },
      "outputs": [
        {
          "output_type": "execute_result",
          "data": {
            "text/plain": [
              "        Method       10%       20%       30%       40%       50%       60%\n",
              "0         MEAN  0.899738  0.899738  0.899738  0.899738  0.899738  0.899738\n",
              "1  Miss Forest  0.834181  0.834181  0.834181  0.834181  0.834181  0.834181\n",
              "2          KNN  0.832280  0.832280  0.832280  0.832280  0.832280  0.832280\n",
              "3      MICE-LR  0.999415  0.999415  0.999415  0.999415  0.999415  0.999415\n",
              "4     MICE-SVM  0.861492  0.861492  0.861492  0.861492  0.861492  0.861492\n",
              "5           EM  1.698279  1.698279  1.698279  1.698279  1.698279  1.698279"
            ],
            "text/html": [
              "\n",
              "  <div id=\"df-3fcc1f62-87a6-43a2-a179-353e088d6ef6\">\n",
              "    <div class=\"colab-df-container\">\n",
              "      <div>\n",
              "<style scoped>\n",
              "    .dataframe tbody tr th:only-of-type {\n",
              "        vertical-align: middle;\n",
              "    }\n",
              "\n",
              "    .dataframe tbody tr th {\n",
              "        vertical-align: top;\n",
              "    }\n",
              "\n",
              "    .dataframe thead th {\n",
              "        text-align: right;\n",
              "    }\n",
              "</style>\n",
              "<table border=\"1\" class=\"dataframe\">\n",
              "  <thead>\n",
              "    <tr style=\"text-align: right;\">\n",
              "      <th></th>\n",
              "      <th>Method</th>\n",
              "      <th>10%</th>\n",
              "      <th>20%</th>\n",
              "      <th>30%</th>\n",
              "      <th>40%</th>\n",
              "      <th>50%</th>\n",
              "      <th>60%</th>\n",
              "    </tr>\n",
              "  </thead>\n",
              "  <tbody>\n",
              "    <tr>\n",
              "      <th>0</th>\n",
              "      <td>MEAN</td>\n",
              "      <td>0.899738</td>\n",
              "      <td>0.899738</td>\n",
              "      <td>0.899738</td>\n",
              "      <td>0.899738</td>\n",
              "      <td>0.899738</td>\n",
              "      <td>0.899738</td>\n",
              "    </tr>\n",
              "    <tr>\n",
              "      <th>1</th>\n",
              "      <td>Miss Forest</td>\n",
              "      <td>0.834181</td>\n",
              "      <td>0.834181</td>\n",
              "      <td>0.834181</td>\n",
              "      <td>0.834181</td>\n",
              "      <td>0.834181</td>\n",
              "      <td>0.834181</td>\n",
              "    </tr>\n",
              "    <tr>\n",
              "      <th>2</th>\n",
              "      <td>KNN</td>\n",
              "      <td>0.832280</td>\n",
              "      <td>0.832280</td>\n",
              "      <td>0.832280</td>\n",
              "      <td>0.832280</td>\n",
              "      <td>0.832280</td>\n",
              "      <td>0.832280</td>\n",
              "    </tr>\n",
              "    <tr>\n",
              "      <th>3</th>\n",
              "      <td>MICE-LR</td>\n",
              "      <td>0.999415</td>\n",
              "      <td>0.999415</td>\n",
              "      <td>0.999415</td>\n",
              "      <td>0.999415</td>\n",
              "      <td>0.999415</td>\n",
              "      <td>0.999415</td>\n",
              "    </tr>\n",
              "    <tr>\n",
              "      <th>4</th>\n",
              "      <td>MICE-SVM</td>\n",
              "      <td>0.861492</td>\n",
              "      <td>0.861492</td>\n",
              "      <td>0.861492</td>\n",
              "      <td>0.861492</td>\n",
              "      <td>0.861492</td>\n",
              "      <td>0.861492</td>\n",
              "    </tr>\n",
              "    <tr>\n",
              "      <th>5</th>\n",
              "      <td>EM</td>\n",
              "      <td>1.698279</td>\n",
              "      <td>1.698279</td>\n",
              "      <td>1.698279</td>\n",
              "      <td>1.698279</td>\n",
              "      <td>1.698279</td>\n",
              "      <td>1.698279</td>\n",
              "    </tr>\n",
              "  </tbody>\n",
              "</table>\n",
              "</div>\n",
              "      <button class=\"colab-df-convert\" onclick=\"convertToInteractive('df-3fcc1f62-87a6-43a2-a179-353e088d6ef6')\"\n",
              "              title=\"Convert this dataframe to an interactive table.\"\n",
              "              style=\"display:none;\">\n",
              "        \n",
              "  <svg xmlns=\"http://www.w3.org/2000/svg\" height=\"24px\"viewBox=\"0 0 24 24\"\n",
              "       width=\"24px\">\n",
              "    <path d=\"M0 0h24v24H0V0z\" fill=\"none\"/>\n",
              "    <path d=\"M18.56 5.44l.94 2.06.94-2.06 2.06-.94-2.06-.94-.94-2.06-.94 2.06-2.06.94zm-11 1L8.5 8.5l.94-2.06 2.06-.94-2.06-.94L8.5 2.5l-.94 2.06-2.06.94zm10 10l.94 2.06.94-2.06 2.06-.94-2.06-.94-.94-2.06-.94 2.06-2.06.94z\"/><path d=\"M17.41 7.96l-1.37-1.37c-.4-.4-.92-.59-1.43-.59-.52 0-1.04.2-1.43.59L10.3 9.45l-7.72 7.72c-.78.78-.78 2.05 0 2.83L4 21.41c.39.39.9.59 1.41.59.51 0 1.02-.2 1.41-.59l7.78-7.78 2.81-2.81c.8-.78.8-2.07 0-2.86zM5.41 20L4 18.59l7.72-7.72 1.47 1.35L5.41 20z\"/>\n",
              "  </svg>\n",
              "      </button>\n",
              "      \n",
              "  <style>\n",
              "    .colab-df-container {\n",
              "      display:flex;\n",
              "      flex-wrap:wrap;\n",
              "      gap: 12px;\n",
              "    }\n",
              "\n",
              "    .colab-df-convert {\n",
              "      background-color: #E8F0FE;\n",
              "      border: none;\n",
              "      border-radius: 50%;\n",
              "      cursor: pointer;\n",
              "      display: none;\n",
              "      fill: #1967D2;\n",
              "      height: 32px;\n",
              "      padding: 0 0 0 0;\n",
              "      width: 32px;\n",
              "    }\n",
              "\n",
              "    .colab-df-convert:hover {\n",
              "      background-color: #E2EBFA;\n",
              "      box-shadow: 0px 1px 2px rgba(60, 64, 67, 0.3), 0px 1px 3px 1px rgba(60, 64, 67, 0.15);\n",
              "      fill: #174EA6;\n",
              "    }\n",
              "\n",
              "    [theme=dark] .colab-df-convert {\n",
              "      background-color: #3B4455;\n",
              "      fill: #D2E3FC;\n",
              "    }\n",
              "\n",
              "    [theme=dark] .colab-df-convert:hover {\n",
              "      background-color: #434B5C;\n",
              "      box-shadow: 0px 1px 3px 1px rgba(0, 0, 0, 0.15);\n",
              "      filter: drop-shadow(0px 1px 2px rgba(0, 0, 0, 0.3));\n",
              "      fill: #FFFFFF;\n",
              "    }\n",
              "  </style>\n",
              "\n",
              "      <script>\n",
              "        const buttonEl =\n",
              "          document.querySelector('#df-3fcc1f62-87a6-43a2-a179-353e088d6ef6 button.colab-df-convert');\n",
              "        buttonEl.style.display =\n",
              "          google.colab.kernel.accessAllowed ? 'block' : 'none';\n",
              "\n",
              "        async function convertToInteractive(key) {\n",
              "          const element = document.querySelector('#df-3fcc1f62-87a6-43a2-a179-353e088d6ef6');\n",
              "          const dataTable =\n",
              "            await google.colab.kernel.invokeFunction('convertToInteractive',\n",
              "                                                     [key], {});\n",
              "          if (!dataTable) return;\n",
              "\n",
              "          const docLinkHtml = 'Like what you see? Visit the ' +\n",
              "            '<a target=\"_blank\" href=https://colab.research.google.com/notebooks/data_table.ipynb>data table notebook</a>'\n",
              "            + ' to learn more about interactive tables.';\n",
              "          element.innerHTML = '';\n",
              "          dataTable['output_type'] = 'display_data';\n",
              "          await google.colab.output.renderOutput(dataTable, element);\n",
              "          const docLink = document.createElement('div');\n",
              "          docLink.innerHTML = docLinkHtml;\n",
              "          element.appendChild(docLink);\n",
              "        }\n",
              "      </script>\n",
              "    </div>\n",
              "  </div>\n",
              "  "
            ]
          },
          "metadata": {},
          "execution_count": 112
        }
      ],
      "source": [
        "data_AMSE = pd.DataFrame.from_dict(amse_value)\n",
        "data_AMSE"
      ]
    },
    {
      "cell_type": "markdown",
      "metadata": {
        "id": "_zhlMnVr3Gy3"
      },
      "source": [
        "# เวลาทั้งหมดในการรัน"
      ]
    },
    {
      "cell_type": "markdown",
      "metadata": {
        "id": "T1nA7nW1Sa3a"
      },
      "source": [
        "## second "
      ]
    },
    {
      "cell_type": "code",
      "execution_count": 113,
      "metadata": {
        "id": "nDAaW3BTp9dK"
      },
      "outputs": [],
      "source": [
        "data_t_sec = {'Method':['MEAN','Miss Forest','KNN','MICE-LR','MICE-SVM','EM'],'10%':[t10_MEAN,t10_MF,t10_KNN,t10_LR,t10_SVM,t10_EM],\n",
        "      '20%':[t20_MEAN,t20_MF,t20_KNN,t20_LR,t20_SVM,t20_EM],'30%':[t30_MEAN,t30_MF,t30_KNN,t30_LR,t30_SVM,t30_EM],'40%':[t40_MEAN,t40_MF,t40_KNN,t40_LR,t40_SVM,t40_EM],\n",
        "      '50%':[t50_MEAN,t50_MF,t50_KNN,t50_LR,t50_SVM,t50_EM],'60%':[t60_MEAN,t60_MF,t60_KNN,t60_LR,t60_SVM,t60_EM]}"
      ]
    },
    {
      "cell_type": "code",
      "execution_count": 114,
      "metadata": {
        "id": "sXKLG_XAr_8U",
        "colab": {
          "base_uri": "https://localhost:8080/",
          "height": 237
        },
        "outputId": "2a040bfe-6f99-4453-9d76-964375d9a157"
      },
      "outputs": [
        {
          "output_type": "execute_result",
          "data": {
            "text/plain": [
              "        Method         10%         20%         30%         40%         50%  \\\n",
              "0         MEAN    4.171329    4.205596    4.265052    4.300585    4.304052   \n",
              "1  Miss Forest  784.552259  792.208812  800.533015  804.760320  839.886104   \n",
              "2          KNN    5.140471    5.162830    5.243922    5.264087    5.302917   \n",
              "3      MICE-LR   58.391170   58.755396   59.931409   59.622598   61.383807   \n",
              "4     MICE-SVM  126.864061  128.752991  129.373526  132.007376  133.763053   \n",
              "5           EM    7.453034    7.463907    6.937186    7.092487    7.118166   \n",
              "\n",
              "          60%  \n",
              "0    4.380969  \n",
              "1  832.208156  \n",
              "2    5.631689  \n",
              "3   61.908356  \n",
              "4  135.407468  \n",
              "5    7.466422  "
            ],
            "text/html": [
              "\n",
              "  <div id=\"df-51c43f98-43f0-4d30-a731-de77a7f9f1af\">\n",
              "    <div class=\"colab-df-container\">\n",
              "      <div>\n",
              "<style scoped>\n",
              "    .dataframe tbody tr th:only-of-type {\n",
              "        vertical-align: middle;\n",
              "    }\n",
              "\n",
              "    .dataframe tbody tr th {\n",
              "        vertical-align: top;\n",
              "    }\n",
              "\n",
              "    .dataframe thead th {\n",
              "        text-align: right;\n",
              "    }\n",
              "</style>\n",
              "<table border=\"1\" class=\"dataframe\">\n",
              "  <thead>\n",
              "    <tr style=\"text-align: right;\">\n",
              "      <th></th>\n",
              "      <th>Method</th>\n",
              "      <th>10%</th>\n",
              "      <th>20%</th>\n",
              "      <th>30%</th>\n",
              "      <th>40%</th>\n",
              "      <th>50%</th>\n",
              "      <th>60%</th>\n",
              "    </tr>\n",
              "  </thead>\n",
              "  <tbody>\n",
              "    <tr>\n",
              "      <th>0</th>\n",
              "      <td>MEAN</td>\n",
              "      <td>4.171329</td>\n",
              "      <td>4.205596</td>\n",
              "      <td>4.265052</td>\n",
              "      <td>4.300585</td>\n",
              "      <td>4.304052</td>\n",
              "      <td>4.380969</td>\n",
              "    </tr>\n",
              "    <tr>\n",
              "      <th>1</th>\n",
              "      <td>Miss Forest</td>\n",
              "      <td>784.552259</td>\n",
              "      <td>792.208812</td>\n",
              "      <td>800.533015</td>\n",
              "      <td>804.760320</td>\n",
              "      <td>839.886104</td>\n",
              "      <td>832.208156</td>\n",
              "    </tr>\n",
              "    <tr>\n",
              "      <th>2</th>\n",
              "      <td>KNN</td>\n",
              "      <td>5.140471</td>\n",
              "      <td>5.162830</td>\n",
              "      <td>5.243922</td>\n",
              "      <td>5.264087</td>\n",
              "      <td>5.302917</td>\n",
              "      <td>5.631689</td>\n",
              "    </tr>\n",
              "    <tr>\n",
              "      <th>3</th>\n",
              "      <td>MICE-LR</td>\n",
              "      <td>58.391170</td>\n",
              "      <td>58.755396</td>\n",
              "      <td>59.931409</td>\n",
              "      <td>59.622598</td>\n",
              "      <td>61.383807</td>\n",
              "      <td>61.908356</td>\n",
              "    </tr>\n",
              "    <tr>\n",
              "      <th>4</th>\n",
              "      <td>MICE-SVM</td>\n",
              "      <td>126.864061</td>\n",
              "      <td>128.752991</td>\n",
              "      <td>129.373526</td>\n",
              "      <td>132.007376</td>\n",
              "      <td>133.763053</td>\n",
              "      <td>135.407468</td>\n",
              "    </tr>\n",
              "    <tr>\n",
              "      <th>5</th>\n",
              "      <td>EM</td>\n",
              "      <td>7.453034</td>\n",
              "      <td>7.463907</td>\n",
              "      <td>6.937186</td>\n",
              "      <td>7.092487</td>\n",
              "      <td>7.118166</td>\n",
              "      <td>7.466422</td>\n",
              "    </tr>\n",
              "  </tbody>\n",
              "</table>\n",
              "</div>\n",
              "      <button class=\"colab-df-convert\" onclick=\"convertToInteractive('df-51c43f98-43f0-4d30-a731-de77a7f9f1af')\"\n",
              "              title=\"Convert this dataframe to an interactive table.\"\n",
              "              style=\"display:none;\">\n",
              "        \n",
              "  <svg xmlns=\"http://www.w3.org/2000/svg\" height=\"24px\"viewBox=\"0 0 24 24\"\n",
              "       width=\"24px\">\n",
              "    <path d=\"M0 0h24v24H0V0z\" fill=\"none\"/>\n",
              "    <path d=\"M18.56 5.44l.94 2.06.94-2.06 2.06-.94-2.06-.94-.94-2.06-.94 2.06-2.06.94zm-11 1L8.5 8.5l.94-2.06 2.06-.94-2.06-.94L8.5 2.5l-.94 2.06-2.06.94zm10 10l.94 2.06.94-2.06 2.06-.94-2.06-.94-.94-2.06-.94 2.06-2.06.94z\"/><path d=\"M17.41 7.96l-1.37-1.37c-.4-.4-.92-.59-1.43-.59-.52 0-1.04.2-1.43.59L10.3 9.45l-7.72 7.72c-.78.78-.78 2.05 0 2.83L4 21.41c.39.39.9.59 1.41.59.51 0 1.02-.2 1.41-.59l7.78-7.78 2.81-2.81c.8-.78.8-2.07 0-2.86zM5.41 20L4 18.59l7.72-7.72 1.47 1.35L5.41 20z\"/>\n",
              "  </svg>\n",
              "      </button>\n",
              "      \n",
              "  <style>\n",
              "    .colab-df-container {\n",
              "      display:flex;\n",
              "      flex-wrap:wrap;\n",
              "      gap: 12px;\n",
              "    }\n",
              "\n",
              "    .colab-df-convert {\n",
              "      background-color: #E8F0FE;\n",
              "      border: none;\n",
              "      border-radius: 50%;\n",
              "      cursor: pointer;\n",
              "      display: none;\n",
              "      fill: #1967D2;\n",
              "      height: 32px;\n",
              "      padding: 0 0 0 0;\n",
              "      width: 32px;\n",
              "    }\n",
              "\n",
              "    .colab-df-convert:hover {\n",
              "      background-color: #E2EBFA;\n",
              "      box-shadow: 0px 1px 2px rgba(60, 64, 67, 0.3), 0px 1px 3px 1px rgba(60, 64, 67, 0.15);\n",
              "      fill: #174EA6;\n",
              "    }\n",
              "\n",
              "    [theme=dark] .colab-df-convert {\n",
              "      background-color: #3B4455;\n",
              "      fill: #D2E3FC;\n",
              "    }\n",
              "\n",
              "    [theme=dark] .colab-df-convert:hover {\n",
              "      background-color: #434B5C;\n",
              "      box-shadow: 0px 1px 3px 1px rgba(0, 0, 0, 0.15);\n",
              "      filter: drop-shadow(0px 1px 2px rgba(0, 0, 0, 0.3));\n",
              "      fill: #FFFFFF;\n",
              "    }\n",
              "  </style>\n",
              "\n",
              "      <script>\n",
              "        const buttonEl =\n",
              "          document.querySelector('#df-51c43f98-43f0-4d30-a731-de77a7f9f1af button.colab-df-convert');\n",
              "        buttonEl.style.display =\n",
              "          google.colab.kernel.accessAllowed ? 'block' : 'none';\n",
              "\n",
              "        async function convertToInteractive(key) {\n",
              "          const element = document.querySelector('#df-51c43f98-43f0-4d30-a731-de77a7f9f1af');\n",
              "          const dataTable =\n",
              "            await google.colab.kernel.invokeFunction('convertToInteractive',\n",
              "                                                     [key], {});\n",
              "          if (!dataTable) return;\n",
              "\n",
              "          const docLinkHtml = 'Like what you see? Visit the ' +\n",
              "            '<a target=\"_blank\" href=https://colab.research.google.com/notebooks/data_table.ipynb>data table notebook</a>'\n",
              "            + ' to learn more about interactive tables.';\n",
              "          element.innerHTML = '';\n",
              "          dataTable['output_type'] = 'display_data';\n",
              "          await google.colab.output.renderOutput(dataTable, element);\n",
              "          const docLink = document.createElement('div');\n",
              "          docLink.innerHTML = docLinkHtml;\n",
              "          element.appendChild(docLink);\n",
              "        }\n",
              "      </script>\n",
              "    </div>\n",
              "  </div>\n",
              "  "
            ]
          },
          "metadata": {},
          "execution_count": 114
        }
      ],
      "source": [
        "data_second = pd.DataFrame.from_dict(data_t_sec)\n",
        "data_second"
      ]
    },
    {
      "cell_type": "markdown",
      "metadata": {
        "id": "1dgvYfG7buFl"
      },
      "source": [
        "## minutes"
      ]
    },
    {
      "cell_type": "code",
      "execution_count": 115,
      "metadata": {
        "id": "IAW-_u76bKX2"
      },
      "outputs": [],
      "source": [
        "data_t_min = {'Method':['MEAN','Miss Forest','KNN','MICE-LR','MICE-SVM','EM'],'10%':[t10_MEAN/60,t10_MF/60,t10_KNN/60,t10_LR/60,t10_SVM/60,t10_EM/60],\n",
        "      '20%':[t20_MEAN/60,t20_MF/60,t20_KNN/60,t20_LR/60,t20_SVM/60,t20_EM/60],'30%':[t30_MEAN/60,t30_MF/60,t30_KNN/60,t30_LR/60,t30_SVM/60,t30_EM/60]\n",
        "      ,'40%':[t40_MEAN/60,t40_MF/60,t40_KNN/60,t40_LR/60,t40_SVM/60,t40_EM/60],'50%':[t50_MEAN/60,t50_MF/60,t50_KNN/60,t50_LR/60,t50_SVM/60,t50_EM/60],\n",
        "      '60%':[t60_MEAN/60,t60_MF/60,t60_KNN/60,t60_LR/60,t60_SVM/60,t60_EM/60]}"
      ]
    },
    {
      "cell_type": "code",
      "execution_count": 116,
      "metadata": {
        "id": "RfrWwD6fbimt",
        "colab": {
          "base_uri": "https://localhost:8080/",
          "height": 237
        },
        "outputId": "6a20d1f4-1b84-4e2e-91fa-52fff1307e75"
      },
      "outputs": [
        {
          "output_type": "execute_result",
          "data": {
            "text/plain": [
              "        Method        10%        20%        30%        40%        50%  \\\n",
              "0         MEAN   0.069522   0.070093   0.071084   0.071676   0.071734   \n",
              "1  Miss Forest  13.075871  13.203480  13.342217  13.412672  13.998102   \n",
              "2          KNN   0.085675   0.086047   0.087399   0.087735   0.088382   \n",
              "3      MICE-LR   0.973186   0.979257   0.998857   0.993710   1.023063   \n",
              "4     MICE-SVM   2.114401   2.145883   2.156225   2.200123   2.229384   \n",
              "5           EM   0.124217   0.124398   0.115620   0.118208   0.118636   \n",
              "\n",
              "         60%  \n",
              "0   0.073016  \n",
              "1  13.870136  \n",
              "2   0.093861  \n",
              "3   1.031806  \n",
              "4   2.256791  \n",
              "5   0.124440  "
            ],
            "text/html": [
              "\n",
              "  <div id=\"df-6dc64511-d540-42d9-9e55-f12d87a1fbbc\">\n",
              "    <div class=\"colab-df-container\">\n",
              "      <div>\n",
              "<style scoped>\n",
              "    .dataframe tbody tr th:only-of-type {\n",
              "        vertical-align: middle;\n",
              "    }\n",
              "\n",
              "    .dataframe tbody tr th {\n",
              "        vertical-align: top;\n",
              "    }\n",
              "\n",
              "    .dataframe thead th {\n",
              "        text-align: right;\n",
              "    }\n",
              "</style>\n",
              "<table border=\"1\" class=\"dataframe\">\n",
              "  <thead>\n",
              "    <tr style=\"text-align: right;\">\n",
              "      <th></th>\n",
              "      <th>Method</th>\n",
              "      <th>10%</th>\n",
              "      <th>20%</th>\n",
              "      <th>30%</th>\n",
              "      <th>40%</th>\n",
              "      <th>50%</th>\n",
              "      <th>60%</th>\n",
              "    </tr>\n",
              "  </thead>\n",
              "  <tbody>\n",
              "    <tr>\n",
              "      <th>0</th>\n",
              "      <td>MEAN</td>\n",
              "      <td>0.069522</td>\n",
              "      <td>0.070093</td>\n",
              "      <td>0.071084</td>\n",
              "      <td>0.071676</td>\n",
              "      <td>0.071734</td>\n",
              "      <td>0.073016</td>\n",
              "    </tr>\n",
              "    <tr>\n",
              "      <th>1</th>\n",
              "      <td>Miss Forest</td>\n",
              "      <td>13.075871</td>\n",
              "      <td>13.203480</td>\n",
              "      <td>13.342217</td>\n",
              "      <td>13.412672</td>\n",
              "      <td>13.998102</td>\n",
              "      <td>13.870136</td>\n",
              "    </tr>\n",
              "    <tr>\n",
              "      <th>2</th>\n",
              "      <td>KNN</td>\n",
              "      <td>0.085675</td>\n",
              "      <td>0.086047</td>\n",
              "      <td>0.087399</td>\n",
              "      <td>0.087735</td>\n",
              "      <td>0.088382</td>\n",
              "      <td>0.093861</td>\n",
              "    </tr>\n",
              "    <tr>\n",
              "      <th>3</th>\n",
              "      <td>MICE-LR</td>\n",
              "      <td>0.973186</td>\n",
              "      <td>0.979257</td>\n",
              "      <td>0.998857</td>\n",
              "      <td>0.993710</td>\n",
              "      <td>1.023063</td>\n",
              "      <td>1.031806</td>\n",
              "    </tr>\n",
              "    <tr>\n",
              "      <th>4</th>\n",
              "      <td>MICE-SVM</td>\n",
              "      <td>2.114401</td>\n",
              "      <td>2.145883</td>\n",
              "      <td>2.156225</td>\n",
              "      <td>2.200123</td>\n",
              "      <td>2.229384</td>\n",
              "      <td>2.256791</td>\n",
              "    </tr>\n",
              "    <tr>\n",
              "      <th>5</th>\n",
              "      <td>EM</td>\n",
              "      <td>0.124217</td>\n",
              "      <td>0.124398</td>\n",
              "      <td>0.115620</td>\n",
              "      <td>0.118208</td>\n",
              "      <td>0.118636</td>\n",
              "      <td>0.124440</td>\n",
              "    </tr>\n",
              "  </tbody>\n",
              "</table>\n",
              "</div>\n",
              "      <button class=\"colab-df-convert\" onclick=\"convertToInteractive('df-6dc64511-d540-42d9-9e55-f12d87a1fbbc')\"\n",
              "              title=\"Convert this dataframe to an interactive table.\"\n",
              "              style=\"display:none;\">\n",
              "        \n",
              "  <svg xmlns=\"http://www.w3.org/2000/svg\" height=\"24px\"viewBox=\"0 0 24 24\"\n",
              "       width=\"24px\">\n",
              "    <path d=\"M0 0h24v24H0V0z\" fill=\"none\"/>\n",
              "    <path d=\"M18.56 5.44l.94 2.06.94-2.06 2.06-.94-2.06-.94-.94-2.06-.94 2.06-2.06.94zm-11 1L8.5 8.5l.94-2.06 2.06-.94-2.06-.94L8.5 2.5l-.94 2.06-2.06.94zm10 10l.94 2.06.94-2.06 2.06-.94-2.06-.94-.94-2.06-.94 2.06-2.06.94z\"/><path d=\"M17.41 7.96l-1.37-1.37c-.4-.4-.92-.59-1.43-.59-.52 0-1.04.2-1.43.59L10.3 9.45l-7.72 7.72c-.78.78-.78 2.05 0 2.83L4 21.41c.39.39.9.59 1.41.59.51 0 1.02-.2 1.41-.59l7.78-7.78 2.81-2.81c.8-.78.8-2.07 0-2.86zM5.41 20L4 18.59l7.72-7.72 1.47 1.35L5.41 20z\"/>\n",
              "  </svg>\n",
              "      </button>\n",
              "      \n",
              "  <style>\n",
              "    .colab-df-container {\n",
              "      display:flex;\n",
              "      flex-wrap:wrap;\n",
              "      gap: 12px;\n",
              "    }\n",
              "\n",
              "    .colab-df-convert {\n",
              "      background-color: #E8F0FE;\n",
              "      border: none;\n",
              "      border-radius: 50%;\n",
              "      cursor: pointer;\n",
              "      display: none;\n",
              "      fill: #1967D2;\n",
              "      height: 32px;\n",
              "      padding: 0 0 0 0;\n",
              "      width: 32px;\n",
              "    }\n",
              "\n",
              "    .colab-df-convert:hover {\n",
              "      background-color: #E2EBFA;\n",
              "      box-shadow: 0px 1px 2px rgba(60, 64, 67, 0.3), 0px 1px 3px 1px rgba(60, 64, 67, 0.15);\n",
              "      fill: #174EA6;\n",
              "    }\n",
              "\n",
              "    [theme=dark] .colab-df-convert {\n",
              "      background-color: #3B4455;\n",
              "      fill: #D2E3FC;\n",
              "    }\n",
              "\n",
              "    [theme=dark] .colab-df-convert:hover {\n",
              "      background-color: #434B5C;\n",
              "      box-shadow: 0px 1px 3px 1px rgba(0, 0, 0, 0.15);\n",
              "      filter: drop-shadow(0px 1px 2px rgba(0, 0, 0, 0.3));\n",
              "      fill: #FFFFFF;\n",
              "    }\n",
              "  </style>\n",
              "\n",
              "      <script>\n",
              "        const buttonEl =\n",
              "          document.querySelector('#df-6dc64511-d540-42d9-9e55-f12d87a1fbbc button.colab-df-convert');\n",
              "        buttonEl.style.display =\n",
              "          google.colab.kernel.accessAllowed ? 'block' : 'none';\n",
              "\n",
              "        async function convertToInteractive(key) {\n",
              "          const element = document.querySelector('#df-6dc64511-d540-42d9-9e55-f12d87a1fbbc');\n",
              "          const dataTable =\n",
              "            await google.colab.kernel.invokeFunction('convertToInteractive',\n",
              "                                                     [key], {});\n",
              "          if (!dataTable) return;\n",
              "\n",
              "          const docLinkHtml = 'Like what you see? Visit the ' +\n",
              "            '<a target=\"_blank\" href=https://colab.research.google.com/notebooks/data_table.ipynb>data table notebook</a>'\n",
              "            + ' to learn more about interactive tables.';\n",
              "          element.innerHTML = '';\n",
              "          dataTable['output_type'] = 'display_data';\n",
              "          await google.colab.output.renderOutput(dataTable, element);\n",
              "          const docLink = document.createElement('div');\n",
              "          docLink.innerHTML = docLinkHtml;\n",
              "          element.appendChild(docLink);\n",
              "        }\n",
              "      </script>\n",
              "    </div>\n",
              "  </div>\n",
              "  "
            ]
          },
          "metadata": {},
          "execution_count": 116
        }
      ],
      "source": [
        "data_minutes = pd.DataFrame.from_dict(data_t_min)\n",
        "data_minutes"
      ]
    }
  ],
  "metadata": {
    "accelerator": "GPU",
    "colab": {
      "machine_shape": "hm",
      "toc_visible": true,
      "provenance": [],
      "authorship_tag": "ABX9TyM7cPpX0BD488w17EKmdTE6",
      "include_colab_link": true
    },
    "gpuClass": "premium",
    "kernelspec": {
      "display_name": "Python 3",
      "name": "python3"
    },
    "language_info": {
      "name": "python"
    }
  },
  "nbformat": 4,
  "nbformat_minor": 0
}