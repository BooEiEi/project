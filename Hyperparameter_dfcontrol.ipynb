{
  "nbformat": 4,
  "nbformat_minor": 0,
  "metadata": {
    "colab": {
      "provenance": [],
      "machine_shape": "hm",
      "toc_visible": true,
      "authorship_tag": "ABX9TyO9mlp287+JDW42OErByHzZ",
      "include_colab_link": true
    },
    "kernelspec": {
      "name": "python3",
      "display_name": "Python 3"
    },
    "language_info": {
      "name": "python"
    },
    "accelerator": "GPU",
    "gpuClass": "standard"
  },
  "cells": [
    {
      "cell_type": "markdown",
      "metadata": {
        "id": "view-in-github",
        "colab_type": "text"
      },
      "source": [
        "<a href=\"https://colab.research.google.com/github/BooEiEi/project/blob/main/Hyperparameter_dfcontrol.ipynb\" target=\"_parent\"><img src=\"https://colab.research.google.com/assets/colab-badge.svg\" alt=\"Open In Colab\"/></a>"
      ]
    },
    {
      "cell_type": "code",
      "execution_count": 1,
      "metadata": {
        "colab": {
          "base_uri": "https://localhost:8080/"
        },
        "id": "BQH6lBAcgXEB",
        "outputId": "2afe7a82-d98b-495b-b6c3-db668ddbfc55"
      },
      "outputs": [
        {
          "output_type": "stream",
          "name": "stdout",
          "text": [
            "Drive already mounted at /content/drive; to attempt to forcibly remount, call drive.mount(\"/content/drive\", force_remount=True).\n"
          ]
        }
      ],
      "source": [
        "import pandas as pd\n",
        "import os\n",
        "from google.colab import drive #เชื่อม Google drive\n",
        "drive.mount('/content/drive')\n",
        "path = '/content/drive/My Drive/project' #เข้า drive\n",
        "data_1 = pd.read_csv(os.path.join(path,'df_control.csv'))\n",
        "data_2 = pd.read_csv(os.path.join(path,'df_1.csv'))\n",
        "data_3 = pd.read_csv(os.path.join(path,'df_2.csv'))"
      ]
    },
    {
      "cell_type": "code",
      "source": [
        "pip install scikeras[tensorflow-cpu]"
      ],
      "metadata": {
        "id": "TiRQQg6ejqES"
      },
      "execution_count": null,
      "outputs": []
    },
    {
      "cell_type": "code",
      "source": [
        "import keras\n",
        "from keras import metrics\n",
        "from keras import regularizers\n",
        "from keras.layers import Dense, Dropout, Flatten, Activation\n",
        "from keras.callbacks import TensorBoard, EarlyStopping, ModelCheckpoint\n",
        "from keras.models import load_model\n",
        "import tensorflow as tf\n",
        "from keras.optimizers import SGD\n",
        "import numpy as np\n",
        "from sklearn.model_selection import GridSearchCV\n",
        "from tensorflow.keras.models import Sequential\n",
        "from tensorflow.keras.layers import Dense\n",
        "from keras.wrappers.scikit_learn import KerasRegressor\n",
        "from keras.optimizers import Adam\n",
        "from tensorflow.keras import activations"
      ],
      "metadata": {
        "id": "QR_Q5hyDP6lK"
      },
      "execution_count": 3,
      "outputs": []
    },
    {
      "cell_type": "markdown",
      "source": [
        "# ชุด1"
      ],
      "metadata": {
        "id": "GbNI5rlypWCy"
      }
    },
    {
      "cell_type": "code",
      "source": [
        "data_1.drop('Unnamed: 0',1,inplace = True)\n",
        "data_1"
      ],
      "metadata": {
        "colab": {
          "base_uri": "https://localhost:8080/",
          "height": 557
        },
        "id": "gXoRWNIPlEAO",
        "outputId": "2f696433-8b44-4b3a-ecaf-712839e17561"
      },
      "execution_count": 4,
      "outputs": [
        {
          "output_type": "stream",
          "name": "stderr",
          "text": [
            "<ipython-input-4-5545881ffe5a>:1: FutureWarning: In a future version of pandas all arguments of DataFrame.drop except for the argument 'labels' will be keyword-only\n",
            "  data_1.drop('Unnamed: 0',1,inplace = True)\n"
          ]
        },
        {
          "output_type": "execute_result",
          "data": {
            "text/plain": [
              "     Sex  AgeSYear  telomere length (kb)  Weight  Height     BMI  Systolic  \\\n",
              "0    1.0    0.6607                0.2759  0.1274  0.1818  0.2845    0.4444   \n",
              "1    1.0    0.0714                0.7202  0.2394  0.2727  0.4052    0.2698   \n",
              "2    1.0    0.7500                0.2507  0.2625  0.4545  0.2672    0.1429   \n",
              "3    1.0    0.2679                0.3912  0.2992  0.3636  0.4138    0.1429   \n",
              "4    0.0    0.4643                0.2971  0.6081  0.5682  0.6983    0.7460   \n",
              "..   ...       ...                   ...     ...     ...     ...       ...   \n",
              "148  0.0    0.7143                0.2029  0.6023  0.5682  0.6897    0.7143   \n",
              "149  0.0    0.6786                0.1021  0.4093  0.5227  0.4397    0.2698   \n",
              "150  1.0    0.3929                0.6897  0.2838  0.4545  0.3017    0.2540   \n",
              "151  1.0    0.7321                0.2361  0.4054  0.3182  0.6466    0.4921   \n",
              "152  1.0    0.1964                0.6844  0.3359  0.5455  0.3017    0.3492   \n",
              "\n",
              "     Diastolic  HeartRate     SMM  ...  Creatinine  Uric Acid  Cholesterol  \\\n",
              "0       0.6216     0.3103  0.0854  ...         0.6     0.5172       0.4091   \n",
              "1       0.4595     0.4655  0.1566  ...         0.4     0.5517       0.2803   \n",
              "2       0.6216     0.5517  0.1673  ...         0.3     0.3621       0.8182   \n",
              "3       0.1351     0.3621  0.1993  ...         0.2     0.5172       0.5758   \n",
              "4       0.6757     0.9655  0.4377  ...         0.5     0.8448       0.5455   \n",
              "..         ...        ...     ...  ...         ...        ...          ...   \n",
              "148     0.5946     0.3103  0.4840  ...         0.5     0.8448       0.4545   \n",
              "149     0.6486     0.3621  0.3879  ...         0.6     0.8276       0.5227   \n",
              "150     0.0000     0.4483  0.2135  ...         0.4     0.4655       0.6818   \n",
              "151     0.2162     0.3621  0.2313  ...         0.4     0.5345       0.8561   \n",
              "152     0.4595     0.3793  0.2883  ...         0.3     0.3966       0.5909   \n",
              "\n",
              "     Triglyceride   HDL-C     LDL     AST     ALT  Alkaline Phos   HbA1c  \n",
              "0          0.1323  0.7407  0.2909  0.1186  0.0000         0.5823  0.4262  \n",
              "1          0.1089  0.3704  0.3273  0.0678  0.0323         0.4304  0.4754  \n",
              "2          0.2996  0.5370  0.8091  0.1525  0.4839         0.7595  0.5082  \n",
              "3          0.1167  0.6667  0.5273  0.1186  0.1290         0.2405  0.4262  \n",
              "4          0.1790  0.5185  0.5455  0.1017  0.0968         0.6709  0.4426  \n",
              "..            ...     ...     ...     ...     ...            ...     ...  \n",
              "148        0.6304  0.1296  0.4091  0.4576  0.4839         0.7975  0.6557  \n",
              "149        0.1751  0.2778  0.6364  0.1186  0.5484         0.3291  0.7049  \n",
              "150        0.1984  0.5741  0.6636  0.0339  0.0000         0.2152  0.3770  \n",
              "151        0.1907  0.4444  0.9455  0.1017  0.2258         0.3544  0.4754  \n",
              "152        0.1051  0.4444  0.6636  0.0847  0.1613         0.1899  0.3607  \n",
              "\n",
              "[153 rows x 27 columns]"
            ],
            "text/html": [
              "\n",
              "  <div id=\"df-c449c152-7009-406e-bdd7-b72188893e24\">\n",
              "    <div class=\"colab-df-container\">\n",
              "      <div>\n",
              "<style scoped>\n",
              "    .dataframe tbody tr th:only-of-type {\n",
              "        vertical-align: middle;\n",
              "    }\n",
              "\n",
              "    .dataframe tbody tr th {\n",
              "        vertical-align: top;\n",
              "    }\n",
              "\n",
              "    .dataframe thead th {\n",
              "        text-align: right;\n",
              "    }\n",
              "</style>\n",
              "<table border=\"1\" class=\"dataframe\">\n",
              "  <thead>\n",
              "    <tr style=\"text-align: right;\">\n",
              "      <th></th>\n",
              "      <th>Sex</th>\n",
              "      <th>AgeSYear</th>\n",
              "      <th>telomere length (kb)</th>\n",
              "      <th>Weight</th>\n",
              "      <th>Height</th>\n",
              "      <th>BMI</th>\n",
              "      <th>Systolic</th>\n",
              "      <th>Diastolic</th>\n",
              "      <th>HeartRate</th>\n",
              "      <th>SMM</th>\n",
              "      <th>...</th>\n",
              "      <th>Creatinine</th>\n",
              "      <th>Uric Acid</th>\n",
              "      <th>Cholesterol</th>\n",
              "      <th>Triglyceride</th>\n",
              "      <th>HDL-C</th>\n",
              "      <th>LDL</th>\n",
              "      <th>AST</th>\n",
              "      <th>ALT</th>\n",
              "      <th>Alkaline Phos</th>\n",
              "      <th>HbA1c</th>\n",
              "    </tr>\n",
              "  </thead>\n",
              "  <tbody>\n",
              "    <tr>\n",
              "      <th>0</th>\n",
              "      <td>1.0</td>\n",
              "      <td>0.6607</td>\n",
              "      <td>0.2759</td>\n",
              "      <td>0.1274</td>\n",
              "      <td>0.1818</td>\n",
              "      <td>0.2845</td>\n",
              "      <td>0.4444</td>\n",
              "      <td>0.6216</td>\n",
              "      <td>0.3103</td>\n",
              "      <td>0.0854</td>\n",
              "      <td>...</td>\n",
              "      <td>0.6</td>\n",
              "      <td>0.5172</td>\n",
              "      <td>0.4091</td>\n",
              "      <td>0.1323</td>\n",
              "      <td>0.7407</td>\n",
              "      <td>0.2909</td>\n",
              "      <td>0.1186</td>\n",
              "      <td>0.0000</td>\n",
              "      <td>0.5823</td>\n",
              "      <td>0.4262</td>\n",
              "    </tr>\n",
              "    <tr>\n",
              "      <th>1</th>\n",
              "      <td>1.0</td>\n",
              "      <td>0.0714</td>\n",
              "      <td>0.7202</td>\n",
              "      <td>0.2394</td>\n",
              "      <td>0.2727</td>\n",
              "      <td>0.4052</td>\n",
              "      <td>0.2698</td>\n",
              "      <td>0.4595</td>\n",
              "      <td>0.4655</td>\n",
              "      <td>0.1566</td>\n",
              "      <td>...</td>\n",
              "      <td>0.4</td>\n",
              "      <td>0.5517</td>\n",
              "      <td>0.2803</td>\n",
              "      <td>0.1089</td>\n",
              "      <td>0.3704</td>\n",
              "      <td>0.3273</td>\n",
              "      <td>0.0678</td>\n",
              "      <td>0.0323</td>\n",
              "      <td>0.4304</td>\n",
              "      <td>0.4754</td>\n",
              "    </tr>\n",
              "    <tr>\n",
              "      <th>2</th>\n",
              "      <td>1.0</td>\n",
              "      <td>0.7500</td>\n",
              "      <td>0.2507</td>\n",
              "      <td>0.2625</td>\n",
              "      <td>0.4545</td>\n",
              "      <td>0.2672</td>\n",
              "      <td>0.1429</td>\n",
              "      <td>0.6216</td>\n",
              "      <td>0.5517</td>\n",
              "      <td>0.1673</td>\n",
              "      <td>...</td>\n",
              "      <td>0.3</td>\n",
              "      <td>0.3621</td>\n",
              "      <td>0.8182</td>\n",
              "      <td>0.2996</td>\n",
              "      <td>0.5370</td>\n",
              "      <td>0.8091</td>\n",
              "      <td>0.1525</td>\n",
              "      <td>0.4839</td>\n",
              "      <td>0.7595</td>\n",
              "      <td>0.5082</td>\n",
              "    </tr>\n",
              "    <tr>\n",
              "      <th>3</th>\n",
              "      <td>1.0</td>\n",
              "      <td>0.2679</td>\n",
              "      <td>0.3912</td>\n",
              "      <td>0.2992</td>\n",
              "      <td>0.3636</td>\n",
              "      <td>0.4138</td>\n",
              "      <td>0.1429</td>\n",
              "      <td>0.1351</td>\n",
              "      <td>0.3621</td>\n",
              "      <td>0.1993</td>\n",
              "      <td>...</td>\n",
              "      <td>0.2</td>\n",
              "      <td>0.5172</td>\n",
              "      <td>0.5758</td>\n",
              "      <td>0.1167</td>\n",
              "      <td>0.6667</td>\n",
              "      <td>0.5273</td>\n",
              "      <td>0.1186</td>\n",
              "      <td>0.1290</td>\n",
              "      <td>0.2405</td>\n",
              "      <td>0.4262</td>\n",
              "    </tr>\n",
              "    <tr>\n",
              "      <th>4</th>\n",
              "      <td>0.0</td>\n",
              "      <td>0.4643</td>\n",
              "      <td>0.2971</td>\n",
              "      <td>0.6081</td>\n",
              "      <td>0.5682</td>\n",
              "      <td>0.6983</td>\n",
              "      <td>0.7460</td>\n",
              "      <td>0.6757</td>\n",
              "      <td>0.9655</td>\n",
              "      <td>0.4377</td>\n",
              "      <td>...</td>\n",
              "      <td>0.5</td>\n",
              "      <td>0.8448</td>\n",
              "      <td>0.5455</td>\n",
              "      <td>0.1790</td>\n",
              "      <td>0.5185</td>\n",
              "      <td>0.5455</td>\n",
              "      <td>0.1017</td>\n",
              "      <td>0.0968</td>\n",
              "      <td>0.6709</td>\n",
              "      <td>0.4426</td>\n",
              "    </tr>\n",
              "    <tr>\n",
              "      <th>...</th>\n",
              "      <td>...</td>\n",
              "      <td>...</td>\n",
              "      <td>...</td>\n",
              "      <td>...</td>\n",
              "      <td>...</td>\n",
              "      <td>...</td>\n",
              "      <td>...</td>\n",
              "      <td>...</td>\n",
              "      <td>...</td>\n",
              "      <td>...</td>\n",
              "      <td>...</td>\n",
              "      <td>...</td>\n",
              "      <td>...</td>\n",
              "      <td>...</td>\n",
              "      <td>...</td>\n",
              "      <td>...</td>\n",
              "      <td>...</td>\n",
              "      <td>...</td>\n",
              "      <td>...</td>\n",
              "      <td>...</td>\n",
              "      <td>...</td>\n",
              "    </tr>\n",
              "    <tr>\n",
              "      <th>148</th>\n",
              "      <td>0.0</td>\n",
              "      <td>0.7143</td>\n",
              "      <td>0.2029</td>\n",
              "      <td>0.6023</td>\n",
              "      <td>0.5682</td>\n",
              "      <td>0.6897</td>\n",
              "      <td>0.7143</td>\n",
              "      <td>0.5946</td>\n",
              "      <td>0.3103</td>\n",
              "      <td>0.4840</td>\n",
              "      <td>...</td>\n",
              "      <td>0.5</td>\n",
              "      <td>0.8448</td>\n",
              "      <td>0.4545</td>\n",
              "      <td>0.6304</td>\n",
              "      <td>0.1296</td>\n",
              "      <td>0.4091</td>\n",
              "      <td>0.4576</td>\n",
              "      <td>0.4839</td>\n",
              "      <td>0.7975</td>\n",
              "      <td>0.6557</td>\n",
              "    </tr>\n",
              "    <tr>\n",
              "      <th>149</th>\n",
              "      <td>0.0</td>\n",
              "      <td>0.6786</td>\n",
              "      <td>0.1021</td>\n",
              "      <td>0.4093</td>\n",
              "      <td>0.5227</td>\n",
              "      <td>0.4397</td>\n",
              "      <td>0.2698</td>\n",
              "      <td>0.6486</td>\n",
              "      <td>0.3621</td>\n",
              "      <td>0.3879</td>\n",
              "      <td>...</td>\n",
              "      <td>0.6</td>\n",
              "      <td>0.8276</td>\n",
              "      <td>0.5227</td>\n",
              "      <td>0.1751</td>\n",
              "      <td>0.2778</td>\n",
              "      <td>0.6364</td>\n",
              "      <td>0.1186</td>\n",
              "      <td>0.5484</td>\n",
              "      <td>0.3291</td>\n",
              "      <td>0.7049</td>\n",
              "    </tr>\n",
              "    <tr>\n",
              "      <th>150</th>\n",
              "      <td>1.0</td>\n",
              "      <td>0.3929</td>\n",
              "      <td>0.6897</td>\n",
              "      <td>0.2838</td>\n",
              "      <td>0.4545</td>\n",
              "      <td>0.3017</td>\n",
              "      <td>0.2540</td>\n",
              "      <td>0.0000</td>\n",
              "      <td>0.4483</td>\n",
              "      <td>0.2135</td>\n",
              "      <td>...</td>\n",
              "      <td>0.4</td>\n",
              "      <td>0.4655</td>\n",
              "      <td>0.6818</td>\n",
              "      <td>0.1984</td>\n",
              "      <td>0.5741</td>\n",
              "      <td>0.6636</td>\n",
              "      <td>0.0339</td>\n",
              "      <td>0.0000</td>\n",
              "      <td>0.2152</td>\n",
              "      <td>0.3770</td>\n",
              "    </tr>\n",
              "    <tr>\n",
              "      <th>151</th>\n",
              "      <td>1.0</td>\n",
              "      <td>0.7321</td>\n",
              "      <td>0.2361</td>\n",
              "      <td>0.4054</td>\n",
              "      <td>0.3182</td>\n",
              "      <td>0.6466</td>\n",
              "      <td>0.4921</td>\n",
              "      <td>0.2162</td>\n",
              "      <td>0.3621</td>\n",
              "      <td>0.2313</td>\n",
              "      <td>...</td>\n",
              "      <td>0.4</td>\n",
              "      <td>0.5345</td>\n",
              "      <td>0.8561</td>\n",
              "      <td>0.1907</td>\n",
              "      <td>0.4444</td>\n",
              "      <td>0.9455</td>\n",
              "      <td>0.1017</td>\n",
              "      <td>0.2258</td>\n",
              "      <td>0.3544</td>\n",
              "      <td>0.4754</td>\n",
              "    </tr>\n",
              "    <tr>\n",
              "      <th>152</th>\n",
              "      <td>1.0</td>\n",
              "      <td>0.1964</td>\n",
              "      <td>0.6844</td>\n",
              "      <td>0.3359</td>\n",
              "      <td>0.5455</td>\n",
              "      <td>0.3017</td>\n",
              "      <td>0.3492</td>\n",
              "      <td>0.4595</td>\n",
              "      <td>0.3793</td>\n",
              "      <td>0.2883</td>\n",
              "      <td>...</td>\n",
              "      <td>0.3</td>\n",
              "      <td>0.3966</td>\n",
              "      <td>0.5909</td>\n",
              "      <td>0.1051</td>\n",
              "      <td>0.4444</td>\n",
              "      <td>0.6636</td>\n",
              "      <td>0.0847</td>\n",
              "      <td>0.1613</td>\n",
              "      <td>0.1899</td>\n",
              "      <td>0.3607</td>\n",
              "    </tr>\n",
              "  </tbody>\n",
              "</table>\n",
              "<p>153 rows × 27 columns</p>\n",
              "</div>\n",
              "      <button class=\"colab-df-convert\" onclick=\"convertToInteractive('df-c449c152-7009-406e-bdd7-b72188893e24')\"\n",
              "              title=\"Convert this dataframe to an interactive table.\"\n",
              "              style=\"display:none;\">\n",
              "        \n",
              "  <svg xmlns=\"http://www.w3.org/2000/svg\" height=\"24px\"viewBox=\"0 0 24 24\"\n",
              "       width=\"24px\">\n",
              "    <path d=\"M0 0h24v24H0V0z\" fill=\"none\"/>\n",
              "    <path d=\"M18.56 5.44l.94 2.06.94-2.06 2.06-.94-2.06-.94-.94-2.06-.94 2.06-2.06.94zm-11 1L8.5 8.5l.94-2.06 2.06-.94-2.06-.94L8.5 2.5l-.94 2.06-2.06.94zm10 10l.94 2.06.94-2.06 2.06-.94-2.06-.94-.94-2.06-.94 2.06-2.06.94z\"/><path d=\"M17.41 7.96l-1.37-1.37c-.4-.4-.92-.59-1.43-.59-.52 0-1.04.2-1.43.59L10.3 9.45l-7.72 7.72c-.78.78-.78 2.05 0 2.83L4 21.41c.39.39.9.59 1.41.59.51 0 1.02-.2 1.41-.59l7.78-7.78 2.81-2.81c.8-.78.8-2.07 0-2.86zM5.41 20L4 18.59l7.72-7.72 1.47 1.35L5.41 20z\"/>\n",
              "  </svg>\n",
              "      </button>\n",
              "      \n",
              "  <style>\n",
              "    .colab-df-container {\n",
              "      display:flex;\n",
              "      flex-wrap:wrap;\n",
              "      gap: 12px;\n",
              "    }\n",
              "\n",
              "    .colab-df-convert {\n",
              "      background-color: #E8F0FE;\n",
              "      border: none;\n",
              "      border-radius: 50%;\n",
              "      cursor: pointer;\n",
              "      display: none;\n",
              "      fill: #1967D2;\n",
              "      height: 32px;\n",
              "      padding: 0 0 0 0;\n",
              "      width: 32px;\n",
              "    }\n",
              "\n",
              "    .colab-df-convert:hover {\n",
              "      background-color: #E2EBFA;\n",
              "      box-shadow: 0px 1px 2px rgba(60, 64, 67, 0.3), 0px 1px 3px 1px rgba(60, 64, 67, 0.15);\n",
              "      fill: #174EA6;\n",
              "    }\n",
              "\n",
              "    [theme=dark] .colab-df-convert {\n",
              "      background-color: #3B4455;\n",
              "      fill: #D2E3FC;\n",
              "    }\n",
              "\n",
              "    [theme=dark] .colab-df-convert:hover {\n",
              "      background-color: #434B5C;\n",
              "      box-shadow: 0px 1px 3px 1px rgba(0, 0, 0, 0.15);\n",
              "      filter: drop-shadow(0px 1px 2px rgba(0, 0, 0, 0.3));\n",
              "      fill: #FFFFFF;\n",
              "    }\n",
              "  </style>\n",
              "\n",
              "      <script>\n",
              "        const buttonEl =\n",
              "          document.querySelector('#df-c449c152-7009-406e-bdd7-b72188893e24 button.colab-df-convert');\n",
              "        buttonEl.style.display =\n",
              "          google.colab.kernel.accessAllowed ? 'block' : 'none';\n",
              "\n",
              "        async function convertToInteractive(key) {\n",
              "          const element = document.querySelector('#df-c449c152-7009-406e-bdd7-b72188893e24');\n",
              "          const dataTable =\n",
              "            await google.colab.kernel.invokeFunction('convertToInteractive',\n",
              "                                                     [key], {});\n",
              "          if (!dataTable) return;\n",
              "\n",
              "          const docLinkHtml = 'Like what you see? Visit the ' +\n",
              "            '<a target=\"_blank\" href=https://colab.research.google.com/notebooks/data_table.ipynb>data table notebook</a>'\n",
              "            + ' to learn more about interactive tables.';\n",
              "          element.innerHTML = '';\n",
              "          dataTable['output_type'] = 'display_data';\n",
              "          await google.colab.output.renderOutput(dataTable, element);\n",
              "          const docLink = document.createElement('div');\n",
              "          docLink.innerHTML = docLinkHtml;\n",
              "          element.appendChild(docLink);\n",
              "        }\n",
              "      </script>\n",
              "    </div>\n",
              "  </div>\n",
              "  "
            ]
          },
          "metadata": {},
          "execution_count": 4
        }
      ]
    },
    {
      "cell_type": "code",
      "source": [
        "from sklearn.preprocessing import MinMaxScaler\n",
        "scaler = MinMaxScaler()\n",
        "Scaler1 = scaler.fit_transform(data_1)\n"
      ],
      "metadata": {
        "id": "-LDP2fOw0uSW"
      },
      "execution_count": 5,
      "outputs": []
    },
    {
      "cell_type": "code",
      "source": [
        "data_1 = pd.DataFrame(Scaler1)\n",
        "data_1 = data_1.rename(columns={0: 'Sex' ,1: 'AgeSYear',2:'telomere length', 3:'Weight',4:'Height',5:'BMI',6:'Systolic',7:'Diastolic',8:'HeartRate',9:'SMM',10:'Fat Mass',\n",
        "                                11:'% Body fat',12:'waist to hip radio',13:'abdominal circumference',14:'visceral fat area',15:'Glucose',16:'BUN',17:'Creatinine',18:'Uric Acid',19:'Cholesterol',\n",
        "                                20:'Triglyceride',21:'HDL-C',22:'LDL',23:'AST',24:'ALT',25:'Alkaline Phos',26:'HbA1c'})\n"
      ],
      "metadata": {
        "id": "Q0KRGSV71RMS"
      },
      "execution_count": 6,
      "outputs": []
    },
    {
      "cell_type": "code",
      "source": [
        "data_1"
      ],
      "metadata": {
        "colab": {
          "base_uri": "https://localhost:8080/",
          "height": 505
        },
        "id": "827c3yUD1zqO",
        "outputId": "0eadc782-d92d-458e-86c4-05cbc73c33a7"
      },
      "execution_count": 7,
      "outputs": [
        {
          "output_type": "execute_result",
          "data": {
            "text/plain": [
              "     Sex  AgeSYear  telomere length  Weight  Height     BMI  Systolic  \\\n",
              "0    1.0    0.6607           0.2759  0.1274  0.1818  0.2845    0.4444   \n",
              "1    1.0    0.0714           0.7202  0.2394  0.2727  0.4052    0.2698   \n",
              "2    1.0    0.7500           0.2507  0.2625  0.4545  0.2672    0.1429   \n",
              "3    1.0    0.2679           0.3912  0.2992  0.3636  0.4138    0.1429   \n",
              "4    0.0    0.4643           0.2971  0.6081  0.5682  0.6983    0.7460   \n",
              "..   ...       ...              ...     ...     ...     ...       ...   \n",
              "148  0.0    0.7143           0.2029  0.6023  0.5682  0.6897    0.7143   \n",
              "149  0.0    0.6786           0.1021  0.4093  0.5227  0.4397    0.2698   \n",
              "150  1.0    0.3929           0.6897  0.2838  0.4545  0.3017    0.2540   \n",
              "151  1.0    0.7321           0.2361  0.4054  0.3182  0.6466    0.4921   \n",
              "152  1.0    0.1964           0.6844  0.3359  0.5455  0.3017    0.3492   \n",
              "\n",
              "     Diastolic  HeartRate     SMM  ...  Creatinine  Uric Acid  Cholesterol  \\\n",
              "0       0.6216     0.3103  0.0854  ...         0.6     0.5172       0.4091   \n",
              "1       0.4595     0.4655  0.1566  ...         0.4     0.5517       0.2803   \n",
              "2       0.6216     0.5517  0.1673  ...         0.3     0.3621       0.8182   \n",
              "3       0.1351     0.3621  0.1993  ...         0.2     0.5172       0.5758   \n",
              "4       0.6757     0.9655  0.4377  ...         0.5     0.8448       0.5455   \n",
              "..         ...        ...     ...  ...         ...        ...          ...   \n",
              "148     0.5946     0.3103  0.4840  ...         0.5     0.8448       0.4545   \n",
              "149     0.6486     0.3621  0.3879  ...         0.6     0.8276       0.5227   \n",
              "150     0.0000     0.4483  0.2135  ...         0.4     0.4655       0.6818   \n",
              "151     0.2162     0.3621  0.2313  ...         0.4     0.5345       0.8561   \n",
              "152     0.4595     0.3793  0.2883  ...         0.3     0.3966       0.5909   \n",
              "\n",
              "     Triglyceride   HDL-C     LDL     AST     ALT  Alkaline Phos   HbA1c  \n",
              "0          0.1323  0.7407  0.2909  0.1186  0.0000         0.5823  0.4262  \n",
              "1          0.1089  0.3704  0.3273  0.0678  0.0323         0.4304  0.4754  \n",
              "2          0.2996  0.5370  0.8091  0.1525  0.4839         0.7595  0.5082  \n",
              "3          0.1167  0.6667  0.5273  0.1186  0.1290         0.2405  0.4262  \n",
              "4          0.1790  0.5185  0.5455  0.1017  0.0968         0.6709  0.4426  \n",
              "..            ...     ...     ...     ...     ...            ...     ...  \n",
              "148        0.6304  0.1296  0.4091  0.4576  0.4839         0.7975  0.6557  \n",
              "149        0.1751  0.2778  0.6364  0.1186  0.5484         0.3291  0.7049  \n",
              "150        0.1984  0.5741  0.6636  0.0339  0.0000         0.2152  0.3770  \n",
              "151        0.1907  0.4444  0.9455  0.1017  0.2258         0.3544  0.4754  \n",
              "152        0.1051  0.4444  0.6636  0.0847  0.1613         0.1899  0.3607  \n",
              "\n",
              "[153 rows x 27 columns]"
            ],
            "text/html": [
              "\n",
              "  <div id=\"df-049e3585-6cbc-4911-8d71-2992762d2f90\">\n",
              "    <div class=\"colab-df-container\">\n",
              "      <div>\n",
              "<style scoped>\n",
              "    .dataframe tbody tr th:only-of-type {\n",
              "        vertical-align: middle;\n",
              "    }\n",
              "\n",
              "    .dataframe tbody tr th {\n",
              "        vertical-align: top;\n",
              "    }\n",
              "\n",
              "    .dataframe thead th {\n",
              "        text-align: right;\n",
              "    }\n",
              "</style>\n",
              "<table border=\"1\" class=\"dataframe\">\n",
              "  <thead>\n",
              "    <tr style=\"text-align: right;\">\n",
              "      <th></th>\n",
              "      <th>Sex</th>\n",
              "      <th>AgeSYear</th>\n",
              "      <th>telomere length</th>\n",
              "      <th>Weight</th>\n",
              "      <th>Height</th>\n",
              "      <th>BMI</th>\n",
              "      <th>Systolic</th>\n",
              "      <th>Diastolic</th>\n",
              "      <th>HeartRate</th>\n",
              "      <th>SMM</th>\n",
              "      <th>...</th>\n",
              "      <th>Creatinine</th>\n",
              "      <th>Uric Acid</th>\n",
              "      <th>Cholesterol</th>\n",
              "      <th>Triglyceride</th>\n",
              "      <th>HDL-C</th>\n",
              "      <th>LDL</th>\n",
              "      <th>AST</th>\n",
              "      <th>ALT</th>\n",
              "      <th>Alkaline Phos</th>\n",
              "      <th>HbA1c</th>\n",
              "    </tr>\n",
              "  </thead>\n",
              "  <tbody>\n",
              "    <tr>\n",
              "      <th>0</th>\n",
              "      <td>1.0</td>\n",
              "      <td>0.6607</td>\n",
              "      <td>0.2759</td>\n",
              "      <td>0.1274</td>\n",
              "      <td>0.1818</td>\n",
              "      <td>0.2845</td>\n",
              "      <td>0.4444</td>\n",
              "      <td>0.6216</td>\n",
              "      <td>0.3103</td>\n",
              "      <td>0.0854</td>\n",
              "      <td>...</td>\n",
              "      <td>0.6</td>\n",
              "      <td>0.5172</td>\n",
              "      <td>0.4091</td>\n",
              "      <td>0.1323</td>\n",
              "      <td>0.7407</td>\n",
              "      <td>0.2909</td>\n",
              "      <td>0.1186</td>\n",
              "      <td>0.0000</td>\n",
              "      <td>0.5823</td>\n",
              "      <td>0.4262</td>\n",
              "    </tr>\n",
              "    <tr>\n",
              "      <th>1</th>\n",
              "      <td>1.0</td>\n",
              "      <td>0.0714</td>\n",
              "      <td>0.7202</td>\n",
              "      <td>0.2394</td>\n",
              "      <td>0.2727</td>\n",
              "      <td>0.4052</td>\n",
              "      <td>0.2698</td>\n",
              "      <td>0.4595</td>\n",
              "      <td>0.4655</td>\n",
              "      <td>0.1566</td>\n",
              "      <td>...</td>\n",
              "      <td>0.4</td>\n",
              "      <td>0.5517</td>\n",
              "      <td>0.2803</td>\n",
              "      <td>0.1089</td>\n",
              "      <td>0.3704</td>\n",
              "      <td>0.3273</td>\n",
              "      <td>0.0678</td>\n",
              "      <td>0.0323</td>\n",
              "      <td>0.4304</td>\n",
              "      <td>0.4754</td>\n",
              "    </tr>\n",
              "    <tr>\n",
              "      <th>2</th>\n",
              "      <td>1.0</td>\n",
              "      <td>0.7500</td>\n",
              "      <td>0.2507</td>\n",
              "      <td>0.2625</td>\n",
              "      <td>0.4545</td>\n",
              "      <td>0.2672</td>\n",
              "      <td>0.1429</td>\n",
              "      <td>0.6216</td>\n",
              "      <td>0.5517</td>\n",
              "      <td>0.1673</td>\n",
              "      <td>...</td>\n",
              "      <td>0.3</td>\n",
              "      <td>0.3621</td>\n",
              "      <td>0.8182</td>\n",
              "      <td>0.2996</td>\n",
              "      <td>0.5370</td>\n",
              "      <td>0.8091</td>\n",
              "      <td>0.1525</td>\n",
              "      <td>0.4839</td>\n",
              "      <td>0.7595</td>\n",
              "      <td>0.5082</td>\n",
              "    </tr>\n",
              "    <tr>\n",
              "      <th>3</th>\n",
              "      <td>1.0</td>\n",
              "      <td>0.2679</td>\n",
              "      <td>0.3912</td>\n",
              "      <td>0.2992</td>\n",
              "      <td>0.3636</td>\n",
              "      <td>0.4138</td>\n",
              "      <td>0.1429</td>\n",
              "      <td>0.1351</td>\n",
              "      <td>0.3621</td>\n",
              "      <td>0.1993</td>\n",
              "      <td>...</td>\n",
              "      <td>0.2</td>\n",
              "      <td>0.5172</td>\n",
              "      <td>0.5758</td>\n",
              "      <td>0.1167</td>\n",
              "      <td>0.6667</td>\n",
              "      <td>0.5273</td>\n",
              "      <td>0.1186</td>\n",
              "      <td>0.1290</td>\n",
              "      <td>0.2405</td>\n",
              "      <td>0.4262</td>\n",
              "    </tr>\n",
              "    <tr>\n",
              "      <th>4</th>\n",
              "      <td>0.0</td>\n",
              "      <td>0.4643</td>\n",
              "      <td>0.2971</td>\n",
              "      <td>0.6081</td>\n",
              "      <td>0.5682</td>\n",
              "      <td>0.6983</td>\n",
              "      <td>0.7460</td>\n",
              "      <td>0.6757</td>\n",
              "      <td>0.9655</td>\n",
              "      <td>0.4377</td>\n",
              "      <td>...</td>\n",
              "      <td>0.5</td>\n",
              "      <td>0.8448</td>\n",
              "      <td>0.5455</td>\n",
              "      <td>0.1790</td>\n",
              "      <td>0.5185</td>\n",
              "      <td>0.5455</td>\n",
              "      <td>0.1017</td>\n",
              "      <td>0.0968</td>\n",
              "      <td>0.6709</td>\n",
              "      <td>0.4426</td>\n",
              "    </tr>\n",
              "    <tr>\n",
              "      <th>...</th>\n",
              "      <td>...</td>\n",
              "      <td>...</td>\n",
              "      <td>...</td>\n",
              "      <td>...</td>\n",
              "      <td>...</td>\n",
              "      <td>...</td>\n",
              "      <td>...</td>\n",
              "      <td>...</td>\n",
              "      <td>...</td>\n",
              "      <td>...</td>\n",
              "      <td>...</td>\n",
              "      <td>...</td>\n",
              "      <td>...</td>\n",
              "      <td>...</td>\n",
              "      <td>...</td>\n",
              "      <td>...</td>\n",
              "      <td>...</td>\n",
              "      <td>...</td>\n",
              "      <td>...</td>\n",
              "      <td>...</td>\n",
              "      <td>...</td>\n",
              "    </tr>\n",
              "    <tr>\n",
              "      <th>148</th>\n",
              "      <td>0.0</td>\n",
              "      <td>0.7143</td>\n",
              "      <td>0.2029</td>\n",
              "      <td>0.6023</td>\n",
              "      <td>0.5682</td>\n",
              "      <td>0.6897</td>\n",
              "      <td>0.7143</td>\n",
              "      <td>0.5946</td>\n",
              "      <td>0.3103</td>\n",
              "      <td>0.4840</td>\n",
              "      <td>...</td>\n",
              "      <td>0.5</td>\n",
              "      <td>0.8448</td>\n",
              "      <td>0.4545</td>\n",
              "      <td>0.6304</td>\n",
              "      <td>0.1296</td>\n",
              "      <td>0.4091</td>\n",
              "      <td>0.4576</td>\n",
              "      <td>0.4839</td>\n",
              "      <td>0.7975</td>\n",
              "      <td>0.6557</td>\n",
              "    </tr>\n",
              "    <tr>\n",
              "      <th>149</th>\n",
              "      <td>0.0</td>\n",
              "      <td>0.6786</td>\n",
              "      <td>0.1021</td>\n",
              "      <td>0.4093</td>\n",
              "      <td>0.5227</td>\n",
              "      <td>0.4397</td>\n",
              "      <td>0.2698</td>\n",
              "      <td>0.6486</td>\n",
              "      <td>0.3621</td>\n",
              "      <td>0.3879</td>\n",
              "      <td>...</td>\n",
              "      <td>0.6</td>\n",
              "      <td>0.8276</td>\n",
              "      <td>0.5227</td>\n",
              "      <td>0.1751</td>\n",
              "      <td>0.2778</td>\n",
              "      <td>0.6364</td>\n",
              "      <td>0.1186</td>\n",
              "      <td>0.5484</td>\n",
              "      <td>0.3291</td>\n",
              "      <td>0.7049</td>\n",
              "    </tr>\n",
              "    <tr>\n",
              "      <th>150</th>\n",
              "      <td>1.0</td>\n",
              "      <td>0.3929</td>\n",
              "      <td>0.6897</td>\n",
              "      <td>0.2838</td>\n",
              "      <td>0.4545</td>\n",
              "      <td>0.3017</td>\n",
              "      <td>0.2540</td>\n",
              "      <td>0.0000</td>\n",
              "      <td>0.4483</td>\n",
              "      <td>0.2135</td>\n",
              "      <td>...</td>\n",
              "      <td>0.4</td>\n",
              "      <td>0.4655</td>\n",
              "      <td>0.6818</td>\n",
              "      <td>0.1984</td>\n",
              "      <td>0.5741</td>\n",
              "      <td>0.6636</td>\n",
              "      <td>0.0339</td>\n",
              "      <td>0.0000</td>\n",
              "      <td>0.2152</td>\n",
              "      <td>0.3770</td>\n",
              "    </tr>\n",
              "    <tr>\n",
              "      <th>151</th>\n",
              "      <td>1.0</td>\n",
              "      <td>0.7321</td>\n",
              "      <td>0.2361</td>\n",
              "      <td>0.4054</td>\n",
              "      <td>0.3182</td>\n",
              "      <td>0.6466</td>\n",
              "      <td>0.4921</td>\n",
              "      <td>0.2162</td>\n",
              "      <td>0.3621</td>\n",
              "      <td>0.2313</td>\n",
              "      <td>...</td>\n",
              "      <td>0.4</td>\n",
              "      <td>0.5345</td>\n",
              "      <td>0.8561</td>\n",
              "      <td>0.1907</td>\n",
              "      <td>0.4444</td>\n",
              "      <td>0.9455</td>\n",
              "      <td>0.1017</td>\n",
              "      <td>0.2258</td>\n",
              "      <td>0.3544</td>\n",
              "      <td>0.4754</td>\n",
              "    </tr>\n",
              "    <tr>\n",
              "      <th>152</th>\n",
              "      <td>1.0</td>\n",
              "      <td>0.1964</td>\n",
              "      <td>0.6844</td>\n",
              "      <td>0.3359</td>\n",
              "      <td>0.5455</td>\n",
              "      <td>0.3017</td>\n",
              "      <td>0.3492</td>\n",
              "      <td>0.4595</td>\n",
              "      <td>0.3793</td>\n",
              "      <td>0.2883</td>\n",
              "      <td>...</td>\n",
              "      <td>0.3</td>\n",
              "      <td>0.3966</td>\n",
              "      <td>0.5909</td>\n",
              "      <td>0.1051</td>\n",
              "      <td>0.4444</td>\n",
              "      <td>0.6636</td>\n",
              "      <td>0.0847</td>\n",
              "      <td>0.1613</td>\n",
              "      <td>0.1899</td>\n",
              "      <td>0.3607</td>\n",
              "    </tr>\n",
              "  </tbody>\n",
              "</table>\n",
              "<p>153 rows × 27 columns</p>\n",
              "</div>\n",
              "      <button class=\"colab-df-convert\" onclick=\"convertToInteractive('df-049e3585-6cbc-4911-8d71-2992762d2f90')\"\n",
              "              title=\"Convert this dataframe to an interactive table.\"\n",
              "              style=\"display:none;\">\n",
              "        \n",
              "  <svg xmlns=\"http://www.w3.org/2000/svg\" height=\"24px\"viewBox=\"0 0 24 24\"\n",
              "       width=\"24px\">\n",
              "    <path d=\"M0 0h24v24H0V0z\" fill=\"none\"/>\n",
              "    <path d=\"M18.56 5.44l.94 2.06.94-2.06 2.06-.94-2.06-.94-.94-2.06-.94 2.06-2.06.94zm-11 1L8.5 8.5l.94-2.06 2.06-.94-2.06-.94L8.5 2.5l-.94 2.06-2.06.94zm10 10l.94 2.06.94-2.06 2.06-.94-2.06-.94-.94-2.06-.94 2.06-2.06.94z\"/><path d=\"M17.41 7.96l-1.37-1.37c-.4-.4-.92-.59-1.43-.59-.52 0-1.04.2-1.43.59L10.3 9.45l-7.72 7.72c-.78.78-.78 2.05 0 2.83L4 21.41c.39.39.9.59 1.41.59.51 0 1.02-.2 1.41-.59l7.78-7.78 2.81-2.81c.8-.78.8-2.07 0-2.86zM5.41 20L4 18.59l7.72-7.72 1.47 1.35L5.41 20z\"/>\n",
              "  </svg>\n",
              "      </button>\n",
              "      \n",
              "  <style>\n",
              "    .colab-df-container {\n",
              "      display:flex;\n",
              "      flex-wrap:wrap;\n",
              "      gap: 12px;\n",
              "    }\n",
              "\n",
              "    .colab-df-convert {\n",
              "      background-color: #E8F0FE;\n",
              "      border: none;\n",
              "      border-radius: 50%;\n",
              "      cursor: pointer;\n",
              "      display: none;\n",
              "      fill: #1967D2;\n",
              "      height: 32px;\n",
              "      padding: 0 0 0 0;\n",
              "      width: 32px;\n",
              "    }\n",
              "\n",
              "    .colab-df-convert:hover {\n",
              "      background-color: #E2EBFA;\n",
              "      box-shadow: 0px 1px 2px rgba(60, 64, 67, 0.3), 0px 1px 3px 1px rgba(60, 64, 67, 0.15);\n",
              "      fill: #174EA6;\n",
              "    }\n",
              "\n",
              "    [theme=dark] .colab-df-convert {\n",
              "      background-color: #3B4455;\n",
              "      fill: #D2E3FC;\n",
              "    }\n",
              "\n",
              "    [theme=dark] .colab-df-convert:hover {\n",
              "      background-color: #434B5C;\n",
              "      box-shadow: 0px 1px 3px 1px rgba(0, 0, 0, 0.15);\n",
              "      filter: drop-shadow(0px 1px 2px rgba(0, 0, 0, 0.3));\n",
              "      fill: #FFFFFF;\n",
              "    }\n",
              "  </style>\n",
              "\n",
              "      <script>\n",
              "        const buttonEl =\n",
              "          document.querySelector('#df-049e3585-6cbc-4911-8d71-2992762d2f90 button.colab-df-convert');\n",
              "        buttonEl.style.display =\n",
              "          google.colab.kernel.accessAllowed ? 'block' : 'none';\n",
              "\n",
              "        async function convertToInteractive(key) {\n",
              "          const element = document.querySelector('#df-049e3585-6cbc-4911-8d71-2992762d2f90');\n",
              "          const dataTable =\n",
              "            await google.colab.kernel.invokeFunction('convertToInteractive',\n",
              "                                                     [key], {});\n",
              "          if (!dataTable) return;\n",
              "\n",
              "          const docLinkHtml = 'Like what you see? Visit the ' +\n",
              "            '<a target=\"_blank\" href=https://colab.research.google.com/notebooks/data_table.ipynb>data table notebook</a>'\n",
              "            + ' to learn more about interactive tables.';\n",
              "          element.innerHTML = '';\n",
              "          dataTable['output_type'] = 'display_data';\n",
              "          await google.colab.output.renderOutput(dataTable, element);\n",
              "          const docLink = document.createElement('div');\n",
              "          docLink.innerHTML = docLinkHtml;\n",
              "          element.appendChild(docLink);\n",
              "        }\n",
              "      </script>\n",
              "    </div>\n",
              "  </div>\n",
              "  "
            ]
          },
          "metadata": {},
          "execution_count": 7
        }
      ]
    },
    {
      "cell_type": "code",
      "source": [
        "y1 = data_1[['telomere length']]\n",
        "X1 = data_1.drop('telomere length',1)"
      ],
      "metadata": {
        "colab": {
          "base_uri": "https://localhost:8080/"
        },
        "id": "2Bv3aE_K1H_G",
        "outputId": "2c55038f-9609-469a-aef4-56357423f804"
      },
      "execution_count": 8,
      "outputs": [
        {
          "output_type": "stream",
          "name": "stderr",
          "text": [
            "<ipython-input-8-775fb45faf26>:2: FutureWarning: In a future version of pandas all arguments of DataFrame.drop except for the argument 'labels' will be keyword-only\n",
            "  X1 = data_1.drop('telomere length',1)\n"
          ]
        }
      ]
    },
    {
      "cell_type": "code",
      "source": [
        "data_1 = pd.DataFrame(Scaler1)\n",
        "data_1 = data_1.rename(columns={0: 'Sex' ,1: 'AgeSYear',2:'telomere length', 3:'Weight',4:'Height',5:'BMI',6:'Systolic',7:'Diastolic',8:'HeartRate',9:'SMM',10:'Fat Mass',\n",
        "                                11:'% Body fat',12:'waist to hip radio',13:'abdominal circumference',14:'visceral fat area',15:'Glucose',16:'BUN',17:'Creatinine',18:'Uric Acid',19:'Cholesterol',\n",
        "                                20:'Triglyceride',21:'HDL-C',22:'LDL',23:'AST',24:'ALT',25:'Alkaline Phos',26:'HbA1c'})"
      ],
      "metadata": {
        "id": "kGFt5EM-tTPQ"
      },
      "execution_count": 9,
      "outputs": []
    },
    {
      "cell_type": "code",
      "source": [
        "from sklearn.model_selection import train_test_split\n",
        "X_train, X_test, y_train, y_test = train_test_split(X1, y1, test_size=0.2, random_state=99)"
      ],
      "metadata": {
        "id": "PV8GfRLxOdtw"
      },
      "execution_count": 10,
      "outputs": []
    },
    {
      "cell_type": "markdown",
      "source": [
        "## batch_size epochs"
      ],
      "metadata": {
        "id": "Ks42sxm-66LG"
      }
    },
    {
      "cell_type": "code",
      "source": [
        "seed = 99\n",
        "tf.random.set_seed(seed)"
      ],
      "metadata": {
        "id": "hva5eBCqq2w5"
      },
      "execution_count": 11,
      "outputs": []
    },
    {
      "cell_type": "code",
      "source": [
        "def create_model():\n",
        "    model = Sequential()\n",
        "    model.add(Dense(26, activation='relu', input_shape=(26,)))\n",
        "    model.add(Dense(26, activation='relu'))\n",
        "    model.add(Dense(1))\n",
        "    model.compile(optimizer='adam', loss='mean_squared_error',metrics=['accuracy'])\n",
        "    return model"
      ],
      "metadata": {
        "id": "7fsKi_fEQFkV"
      },
      "execution_count": 12,
      "outputs": []
    },
    {
      "cell_type": "code",
      "source": [
        "model = KerasRegressor(build_fn=create_model)"
      ],
      "metadata": {
        "colab": {
          "base_uri": "https://localhost:8080/"
        },
        "id": "mWDZE_veiGka",
        "outputId": "3e94a28a-d145-4475-8a42-3b57b7231654"
      },
      "execution_count": 13,
      "outputs": [
        {
          "output_type": "stream",
          "name": "stderr",
          "text": [
            "<ipython-input-13-82c839a6aff6>:1: DeprecationWarning: KerasRegressor is deprecated, use Sci-Keras (https://github.com/adriangb/scikeras) instead. See https://www.adriangb.com/scikeras/stable/migration.html for help migrating.\n",
            "  model = KerasRegressor(build_fn=create_model)\n"
          ]
        }
      ]
    },
    {
      "cell_type": "code",
      "source": [
        "# define the grid search parameters\n",
        "batch_size = [4, 8, 16, 32]\n",
        "epochs = [10, 20, 30, 50, 100]\n",
        "param_grid = dict(batch_size=batch_size, epochs=epochs)\n",
        "grid = GridSearchCV(estimator=model, param_grid=param_grid, n_jobs=-1, cv=3)"
      ],
      "metadata": {
        "id": "6YWKlehboVJd"
      },
      "execution_count": 14,
      "outputs": []
    },
    {
      "cell_type": "code",
      "source": [
        "grid_result = grid.fit(X1, y1, verbose=0)"
      ],
      "metadata": {
        "id": "VgB_glnzoaMi"
      },
      "execution_count": 15,
      "outputs": []
    },
    {
      "cell_type": "code",
      "source": [
        "print(\"Best: %f using %s\" % (grid_result.best_score_, grid_result.best_params_))\n",
        "means = grid_result.cv_results_['mean_test_score']\n",
        "stds = grid_result.cv_results_['std_test_score']\n",
        "params = grid_result.cv_results_['params']\n",
        "for mean, stdev, param in zip(means, stds, params):\n",
        "    print(\"%f (%f) with: %r\" % (mean, stdev, param))"
      ],
      "metadata": {
        "colab": {
          "base_uri": "https://localhost:8080/"
        },
        "id": "5kHJ9sF-kLby",
        "outputId": "21047bb8-929b-43aa-f509-9d849252dc55"
      },
      "execution_count": 16,
      "outputs": [
        {
          "output_type": "stream",
          "name": "stdout",
          "text": [
            "Best: -0.017522 using {'batch_size': 8, 'epochs': 100}\n",
            "-0.026349 (0.006671) with: {'batch_size': 4, 'epochs': 10}\n",
            "-0.018566 (0.000567) with: {'batch_size': 4, 'epochs': 20}\n",
            "-0.019041 (0.002905) with: {'batch_size': 4, 'epochs': 30}\n",
            "-0.019128 (0.002587) with: {'batch_size': 4, 'epochs': 50}\n",
            "-0.020757 (0.000952) with: {'batch_size': 4, 'epochs': 100}\n",
            "-0.030643 (0.001893) with: {'batch_size': 8, 'epochs': 10}\n",
            "-0.030520 (0.002741) with: {'batch_size': 8, 'epochs': 20}\n",
            "-0.018851 (0.004361) with: {'batch_size': 8, 'epochs': 30}\n",
            "-0.021958 (0.002925) with: {'batch_size': 8, 'epochs': 50}\n",
            "-0.017522 (0.001828) with: {'batch_size': 8, 'epochs': 100}\n",
            "-0.047425 (0.020115) with: {'batch_size': 16, 'epochs': 10}\n",
            "-0.028664 (0.002732) with: {'batch_size': 16, 'epochs': 20}\n",
            "-0.022962 (0.001413) with: {'batch_size': 16, 'epochs': 30}\n",
            "-0.021122 (0.002341) with: {'batch_size': 16, 'epochs': 50}\n",
            "-0.019929 (0.004133) with: {'batch_size': 16, 'epochs': 100}\n",
            "-0.056552 (0.020478) with: {'batch_size': 32, 'epochs': 10}\n",
            "-0.027128 (0.000323) with: {'batch_size': 32, 'epochs': 20}\n",
            "-0.036031 (0.005465) with: {'batch_size': 32, 'epochs': 30}\n",
            "-0.024073 (0.001162) with: {'batch_size': 32, 'epochs': 50}\n",
            "-0.020218 (0.002447) with: {'batch_size': 32, 'epochs': 100}\n"
          ]
        }
      ]
    },
    {
      "cell_type": "markdown",
      "source": [
        "## Optimization Algorithm"
      ],
      "metadata": {
        "id": "MALSyWDM64h6"
      }
    },
    {
      "cell_type": "code",
      "source": [
        "seed = 99\n",
        "tf.random.set_seed(seed)"
      ],
      "metadata": {
        "id": "HDCe6DKV7eko"
      },
      "execution_count": 17,
      "outputs": []
    },
    {
      "cell_type": "code",
      "source": [
        "def create_model(optimizer):\n",
        "    model = Sequential()\n",
        "    model.add(Dense(26, activation='relu', input_shape=(26,)))\n",
        "    model.add(Dense(26, activation='relu'))\n",
        "    model.add(Dense(1))\n",
        "    model.compile(optimizer=optimizer, loss='mean_squared_error',metrics=['accuracy'])\n",
        "    return model"
      ],
      "metadata": {
        "id": "8KCJseOu7eko"
      },
      "execution_count": 18,
      "outputs": []
    },
    {
      "cell_type": "code",
      "source": [
        "model = KerasRegressor(build_fn=create_model, epochs=50, batch_size=8, verbose=0)"
      ],
      "metadata": {
        "colab": {
          "base_uri": "https://localhost:8080/"
        },
        "outputId": "28eda538-30b6-494c-905f-97bd407cf87a",
        "id": "OfuHxKtY7eko"
      },
      "execution_count": 19,
      "outputs": [
        {
          "output_type": "stream",
          "name": "stderr",
          "text": [
            "<ipython-input-19-274eb9c7d1e4>:1: DeprecationWarning: KerasRegressor is deprecated, use Sci-Keras (https://github.com/adriangb/scikeras) instead. See https://www.adriangb.com/scikeras/stable/migration.html for help migrating.\n",
            "  model = KerasRegressor(build_fn=create_model, epochs=50, batch_size=8, verbose=0)\n"
          ]
        }
      ]
    },
    {
      "cell_type": "code",
      "source": [
        "# define the grid search parameters\n",
        "optimizer = ['SGD', 'RMSprop', 'Adam', 'Adagrad']\n",
        "param_grid = dict(optimizer=optimizer)\n",
        "grid = GridSearchCV(estimator=model, param_grid=param_grid, n_jobs=-1, cv=3)\n",
        "grid_result = grid.fit(X1, y1)"
      ],
      "metadata": {
        "id": "5scInylr7eko"
      },
      "execution_count": 20,
      "outputs": []
    },
    {
      "cell_type": "code",
      "source": [
        "# summarize results\n",
        "print(\"Best: %f using %s\" % (grid_result.best_score_, grid_result.best_params_))\n",
        "means = grid_result.cv_results_['mean_test_score']\n",
        "stds = grid_result.cv_results_['std_test_score']\n",
        "params = grid_result.cv_results_['params']\n",
        "for mean, stdev, param in zip(means, stds, params):\n",
        "    print(\"%f (%f) with: %r\" % (mean, stdev, param))"
      ],
      "metadata": {
        "colab": {
          "base_uri": "https://localhost:8080/"
        },
        "id": "z2KiCgvJ9txN",
        "outputId": "8b24bcbf-4863-426f-ced2-22c9fe98069c"
      },
      "execution_count": 21,
      "outputs": [
        {
          "output_type": "stream",
          "name": "stdout",
          "text": [
            "Best: -0.017405 using {'optimizer': 'Adam'}\n",
            "-0.024917 (0.006924) with: {'optimizer': 'SGD'}\n",
            "-0.021312 (0.005596) with: {'optimizer': 'RMSprop'}\n",
            "-0.017405 (0.003542) with: {'optimizer': 'Adam'}\n",
            "-0.050763 (0.009998) with: {'optimizer': 'Adagrad'}\n"
          ]
        }
      ]
    },
    {
      "cell_type": "markdown",
      "source": [
        "## Learning Rate"
      ],
      "metadata": {
        "id": "sx3Jxs3LDu3Q"
      }
    },
    {
      "cell_type": "code",
      "source": [
        "seed = 99\n",
        "tf.random.set_seed(seed)"
      ],
      "metadata": {
        "id": "_ZtEyELpD2IF"
      },
      "execution_count": 22,
      "outputs": []
    },
    {
      "cell_type": "code",
      "source": [
        "def create_model(lr):\n",
        "    model = Sequential()\n",
        "    model.add(Dense(26, activation='relu', input_shape=(26,)))\n",
        "    model.add(Dense(26, activation='relu'))\n",
        "    model.add(Dense(1))\n",
        "    model.compile(optimizer=Adam(lr), loss='mean_squared_error',metrics=['accuracy'])\n",
        "    return model"
      ],
      "metadata": {
        "id": "s6WpTxLqD2IE"
      },
      "execution_count": 23,
      "outputs": []
    },
    {
      "cell_type": "code",
      "source": [
        "model = KerasRegressor(build_fn=create_model, epochs=50, batch_size=8, verbose=0)"
      ],
      "metadata": {
        "colab": {
          "base_uri": "https://localhost:8080/"
        },
        "outputId": "e338b071-ab6d-45c4-cb10-ee7ff28e715a",
        "id": "ooiQnN63D2IF"
      },
      "execution_count": 24,
      "outputs": [
        {
          "output_type": "stream",
          "name": "stderr",
          "text": [
            "<ipython-input-24-274eb9c7d1e4>:1: DeprecationWarning: KerasRegressor is deprecated, use Sci-Keras (https://github.com/adriangb/scikeras) instead. See https://www.adriangb.com/scikeras/stable/migration.html for help migrating.\n",
            "  model = KerasRegressor(build_fn=create_model, epochs=50, batch_size=8, verbose=0)\n"
          ]
        }
      ]
    },
    {
      "cell_type": "code",
      "source": [
        "lr = [0.001, 0.01, 0.1, 0.2, 0.3]\n",
        "param_grid = dict(lr=lr)\n",
        "grid = GridSearchCV(estimator=model, param_grid=param_grid, n_jobs=-1, cv=3)\n",
        "grid_result = grid.fit(X1, y1)"
      ],
      "metadata": {
        "id": "-acJtfExE0up"
      },
      "execution_count": 25,
      "outputs": []
    },
    {
      "cell_type": "code",
      "source": [
        "print(\"Best: %f using %s\" % (grid_result.best_score_, grid_result.best_params_))\n",
        "means = grid_result.cv_results_['mean_test_score']\n",
        "stds = grid_result.cv_results_['std_test_score']\n",
        "params = grid_result.cv_results_['params']\n",
        "for mean, stdev, param in zip(means, stds, params):\n",
        "    print(\"%f (%f) with: %r\" % (mean, stdev, param))"
      ],
      "metadata": {
        "colab": {
          "base_uri": "https://localhost:8080/"
        },
        "id": "llX_7Q6SFCdV",
        "outputId": "d8e64017-8403-40b1-e9f1-9b0a692aa7e2"
      },
      "execution_count": 26,
      "outputs": [
        {
          "output_type": "stream",
          "name": "stdout",
          "text": [
            "Best: -0.016358 using {'lr': 0.001}\n",
            "-0.016358 (0.000790) with: {'lr': 0.001}\n",
            "-0.018875 (0.004398) with: {'lr': 0.01}\n",
            "-0.030239 (0.011241) with: {'lr': 0.1}\n",
            "-0.042987 (0.005734) with: {'lr': 0.2}\n",
            "-0.057396 (0.020033) with: {'lr': 0.3}\n"
          ]
        }
      ]
    },
    {
      "cell_type": "markdown",
      "source": [
        "## activations"
      ],
      "metadata": {
        "id": "3f-i2jIZpTYD"
      }
    },
    {
      "cell_type": "code",
      "source": [
        "seed = 99\n",
        "tf.random.set_seed(seed)"
      ],
      "metadata": {
        "id": "9kdZhQvltHjR"
      },
      "execution_count": 27,
      "outputs": []
    },
    {
      "cell_type": "code",
      "source": [
        "def create_model(activations):\n",
        "    model = Sequential()\n",
        "    model.add(Dense(26, activation = activations, input_shape=(26,)))\n",
        "    model.add(Dense(26, activation = activations))\n",
        "    model.add(Dense(1))\n",
        "    adam= Adam(lr=0.01)\n",
        "    model.compile(optimizer=adam, loss='mean_squared_error',metrics=['accuracy'])\n",
        "    return model"
      ],
      "metadata": {
        "id": "lby1x_34jk0k"
      },
      "execution_count": 28,
      "outputs": []
    },
    {
      "cell_type": "code",
      "source": [
        "model = KerasRegressor(build_fn=create_model, epochs=50, batch_size=8, verbose=0)"
      ],
      "metadata": {
        "colab": {
          "base_uri": "https://localhost:8080/"
        },
        "id": "ViIuo3T4tEip",
        "outputId": "efbc0f88-fa79-4db2-bacd-d8b9ea8577f5"
      },
      "execution_count": 29,
      "outputs": [
        {
          "output_type": "stream",
          "name": "stderr",
          "text": [
            "<ipython-input-29-274eb9c7d1e4>:1: DeprecationWarning: KerasRegressor is deprecated, use Sci-Keras (https://github.com/adriangb/scikeras) instead. See https://www.adriangb.com/scikeras/stable/migration.html for help migrating.\n",
            "  model = KerasRegressor(build_fn=create_model, epochs=50, batch_size=8, verbose=0)\n"
          ]
        }
      ]
    },
    {
      "cell_type": "code",
      "source": [
        "activations = ['Linear', 'relu']\n",
        "param_grid = dict(activations = activations)\n",
        "grid = GridSearchCV(estimator=model, param_grid=param_grid, n_jobs=-1, cv=3)\n",
        "grid_result = grid.fit(X1, y1)"
      ],
      "metadata": {
        "colab": {
          "base_uri": "https://localhost:8080/"
        },
        "id": "qDRpYgqrn3Ja",
        "outputId": "89d9f852-b1c4-4090-ff43-9fd174e15851"
      },
      "execution_count": 30,
      "outputs": [
        {
          "output_type": "stream",
          "name": "stderr",
          "text": [
            "/usr/local/lib/python3.8/dist-packages/sklearn/model_selection/_validation.py:372: FitFailedWarning: \n",
            "3 fits failed out of a total of 6.\n",
            "The score on these train-test partitions for these parameters will be set to nan.\n",
            "If these failures are not expected, you can try to debug them by setting error_score='raise'.\n",
            "\n",
            "Below are more details about the failures:\n",
            "--------------------------------------------------------------------------------\n",
            "3 fits failed with the following error:\n",
            "Traceback (most recent call last):\n",
            "  File \"/usr/local/lib/python3.8/dist-packages/sklearn/model_selection/_validation.py\", line 680, in _fit_and_score\n",
            "    estimator.fit(X_train, y_train, **fit_params)\n",
            "  File \"/usr/local/lib/python3.8/dist-packages/keras/wrappers/scikit_learn.py\", line 164, in fit\n",
            "    self.model = self.build_fn(**self.filter_sk_params(self.build_fn))\n",
            "  File \"<ipython-input-28-6c04643145f7>\", line 3, in create_model\n",
            "  File \"/usr/local/lib/python3.8/dist-packages/keras/dtensor/utils.py\", line 96, in _wrap_function\n",
            "    init_method(layer_instance, *args, **kwargs)\n",
            "  File \"/usr/local/lib/python3.8/dist-packages/keras/layers/core/dense.py\", line 125, in __init__\n",
            "    self.activation = activations.get(activation)\n",
            "  File \"/usr/local/lib/python3.8/dist-packages/tensorflow/python/util/traceback_utils.py\", line 153, in error_handler\n",
            "    raise e.with_traceback(filtered_tb) from None\n",
            "  File \"/usr/local/lib/python3.8/dist-packages/keras/activations.py\", line 609, in get\n",
            "    return deserialize(identifier)\n",
            "  File \"/usr/local/lib/python3.8/dist-packages/keras/activations.py\", line 568, in deserialize\n",
            "    return serialization.deserialize_keras_object(\n",
            "  File \"/usr/local/lib/python3.8/dist-packages/keras/saving/legacy/serialization.py\", line 557, in deserialize_keras_object\n",
            "    raise ValueError(\n",
            "ValueError: Unknown activation function: 'Linear'. Please ensure you are using a `keras.utils.custom_object_scope` and that this object is included in the scope. See https://www.tensorflow.org/guide/keras/save_and_serialize#registering_the_custom_object for details.\n",
            "\n",
            "  warnings.warn(some_fits_failed_message, FitFailedWarning)\n",
            "/usr/local/lib/python3.8/dist-packages/sklearn/model_selection/_search.py:969: UserWarning: One or more of the test scores are non-finite: [        nan -0.02096352]\n",
            "  warnings.warn(\n",
            "/usr/local/lib/python3.8/dist-packages/keras/optimizers/optimizer_v2/adam.py:117: UserWarning: The `lr` argument is deprecated, use `learning_rate` instead.\n",
            "  super().__init__(name, **kwargs)\n"
          ]
        }
      ]
    },
    {
      "cell_type": "code",
      "source": [
        "# summarize results\n",
        "print(\"Best: %f using %s\" % (grid_result.best_score_, grid_result.best_params_))\n",
        "means = grid_result.cv_results_['mean_test_score']\n",
        "stds = grid_result.cv_results_['std_test_score']\n",
        "params = grid_result.cv_results_['params']\n",
        "for mean, stdev, param in zip(means, stds, params):\n",
        "    print(\"%f (%f) with: %r\" % (mean, stdev, param))"
      ],
      "metadata": {
        "colab": {
          "base_uri": "https://localhost:8080/"
        },
        "id": "urXjnh03oD6Z",
        "outputId": "61f675ea-1ec3-44a5-8933-008d7ca013a5"
      },
      "execution_count": 31,
      "outputs": [
        {
          "output_type": "stream",
          "name": "stdout",
          "text": [
            "Best: -0.020964 using {'activations': 'relu'}\n",
            "nan (nan) with: {'activations': 'Linear'}\n",
            "-0.020964 (0.004757) with: {'activations': 'relu'}\n"
          ]
        }
      ]
    },
    {
      "cell_type": "markdown",
      "source": [
        "## Hidden Layer"
      ],
      "metadata": {
        "id": "x9US0dnvv3r1"
      }
    },
    {
      "cell_type": "code",
      "source": [
        "seed = 99\n",
        "tf.random.set_seed(seed)"
      ],
      "metadata": {
        "id": "_vooUx12xCUg"
      },
      "execution_count": 32,
      "outputs": []
    },
    {
      "cell_type": "code",
      "source": [
        "def create_model(neurons):\n",
        "    model = Sequential()\n",
        "    model.add(Dense(neurons, activation = 'relu', input_shape=(26,)))\n",
        "    model.add(Dense(neurons, activation = 'relu'))\n",
        "    model.add(Dense(1))\n",
        "    adam= Adam(lr=0.01)\n",
        "    model.compile(optimizer=adam, loss='mean_squared_error',metrics=['accuracy'])\n",
        "    return model"
      ],
      "metadata": {
        "id": "O_G4P7tdxCUg"
      },
      "execution_count": 33,
      "outputs": []
    },
    {
      "cell_type": "code",
      "source": [
        "model = KerasRegressor(build_fn=create_model, epochs=50, batch_size=8, verbose=0)"
      ],
      "metadata": {
        "colab": {
          "base_uri": "https://localhost:8080/"
        },
        "outputId": "c0004dcb-23aa-4cdc-a98a-70b503ef31db",
        "id": "mVpxs5EzxCUh"
      },
      "execution_count": 34,
      "outputs": [
        {
          "output_type": "stream",
          "name": "stderr",
          "text": [
            "<ipython-input-34-274eb9c7d1e4>:1: DeprecationWarning: KerasRegressor is deprecated, use Sci-Keras (https://github.com/adriangb/scikeras) instead. See https://www.adriangb.com/scikeras/stable/migration.html for help migrating.\n",
            "  model = KerasRegressor(build_fn=create_model, epochs=50, batch_size=8, verbose=0)\n"
          ]
        }
      ]
    },
    {
      "cell_type": "code",
      "source": [
        "# define the grid search parameters\n",
        "neurons = [10, 20, 30, 40, 50, 100]\n",
        "param_grid = dict(neurons=neurons)\n",
        "grid = GridSearchCV(estimator=model, param_grid=param_grid, n_jobs=-1, cv=3)\n",
        "grid_result = grid.fit(X1, y1)"
      ],
      "metadata": {
        "colab": {
          "base_uri": "https://localhost:8080/"
        },
        "id": "pCOrP4MPxFUx",
        "outputId": "6016f88d-694c-49ee-f3c6-d5fd79f0d8b8"
      },
      "execution_count": 35,
      "outputs": [
        {
          "output_type": "stream",
          "name": "stderr",
          "text": [
            "/usr/local/lib/python3.8/dist-packages/keras/optimizers/optimizer_v2/adam.py:117: UserWarning: The `lr` argument is deprecated, use `learning_rate` instead.\n",
            "  super().__init__(name, **kwargs)\n"
          ]
        }
      ]
    },
    {
      "cell_type": "code",
      "source": [
        "# summarize results\n",
        "print(\"Best: %f using %s\" % (grid_result.best_score_, grid_result.best_params_))\n",
        "means = grid_result.cv_results_['mean_test_score']\n",
        "stds = grid_result.cv_results_['std_test_score']\n",
        "params = grid_result.cv_results_['params']\n",
        "for mean, stdev, param in zip(means, stds, params):\n",
        "    print(\"%f (%f) with: %r\" % (mean, stdev, param))"
      ],
      "metadata": {
        "colab": {
          "base_uri": "https://localhost:8080/"
        },
        "id": "npvteF1kxGtk",
        "outputId": "ab394dad-511b-420d-b55a-26bf5b8f6752"
      },
      "execution_count": 36,
      "outputs": [
        {
          "output_type": "stream",
          "name": "stdout",
          "text": [
            "Best: -0.018045 using {'neurons': 10}\n",
            "-0.018045 (0.000872) with: {'neurons': 10}\n",
            "-0.020086 (0.002912) with: {'neurons': 20}\n",
            "-0.020774 (0.001196) with: {'neurons': 30}\n",
            "-0.021080 (0.000685) with: {'neurons': 40}\n",
            "-0.021282 (0.006399) with: {'neurons': 50}\n",
            "-0.020939 (0.003433) with: {'neurons': 100}\n"
          ]
        }
      ]
    },
    {
      "cell_type": "markdown",
      "source": [
        "# ชุด2"
      ],
      "metadata": {
        "id": "69thrm7n08gr"
      }
    },
    {
      "cell_type": "code",
      "source": [
        "data_2.drop('Unnamed: 0',1,inplace = True)\n",
        "data_2"
      ],
      "metadata": {
        "id": "mH3-5phRrrIb",
        "colab": {
          "base_uri": "https://localhost:8080/",
          "height": 557
        },
        "outputId": "af71340a-f304-4b35-942f-8806d631aa8b"
      },
      "execution_count": 37,
      "outputs": [
        {
          "output_type": "stream",
          "name": "stderr",
          "text": [
            "<ipython-input-37-0b20a205f5ba>:1: FutureWarning: In a future version of pandas all arguments of DataFrame.drop except for the argument 'labels' will be keyword-only\n",
            "  data_2.drop('Unnamed: 0',1,inplace = True)\n"
          ]
        },
        {
          "output_type": "execute_result",
          "data": {
            "text/plain": [
              "     Sex  AgeSYear     Weight      Height    BMI  Systolic  Diastolic  \\\n",
              "0    2.0      58.0  47.200000  156.000000  19.40   112.000      64.00   \n",
              "1    2.0      57.0  47.400000  153.000000  20.20   114.000      75.00   \n",
              "2    2.0      24.0  53.200000  157.000000  21.60   103.000      69.00   \n",
              "3    2.0      62.0  54.400000  165.000000  20.00    95.000      75.00   \n",
              "4    2.0      86.0  49.000000  154.000000  20.70   129.000      79.00   \n",
              "..   ...       ...        ...         ...    ...       ...        ...   \n",
              "417  2.0      25.0  47.000000  165.000000  17.30   104.000      63.00   \n",
              "418  2.0      31.0  72.200000  168.000000  25.60   123.000      89.00   \n",
              "419  2.0      32.0  54.500000  158.466667  21.68   113.160      71.83   \n",
              "420  1.0      29.0  63.073333  168.866667  22.04   108.465      71.96   \n",
              "421  2.0      31.0  58.066667  160.200000  22.60   112.810      72.72   \n",
              "\n",
              "     HeartRate     SMM  Fat Mass  ...  Uric Acid  Cholesterol  Triglyceride  \\\n",
              "0        70.00  19.741    13.631  ...        4.8        180.0          97.0   \n",
              "1        69.00  19.300    12.500  ...        5.0        176.0          51.0   \n",
              "2        78.00  21.300    14.600  ...        5.2        159.0          45.0   \n",
              "3        83.00  21.600    15.200  ...        4.1        230.0          94.0   \n",
              "4        83.00  19.907    15.369  ...        5.4        183.0          86.0   \n",
              "..         ...     ...       ...  ...        ...          ...           ...   \n",
              "417      89.00  20.387    12.852  ...        4.8        232.0          36.0   \n",
              "418      69.00  25.451    18.258  ...        6.1        187.0          49.0   \n",
              "419      72.30  22.707    21.599  ...        5.1        222.0          58.0   \n",
              "420      83.95  27.607    20.258  ...        6.8        140.0          92.0   \n",
              "421      74.41  23.020    22.436  ...        4.0        243.0         161.0   \n",
              "\n",
              "     HDL-C    LDL   AST   ALT  Alkaline Phos     HbA1c  telomere length (kb)   \n",
              "0     62.0   98.0  25.0  32.0           40.0  5.800000                   7.30  \n",
              "1     72.0   94.0  16.0  16.0           62.0  5.100000                   6.36  \n",
              "2     52.0   98.0  13.0  17.0           50.0  5.400000                   9.71  \n",
              "3     61.0  151.0  18.0  31.0           76.0  5.600000                   6.17  \n",
              "4     39.0  127.0  12.0  22.0           82.0  6.200000                   4.55  \n",
              "..     ...    ...   ...   ...            ...       ...                    ...  \n",
              "417   96.0  128.0  18.0  12.0           46.0  5.393333                   8.98  \n",
              "418   51.0  127.0  21.0  24.0           71.0  5.186667                   8.23  \n",
              "419   79.0  132.0  17.0  10.0           34.0  5.486667                   8.79  \n",
              "420   48.0   73.0  31.0  75.0           69.0  4.973333                   8.93  \n",
              "421   87.0  124.0  24.0  11.0           46.0  6.086667                   7.92  \n",
              "\n",
              "[422 rows x 27 columns]"
            ],
            "text/html": [
              "\n",
              "  <div id=\"df-f8f46cc0-b7cf-427e-957a-c4038d4c5ece\">\n",
              "    <div class=\"colab-df-container\">\n",
              "      <div>\n",
              "<style scoped>\n",
              "    .dataframe tbody tr th:only-of-type {\n",
              "        vertical-align: middle;\n",
              "    }\n",
              "\n",
              "    .dataframe tbody tr th {\n",
              "        vertical-align: top;\n",
              "    }\n",
              "\n",
              "    .dataframe thead th {\n",
              "        text-align: right;\n",
              "    }\n",
              "</style>\n",
              "<table border=\"1\" class=\"dataframe\">\n",
              "  <thead>\n",
              "    <tr style=\"text-align: right;\">\n",
              "      <th></th>\n",
              "      <th>Sex</th>\n",
              "      <th>AgeSYear</th>\n",
              "      <th>Weight</th>\n",
              "      <th>Height</th>\n",
              "      <th>BMI</th>\n",
              "      <th>Systolic</th>\n",
              "      <th>Diastolic</th>\n",
              "      <th>HeartRate</th>\n",
              "      <th>SMM</th>\n",
              "      <th>Fat Mass</th>\n",
              "      <th>...</th>\n",
              "      <th>Uric Acid</th>\n",
              "      <th>Cholesterol</th>\n",
              "      <th>Triglyceride</th>\n",
              "      <th>HDL-C</th>\n",
              "      <th>LDL</th>\n",
              "      <th>AST</th>\n",
              "      <th>ALT</th>\n",
              "      <th>Alkaline Phos</th>\n",
              "      <th>HbA1c</th>\n",
              "      <th>telomere length (kb)</th>\n",
              "    </tr>\n",
              "  </thead>\n",
              "  <tbody>\n",
              "    <tr>\n",
              "      <th>0</th>\n",
              "      <td>2.0</td>\n",
              "      <td>58.0</td>\n",
              "      <td>47.200000</td>\n",
              "      <td>156.000000</td>\n",
              "      <td>19.40</td>\n",
              "      <td>112.000</td>\n",
              "      <td>64.00</td>\n",
              "      <td>70.00</td>\n",
              "      <td>19.741</td>\n",
              "      <td>13.631</td>\n",
              "      <td>...</td>\n",
              "      <td>4.8</td>\n",
              "      <td>180.0</td>\n",
              "      <td>97.0</td>\n",
              "      <td>62.0</td>\n",
              "      <td>98.0</td>\n",
              "      <td>25.0</td>\n",
              "      <td>32.0</td>\n",
              "      <td>40.0</td>\n",
              "      <td>5.800000</td>\n",
              "      <td>7.30</td>\n",
              "    </tr>\n",
              "    <tr>\n",
              "      <th>1</th>\n",
              "      <td>2.0</td>\n",
              "      <td>57.0</td>\n",
              "      <td>47.400000</td>\n",
              "      <td>153.000000</td>\n",
              "      <td>20.20</td>\n",
              "      <td>114.000</td>\n",
              "      <td>75.00</td>\n",
              "      <td>69.00</td>\n",
              "      <td>19.300</td>\n",
              "      <td>12.500</td>\n",
              "      <td>...</td>\n",
              "      <td>5.0</td>\n",
              "      <td>176.0</td>\n",
              "      <td>51.0</td>\n",
              "      <td>72.0</td>\n",
              "      <td>94.0</td>\n",
              "      <td>16.0</td>\n",
              "      <td>16.0</td>\n",
              "      <td>62.0</td>\n",
              "      <td>5.100000</td>\n",
              "      <td>6.36</td>\n",
              "    </tr>\n",
              "    <tr>\n",
              "      <th>2</th>\n",
              "      <td>2.0</td>\n",
              "      <td>24.0</td>\n",
              "      <td>53.200000</td>\n",
              "      <td>157.000000</td>\n",
              "      <td>21.60</td>\n",
              "      <td>103.000</td>\n",
              "      <td>69.00</td>\n",
              "      <td>78.00</td>\n",
              "      <td>21.300</td>\n",
              "      <td>14.600</td>\n",
              "      <td>...</td>\n",
              "      <td>5.2</td>\n",
              "      <td>159.0</td>\n",
              "      <td>45.0</td>\n",
              "      <td>52.0</td>\n",
              "      <td>98.0</td>\n",
              "      <td>13.0</td>\n",
              "      <td>17.0</td>\n",
              "      <td>50.0</td>\n",
              "      <td>5.400000</td>\n",
              "      <td>9.71</td>\n",
              "    </tr>\n",
              "    <tr>\n",
              "      <th>3</th>\n",
              "      <td>2.0</td>\n",
              "      <td>62.0</td>\n",
              "      <td>54.400000</td>\n",
              "      <td>165.000000</td>\n",
              "      <td>20.00</td>\n",
              "      <td>95.000</td>\n",
              "      <td>75.00</td>\n",
              "      <td>83.00</td>\n",
              "      <td>21.600</td>\n",
              "      <td>15.200</td>\n",
              "      <td>...</td>\n",
              "      <td>4.1</td>\n",
              "      <td>230.0</td>\n",
              "      <td>94.0</td>\n",
              "      <td>61.0</td>\n",
              "      <td>151.0</td>\n",
              "      <td>18.0</td>\n",
              "      <td>31.0</td>\n",
              "      <td>76.0</td>\n",
              "      <td>5.600000</td>\n",
              "      <td>6.17</td>\n",
              "    </tr>\n",
              "    <tr>\n",
              "      <th>4</th>\n",
              "      <td>2.0</td>\n",
              "      <td>86.0</td>\n",
              "      <td>49.000000</td>\n",
              "      <td>154.000000</td>\n",
              "      <td>20.70</td>\n",
              "      <td>129.000</td>\n",
              "      <td>79.00</td>\n",
              "      <td>83.00</td>\n",
              "      <td>19.907</td>\n",
              "      <td>15.369</td>\n",
              "      <td>...</td>\n",
              "      <td>5.4</td>\n",
              "      <td>183.0</td>\n",
              "      <td>86.0</td>\n",
              "      <td>39.0</td>\n",
              "      <td>127.0</td>\n",
              "      <td>12.0</td>\n",
              "      <td>22.0</td>\n",
              "      <td>82.0</td>\n",
              "      <td>6.200000</td>\n",
              "      <td>4.55</td>\n",
              "    </tr>\n",
              "    <tr>\n",
              "      <th>...</th>\n",
              "      <td>...</td>\n",
              "      <td>...</td>\n",
              "      <td>...</td>\n",
              "      <td>...</td>\n",
              "      <td>...</td>\n",
              "      <td>...</td>\n",
              "      <td>...</td>\n",
              "      <td>...</td>\n",
              "      <td>...</td>\n",
              "      <td>...</td>\n",
              "      <td>...</td>\n",
              "      <td>...</td>\n",
              "      <td>...</td>\n",
              "      <td>...</td>\n",
              "      <td>...</td>\n",
              "      <td>...</td>\n",
              "      <td>...</td>\n",
              "      <td>...</td>\n",
              "      <td>...</td>\n",
              "      <td>...</td>\n",
              "      <td>...</td>\n",
              "    </tr>\n",
              "    <tr>\n",
              "      <th>417</th>\n",
              "      <td>2.0</td>\n",
              "      <td>25.0</td>\n",
              "      <td>47.000000</td>\n",
              "      <td>165.000000</td>\n",
              "      <td>17.30</td>\n",
              "      <td>104.000</td>\n",
              "      <td>63.00</td>\n",
              "      <td>89.00</td>\n",
              "      <td>20.387</td>\n",
              "      <td>12.852</td>\n",
              "      <td>...</td>\n",
              "      <td>4.8</td>\n",
              "      <td>232.0</td>\n",
              "      <td>36.0</td>\n",
              "      <td>96.0</td>\n",
              "      <td>128.0</td>\n",
              "      <td>18.0</td>\n",
              "      <td>12.0</td>\n",
              "      <td>46.0</td>\n",
              "      <td>5.393333</td>\n",
              "      <td>8.98</td>\n",
              "    </tr>\n",
              "    <tr>\n",
              "      <th>418</th>\n",
              "      <td>2.0</td>\n",
              "      <td>31.0</td>\n",
              "      <td>72.200000</td>\n",
              "      <td>168.000000</td>\n",
              "      <td>25.60</td>\n",
              "      <td>123.000</td>\n",
              "      <td>89.00</td>\n",
              "      <td>69.00</td>\n",
              "      <td>25.451</td>\n",
              "      <td>18.258</td>\n",
              "      <td>...</td>\n",
              "      <td>6.1</td>\n",
              "      <td>187.0</td>\n",
              "      <td>49.0</td>\n",
              "      <td>51.0</td>\n",
              "      <td>127.0</td>\n",
              "      <td>21.0</td>\n",
              "      <td>24.0</td>\n",
              "      <td>71.0</td>\n",
              "      <td>5.186667</td>\n",
              "      <td>8.23</td>\n",
              "    </tr>\n",
              "    <tr>\n",
              "      <th>419</th>\n",
              "      <td>2.0</td>\n",
              "      <td>32.0</td>\n",
              "      <td>54.500000</td>\n",
              "      <td>158.466667</td>\n",
              "      <td>21.68</td>\n",
              "      <td>113.160</td>\n",
              "      <td>71.83</td>\n",
              "      <td>72.30</td>\n",
              "      <td>22.707</td>\n",
              "      <td>21.599</td>\n",
              "      <td>...</td>\n",
              "      <td>5.1</td>\n",
              "      <td>222.0</td>\n",
              "      <td>58.0</td>\n",
              "      <td>79.0</td>\n",
              "      <td>132.0</td>\n",
              "      <td>17.0</td>\n",
              "      <td>10.0</td>\n",
              "      <td>34.0</td>\n",
              "      <td>5.486667</td>\n",
              "      <td>8.79</td>\n",
              "    </tr>\n",
              "    <tr>\n",
              "      <th>420</th>\n",
              "      <td>1.0</td>\n",
              "      <td>29.0</td>\n",
              "      <td>63.073333</td>\n",
              "      <td>168.866667</td>\n",
              "      <td>22.04</td>\n",
              "      <td>108.465</td>\n",
              "      <td>71.96</td>\n",
              "      <td>83.95</td>\n",
              "      <td>27.607</td>\n",
              "      <td>20.258</td>\n",
              "      <td>...</td>\n",
              "      <td>6.8</td>\n",
              "      <td>140.0</td>\n",
              "      <td>92.0</td>\n",
              "      <td>48.0</td>\n",
              "      <td>73.0</td>\n",
              "      <td>31.0</td>\n",
              "      <td>75.0</td>\n",
              "      <td>69.0</td>\n",
              "      <td>4.973333</td>\n",
              "      <td>8.93</td>\n",
              "    </tr>\n",
              "    <tr>\n",
              "      <th>421</th>\n",
              "      <td>2.0</td>\n",
              "      <td>31.0</td>\n",
              "      <td>58.066667</td>\n",
              "      <td>160.200000</td>\n",
              "      <td>22.60</td>\n",
              "      <td>112.810</td>\n",
              "      <td>72.72</td>\n",
              "      <td>74.41</td>\n",
              "      <td>23.020</td>\n",
              "      <td>22.436</td>\n",
              "      <td>...</td>\n",
              "      <td>4.0</td>\n",
              "      <td>243.0</td>\n",
              "      <td>161.0</td>\n",
              "      <td>87.0</td>\n",
              "      <td>124.0</td>\n",
              "      <td>24.0</td>\n",
              "      <td>11.0</td>\n",
              "      <td>46.0</td>\n",
              "      <td>6.086667</td>\n",
              "      <td>7.92</td>\n",
              "    </tr>\n",
              "  </tbody>\n",
              "</table>\n",
              "<p>422 rows × 27 columns</p>\n",
              "</div>\n",
              "      <button class=\"colab-df-convert\" onclick=\"convertToInteractive('df-f8f46cc0-b7cf-427e-957a-c4038d4c5ece')\"\n",
              "              title=\"Convert this dataframe to an interactive table.\"\n",
              "              style=\"display:none;\">\n",
              "        \n",
              "  <svg xmlns=\"http://www.w3.org/2000/svg\" height=\"24px\"viewBox=\"0 0 24 24\"\n",
              "       width=\"24px\">\n",
              "    <path d=\"M0 0h24v24H0V0z\" fill=\"none\"/>\n",
              "    <path d=\"M18.56 5.44l.94 2.06.94-2.06 2.06-.94-2.06-.94-.94-2.06-.94 2.06-2.06.94zm-11 1L8.5 8.5l.94-2.06 2.06-.94-2.06-.94L8.5 2.5l-.94 2.06-2.06.94zm10 10l.94 2.06.94-2.06 2.06-.94-2.06-.94-.94-2.06-.94 2.06-2.06.94z\"/><path d=\"M17.41 7.96l-1.37-1.37c-.4-.4-.92-.59-1.43-.59-.52 0-1.04.2-1.43.59L10.3 9.45l-7.72 7.72c-.78.78-.78 2.05 0 2.83L4 21.41c.39.39.9.59 1.41.59.51 0 1.02-.2 1.41-.59l7.78-7.78 2.81-2.81c.8-.78.8-2.07 0-2.86zM5.41 20L4 18.59l7.72-7.72 1.47 1.35L5.41 20z\"/>\n",
              "  </svg>\n",
              "      </button>\n",
              "      \n",
              "  <style>\n",
              "    .colab-df-container {\n",
              "      display:flex;\n",
              "      flex-wrap:wrap;\n",
              "      gap: 12px;\n",
              "    }\n",
              "\n",
              "    .colab-df-convert {\n",
              "      background-color: #E8F0FE;\n",
              "      border: none;\n",
              "      border-radius: 50%;\n",
              "      cursor: pointer;\n",
              "      display: none;\n",
              "      fill: #1967D2;\n",
              "      height: 32px;\n",
              "      padding: 0 0 0 0;\n",
              "      width: 32px;\n",
              "    }\n",
              "\n",
              "    .colab-df-convert:hover {\n",
              "      background-color: #E2EBFA;\n",
              "      box-shadow: 0px 1px 2px rgba(60, 64, 67, 0.3), 0px 1px 3px 1px rgba(60, 64, 67, 0.15);\n",
              "      fill: #174EA6;\n",
              "    }\n",
              "\n",
              "    [theme=dark] .colab-df-convert {\n",
              "      background-color: #3B4455;\n",
              "      fill: #D2E3FC;\n",
              "    }\n",
              "\n",
              "    [theme=dark] .colab-df-convert:hover {\n",
              "      background-color: #434B5C;\n",
              "      box-shadow: 0px 1px 3px 1px rgba(0, 0, 0, 0.15);\n",
              "      filter: drop-shadow(0px 1px 2px rgba(0, 0, 0, 0.3));\n",
              "      fill: #FFFFFF;\n",
              "    }\n",
              "  </style>\n",
              "\n",
              "      <script>\n",
              "        const buttonEl =\n",
              "          document.querySelector('#df-f8f46cc0-b7cf-427e-957a-c4038d4c5ece button.colab-df-convert');\n",
              "        buttonEl.style.display =\n",
              "          google.colab.kernel.accessAllowed ? 'block' : 'none';\n",
              "\n",
              "        async function convertToInteractive(key) {\n",
              "          const element = document.querySelector('#df-f8f46cc0-b7cf-427e-957a-c4038d4c5ece');\n",
              "          const dataTable =\n",
              "            await google.colab.kernel.invokeFunction('convertToInteractive',\n",
              "                                                     [key], {});\n",
              "          if (!dataTable) return;\n",
              "\n",
              "          const docLinkHtml = 'Like what you see? Visit the ' +\n",
              "            '<a target=\"_blank\" href=https://colab.research.google.com/notebooks/data_table.ipynb>data table notebook</a>'\n",
              "            + ' to learn more about interactive tables.';\n",
              "          element.innerHTML = '';\n",
              "          dataTable['output_type'] = 'display_data';\n",
              "          await google.colab.output.renderOutput(dataTable, element);\n",
              "          const docLink = document.createElement('div');\n",
              "          docLink.innerHTML = docLinkHtml;\n",
              "          element.appendChild(docLink);\n",
              "        }\n",
              "      </script>\n",
              "    </div>\n",
              "  </div>\n",
              "  "
            ]
          },
          "metadata": {},
          "execution_count": 37
        }
      ]
    },
    {
      "cell_type": "code",
      "source": [
        "Scaler2 = scaler.fit_transform(data_2)"
      ],
      "metadata": {
        "id": "YYOKASf202rw"
      },
      "execution_count": 38,
      "outputs": []
    },
    {
      "cell_type": "code",
      "source": [
        "data_2 = pd.DataFrame(Scaler2)\n",
        "data_2 = data_2.rename(columns={0: 'Sex' ,1: 'AgeSYear', 2:'Weight',3:'Height',4:'BMI',5:'Systolic',6:'Diastolic',7:'HeartRate',8:'SMM',9:'Fat Mass',\n",
        "                                10:'% Body fat',11:'waist to hip radio',12:'abdominal circumference',13:'visceral fat area',14:'Glucose',15:'BUN',16:'Creatinine',17:'Uric Acid',18:'Cholesterol',\n",
        "                                19:'Triglyceride',20:'HDL-C',21:'LDL',22:'AST',23:'ALT',24:'Alkaline Phos',25:'HbA1c',26:'telomere length'})\n"
      ],
      "metadata": {
        "id": "3d5Qtimb2JSz"
      },
      "execution_count": 39,
      "outputs": []
    },
    {
      "cell_type": "code",
      "source": [
        "data_2"
      ],
      "metadata": {
        "id": "8P8A7o8x2Yuk",
        "colab": {
          "base_uri": "https://localhost:8080/",
          "height": 505
        },
        "outputId": "f8a9c495-83ff-476c-9357-61f6dcf10d27"
      },
      "execution_count": 40,
      "outputs": [
        {
          "output_type": "execute_result",
          "data": {
            "text/plain": [
              "     Sex  AgeSYear    Weight    Height       BMI  Systolic  Diastolic  \\\n",
              "0    1.0  0.582090  0.154562  0.250000  0.198473  0.531707   0.333333   \n",
              "1    1.0  0.567164  0.158287  0.181818  0.259542  0.551220   0.537037   \n",
              "2    1.0  0.074627  0.266294  0.272727  0.366412  0.443902   0.425926   \n",
              "3    1.0  0.641791  0.288641  0.454545  0.244275  0.365854   0.537037   \n",
              "4    1.0  1.000000  0.188082  0.204545  0.297710  0.697561   0.611111   \n",
              "..   ...       ...       ...       ...       ...       ...        ...   \n",
              "417  1.0  0.089552  0.150838  0.454545  0.038168  0.453659   0.314815   \n",
              "418  1.0  0.179104  0.620112  0.522727  0.671756  0.639024   0.796296   \n",
              "419  1.0  0.194030  0.290503  0.306061  0.372519  0.543024   0.478333   \n",
              "420  0.0  0.149254  0.450155  0.542424  0.400000  0.497220   0.480741   \n",
              "421  1.0  0.179104  0.356921  0.345455  0.442748  0.539610   0.494815   \n",
              "\n",
              "     HeartRate       SMM  Fat Mass  ...  Uric Acid  Cholesterol  Triglyceride  \\\n",
              "0     0.306452  0.101103  0.236189  ...   0.424242     0.438849      0.211082   \n",
              "1     0.290323  0.085409  0.208738  ...   0.454545     0.410072      0.089710   \n",
              "2     0.435484  0.156584  0.259709  ...   0.484848     0.287770      0.073879   \n",
              "3     0.516129  0.167260  0.274272  ...   0.318182     0.798561      0.203166   \n",
              "4     0.516129  0.107011  0.278374  ...   0.515152     0.460432      0.182058   \n",
              "..         ...       ...       ...  ...        ...          ...           ...   \n",
              "417   0.612903  0.124093  0.217282  ...   0.424242     0.812950      0.050132   \n",
              "418   0.290323  0.304306  0.348495  ...   0.621212     0.489209      0.084433   \n",
              "419   0.343548  0.206655  0.429587  ...   0.469697     0.741007      0.108179   \n",
              "420   0.531452  0.381032  0.397039  ...   0.727273     0.151079      0.197889   \n",
              "421   0.377581  0.217794  0.449903  ...   0.303030     0.892086      0.379947   \n",
              "\n",
              "        HDL-C       LDL       AST       ALT  Alkaline Phos     HbA1c  \\\n",
              "0    0.402299  0.350365  0.271186  0.376812       0.203390  0.540984   \n",
              "1    0.517241  0.321168  0.118644  0.144928       0.389831  0.426230   \n",
              "2    0.287356  0.350365  0.067797  0.159420       0.288136  0.475410   \n",
              "3    0.390805  0.737226  0.152542  0.362319       0.508475  0.508197   \n",
              "4    0.137931  0.562044  0.050847  0.231884       0.559322  0.606557   \n",
              "..        ...       ...       ...       ...            ...       ...   \n",
              "417  0.793103  0.569343  0.152542  0.086957       0.254237  0.474317   \n",
              "418  0.275862  0.562044  0.203390  0.260870       0.466102  0.440437   \n",
              "419  0.597701  0.598540  0.135593  0.057971       0.152542  0.489617   \n",
              "420  0.241379  0.167883  0.372881  1.000000       0.449153  0.405464   \n",
              "421  0.689655  0.540146  0.254237  0.072464       0.254237  0.587978   \n",
              "\n",
              "     telomere length  \n",
              "0           0.119472  \n",
              "1           0.083010  \n",
              "2           0.212956  \n",
              "3           0.075640  \n",
              "4           0.012801  \n",
              "..               ...  \n",
              "417         0.184639  \n",
              "418         0.155547  \n",
              "419         0.177269  \n",
              "420         0.182700  \n",
              "421         0.143522  \n",
              "\n",
              "[422 rows x 27 columns]"
            ],
            "text/html": [
              "\n",
              "  <div id=\"df-baf211f9-f084-4e15-8141-3988d830cde3\">\n",
              "    <div class=\"colab-df-container\">\n",
              "      <div>\n",
              "<style scoped>\n",
              "    .dataframe tbody tr th:only-of-type {\n",
              "        vertical-align: middle;\n",
              "    }\n",
              "\n",
              "    .dataframe tbody tr th {\n",
              "        vertical-align: top;\n",
              "    }\n",
              "\n",
              "    .dataframe thead th {\n",
              "        text-align: right;\n",
              "    }\n",
              "</style>\n",
              "<table border=\"1\" class=\"dataframe\">\n",
              "  <thead>\n",
              "    <tr style=\"text-align: right;\">\n",
              "      <th></th>\n",
              "      <th>Sex</th>\n",
              "      <th>AgeSYear</th>\n",
              "      <th>Weight</th>\n",
              "      <th>Height</th>\n",
              "      <th>BMI</th>\n",
              "      <th>Systolic</th>\n",
              "      <th>Diastolic</th>\n",
              "      <th>HeartRate</th>\n",
              "      <th>SMM</th>\n",
              "      <th>Fat Mass</th>\n",
              "      <th>...</th>\n",
              "      <th>Uric Acid</th>\n",
              "      <th>Cholesterol</th>\n",
              "      <th>Triglyceride</th>\n",
              "      <th>HDL-C</th>\n",
              "      <th>LDL</th>\n",
              "      <th>AST</th>\n",
              "      <th>ALT</th>\n",
              "      <th>Alkaline Phos</th>\n",
              "      <th>HbA1c</th>\n",
              "      <th>telomere length</th>\n",
              "    </tr>\n",
              "  </thead>\n",
              "  <tbody>\n",
              "    <tr>\n",
              "      <th>0</th>\n",
              "      <td>1.0</td>\n",
              "      <td>0.582090</td>\n",
              "      <td>0.154562</td>\n",
              "      <td>0.250000</td>\n",
              "      <td>0.198473</td>\n",
              "      <td>0.531707</td>\n",
              "      <td>0.333333</td>\n",
              "      <td>0.306452</td>\n",
              "      <td>0.101103</td>\n",
              "      <td>0.236189</td>\n",
              "      <td>...</td>\n",
              "      <td>0.424242</td>\n",
              "      <td>0.438849</td>\n",
              "      <td>0.211082</td>\n",
              "      <td>0.402299</td>\n",
              "      <td>0.350365</td>\n",
              "      <td>0.271186</td>\n",
              "      <td>0.376812</td>\n",
              "      <td>0.203390</td>\n",
              "      <td>0.540984</td>\n",
              "      <td>0.119472</td>\n",
              "    </tr>\n",
              "    <tr>\n",
              "      <th>1</th>\n",
              "      <td>1.0</td>\n",
              "      <td>0.567164</td>\n",
              "      <td>0.158287</td>\n",
              "      <td>0.181818</td>\n",
              "      <td>0.259542</td>\n",
              "      <td>0.551220</td>\n",
              "      <td>0.537037</td>\n",
              "      <td>0.290323</td>\n",
              "      <td>0.085409</td>\n",
              "      <td>0.208738</td>\n",
              "      <td>...</td>\n",
              "      <td>0.454545</td>\n",
              "      <td>0.410072</td>\n",
              "      <td>0.089710</td>\n",
              "      <td>0.517241</td>\n",
              "      <td>0.321168</td>\n",
              "      <td>0.118644</td>\n",
              "      <td>0.144928</td>\n",
              "      <td>0.389831</td>\n",
              "      <td>0.426230</td>\n",
              "      <td>0.083010</td>\n",
              "    </tr>\n",
              "    <tr>\n",
              "      <th>2</th>\n",
              "      <td>1.0</td>\n",
              "      <td>0.074627</td>\n",
              "      <td>0.266294</td>\n",
              "      <td>0.272727</td>\n",
              "      <td>0.366412</td>\n",
              "      <td>0.443902</td>\n",
              "      <td>0.425926</td>\n",
              "      <td>0.435484</td>\n",
              "      <td>0.156584</td>\n",
              "      <td>0.259709</td>\n",
              "      <td>...</td>\n",
              "      <td>0.484848</td>\n",
              "      <td>0.287770</td>\n",
              "      <td>0.073879</td>\n",
              "      <td>0.287356</td>\n",
              "      <td>0.350365</td>\n",
              "      <td>0.067797</td>\n",
              "      <td>0.159420</td>\n",
              "      <td>0.288136</td>\n",
              "      <td>0.475410</td>\n",
              "      <td>0.212956</td>\n",
              "    </tr>\n",
              "    <tr>\n",
              "      <th>3</th>\n",
              "      <td>1.0</td>\n",
              "      <td>0.641791</td>\n",
              "      <td>0.288641</td>\n",
              "      <td>0.454545</td>\n",
              "      <td>0.244275</td>\n",
              "      <td>0.365854</td>\n",
              "      <td>0.537037</td>\n",
              "      <td>0.516129</td>\n",
              "      <td>0.167260</td>\n",
              "      <td>0.274272</td>\n",
              "      <td>...</td>\n",
              "      <td>0.318182</td>\n",
              "      <td>0.798561</td>\n",
              "      <td>0.203166</td>\n",
              "      <td>0.390805</td>\n",
              "      <td>0.737226</td>\n",
              "      <td>0.152542</td>\n",
              "      <td>0.362319</td>\n",
              "      <td>0.508475</td>\n",
              "      <td>0.508197</td>\n",
              "      <td>0.075640</td>\n",
              "    </tr>\n",
              "    <tr>\n",
              "      <th>4</th>\n",
              "      <td>1.0</td>\n",
              "      <td>1.000000</td>\n",
              "      <td>0.188082</td>\n",
              "      <td>0.204545</td>\n",
              "      <td>0.297710</td>\n",
              "      <td>0.697561</td>\n",
              "      <td>0.611111</td>\n",
              "      <td>0.516129</td>\n",
              "      <td>0.107011</td>\n",
              "      <td>0.278374</td>\n",
              "      <td>...</td>\n",
              "      <td>0.515152</td>\n",
              "      <td>0.460432</td>\n",
              "      <td>0.182058</td>\n",
              "      <td>0.137931</td>\n",
              "      <td>0.562044</td>\n",
              "      <td>0.050847</td>\n",
              "      <td>0.231884</td>\n",
              "      <td>0.559322</td>\n",
              "      <td>0.606557</td>\n",
              "      <td>0.012801</td>\n",
              "    </tr>\n",
              "    <tr>\n",
              "      <th>...</th>\n",
              "      <td>...</td>\n",
              "      <td>...</td>\n",
              "      <td>...</td>\n",
              "      <td>...</td>\n",
              "      <td>...</td>\n",
              "      <td>...</td>\n",
              "      <td>...</td>\n",
              "      <td>...</td>\n",
              "      <td>...</td>\n",
              "      <td>...</td>\n",
              "      <td>...</td>\n",
              "      <td>...</td>\n",
              "      <td>...</td>\n",
              "      <td>...</td>\n",
              "      <td>...</td>\n",
              "      <td>...</td>\n",
              "      <td>...</td>\n",
              "      <td>...</td>\n",
              "      <td>...</td>\n",
              "      <td>...</td>\n",
              "      <td>...</td>\n",
              "    </tr>\n",
              "    <tr>\n",
              "      <th>417</th>\n",
              "      <td>1.0</td>\n",
              "      <td>0.089552</td>\n",
              "      <td>0.150838</td>\n",
              "      <td>0.454545</td>\n",
              "      <td>0.038168</td>\n",
              "      <td>0.453659</td>\n",
              "      <td>0.314815</td>\n",
              "      <td>0.612903</td>\n",
              "      <td>0.124093</td>\n",
              "      <td>0.217282</td>\n",
              "      <td>...</td>\n",
              "      <td>0.424242</td>\n",
              "      <td>0.812950</td>\n",
              "      <td>0.050132</td>\n",
              "      <td>0.793103</td>\n",
              "      <td>0.569343</td>\n",
              "      <td>0.152542</td>\n",
              "      <td>0.086957</td>\n",
              "      <td>0.254237</td>\n",
              "      <td>0.474317</td>\n",
              "      <td>0.184639</td>\n",
              "    </tr>\n",
              "    <tr>\n",
              "      <th>418</th>\n",
              "      <td>1.0</td>\n",
              "      <td>0.179104</td>\n",
              "      <td>0.620112</td>\n",
              "      <td>0.522727</td>\n",
              "      <td>0.671756</td>\n",
              "      <td>0.639024</td>\n",
              "      <td>0.796296</td>\n",
              "      <td>0.290323</td>\n",
              "      <td>0.304306</td>\n",
              "      <td>0.348495</td>\n",
              "      <td>...</td>\n",
              "      <td>0.621212</td>\n",
              "      <td>0.489209</td>\n",
              "      <td>0.084433</td>\n",
              "      <td>0.275862</td>\n",
              "      <td>0.562044</td>\n",
              "      <td>0.203390</td>\n",
              "      <td>0.260870</td>\n",
              "      <td>0.466102</td>\n",
              "      <td>0.440437</td>\n",
              "      <td>0.155547</td>\n",
              "    </tr>\n",
              "    <tr>\n",
              "      <th>419</th>\n",
              "      <td>1.0</td>\n",
              "      <td>0.194030</td>\n",
              "      <td>0.290503</td>\n",
              "      <td>0.306061</td>\n",
              "      <td>0.372519</td>\n",
              "      <td>0.543024</td>\n",
              "      <td>0.478333</td>\n",
              "      <td>0.343548</td>\n",
              "      <td>0.206655</td>\n",
              "      <td>0.429587</td>\n",
              "      <td>...</td>\n",
              "      <td>0.469697</td>\n",
              "      <td>0.741007</td>\n",
              "      <td>0.108179</td>\n",
              "      <td>0.597701</td>\n",
              "      <td>0.598540</td>\n",
              "      <td>0.135593</td>\n",
              "      <td>0.057971</td>\n",
              "      <td>0.152542</td>\n",
              "      <td>0.489617</td>\n",
              "      <td>0.177269</td>\n",
              "    </tr>\n",
              "    <tr>\n",
              "      <th>420</th>\n",
              "      <td>0.0</td>\n",
              "      <td>0.149254</td>\n",
              "      <td>0.450155</td>\n",
              "      <td>0.542424</td>\n",
              "      <td>0.400000</td>\n",
              "      <td>0.497220</td>\n",
              "      <td>0.480741</td>\n",
              "      <td>0.531452</td>\n",
              "      <td>0.381032</td>\n",
              "      <td>0.397039</td>\n",
              "      <td>...</td>\n",
              "      <td>0.727273</td>\n",
              "      <td>0.151079</td>\n",
              "      <td>0.197889</td>\n",
              "      <td>0.241379</td>\n",
              "      <td>0.167883</td>\n",
              "      <td>0.372881</td>\n",
              "      <td>1.000000</td>\n",
              "      <td>0.449153</td>\n",
              "      <td>0.405464</td>\n",
              "      <td>0.182700</td>\n",
              "    </tr>\n",
              "    <tr>\n",
              "      <th>421</th>\n",
              "      <td>1.0</td>\n",
              "      <td>0.179104</td>\n",
              "      <td>0.356921</td>\n",
              "      <td>0.345455</td>\n",
              "      <td>0.442748</td>\n",
              "      <td>0.539610</td>\n",
              "      <td>0.494815</td>\n",
              "      <td>0.377581</td>\n",
              "      <td>0.217794</td>\n",
              "      <td>0.449903</td>\n",
              "      <td>...</td>\n",
              "      <td>0.303030</td>\n",
              "      <td>0.892086</td>\n",
              "      <td>0.379947</td>\n",
              "      <td>0.689655</td>\n",
              "      <td>0.540146</td>\n",
              "      <td>0.254237</td>\n",
              "      <td>0.072464</td>\n",
              "      <td>0.254237</td>\n",
              "      <td>0.587978</td>\n",
              "      <td>0.143522</td>\n",
              "    </tr>\n",
              "  </tbody>\n",
              "</table>\n",
              "<p>422 rows × 27 columns</p>\n",
              "</div>\n",
              "      <button class=\"colab-df-convert\" onclick=\"convertToInteractive('df-baf211f9-f084-4e15-8141-3988d830cde3')\"\n",
              "              title=\"Convert this dataframe to an interactive table.\"\n",
              "              style=\"display:none;\">\n",
              "        \n",
              "  <svg xmlns=\"http://www.w3.org/2000/svg\" height=\"24px\"viewBox=\"0 0 24 24\"\n",
              "       width=\"24px\">\n",
              "    <path d=\"M0 0h24v24H0V0z\" fill=\"none\"/>\n",
              "    <path d=\"M18.56 5.44l.94 2.06.94-2.06 2.06-.94-2.06-.94-.94-2.06-.94 2.06-2.06.94zm-11 1L8.5 8.5l.94-2.06 2.06-.94-2.06-.94L8.5 2.5l-.94 2.06-2.06.94zm10 10l.94 2.06.94-2.06 2.06-.94-2.06-.94-.94-2.06-.94 2.06-2.06.94z\"/><path d=\"M17.41 7.96l-1.37-1.37c-.4-.4-.92-.59-1.43-.59-.52 0-1.04.2-1.43.59L10.3 9.45l-7.72 7.72c-.78.78-.78 2.05 0 2.83L4 21.41c.39.39.9.59 1.41.59.51 0 1.02-.2 1.41-.59l7.78-7.78 2.81-2.81c.8-.78.8-2.07 0-2.86zM5.41 20L4 18.59l7.72-7.72 1.47 1.35L5.41 20z\"/>\n",
              "  </svg>\n",
              "      </button>\n",
              "      \n",
              "  <style>\n",
              "    .colab-df-container {\n",
              "      display:flex;\n",
              "      flex-wrap:wrap;\n",
              "      gap: 12px;\n",
              "    }\n",
              "\n",
              "    .colab-df-convert {\n",
              "      background-color: #E8F0FE;\n",
              "      border: none;\n",
              "      border-radius: 50%;\n",
              "      cursor: pointer;\n",
              "      display: none;\n",
              "      fill: #1967D2;\n",
              "      height: 32px;\n",
              "      padding: 0 0 0 0;\n",
              "      width: 32px;\n",
              "    }\n",
              "\n",
              "    .colab-df-convert:hover {\n",
              "      background-color: #E2EBFA;\n",
              "      box-shadow: 0px 1px 2px rgba(60, 64, 67, 0.3), 0px 1px 3px 1px rgba(60, 64, 67, 0.15);\n",
              "      fill: #174EA6;\n",
              "    }\n",
              "\n",
              "    [theme=dark] .colab-df-convert {\n",
              "      background-color: #3B4455;\n",
              "      fill: #D2E3FC;\n",
              "    }\n",
              "\n",
              "    [theme=dark] .colab-df-convert:hover {\n",
              "      background-color: #434B5C;\n",
              "      box-shadow: 0px 1px 3px 1px rgba(0, 0, 0, 0.15);\n",
              "      filter: drop-shadow(0px 1px 2px rgba(0, 0, 0, 0.3));\n",
              "      fill: #FFFFFF;\n",
              "    }\n",
              "  </style>\n",
              "\n",
              "      <script>\n",
              "        const buttonEl =\n",
              "          document.querySelector('#df-baf211f9-f084-4e15-8141-3988d830cde3 button.colab-df-convert');\n",
              "        buttonEl.style.display =\n",
              "          google.colab.kernel.accessAllowed ? 'block' : 'none';\n",
              "\n",
              "        async function convertToInteractive(key) {\n",
              "          const element = document.querySelector('#df-baf211f9-f084-4e15-8141-3988d830cde3');\n",
              "          const dataTable =\n",
              "            await google.colab.kernel.invokeFunction('convertToInteractive',\n",
              "                                                     [key], {});\n",
              "          if (!dataTable) return;\n",
              "\n",
              "          const docLinkHtml = 'Like what you see? Visit the ' +\n",
              "            '<a target=\"_blank\" href=https://colab.research.google.com/notebooks/data_table.ipynb>data table notebook</a>'\n",
              "            + ' to learn more about interactive tables.';\n",
              "          element.innerHTML = '';\n",
              "          dataTable['output_type'] = 'display_data';\n",
              "          await google.colab.output.renderOutput(dataTable, element);\n",
              "          const docLink = document.createElement('div');\n",
              "          docLink.innerHTML = docLinkHtml;\n",
              "          element.appendChild(docLink);\n",
              "        }\n",
              "      </script>\n",
              "    </div>\n",
              "  </div>\n",
              "  "
            ]
          },
          "metadata": {},
          "execution_count": 40
        }
      ]
    },
    {
      "cell_type": "code",
      "source": [
        "y2 = data_2[['telomere length']]\n",
        "X2 = data_2.drop('telomere length',1)"
      ],
      "metadata": {
        "id": "lc0yisBIqzBH",
        "colab": {
          "base_uri": "https://localhost:8080/"
        },
        "outputId": "04674172-b5a1-48d5-a827-f9368eff102b"
      },
      "execution_count": 41,
      "outputs": [
        {
          "output_type": "stream",
          "name": "stderr",
          "text": [
            "<ipython-input-41-438a6f4ae66a>:2: FutureWarning: In a future version of pandas all arguments of DataFrame.drop except for the argument 'labels' will be keyword-only\n",
            "  X2 = data_2.drop('telomere length',1)\n"
          ]
        }
      ]
    },
    {
      "cell_type": "markdown",
      "source": [
        "## batch_size epochs"
      ],
      "metadata": {
        "id": "n4gi-X_iXOAV"
      }
    },
    {
      "cell_type": "code",
      "source": [
        "seed = 99\n",
        "tf.random.set_seed(seed)"
      ],
      "metadata": {
        "id": "5rUkgXjZXOAV"
      },
      "execution_count": 42,
      "outputs": []
    },
    {
      "cell_type": "code",
      "source": [
        "def create_model():\n",
        "    model = Sequential()\n",
        "    model.add(Dense(26, activation='relu', input_shape=(26,)))\n",
        "    model.add(Dense(26, activation='relu'))\n",
        "    model.add(Dense(1))\n",
        "    model.compile(optimizer='adam', loss='mean_squared_error',metrics=['accuracy'])\n",
        "    return model"
      ],
      "metadata": {
        "id": "WTX5mmf2XOAV"
      },
      "execution_count": 43,
      "outputs": []
    },
    {
      "cell_type": "code",
      "source": [
        "model = KerasRegressor(build_fn=create_model)"
      ],
      "metadata": {
        "colab": {
          "base_uri": "https://localhost:8080/"
        },
        "outputId": "ae8cb515-c8f8-442e-dd9e-e00f7d90efd2",
        "id": "jFJpGySSXOAW"
      },
      "execution_count": 44,
      "outputs": [
        {
          "output_type": "stream",
          "name": "stderr",
          "text": [
            "<ipython-input-44-82c839a6aff6>:1: DeprecationWarning: KerasRegressor is deprecated, use Sci-Keras (https://github.com/adriangb/scikeras) instead. See https://www.adriangb.com/scikeras/stable/migration.html for help migrating.\n",
            "  model = KerasRegressor(build_fn=create_model)\n"
          ]
        }
      ]
    },
    {
      "cell_type": "code",
      "source": [
        "# define the grid search parameters\n",
        "batch_size = [4, 8, 16, 32]\n",
        "epochs = [10, 20, 30, 50, 100]\n",
        "param_grid = dict(batch_size=batch_size, epochs=epochs)\n",
        "grid = GridSearchCV(estimator=model, param_grid=param_grid, n_jobs=-1, cv=3)"
      ],
      "metadata": {
        "id": "xYTInqxEXOAW"
      },
      "execution_count": 45,
      "outputs": []
    },
    {
      "cell_type": "code",
      "source": [
        "grid_result = grid.fit(X2, y2, verbose=0)"
      ],
      "metadata": {
        "id": "61P0wUrsXOAW"
      },
      "execution_count": 46,
      "outputs": []
    },
    {
      "cell_type": "code",
      "source": [
        "print(\"Best: %f using %s\" % (grid_result.best_score_, grid_result.best_params_))\n",
        "means = grid_result.cv_results_['mean_test_score']\n",
        "stds = grid_result.cv_results_['std_test_score']\n",
        "params = grid_result.cv_results_['params']\n",
        "for mean, stdev, param in zip(means, stds, params):\n",
        "    print(\"%f (%f) with: %r\" % (mean, stdev, param))"
      ],
      "metadata": {
        "colab": {
          "base_uri": "https://localhost:8080/"
        },
        "outputId": "6fc6fe16-8c7e-49dc-a1a7-42b9648f9e19",
        "id": "e94hvgMmXOAW"
      },
      "execution_count": 47,
      "outputs": [
        {
          "output_type": "stream",
          "name": "stdout",
          "text": [
            "Best: -0.003463 using {'batch_size': 8, 'epochs': 30}\n",
            "-0.003488 (0.002389) with: {'batch_size': 4, 'epochs': 10}\n",
            "-0.003685 (0.001930) with: {'batch_size': 4, 'epochs': 20}\n",
            "-0.003968 (0.002173) with: {'batch_size': 4, 'epochs': 30}\n",
            "-0.003685 (0.002074) with: {'batch_size': 4, 'epochs': 50}\n",
            "-0.003984 (0.002152) with: {'batch_size': 4, 'epochs': 100}\n",
            "-0.004537 (0.002466) with: {'batch_size': 8, 'epochs': 10}\n",
            "-0.003659 (0.002429) with: {'batch_size': 8, 'epochs': 20}\n",
            "-0.003463 (0.002525) with: {'batch_size': 8, 'epochs': 30}\n",
            "-0.004062 (0.001927) with: {'batch_size': 8, 'epochs': 50}\n",
            "-0.003934 (0.002171) with: {'batch_size': 8, 'epochs': 100}\n",
            "-0.003996 (0.002138) with: {'batch_size': 16, 'epochs': 10}\n",
            "-0.003971 (0.002314) with: {'batch_size': 16, 'epochs': 20}\n",
            "-0.003907 (0.002512) with: {'batch_size': 16, 'epochs': 30}\n",
            "-0.003803 (0.002746) with: {'batch_size': 16, 'epochs': 50}\n",
            "-0.003860 (0.002114) with: {'batch_size': 16, 'epochs': 100}\n",
            "-0.004163 (0.001982) with: {'batch_size': 32, 'epochs': 10}\n",
            "-0.005012 (0.003099) with: {'batch_size': 32, 'epochs': 20}\n",
            "-0.004432 (0.002803) with: {'batch_size': 32, 'epochs': 30}\n",
            "-0.003657 (0.002342) with: {'batch_size': 32, 'epochs': 50}\n",
            "-0.003855 (0.001983) with: {'batch_size': 32, 'epochs': 100}\n"
          ]
        }
      ]
    },
    {
      "cell_type": "markdown",
      "source": [
        "## Optimization Algorithm"
      ],
      "metadata": {
        "id": "9zapidP9XOAW"
      }
    },
    {
      "cell_type": "code",
      "source": [
        "seed = 99\n",
        "tf.random.set_seed(seed)"
      ],
      "metadata": {
        "id": "ymLZb032XOAW"
      },
      "execution_count": 48,
      "outputs": []
    },
    {
      "cell_type": "code",
      "source": [
        "def create_model(optimizer):\n",
        "    model = Sequential()\n",
        "    model.add(Dense(26, activation='relu', input_shape=(26,)))\n",
        "    model.add(Dense(26, activation='relu'))\n",
        "    model.add(Dense(1))\n",
        "    model.compile(optimizer=optimizer, loss='mean_squared_error',metrics=['accuracy'])\n",
        "    return model"
      ],
      "metadata": {
        "id": "7PVaQxoKXOAW"
      },
      "execution_count": 49,
      "outputs": []
    },
    {
      "cell_type": "code",
      "source": [
        "model = KerasRegressor(build_fn=create_model, epochs=50, batch_size=8, verbose=0)"
      ],
      "metadata": {
        "colab": {
          "base_uri": "https://localhost:8080/"
        },
        "outputId": "82398cce-dc4b-4bd0-e6b2-ffcd82c4c010",
        "id": "oViIT-H_XOAX"
      },
      "execution_count": 50,
      "outputs": [
        {
          "output_type": "stream",
          "name": "stderr",
          "text": [
            "<ipython-input-50-274eb9c7d1e4>:1: DeprecationWarning: KerasRegressor is deprecated, use Sci-Keras (https://github.com/adriangb/scikeras) instead. See https://www.adriangb.com/scikeras/stable/migration.html for help migrating.\n",
            "  model = KerasRegressor(build_fn=create_model, epochs=50, batch_size=8, verbose=0)\n"
          ]
        }
      ]
    },
    {
      "cell_type": "code",
      "source": [
        "# define the grid search parameters\n",
        "optimizer = ['SGD', 'RMSprop', 'Adam', 'Adagrad']\n",
        "param_grid = dict(optimizer=optimizer)\n",
        "grid = GridSearchCV(estimator=model, param_grid=param_grid, n_jobs=-1, cv=3)\n",
        "grid_result = grid.fit(X2, y2)"
      ],
      "metadata": {
        "id": "Wi9wYT-UXOAX"
      },
      "execution_count": 51,
      "outputs": []
    },
    {
      "cell_type": "code",
      "source": [
        "# summarize results\n",
        "print(\"Best: %f using %s\" % (grid_result.best_score_, grid_result.best_params_))\n",
        "means = grid_result.cv_results_['mean_test_score']\n",
        "stds = grid_result.cv_results_['std_test_score']\n",
        "params = grid_result.cv_results_['params']\n",
        "for mean, stdev, param in zip(means, stds, params):\n",
        "    print(\"%f (%f) with: %r\" % (mean, stdev, param))"
      ],
      "metadata": {
        "colab": {
          "base_uri": "https://localhost:8080/"
        },
        "outputId": "329103da-e223-40b5-c9a2-3918f12feaab",
        "id": "NjLOKzjqXOAX"
      },
      "execution_count": 52,
      "outputs": [
        {
          "output_type": "stream",
          "name": "stdout",
          "text": [
            "Best: -0.003588 using {'optimizer': 'Adam'}\n",
            "-0.004748 (0.002484) with: {'optimizer': 'SGD'}\n",
            "-0.003859 (0.002381) with: {'optimizer': 'RMSprop'}\n",
            "-0.003588 (0.001977) with: {'optimizer': 'Adam'}\n",
            "-0.008241 (0.002986) with: {'optimizer': 'Adagrad'}\n"
          ]
        }
      ]
    },
    {
      "cell_type": "markdown",
      "source": [
        "## Learning Rate"
      ],
      "metadata": {
        "id": "0Eq9zVafXOAX"
      }
    },
    {
      "cell_type": "code",
      "source": [
        "seed = 99\n",
        "tf.random.set_seed(seed)"
      ],
      "metadata": {
        "id": "dbkkvwhRXOAX"
      },
      "execution_count": 53,
      "outputs": []
    },
    {
      "cell_type": "code",
      "source": [
        "def create_model(lr):\n",
        "    model = Sequential()\n",
        "    model.add(Dense(26, activation='relu', input_shape=(26,)))\n",
        "    model.add(Dense(26, activation='relu'))\n",
        "    model.add(Dense(1))\n",
        "    model.compile(optimizer=Adam(lr), loss='mean_squared_error',metrics=['accuracy'])\n",
        "    return model"
      ],
      "metadata": {
        "id": "OFq_fVpoXOAX"
      },
      "execution_count": 54,
      "outputs": []
    },
    {
      "cell_type": "code",
      "source": [
        "model = KerasRegressor(build_fn=create_model, epochs=50, batch_size=8, verbose=0)"
      ],
      "metadata": {
        "colab": {
          "base_uri": "https://localhost:8080/"
        },
        "outputId": "f626dd92-6dd8-44e0-d844-97f4faa3c1d7",
        "id": "W5GdsV9QXOAX"
      },
      "execution_count": 55,
      "outputs": [
        {
          "output_type": "stream",
          "name": "stderr",
          "text": [
            "<ipython-input-55-274eb9c7d1e4>:1: DeprecationWarning: KerasRegressor is deprecated, use Sci-Keras (https://github.com/adriangb/scikeras) instead. See https://www.adriangb.com/scikeras/stable/migration.html for help migrating.\n",
            "  model = KerasRegressor(build_fn=create_model, epochs=50, batch_size=8, verbose=0)\n"
          ]
        }
      ]
    },
    {
      "cell_type": "code",
      "source": [
        "lr = [0.001, 0.01, 0.1, 0.2, 0.3]\n",
        "param_grid = dict(lr=lr)\n",
        "grid = GridSearchCV(estimator=model, param_grid=param_grid, n_jobs=-1, cv=3)\n",
        "grid_result = grid.fit(X2, y2)"
      ],
      "metadata": {
        "id": "hLerKmTCXOAX"
      },
      "execution_count": 56,
      "outputs": []
    },
    {
      "cell_type": "code",
      "source": [
        "print(\"Best: %f using %s\" % (grid_result.best_score_, grid_result.best_params_))\n",
        "means = grid_result.cv_results_['mean_test_score']\n",
        "stds = grid_result.cv_results_['std_test_score']\n",
        "params = grid_result.cv_results_['params']\n",
        "for mean, stdev, param in zip(means, stds, params):\n",
        "    print(\"%f (%f) with: %r\" % (mean, stdev, param))"
      ],
      "metadata": {
        "colab": {
          "base_uri": "https://localhost:8080/"
        },
        "outputId": "d16b8e0d-a2b8-422e-8e8b-8bb2d07186d7",
        "id": "jin3HKrxXOAX"
      },
      "execution_count": 57,
      "outputs": [
        {
          "output_type": "stream",
          "name": "stdout",
          "text": [
            "Best: -0.003184 using {'lr': 0.01}\n",
            "-0.003823 (0.002098) with: {'lr': 0.001}\n",
            "-0.003184 (0.002448) with: {'lr': 0.01}\n",
            "-0.005447 (0.002071) with: {'lr': 0.1}\n",
            "-0.004599 (0.003374) with: {'lr': 0.2}\n",
            "-0.005139 (0.002324) with: {'lr': 0.3}\n"
          ]
        }
      ]
    },
    {
      "cell_type": "markdown",
      "source": [
        "## activations"
      ],
      "metadata": {
        "id": "qMKYP5heXOAX"
      }
    },
    {
      "cell_type": "code",
      "source": [
        "seed = 99\n",
        "tf.random.set_seed(seed)"
      ],
      "metadata": {
        "id": "fLhHwxF5XOAY"
      },
      "execution_count": 58,
      "outputs": []
    },
    {
      "cell_type": "code",
      "source": [
        "def create_model(activations):\n",
        "    model = Sequential()\n",
        "    model.add(Dense(26, activation = activations, input_shape=(26,)))\n",
        "    model.add(Dense(26, activation = activations))\n",
        "    model.add(Dense(1))\n",
        "    adam= Adam(lr=0.01)\n",
        "    model.compile(optimizer=adam, loss='mean_squared_error',metrics=['accuracy'])\n",
        "    return model"
      ],
      "metadata": {
        "id": "uZFPub6JXOAX"
      },
      "execution_count": 59,
      "outputs": []
    },
    {
      "cell_type": "code",
      "source": [
        "model = KerasRegressor(build_fn=create_model, epochs=50, batch_size=8, verbose=0)"
      ],
      "metadata": {
        "colab": {
          "base_uri": "https://localhost:8080/"
        },
        "outputId": "132d48b8-e7ba-4cc2-a6f0-df53470108c7",
        "id": "qpZ_2Ce9XOAY"
      },
      "execution_count": 60,
      "outputs": [
        {
          "output_type": "stream",
          "name": "stderr",
          "text": [
            "<ipython-input-60-274eb9c7d1e4>:1: DeprecationWarning: KerasRegressor is deprecated, use Sci-Keras (https://github.com/adriangb/scikeras) instead. See https://www.adriangb.com/scikeras/stable/migration.html for help migrating.\n",
            "  model = KerasRegressor(build_fn=create_model, epochs=50, batch_size=8, verbose=0)\n"
          ]
        }
      ]
    },
    {
      "cell_type": "code",
      "source": [
        "activations = ['Linear', 'relu']\n",
        "param_grid = dict(activations = activations)\n",
        "grid = GridSearchCV(estimator=model, param_grid=param_grid, n_jobs=-1, cv=3)\n",
        "grid_result = grid.fit(X2, y2)"
      ],
      "metadata": {
        "colab": {
          "base_uri": "https://localhost:8080/"
        },
        "outputId": "bdc2cbe4-1715-4917-82f1-8559a5402a88",
        "id": "GZd_7SvuXOAY"
      },
      "execution_count": 61,
      "outputs": [
        {
          "output_type": "stream",
          "name": "stderr",
          "text": [
            "/usr/local/lib/python3.8/dist-packages/sklearn/model_selection/_validation.py:372: FitFailedWarning: \n",
            "3 fits failed out of a total of 6.\n",
            "The score on these train-test partitions for these parameters will be set to nan.\n",
            "If these failures are not expected, you can try to debug them by setting error_score='raise'.\n",
            "\n",
            "Below are more details about the failures:\n",
            "--------------------------------------------------------------------------------\n",
            "3 fits failed with the following error:\n",
            "Traceback (most recent call last):\n",
            "  File \"/usr/local/lib/python3.8/dist-packages/sklearn/model_selection/_validation.py\", line 680, in _fit_and_score\n",
            "    estimator.fit(X_train, y_train, **fit_params)\n",
            "  File \"/usr/local/lib/python3.8/dist-packages/keras/wrappers/scikit_learn.py\", line 164, in fit\n",
            "    self.model = self.build_fn(**self.filter_sk_params(self.build_fn))\n",
            "  File \"<ipython-input-59-6c04643145f7>\", line 3, in create_model\n",
            "  File \"/usr/local/lib/python3.8/dist-packages/keras/dtensor/utils.py\", line 96, in _wrap_function\n",
            "    init_method(layer_instance, *args, **kwargs)\n",
            "  File \"/usr/local/lib/python3.8/dist-packages/keras/layers/core/dense.py\", line 125, in __init__\n",
            "    self.activation = activations.get(activation)\n",
            "  File \"/usr/local/lib/python3.8/dist-packages/tensorflow/python/util/traceback_utils.py\", line 153, in error_handler\n",
            "    raise e.with_traceback(filtered_tb) from None\n",
            "  File \"/usr/local/lib/python3.8/dist-packages/keras/activations.py\", line 609, in get\n",
            "    return deserialize(identifier)\n",
            "  File \"/usr/local/lib/python3.8/dist-packages/keras/activations.py\", line 568, in deserialize\n",
            "    return serialization.deserialize_keras_object(\n",
            "  File \"/usr/local/lib/python3.8/dist-packages/keras/saving/legacy/serialization.py\", line 557, in deserialize_keras_object\n",
            "    raise ValueError(\n",
            "ValueError: Unknown activation function: 'Linear'. Please ensure you are using a `keras.utils.custom_object_scope` and that this object is included in the scope. See https://www.tensorflow.org/guide/keras/save_and_serialize#registering_the_custom_object for details.\n",
            "\n",
            "  warnings.warn(some_fits_failed_message, FitFailedWarning)\n",
            "/usr/local/lib/python3.8/dist-packages/sklearn/model_selection/_search.py:969: UserWarning: One or more of the test scores are non-finite: [        nan -0.00303595]\n",
            "  warnings.warn(\n",
            "/usr/local/lib/python3.8/dist-packages/keras/optimizers/optimizer_v2/adam.py:117: UserWarning: The `lr` argument is deprecated, use `learning_rate` instead.\n",
            "  super().__init__(name, **kwargs)\n"
          ]
        }
      ]
    },
    {
      "cell_type": "code",
      "source": [
        "# summarize results\n",
        "print(\"Best: %f using %s\" % (grid_result.best_score_, grid_result.best_params_))\n",
        "means = grid_result.cv_results_['mean_test_score']\n",
        "stds = grid_result.cv_results_['std_test_score']\n",
        "params = grid_result.cv_results_['params']\n",
        "for mean, stdev, param in zip(means, stds, params):\n",
        "    print(\"%f (%f) with: %r\" % (mean, stdev, param))"
      ],
      "metadata": {
        "colab": {
          "base_uri": "https://localhost:8080/"
        },
        "outputId": "e0f164e3-661e-4553-9bfc-09e06eaf997c",
        "id": "LlZwdmX4XOAY"
      },
      "execution_count": 62,
      "outputs": [
        {
          "output_type": "stream",
          "name": "stdout",
          "text": [
            "Best: -0.003036 using {'activations': 'relu'}\n",
            "nan (nan) with: {'activations': 'Linear'}\n",
            "-0.003036 (0.002247) with: {'activations': 'relu'}\n"
          ]
        }
      ]
    },
    {
      "cell_type": "markdown",
      "source": [
        "## Hidden Layer"
      ],
      "metadata": {
        "id": "cyKTeH64XOAY"
      }
    },
    {
      "cell_type": "code",
      "source": [
        "seed = 99\n",
        "tf.random.set_seed(seed)"
      ],
      "metadata": {
        "id": "mR1Tt3_XXOAY"
      },
      "execution_count": 63,
      "outputs": []
    },
    {
      "cell_type": "code",
      "source": [
        "def create_model(neurons):\n",
        "    model = Sequential()\n",
        "    model.add(Dense(neurons, activation = 'relu', input_shape=(26,)))\n",
        "    model.add(Dense(neurons, activation = 'relu'))\n",
        "    model.add(Dense(1))\n",
        "    adam= Adam(lr=0.01)\n",
        "    model.compile(optimizer=adam, loss='mean_squared_error',metrics=['accuracy'])\n",
        "    return model"
      ],
      "metadata": {
        "id": "HidrUM-sXOAY"
      },
      "execution_count": 64,
      "outputs": []
    },
    {
      "cell_type": "code",
      "source": [
        "model = KerasRegressor(build_fn=create_model, epochs=50, batch_size=8, verbose=0)"
      ],
      "metadata": {
        "colab": {
          "base_uri": "https://localhost:8080/"
        },
        "outputId": "ac13c697-81a2-432c-a5d7-a21d9418c9ff",
        "id": "JfG8iJ-IXOAY"
      },
      "execution_count": 65,
      "outputs": [
        {
          "output_type": "stream",
          "name": "stderr",
          "text": [
            "<ipython-input-65-274eb9c7d1e4>:1: DeprecationWarning: KerasRegressor is deprecated, use Sci-Keras (https://github.com/adriangb/scikeras) instead. See https://www.adriangb.com/scikeras/stable/migration.html for help migrating.\n",
            "  model = KerasRegressor(build_fn=create_model, epochs=50, batch_size=8, verbose=0)\n"
          ]
        }
      ]
    },
    {
      "cell_type": "code",
      "source": [
        "# define the grid search parameters\n",
        "neurons = [10, 20, 30, 40, 50, 100 ]\n",
        "param_grid = dict(neurons=neurons)\n",
        "grid = GridSearchCV(estimator=model, param_grid=param_grid, n_jobs=-1, cv=3)\n",
        "grid_result = grid.fit(X2, y2)"
      ],
      "metadata": {
        "colab": {
          "base_uri": "https://localhost:8080/"
        },
        "outputId": "ea2b1de7-2a58-4eb8-c4cb-f9c86a659645",
        "id": "iBAAACQiXOAY"
      },
      "execution_count": 66,
      "outputs": [
        {
          "output_type": "stream",
          "name": "stderr",
          "text": [
            "/usr/local/lib/python3.8/dist-packages/keras/optimizers/optimizer_v2/adam.py:117: UserWarning: The `lr` argument is deprecated, use `learning_rate` instead.\n",
            "  super().__init__(name, **kwargs)\n"
          ]
        }
      ]
    },
    {
      "cell_type": "code",
      "source": [
        "# summarize results\n",
        "print(\"Best: %f using %s\" % (grid_result.best_score_, grid_result.best_params_))\n",
        "means = grid_result.cv_results_['mean_test_score']\n",
        "stds = grid_result.cv_results_['std_test_score']\n",
        "params = grid_result.cv_results_['params']\n",
        "for mean, stdev, param in zip(means, stds, params):\n",
        "    print(\"%f (%f) with: %r\" % (mean, stdev, param))"
      ],
      "metadata": {
        "colab": {
          "base_uri": "https://localhost:8080/"
        },
        "outputId": "a10ee0f2-098c-4769-c845-ed77bf914507",
        "id": "8h4iqsSGXOAY"
      },
      "execution_count": 67,
      "outputs": [
        {
          "output_type": "stream",
          "name": "stdout",
          "text": [
            "Best: -0.002868 using {'neurons': 30}\n",
            "-0.003668 (0.002099) with: {'neurons': 10}\n",
            "-0.003420 (0.002637) with: {'neurons': 20}\n",
            "-0.002868 (0.002552) with: {'neurons': 30}\n",
            "-0.003913 (0.002276) with: {'neurons': 40}\n",
            "-0.005094 (0.002204) with: {'neurons': 50}\n",
            "-0.003338 (0.002126) with: {'neurons': 100}\n"
          ]
        }
      ]
    },
    {
      "cell_type": "markdown",
      "source": [
        "# ชุด 3"
      ],
      "metadata": {
        "id": "jRkN7_DG0__u"
      }
    },
    {
      "cell_type": "code",
      "source": [
        "data_3.drop('Unnamed: 0',1,inplace = True)\n",
        "data_3"
      ],
      "metadata": {
        "id": "QEyERySErveo",
        "colab": {
          "base_uri": "https://localhost:8080/",
          "height": 557
        },
        "outputId": "8ecded54-60b4-4237-ac9e-9bc3b0986e35"
      },
      "execution_count": 68,
      "outputs": [
        {
          "output_type": "stream",
          "name": "stderr",
          "text": [
            "<ipython-input-68-2409d95c4247>:1: FutureWarning: In a future version of pandas all arguments of DataFrame.drop except for the argument 'labels' will be keyword-only\n",
            "  data_3.drop('Unnamed: 0',1,inplace = True)\n"
          ]
        },
        {
          "output_type": "execute_result",
          "data": {
            "text/plain": [
              "     Sex  AgeSYear  Weight  Height    BMI  Systolic  Diastolic  HeartRate  \\\n",
              "0    2.0      58.0  47.200  156.00  19.40   112.000      64.00      70.00   \n",
              "1    2.0      57.0  47.400  153.00  20.20   114.000      75.00      69.00   \n",
              "2    2.0      24.0  53.200  157.00  21.60   103.000      69.00      78.00   \n",
              "3    2.0      62.0  54.400  165.00  20.00    95.000      75.00      83.00   \n",
              "4    2.0      86.0  49.000  154.00  20.70   129.000      79.00      83.00   \n",
              "..   ...       ...     ...     ...    ...       ...        ...        ...   \n",
              "417  2.0      25.0  47.000  165.00  17.30   104.000      63.00      89.00   \n",
              "418  2.0      31.0  72.200  168.00  25.60   123.000      89.00      69.00   \n",
              "419  2.0      32.0  65.656  156.96  25.98   115.860      73.17      74.72   \n",
              "420  1.0      29.0  67.768  169.90  23.87   117.205      75.50      85.37   \n",
              "421  2.0      31.0  61.935  161.46  24.06   113.340      71.31      73.77   \n",
              "\n",
              "        SMM  Fat Mass  ...  Uric Acid  Cholesterol  Triglyceride  HDL-C  \\\n",
              "0    19.694    13.404  ...        4.8        180.0          97.0   62.0   \n",
              "1    19.300    12.500  ...        5.0        176.0          51.0   72.0   \n",
              "2    21.300    14.600  ...        5.2        159.0          45.0   52.0   \n",
              "3    21.600    15.200  ...        4.1        230.0          94.0   61.0   \n",
              "4    20.057    16.295  ...        5.4        183.0          86.0   39.0   \n",
              "..      ...       ...  ...        ...          ...           ...    ...   \n",
              "417  20.299    13.578  ...        4.8        232.0          36.0   96.0   \n",
              "418  25.286    18.181  ...        6.1        187.0          49.0   51.0   \n",
              "419  23.573    24.765  ...        5.1        222.0          58.0   79.0   \n",
              "420  29.753    16.638  ...        6.8        140.0          92.0   48.0   \n",
              "421  23.295    21.851  ...        4.0        243.0         161.0   87.0   \n",
              "\n",
              "       LDL   AST   ALT  Alkaline Phos  HbA1c  telomere length (kb)   \n",
              "0     98.0  25.0  32.0           40.0  5.800                   7.30  \n",
              "1     94.0  16.0  16.0           62.0  5.100                   6.36  \n",
              "2     98.0  13.0  17.0           50.0  5.400                   9.71  \n",
              "3    151.0  18.0  31.0           76.0  5.600                   6.17  \n",
              "4    127.0  12.0  22.0           82.0  6.200                   4.55  \n",
              "..     ...   ...   ...            ...    ...                    ...  \n",
              "417  128.0  18.0  12.0           46.0  5.316                   8.98  \n",
              "418  127.0  21.0  24.0           71.0  5.215                   8.23  \n",
              "419  132.0  17.0  10.0           34.0  5.542                   8.79  \n",
              "420   73.0  31.0  75.0           69.0  5.725                   8.93  \n",
              "421  124.0  24.0  11.0           46.0  4.818                   7.92  \n",
              "\n",
              "[422 rows x 27 columns]"
            ],
            "text/html": [
              "\n",
              "  <div id=\"df-19f7f9f2-6949-47e2-a7bb-f384de968b28\">\n",
              "    <div class=\"colab-df-container\">\n",
              "      <div>\n",
              "<style scoped>\n",
              "    .dataframe tbody tr th:only-of-type {\n",
              "        vertical-align: middle;\n",
              "    }\n",
              "\n",
              "    .dataframe tbody tr th {\n",
              "        vertical-align: top;\n",
              "    }\n",
              "\n",
              "    .dataframe thead th {\n",
              "        text-align: right;\n",
              "    }\n",
              "</style>\n",
              "<table border=\"1\" class=\"dataframe\">\n",
              "  <thead>\n",
              "    <tr style=\"text-align: right;\">\n",
              "      <th></th>\n",
              "      <th>Sex</th>\n",
              "      <th>AgeSYear</th>\n",
              "      <th>Weight</th>\n",
              "      <th>Height</th>\n",
              "      <th>BMI</th>\n",
              "      <th>Systolic</th>\n",
              "      <th>Diastolic</th>\n",
              "      <th>HeartRate</th>\n",
              "      <th>SMM</th>\n",
              "      <th>Fat Mass</th>\n",
              "      <th>...</th>\n",
              "      <th>Uric Acid</th>\n",
              "      <th>Cholesterol</th>\n",
              "      <th>Triglyceride</th>\n",
              "      <th>HDL-C</th>\n",
              "      <th>LDL</th>\n",
              "      <th>AST</th>\n",
              "      <th>ALT</th>\n",
              "      <th>Alkaline Phos</th>\n",
              "      <th>HbA1c</th>\n",
              "      <th>telomere length (kb)</th>\n",
              "    </tr>\n",
              "  </thead>\n",
              "  <tbody>\n",
              "    <tr>\n",
              "      <th>0</th>\n",
              "      <td>2.0</td>\n",
              "      <td>58.0</td>\n",
              "      <td>47.200</td>\n",
              "      <td>156.00</td>\n",
              "      <td>19.40</td>\n",
              "      <td>112.000</td>\n",
              "      <td>64.00</td>\n",
              "      <td>70.00</td>\n",
              "      <td>19.694</td>\n",
              "      <td>13.404</td>\n",
              "      <td>...</td>\n",
              "      <td>4.8</td>\n",
              "      <td>180.0</td>\n",
              "      <td>97.0</td>\n",
              "      <td>62.0</td>\n",
              "      <td>98.0</td>\n",
              "      <td>25.0</td>\n",
              "      <td>32.0</td>\n",
              "      <td>40.0</td>\n",
              "      <td>5.800</td>\n",
              "      <td>7.30</td>\n",
              "    </tr>\n",
              "    <tr>\n",
              "      <th>1</th>\n",
              "      <td>2.0</td>\n",
              "      <td>57.0</td>\n",
              "      <td>47.400</td>\n",
              "      <td>153.00</td>\n",
              "      <td>20.20</td>\n",
              "      <td>114.000</td>\n",
              "      <td>75.00</td>\n",
              "      <td>69.00</td>\n",
              "      <td>19.300</td>\n",
              "      <td>12.500</td>\n",
              "      <td>...</td>\n",
              "      <td>5.0</td>\n",
              "      <td>176.0</td>\n",
              "      <td>51.0</td>\n",
              "      <td>72.0</td>\n",
              "      <td>94.0</td>\n",
              "      <td>16.0</td>\n",
              "      <td>16.0</td>\n",
              "      <td>62.0</td>\n",
              "      <td>5.100</td>\n",
              "      <td>6.36</td>\n",
              "    </tr>\n",
              "    <tr>\n",
              "      <th>2</th>\n",
              "      <td>2.0</td>\n",
              "      <td>24.0</td>\n",
              "      <td>53.200</td>\n",
              "      <td>157.00</td>\n",
              "      <td>21.60</td>\n",
              "      <td>103.000</td>\n",
              "      <td>69.00</td>\n",
              "      <td>78.00</td>\n",
              "      <td>21.300</td>\n",
              "      <td>14.600</td>\n",
              "      <td>...</td>\n",
              "      <td>5.2</td>\n",
              "      <td>159.0</td>\n",
              "      <td>45.0</td>\n",
              "      <td>52.0</td>\n",
              "      <td>98.0</td>\n",
              "      <td>13.0</td>\n",
              "      <td>17.0</td>\n",
              "      <td>50.0</td>\n",
              "      <td>5.400</td>\n",
              "      <td>9.71</td>\n",
              "    </tr>\n",
              "    <tr>\n",
              "      <th>3</th>\n",
              "      <td>2.0</td>\n",
              "      <td>62.0</td>\n",
              "      <td>54.400</td>\n",
              "      <td>165.00</td>\n",
              "      <td>20.00</td>\n",
              "      <td>95.000</td>\n",
              "      <td>75.00</td>\n",
              "      <td>83.00</td>\n",
              "      <td>21.600</td>\n",
              "      <td>15.200</td>\n",
              "      <td>...</td>\n",
              "      <td>4.1</td>\n",
              "      <td>230.0</td>\n",
              "      <td>94.0</td>\n",
              "      <td>61.0</td>\n",
              "      <td>151.0</td>\n",
              "      <td>18.0</td>\n",
              "      <td>31.0</td>\n",
              "      <td>76.0</td>\n",
              "      <td>5.600</td>\n",
              "      <td>6.17</td>\n",
              "    </tr>\n",
              "    <tr>\n",
              "      <th>4</th>\n",
              "      <td>2.0</td>\n",
              "      <td>86.0</td>\n",
              "      <td>49.000</td>\n",
              "      <td>154.00</td>\n",
              "      <td>20.70</td>\n",
              "      <td>129.000</td>\n",
              "      <td>79.00</td>\n",
              "      <td>83.00</td>\n",
              "      <td>20.057</td>\n",
              "      <td>16.295</td>\n",
              "      <td>...</td>\n",
              "      <td>5.4</td>\n",
              "      <td>183.0</td>\n",
              "      <td>86.0</td>\n",
              "      <td>39.0</td>\n",
              "      <td>127.0</td>\n",
              "      <td>12.0</td>\n",
              "      <td>22.0</td>\n",
              "      <td>82.0</td>\n",
              "      <td>6.200</td>\n",
              "      <td>4.55</td>\n",
              "    </tr>\n",
              "    <tr>\n",
              "      <th>...</th>\n",
              "      <td>...</td>\n",
              "      <td>...</td>\n",
              "      <td>...</td>\n",
              "      <td>...</td>\n",
              "      <td>...</td>\n",
              "      <td>...</td>\n",
              "      <td>...</td>\n",
              "      <td>...</td>\n",
              "      <td>...</td>\n",
              "      <td>...</td>\n",
              "      <td>...</td>\n",
              "      <td>...</td>\n",
              "      <td>...</td>\n",
              "      <td>...</td>\n",
              "      <td>...</td>\n",
              "      <td>...</td>\n",
              "      <td>...</td>\n",
              "      <td>...</td>\n",
              "      <td>...</td>\n",
              "      <td>...</td>\n",
              "      <td>...</td>\n",
              "    </tr>\n",
              "    <tr>\n",
              "      <th>417</th>\n",
              "      <td>2.0</td>\n",
              "      <td>25.0</td>\n",
              "      <td>47.000</td>\n",
              "      <td>165.00</td>\n",
              "      <td>17.30</td>\n",
              "      <td>104.000</td>\n",
              "      <td>63.00</td>\n",
              "      <td>89.00</td>\n",
              "      <td>20.299</td>\n",
              "      <td>13.578</td>\n",
              "      <td>...</td>\n",
              "      <td>4.8</td>\n",
              "      <td>232.0</td>\n",
              "      <td>36.0</td>\n",
              "      <td>96.0</td>\n",
              "      <td>128.0</td>\n",
              "      <td>18.0</td>\n",
              "      <td>12.0</td>\n",
              "      <td>46.0</td>\n",
              "      <td>5.316</td>\n",
              "      <td>8.98</td>\n",
              "    </tr>\n",
              "    <tr>\n",
              "      <th>418</th>\n",
              "      <td>2.0</td>\n",
              "      <td>31.0</td>\n",
              "      <td>72.200</td>\n",
              "      <td>168.00</td>\n",
              "      <td>25.60</td>\n",
              "      <td>123.000</td>\n",
              "      <td>89.00</td>\n",
              "      <td>69.00</td>\n",
              "      <td>25.286</td>\n",
              "      <td>18.181</td>\n",
              "      <td>...</td>\n",
              "      <td>6.1</td>\n",
              "      <td>187.0</td>\n",
              "      <td>49.0</td>\n",
              "      <td>51.0</td>\n",
              "      <td>127.0</td>\n",
              "      <td>21.0</td>\n",
              "      <td>24.0</td>\n",
              "      <td>71.0</td>\n",
              "      <td>5.215</td>\n",
              "      <td>8.23</td>\n",
              "    </tr>\n",
              "    <tr>\n",
              "      <th>419</th>\n",
              "      <td>2.0</td>\n",
              "      <td>32.0</td>\n",
              "      <td>65.656</td>\n",
              "      <td>156.96</td>\n",
              "      <td>25.98</td>\n",
              "      <td>115.860</td>\n",
              "      <td>73.17</td>\n",
              "      <td>74.72</td>\n",
              "      <td>23.573</td>\n",
              "      <td>24.765</td>\n",
              "      <td>...</td>\n",
              "      <td>5.1</td>\n",
              "      <td>222.0</td>\n",
              "      <td>58.0</td>\n",
              "      <td>79.0</td>\n",
              "      <td>132.0</td>\n",
              "      <td>17.0</td>\n",
              "      <td>10.0</td>\n",
              "      <td>34.0</td>\n",
              "      <td>5.542</td>\n",
              "      <td>8.79</td>\n",
              "    </tr>\n",
              "    <tr>\n",
              "      <th>420</th>\n",
              "      <td>1.0</td>\n",
              "      <td>29.0</td>\n",
              "      <td>67.768</td>\n",
              "      <td>169.90</td>\n",
              "      <td>23.87</td>\n",
              "      <td>117.205</td>\n",
              "      <td>75.50</td>\n",
              "      <td>85.37</td>\n",
              "      <td>29.753</td>\n",
              "      <td>16.638</td>\n",
              "      <td>...</td>\n",
              "      <td>6.8</td>\n",
              "      <td>140.0</td>\n",
              "      <td>92.0</td>\n",
              "      <td>48.0</td>\n",
              "      <td>73.0</td>\n",
              "      <td>31.0</td>\n",
              "      <td>75.0</td>\n",
              "      <td>69.0</td>\n",
              "      <td>5.725</td>\n",
              "      <td>8.93</td>\n",
              "    </tr>\n",
              "    <tr>\n",
              "      <th>421</th>\n",
              "      <td>2.0</td>\n",
              "      <td>31.0</td>\n",
              "      <td>61.935</td>\n",
              "      <td>161.46</td>\n",
              "      <td>24.06</td>\n",
              "      <td>113.340</td>\n",
              "      <td>71.31</td>\n",
              "      <td>73.77</td>\n",
              "      <td>23.295</td>\n",
              "      <td>21.851</td>\n",
              "      <td>...</td>\n",
              "      <td>4.0</td>\n",
              "      <td>243.0</td>\n",
              "      <td>161.0</td>\n",
              "      <td>87.0</td>\n",
              "      <td>124.0</td>\n",
              "      <td>24.0</td>\n",
              "      <td>11.0</td>\n",
              "      <td>46.0</td>\n",
              "      <td>4.818</td>\n",
              "      <td>7.92</td>\n",
              "    </tr>\n",
              "  </tbody>\n",
              "</table>\n",
              "<p>422 rows × 27 columns</p>\n",
              "</div>\n",
              "      <button class=\"colab-df-convert\" onclick=\"convertToInteractive('df-19f7f9f2-6949-47e2-a7bb-f384de968b28')\"\n",
              "              title=\"Convert this dataframe to an interactive table.\"\n",
              "              style=\"display:none;\">\n",
              "        \n",
              "  <svg xmlns=\"http://www.w3.org/2000/svg\" height=\"24px\"viewBox=\"0 0 24 24\"\n",
              "       width=\"24px\">\n",
              "    <path d=\"M0 0h24v24H0V0z\" fill=\"none\"/>\n",
              "    <path d=\"M18.56 5.44l.94 2.06.94-2.06 2.06-.94-2.06-.94-.94-2.06-.94 2.06-2.06.94zm-11 1L8.5 8.5l.94-2.06 2.06-.94-2.06-.94L8.5 2.5l-.94 2.06-2.06.94zm10 10l.94 2.06.94-2.06 2.06-.94-2.06-.94-.94-2.06-.94 2.06-2.06.94z\"/><path d=\"M17.41 7.96l-1.37-1.37c-.4-.4-.92-.59-1.43-.59-.52 0-1.04.2-1.43.59L10.3 9.45l-7.72 7.72c-.78.78-.78 2.05 0 2.83L4 21.41c.39.39.9.59 1.41.59.51 0 1.02-.2 1.41-.59l7.78-7.78 2.81-2.81c.8-.78.8-2.07 0-2.86zM5.41 20L4 18.59l7.72-7.72 1.47 1.35L5.41 20z\"/>\n",
              "  </svg>\n",
              "      </button>\n",
              "      \n",
              "  <style>\n",
              "    .colab-df-container {\n",
              "      display:flex;\n",
              "      flex-wrap:wrap;\n",
              "      gap: 12px;\n",
              "    }\n",
              "\n",
              "    .colab-df-convert {\n",
              "      background-color: #E8F0FE;\n",
              "      border: none;\n",
              "      border-radius: 50%;\n",
              "      cursor: pointer;\n",
              "      display: none;\n",
              "      fill: #1967D2;\n",
              "      height: 32px;\n",
              "      padding: 0 0 0 0;\n",
              "      width: 32px;\n",
              "    }\n",
              "\n",
              "    .colab-df-convert:hover {\n",
              "      background-color: #E2EBFA;\n",
              "      box-shadow: 0px 1px 2px rgba(60, 64, 67, 0.3), 0px 1px 3px 1px rgba(60, 64, 67, 0.15);\n",
              "      fill: #174EA6;\n",
              "    }\n",
              "\n",
              "    [theme=dark] .colab-df-convert {\n",
              "      background-color: #3B4455;\n",
              "      fill: #D2E3FC;\n",
              "    }\n",
              "\n",
              "    [theme=dark] .colab-df-convert:hover {\n",
              "      background-color: #434B5C;\n",
              "      box-shadow: 0px 1px 3px 1px rgba(0, 0, 0, 0.15);\n",
              "      filter: drop-shadow(0px 1px 2px rgba(0, 0, 0, 0.3));\n",
              "      fill: #FFFFFF;\n",
              "    }\n",
              "  </style>\n",
              "\n",
              "      <script>\n",
              "        const buttonEl =\n",
              "          document.querySelector('#df-19f7f9f2-6949-47e2-a7bb-f384de968b28 button.colab-df-convert');\n",
              "        buttonEl.style.display =\n",
              "          google.colab.kernel.accessAllowed ? 'block' : 'none';\n",
              "\n",
              "        async function convertToInteractive(key) {\n",
              "          const element = document.querySelector('#df-19f7f9f2-6949-47e2-a7bb-f384de968b28');\n",
              "          const dataTable =\n",
              "            await google.colab.kernel.invokeFunction('convertToInteractive',\n",
              "                                                     [key], {});\n",
              "          if (!dataTable) return;\n",
              "\n",
              "          const docLinkHtml = 'Like what you see? Visit the ' +\n",
              "            '<a target=\"_blank\" href=https://colab.research.google.com/notebooks/data_table.ipynb>data table notebook</a>'\n",
              "            + ' to learn more about interactive tables.';\n",
              "          element.innerHTML = '';\n",
              "          dataTable['output_type'] = 'display_data';\n",
              "          await google.colab.output.renderOutput(dataTable, element);\n",
              "          const docLink = document.createElement('div');\n",
              "          docLink.innerHTML = docLinkHtml;\n",
              "          element.appendChild(docLink);\n",
              "        }\n",
              "      </script>\n",
              "    </div>\n",
              "  </div>\n",
              "  "
            ]
          },
          "metadata": {},
          "execution_count": 68
        }
      ]
    },
    {
      "cell_type": "code",
      "source": [
        "Scaler3 = scaler.fit_transform(data_3)"
      ],
      "metadata": {
        "id": "c0NRO_-r04RQ"
      },
      "execution_count": 69,
      "outputs": []
    },
    {
      "cell_type": "code",
      "source": [
        "data_3 = pd.DataFrame(Scaler3)\n",
        "data_3 = data_3.rename(columns={0: 'Sex' ,1: 'AgeSYear', 2:'Weight',3:'Height',4:'BMI',5:'Systolic',6:'Diastolic',7:'HeartRate',8:'SMM',9:'Fat Mass',\n",
        "                                10:'% Body fat',11:'waist to hip radio',12:'abdominal circumference',13:'visceral fat area',14:'Glucose',15:'BUN',16:'Creatinine',17:'Uric Acid',18:'Cholesterol',\n",
        "                                19:'Triglyceride',20:'HDL-C',21:'LDL',22:'AST',23:'ALT',24:'Alkaline Phos',25:'HbA1c',26:'telomere length'})\n"
      ],
      "metadata": {
        "id": "FYHVq8ma2jvo"
      },
      "execution_count": 70,
      "outputs": []
    },
    {
      "cell_type": "code",
      "source": [
        "data_3"
      ],
      "metadata": {
        "id": "dXsYqrmJ2poC",
        "colab": {
          "base_uri": "https://localhost:8080/",
          "height": 505
        },
        "outputId": "f94700b0-4f9c-4d59-fc86-7803fd83c0c9"
      },
      "execution_count": 71,
      "outputs": [
        {
          "output_type": "execute_result",
          "data": {
            "text/plain": [
              "     Sex  AgeSYear    Weight    Height       BMI  Systolic  Diastolic  \\\n",
              "0    1.0  0.582090  0.154562  0.250000  0.198473  0.531707   0.333333   \n",
              "1    1.0  0.567164  0.158287  0.181818  0.259542  0.551220   0.537037   \n",
              "2    1.0  0.074627  0.266294  0.272727  0.366412  0.443902   0.425926   \n",
              "3    1.0  0.641791  0.288641  0.454545  0.244275  0.365854   0.537037   \n",
              "4    1.0  1.000000  0.188082  0.204545  0.297710  0.697561   0.611111   \n",
              "..   ...       ...       ...       ...       ...       ...        ...   \n",
              "417  1.0  0.089552  0.150838  0.454545  0.038168  0.453659   0.314815   \n",
              "418  1.0  0.179104  0.620112  0.522727  0.671756  0.639024   0.796296   \n",
              "419  1.0  0.194030  0.498250  0.271818  0.700763  0.569366   0.503148   \n",
              "420  0.0  0.149254  0.537579  0.565909  0.539695  0.582488   0.546296   \n",
              "421  1.0  0.179104  0.428957  0.374091  0.554198  0.544780   0.468704   \n",
              "\n",
              "     HeartRate       SMM  Fat Mass  ...  Uric Acid  Cholesterol  Triglyceride  \\\n",
              "0     0.306452  0.099431  0.230680  ...   0.424242     0.438849      0.211082   \n",
              "1     0.290323  0.085409  0.208738  ...   0.454545     0.410072      0.089710   \n",
              "2     0.435484  0.156584  0.259709  ...   0.484848     0.287770      0.073879   \n",
              "3     0.516129  0.167260  0.274272  ...   0.318182     0.798561      0.203166   \n",
              "4     0.516129  0.112349  0.300850  ...   0.515152     0.460432      0.182058   \n",
              "..         ...       ...       ...  ...        ...          ...           ...   \n",
              "417   0.612903  0.120961  0.234903  ...   0.424242     0.812950      0.050132   \n",
              "418   0.290323  0.298434  0.346626  ...   0.621212     0.489209      0.084433   \n",
              "419   0.382581  0.237473  0.506432  ...   0.469697     0.741007      0.108179   \n",
              "420   0.554355  0.457402  0.309175  ...   0.727273     0.151079      0.197889   \n",
              "421   0.367258  0.227580  0.435704  ...   0.303030     0.892086      0.379947   \n",
              "\n",
              "        HDL-C       LDL       AST       ALT  Alkaline Phos     HbA1c  \\\n",
              "0    0.402299  0.350365  0.271186  0.376812       0.203390  0.540984   \n",
              "1    0.517241  0.321168  0.118644  0.144928       0.389831  0.426230   \n",
              "2    0.287356  0.350365  0.067797  0.159420       0.288136  0.475410   \n",
              "3    0.390805  0.737226  0.152542  0.362319       0.508475  0.508197   \n",
              "4    0.137931  0.562044  0.050847  0.231884       0.559322  0.606557   \n",
              "..        ...       ...       ...       ...            ...       ...   \n",
              "417  0.793103  0.569343  0.152542  0.086957       0.254237  0.461639   \n",
              "418  0.275862  0.562044  0.203390  0.260870       0.466102  0.445082   \n",
              "419  0.597701  0.598540  0.135593  0.057971       0.152542  0.498689   \n",
              "420  0.241379  0.167883  0.372881  1.000000       0.449153  0.528689   \n",
              "421  0.689655  0.540146  0.254237  0.072464       0.254237  0.380000   \n",
              "\n",
              "     telomere length  \n",
              "0           0.119472  \n",
              "1           0.083010  \n",
              "2           0.212956  \n",
              "3           0.075640  \n",
              "4           0.012801  \n",
              "..               ...  \n",
              "417         0.184639  \n",
              "418         0.155547  \n",
              "419         0.177269  \n",
              "420         0.182700  \n",
              "421         0.143522  \n",
              "\n",
              "[422 rows x 27 columns]"
            ],
            "text/html": [
              "\n",
              "  <div id=\"df-a1270f92-0424-4c01-837d-7dec6d2a13b6\">\n",
              "    <div class=\"colab-df-container\">\n",
              "      <div>\n",
              "<style scoped>\n",
              "    .dataframe tbody tr th:only-of-type {\n",
              "        vertical-align: middle;\n",
              "    }\n",
              "\n",
              "    .dataframe tbody tr th {\n",
              "        vertical-align: top;\n",
              "    }\n",
              "\n",
              "    .dataframe thead th {\n",
              "        text-align: right;\n",
              "    }\n",
              "</style>\n",
              "<table border=\"1\" class=\"dataframe\">\n",
              "  <thead>\n",
              "    <tr style=\"text-align: right;\">\n",
              "      <th></th>\n",
              "      <th>Sex</th>\n",
              "      <th>AgeSYear</th>\n",
              "      <th>Weight</th>\n",
              "      <th>Height</th>\n",
              "      <th>BMI</th>\n",
              "      <th>Systolic</th>\n",
              "      <th>Diastolic</th>\n",
              "      <th>HeartRate</th>\n",
              "      <th>SMM</th>\n",
              "      <th>Fat Mass</th>\n",
              "      <th>...</th>\n",
              "      <th>Uric Acid</th>\n",
              "      <th>Cholesterol</th>\n",
              "      <th>Triglyceride</th>\n",
              "      <th>HDL-C</th>\n",
              "      <th>LDL</th>\n",
              "      <th>AST</th>\n",
              "      <th>ALT</th>\n",
              "      <th>Alkaline Phos</th>\n",
              "      <th>HbA1c</th>\n",
              "      <th>telomere length</th>\n",
              "    </tr>\n",
              "  </thead>\n",
              "  <tbody>\n",
              "    <tr>\n",
              "      <th>0</th>\n",
              "      <td>1.0</td>\n",
              "      <td>0.582090</td>\n",
              "      <td>0.154562</td>\n",
              "      <td>0.250000</td>\n",
              "      <td>0.198473</td>\n",
              "      <td>0.531707</td>\n",
              "      <td>0.333333</td>\n",
              "      <td>0.306452</td>\n",
              "      <td>0.099431</td>\n",
              "      <td>0.230680</td>\n",
              "      <td>...</td>\n",
              "      <td>0.424242</td>\n",
              "      <td>0.438849</td>\n",
              "      <td>0.211082</td>\n",
              "      <td>0.402299</td>\n",
              "      <td>0.350365</td>\n",
              "      <td>0.271186</td>\n",
              "      <td>0.376812</td>\n",
              "      <td>0.203390</td>\n",
              "      <td>0.540984</td>\n",
              "      <td>0.119472</td>\n",
              "    </tr>\n",
              "    <tr>\n",
              "      <th>1</th>\n",
              "      <td>1.0</td>\n",
              "      <td>0.567164</td>\n",
              "      <td>0.158287</td>\n",
              "      <td>0.181818</td>\n",
              "      <td>0.259542</td>\n",
              "      <td>0.551220</td>\n",
              "      <td>0.537037</td>\n",
              "      <td>0.290323</td>\n",
              "      <td>0.085409</td>\n",
              "      <td>0.208738</td>\n",
              "      <td>...</td>\n",
              "      <td>0.454545</td>\n",
              "      <td>0.410072</td>\n",
              "      <td>0.089710</td>\n",
              "      <td>0.517241</td>\n",
              "      <td>0.321168</td>\n",
              "      <td>0.118644</td>\n",
              "      <td>0.144928</td>\n",
              "      <td>0.389831</td>\n",
              "      <td>0.426230</td>\n",
              "      <td>0.083010</td>\n",
              "    </tr>\n",
              "    <tr>\n",
              "      <th>2</th>\n",
              "      <td>1.0</td>\n",
              "      <td>0.074627</td>\n",
              "      <td>0.266294</td>\n",
              "      <td>0.272727</td>\n",
              "      <td>0.366412</td>\n",
              "      <td>0.443902</td>\n",
              "      <td>0.425926</td>\n",
              "      <td>0.435484</td>\n",
              "      <td>0.156584</td>\n",
              "      <td>0.259709</td>\n",
              "      <td>...</td>\n",
              "      <td>0.484848</td>\n",
              "      <td>0.287770</td>\n",
              "      <td>0.073879</td>\n",
              "      <td>0.287356</td>\n",
              "      <td>0.350365</td>\n",
              "      <td>0.067797</td>\n",
              "      <td>0.159420</td>\n",
              "      <td>0.288136</td>\n",
              "      <td>0.475410</td>\n",
              "      <td>0.212956</td>\n",
              "    </tr>\n",
              "    <tr>\n",
              "      <th>3</th>\n",
              "      <td>1.0</td>\n",
              "      <td>0.641791</td>\n",
              "      <td>0.288641</td>\n",
              "      <td>0.454545</td>\n",
              "      <td>0.244275</td>\n",
              "      <td>0.365854</td>\n",
              "      <td>0.537037</td>\n",
              "      <td>0.516129</td>\n",
              "      <td>0.167260</td>\n",
              "      <td>0.274272</td>\n",
              "      <td>...</td>\n",
              "      <td>0.318182</td>\n",
              "      <td>0.798561</td>\n",
              "      <td>0.203166</td>\n",
              "      <td>0.390805</td>\n",
              "      <td>0.737226</td>\n",
              "      <td>0.152542</td>\n",
              "      <td>0.362319</td>\n",
              "      <td>0.508475</td>\n",
              "      <td>0.508197</td>\n",
              "      <td>0.075640</td>\n",
              "    </tr>\n",
              "    <tr>\n",
              "      <th>4</th>\n",
              "      <td>1.0</td>\n",
              "      <td>1.000000</td>\n",
              "      <td>0.188082</td>\n",
              "      <td>0.204545</td>\n",
              "      <td>0.297710</td>\n",
              "      <td>0.697561</td>\n",
              "      <td>0.611111</td>\n",
              "      <td>0.516129</td>\n",
              "      <td>0.112349</td>\n",
              "      <td>0.300850</td>\n",
              "      <td>...</td>\n",
              "      <td>0.515152</td>\n",
              "      <td>0.460432</td>\n",
              "      <td>0.182058</td>\n",
              "      <td>0.137931</td>\n",
              "      <td>0.562044</td>\n",
              "      <td>0.050847</td>\n",
              "      <td>0.231884</td>\n",
              "      <td>0.559322</td>\n",
              "      <td>0.606557</td>\n",
              "      <td>0.012801</td>\n",
              "    </tr>\n",
              "    <tr>\n",
              "      <th>...</th>\n",
              "      <td>...</td>\n",
              "      <td>...</td>\n",
              "      <td>...</td>\n",
              "      <td>...</td>\n",
              "      <td>...</td>\n",
              "      <td>...</td>\n",
              "      <td>...</td>\n",
              "      <td>...</td>\n",
              "      <td>...</td>\n",
              "      <td>...</td>\n",
              "      <td>...</td>\n",
              "      <td>...</td>\n",
              "      <td>...</td>\n",
              "      <td>...</td>\n",
              "      <td>...</td>\n",
              "      <td>...</td>\n",
              "      <td>...</td>\n",
              "      <td>...</td>\n",
              "      <td>...</td>\n",
              "      <td>...</td>\n",
              "      <td>...</td>\n",
              "    </tr>\n",
              "    <tr>\n",
              "      <th>417</th>\n",
              "      <td>1.0</td>\n",
              "      <td>0.089552</td>\n",
              "      <td>0.150838</td>\n",
              "      <td>0.454545</td>\n",
              "      <td>0.038168</td>\n",
              "      <td>0.453659</td>\n",
              "      <td>0.314815</td>\n",
              "      <td>0.612903</td>\n",
              "      <td>0.120961</td>\n",
              "      <td>0.234903</td>\n",
              "      <td>...</td>\n",
              "      <td>0.424242</td>\n",
              "      <td>0.812950</td>\n",
              "      <td>0.050132</td>\n",
              "      <td>0.793103</td>\n",
              "      <td>0.569343</td>\n",
              "      <td>0.152542</td>\n",
              "      <td>0.086957</td>\n",
              "      <td>0.254237</td>\n",
              "      <td>0.461639</td>\n",
              "      <td>0.184639</td>\n",
              "    </tr>\n",
              "    <tr>\n",
              "      <th>418</th>\n",
              "      <td>1.0</td>\n",
              "      <td>0.179104</td>\n",
              "      <td>0.620112</td>\n",
              "      <td>0.522727</td>\n",
              "      <td>0.671756</td>\n",
              "      <td>0.639024</td>\n",
              "      <td>0.796296</td>\n",
              "      <td>0.290323</td>\n",
              "      <td>0.298434</td>\n",
              "      <td>0.346626</td>\n",
              "      <td>...</td>\n",
              "      <td>0.621212</td>\n",
              "      <td>0.489209</td>\n",
              "      <td>0.084433</td>\n",
              "      <td>0.275862</td>\n",
              "      <td>0.562044</td>\n",
              "      <td>0.203390</td>\n",
              "      <td>0.260870</td>\n",
              "      <td>0.466102</td>\n",
              "      <td>0.445082</td>\n",
              "      <td>0.155547</td>\n",
              "    </tr>\n",
              "    <tr>\n",
              "      <th>419</th>\n",
              "      <td>1.0</td>\n",
              "      <td>0.194030</td>\n",
              "      <td>0.498250</td>\n",
              "      <td>0.271818</td>\n",
              "      <td>0.700763</td>\n",
              "      <td>0.569366</td>\n",
              "      <td>0.503148</td>\n",
              "      <td>0.382581</td>\n",
              "      <td>0.237473</td>\n",
              "      <td>0.506432</td>\n",
              "      <td>...</td>\n",
              "      <td>0.469697</td>\n",
              "      <td>0.741007</td>\n",
              "      <td>0.108179</td>\n",
              "      <td>0.597701</td>\n",
              "      <td>0.598540</td>\n",
              "      <td>0.135593</td>\n",
              "      <td>0.057971</td>\n",
              "      <td>0.152542</td>\n",
              "      <td>0.498689</td>\n",
              "      <td>0.177269</td>\n",
              "    </tr>\n",
              "    <tr>\n",
              "      <th>420</th>\n",
              "      <td>0.0</td>\n",
              "      <td>0.149254</td>\n",
              "      <td>0.537579</td>\n",
              "      <td>0.565909</td>\n",
              "      <td>0.539695</td>\n",
              "      <td>0.582488</td>\n",
              "      <td>0.546296</td>\n",
              "      <td>0.554355</td>\n",
              "      <td>0.457402</td>\n",
              "      <td>0.309175</td>\n",
              "      <td>...</td>\n",
              "      <td>0.727273</td>\n",
              "      <td>0.151079</td>\n",
              "      <td>0.197889</td>\n",
              "      <td>0.241379</td>\n",
              "      <td>0.167883</td>\n",
              "      <td>0.372881</td>\n",
              "      <td>1.000000</td>\n",
              "      <td>0.449153</td>\n",
              "      <td>0.528689</td>\n",
              "      <td>0.182700</td>\n",
              "    </tr>\n",
              "    <tr>\n",
              "      <th>421</th>\n",
              "      <td>1.0</td>\n",
              "      <td>0.179104</td>\n",
              "      <td>0.428957</td>\n",
              "      <td>0.374091</td>\n",
              "      <td>0.554198</td>\n",
              "      <td>0.544780</td>\n",
              "      <td>0.468704</td>\n",
              "      <td>0.367258</td>\n",
              "      <td>0.227580</td>\n",
              "      <td>0.435704</td>\n",
              "      <td>...</td>\n",
              "      <td>0.303030</td>\n",
              "      <td>0.892086</td>\n",
              "      <td>0.379947</td>\n",
              "      <td>0.689655</td>\n",
              "      <td>0.540146</td>\n",
              "      <td>0.254237</td>\n",
              "      <td>0.072464</td>\n",
              "      <td>0.254237</td>\n",
              "      <td>0.380000</td>\n",
              "      <td>0.143522</td>\n",
              "    </tr>\n",
              "  </tbody>\n",
              "</table>\n",
              "<p>422 rows × 27 columns</p>\n",
              "</div>\n",
              "      <button class=\"colab-df-convert\" onclick=\"convertToInteractive('df-a1270f92-0424-4c01-837d-7dec6d2a13b6')\"\n",
              "              title=\"Convert this dataframe to an interactive table.\"\n",
              "              style=\"display:none;\">\n",
              "        \n",
              "  <svg xmlns=\"http://www.w3.org/2000/svg\" height=\"24px\"viewBox=\"0 0 24 24\"\n",
              "       width=\"24px\">\n",
              "    <path d=\"M0 0h24v24H0V0z\" fill=\"none\"/>\n",
              "    <path d=\"M18.56 5.44l.94 2.06.94-2.06 2.06-.94-2.06-.94-.94-2.06-.94 2.06-2.06.94zm-11 1L8.5 8.5l.94-2.06 2.06-.94-2.06-.94L8.5 2.5l-.94 2.06-2.06.94zm10 10l.94 2.06.94-2.06 2.06-.94-2.06-.94-.94-2.06-.94 2.06-2.06.94z\"/><path d=\"M17.41 7.96l-1.37-1.37c-.4-.4-.92-.59-1.43-.59-.52 0-1.04.2-1.43.59L10.3 9.45l-7.72 7.72c-.78.78-.78 2.05 0 2.83L4 21.41c.39.39.9.59 1.41.59.51 0 1.02-.2 1.41-.59l7.78-7.78 2.81-2.81c.8-.78.8-2.07 0-2.86zM5.41 20L4 18.59l7.72-7.72 1.47 1.35L5.41 20z\"/>\n",
              "  </svg>\n",
              "      </button>\n",
              "      \n",
              "  <style>\n",
              "    .colab-df-container {\n",
              "      display:flex;\n",
              "      flex-wrap:wrap;\n",
              "      gap: 12px;\n",
              "    }\n",
              "\n",
              "    .colab-df-convert {\n",
              "      background-color: #E8F0FE;\n",
              "      border: none;\n",
              "      border-radius: 50%;\n",
              "      cursor: pointer;\n",
              "      display: none;\n",
              "      fill: #1967D2;\n",
              "      height: 32px;\n",
              "      padding: 0 0 0 0;\n",
              "      width: 32px;\n",
              "    }\n",
              "\n",
              "    .colab-df-convert:hover {\n",
              "      background-color: #E2EBFA;\n",
              "      box-shadow: 0px 1px 2px rgba(60, 64, 67, 0.3), 0px 1px 3px 1px rgba(60, 64, 67, 0.15);\n",
              "      fill: #174EA6;\n",
              "    }\n",
              "\n",
              "    [theme=dark] .colab-df-convert {\n",
              "      background-color: #3B4455;\n",
              "      fill: #D2E3FC;\n",
              "    }\n",
              "\n",
              "    [theme=dark] .colab-df-convert:hover {\n",
              "      background-color: #434B5C;\n",
              "      box-shadow: 0px 1px 3px 1px rgba(0, 0, 0, 0.15);\n",
              "      filter: drop-shadow(0px 1px 2px rgba(0, 0, 0, 0.3));\n",
              "      fill: #FFFFFF;\n",
              "    }\n",
              "  </style>\n",
              "\n",
              "      <script>\n",
              "        const buttonEl =\n",
              "          document.querySelector('#df-a1270f92-0424-4c01-837d-7dec6d2a13b6 button.colab-df-convert');\n",
              "        buttonEl.style.display =\n",
              "          google.colab.kernel.accessAllowed ? 'block' : 'none';\n",
              "\n",
              "        async function convertToInteractive(key) {\n",
              "          const element = document.querySelector('#df-a1270f92-0424-4c01-837d-7dec6d2a13b6');\n",
              "          const dataTable =\n",
              "            await google.colab.kernel.invokeFunction('convertToInteractive',\n",
              "                                                     [key], {});\n",
              "          if (!dataTable) return;\n",
              "\n",
              "          const docLinkHtml = 'Like what you see? Visit the ' +\n",
              "            '<a target=\"_blank\" href=https://colab.research.google.com/notebooks/data_table.ipynb>data table notebook</a>'\n",
              "            + ' to learn more about interactive tables.';\n",
              "          element.innerHTML = '';\n",
              "          dataTable['output_type'] = 'display_data';\n",
              "          await google.colab.output.renderOutput(dataTable, element);\n",
              "          const docLink = document.createElement('div');\n",
              "          docLink.innerHTML = docLinkHtml;\n",
              "          element.appendChild(docLink);\n",
              "        }\n",
              "      </script>\n",
              "    </div>\n",
              "  </div>\n",
              "  "
            ]
          },
          "metadata": {},
          "execution_count": 71
        }
      ]
    },
    {
      "cell_type": "code",
      "source": [
        "y3 = data_2[['telomere length']]\n",
        "X3 = data_2.drop('telomere length',1)"
      ],
      "metadata": {
        "colab": {
          "base_uri": "https://localhost:8080/"
        },
        "id": "utPl7VWhkk7T",
        "outputId": "87d9472e-f7cf-40ec-f3b6-fbc0037a5874"
      },
      "execution_count": 72,
      "outputs": [
        {
          "output_type": "stream",
          "name": "stderr",
          "text": [
            "<ipython-input-72-d484779784ea>:2: FutureWarning: In a future version of pandas all arguments of DataFrame.drop except for the argument 'labels' will be keyword-only\n",
            "  X3 = data_2.drop('telomere length',1)\n"
          ]
        }
      ]
    },
    {
      "cell_type": "markdown",
      "source": [
        "## batch_size epochs"
      ],
      "metadata": {
        "id": "ZteHVfOZXQe9"
      }
    },
    {
      "cell_type": "code",
      "source": [
        "seed = 99\n",
        "tf.random.set_seed(seed)"
      ],
      "metadata": {
        "id": "OIcrQJeuXQe-"
      },
      "execution_count": 73,
      "outputs": []
    },
    {
      "cell_type": "code",
      "source": [
        "def create_model():\n",
        "    model = Sequential()\n",
        "    model.add(Dense(26, activation='relu', input_shape=(26,)))\n",
        "    model.add(Dense(26, activation='relu'))\n",
        "    model.add(Dense(1))\n",
        "    model.compile(optimizer='adam', loss='mean_squared_error',metrics=['accuracy'])\n",
        "    return model"
      ],
      "metadata": {
        "id": "6qvZtDfoXQe-"
      },
      "execution_count": 74,
      "outputs": []
    },
    {
      "cell_type": "code",
      "source": [
        "model = KerasRegressor(build_fn=create_model)"
      ],
      "metadata": {
        "colab": {
          "base_uri": "https://localhost:8080/"
        },
        "outputId": "271d8edf-cecc-462a-a7b6-49c60d6ac669",
        "id": "cRHrqGYzXQe-"
      },
      "execution_count": 75,
      "outputs": [
        {
          "output_type": "stream",
          "name": "stderr",
          "text": [
            "<ipython-input-75-82c839a6aff6>:1: DeprecationWarning: KerasRegressor is deprecated, use Sci-Keras (https://github.com/adriangb/scikeras) instead. See https://www.adriangb.com/scikeras/stable/migration.html for help migrating.\n",
            "  model = KerasRegressor(build_fn=create_model)\n"
          ]
        }
      ]
    },
    {
      "cell_type": "code",
      "source": [
        "# define the grid search parameters\n",
        "batch_size = [4, 8, 16, 32]\n",
        "epochs = [10, 20, 30, 50, 100]\n",
        "param_grid = dict(batch_size=batch_size, epochs=epochs)\n",
        "grid = GridSearchCV(estimator=model, param_grid=param_grid, n_jobs=-1, cv=3)"
      ],
      "metadata": {
        "id": "KQGrl4DOXQe-"
      },
      "execution_count": 76,
      "outputs": []
    },
    {
      "cell_type": "code",
      "source": [
        "grid_result = grid.fit(X3, y3, verbose=0)"
      ],
      "metadata": {
        "id": "KBfwzP1DXQe-"
      },
      "execution_count": 77,
      "outputs": []
    },
    {
      "cell_type": "code",
      "source": [
        "print(\"Best: %f using %s\" % (grid_result.best_score_, grid_result.best_params_))\n",
        "means = grid_result.cv_results_['mean_test_score']\n",
        "stds = grid_result.cv_results_['std_test_score']\n",
        "params = grid_result.cv_results_['params']\n",
        "for mean, stdev, param in zip(means, stds, params):\n",
        "    print(\"%f (%f) with: %r\" % (mean, stdev, param))"
      ],
      "metadata": {
        "colab": {
          "base_uri": "https://localhost:8080/"
        },
        "outputId": "1aa380ce-2ed1-464b-9ca8-5f70091daa77",
        "id": "2xk7_tA2XQe-"
      },
      "execution_count": 78,
      "outputs": [
        {
          "output_type": "stream",
          "name": "stdout",
          "text": [
            "Best: -0.003382 using {'batch_size': 32, 'epochs': 100}\n",
            "-0.003640 (0.002298) with: {'batch_size': 4, 'epochs': 10}\n",
            "-0.004137 (0.002086) with: {'batch_size': 4, 'epochs': 20}\n",
            "-0.003441 (0.002497) with: {'batch_size': 4, 'epochs': 30}\n",
            "-0.003600 (0.002288) with: {'batch_size': 4, 'epochs': 50}\n",
            "-0.004530 (0.002110) with: {'batch_size': 4, 'epochs': 100}\n",
            "-0.003925 (0.002869) with: {'batch_size': 8, 'epochs': 10}\n",
            "-0.003600 (0.001852) with: {'batch_size': 8, 'epochs': 20}\n",
            "-0.004030 (0.002333) with: {'batch_size': 8, 'epochs': 30}\n",
            "-0.003964 (0.001864) with: {'batch_size': 8, 'epochs': 50}\n",
            "-0.003663 (0.002145) with: {'batch_size': 8, 'epochs': 100}\n",
            "-0.004157 (0.002317) with: {'batch_size': 16, 'epochs': 10}\n",
            "-0.004115 (0.001923) with: {'batch_size': 16, 'epochs': 20}\n",
            "-0.003767 (0.002234) with: {'batch_size': 16, 'epochs': 30}\n",
            "-0.003896 (0.002445) with: {'batch_size': 16, 'epochs': 50}\n",
            "-0.003656 (0.002026) with: {'batch_size': 16, 'epochs': 100}\n",
            "-0.005445 (0.002470) with: {'batch_size': 32, 'epochs': 10}\n",
            "-0.004590 (0.002422) with: {'batch_size': 32, 'epochs': 20}\n",
            "-0.003989 (0.002189) with: {'batch_size': 32, 'epochs': 30}\n",
            "-0.003407 (0.001989) with: {'batch_size': 32, 'epochs': 50}\n",
            "-0.003382 (0.002433) with: {'batch_size': 32, 'epochs': 100}\n"
          ]
        }
      ]
    },
    {
      "cell_type": "markdown",
      "source": [
        "## Optimization Algorithm"
      ],
      "metadata": {
        "id": "umaoMf1oXQe-"
      }
    },
    {
      "cell_type": "code",
      "source": [
        "seed = 99\n",
        "tf.random.set_seed(seed)"
      ],
      "metadata": {
        "id": "oJwCiyfXXQe-"
      },
      "execution_count": 79,
      "outputs": []
    },
    {
      "cell_type": "code",
      "source": [
        "def create_model(optimizer):\n",
        "    model = Sequential()\n",
        "    model.add(Dense(26, activation='relu', input_shape=(26,)))\n",
        "    model.add(Dense(26, activation='relu'))\n",
        "    model.add(Dense(1))\n",
        "    model.compile(optimizer=optimizer, loss='mean_squared_error',metrics=['accuracy'])\n",
        "    return model"
      ],
      "metadata": {
        "id": "ZAyHTGiSXQe-"
      },
      "execution_count": 80,
      "outputs": []
    },
    {
      "cell_type": "code",
      "source": [
        "model = KerasRegressor(build_fn=create_model, epochs=50, batch_size=8, verbose=0)"
      ],
      "metadata": {
        "colab": {
          "base_uri": "https://localhost:8080/"
        },
        "outputId": "b305c742-dd3c-4efb-cf65-1e411940a1c6",
        "id": "VqsTCM8AXQe-"
      },
      "execution_count": 81,
      "outputs": [
        {
          "output_type": "stream",
          "name": "stderr",
          "text": [
            "<ipython-input-81-274eb9c7d1e4>:1: DeprecationWarning: KerasRegressor is deprecated, use Sci-Keras (https://github.com/adriangb/scikeras) instead. See https://www.adriangb.com/scikeras/stable/migration.html for help migrating.\n",
            "  model = KerasRegressor(build_fn=create_model, epochs=50, batch_size=8, verbose=0)\n"
          ]
        }
      ]
    },
    {
      "cell_type": "code",
      "source": [
        "# define the grid search parameters\n",
        "optimizer = ['SGD', 'RMSprop', 'Adam', 'Adagrad']\n",
        "param_grid = dict(optimizer=optimizer)\n",
        "grid = GridSearchCV(estimator=model, param_grid=param_grid, n_jobs=-1, cv=3)\n",
        "grid_result = grid.fit(X3, y3)"
      ],
      "metadata": {
        "id": "0eFmb2QWXQe-"
      },
      "execution_count": 82,
      "outputs": []
    },
    {
      "cell_type": "code",
      "source": [
        "# summarize results\n",
        "print(\"Best: %f using %s\" % (grid_result.best_score_, grid_result.best_params_))\n",
        "means = grid_result.cv_results_['mean_test_score']\n",
        "stds = grid_result.cv_results_['std_test_score']\n",
        "params = grid_result.cv_results_['params']\n",
        "for mean, stdev, param in zip(means, stds, params):\n",
        "    print(\"%f (%f) with: %r\" % (mean, stdev, param))"
      ],
      "metadata": {
        "colab": {
          "base_uri": "https://localhost:8080/"
        },
        "outputId": "13950bf6-c404-40a0-bbaa-4933ad3b6500",
        "id": "qbm8a1vsXQe-"
      },
      "execution_count": 83,
      "outputs": [
        {
          "output_type": "stream",
          "name": "stdout",
          "text": [
            "Best: -0.004052 using {'optimizer': 'RMSprop'}\n",
            "-0.004598 (0.002969) with: {'optimizer': 'SGD'}\n",
            "-0.004052 (0.002689) with: {'optimizer': 'RMSprop'}\n",
            "-0.004066 (0.002310) with: {'optimizer': 'Adam'}\n",
            "-0.007374 (0.002413) with: {'optimizer': 'Adagrad'}\n"
          ]
        }
      ]
    },
    {
      "cell_type": "markdown",
      "source": [
        "## Learning Rate"
      ],
      "metadata": {
        "id": "I9vo_13jXQe_"
      }
    },
    {
      "cell_type": "code",
      "source": [
        "seed = 99\n",
        "tf.random.set_seed(seed)"
      ],
      "metadata": {
        "id": "jzgKt1W-XQe_"
      },
      "execution_count": 84,
      "outputs": []
    },
    {
      "cell_type": "code",
      "source": [
        "def create_model(lr):\n",
        "    model = Sequential()\n",
        "    model.add(Dense(26, activation='relu', input_shape=(26,)))\n",
        "    model.add(Dense(26, activation='relu'))\n",
        "    model.add(Dense(1))\n",
        "    model.compile(optimizer=Adam(lr), loss='mean_squared_error',metrics=['accuracy'])\n",
        "    return model"
      ],
      "metadata": {
        "id": "6wLsbvnCXQe_"
      },
      "execution_count": 85,
      "outputs": []
    },
    {
      "cell_type": "code",
      "source": [
        "model = KerasRegressor(build_fn=create_model, epochs=50, batch_size=8, verbose=0)"
      ],
      "metadata": {
        "colab": {
          "base_uri": "https://localhost:8080/"
        },
        "outputId": "caef4603-ae62-4ed2-ad34-b0b13a55bc99",
        "id": "l-Pqzn3uXQe_"
      },
      "execution_count": 86,
      "outputs": [
        {
          "output_type": "stream",
          "name": "stderr",
          "text": [
            "<ipython-input-86-274eb9c7d1e4>:1: DeprecationWarning: KerasRegressor is deprecated, use Sci-Keras (https://github.com/adriangb/scikeras) instead. See https://www.adriangb.com/scikeras/stable/migration.html for help migrating.\n",
            "  model = KerasRegressor(build_fn=create_model, epochs=50, batch_size=8, verbose=0)\n"
          ]
        }
      ]
    },
    {
      "cell_type": "code",
      "source": [
        "lr = [0.001, 0.01, 0.1, 0.2, 0.3]\n",
        "param_grid = dict(lr=lr)\n",
        "grid = GridSearchCV(estimator=model, param_grid=param_grid, n_jobs=-1, cv=3)\n",
        "grid_result = grid.fit(X3, y3)"
      ],
      "metadata": {
        "id": "EnfmQE-yXQe_"
      },
      "execution_count": 87,
      "outputs": []
    },
    {
      "cell_type": "code",
      "source": [
        "print(\"Best: %f using %s\" % (grid_result.best_score_, grid_result.best_params_))\n",
        "means = grid_result.cv_results_['mean_test_score']\n",
        "stds = grid_result.cv_results_['std_test_score']\n",
        "params = grid_result.cv_results_['params']\n",
        "for mean, stdev, param in zip(means, stds, params):\n",
        "    print(\"%f (%f) with: %r\" % (mean, stdev, param))"
      ],
      "metadata": {
        "colab": {
          "base_uri": "https://localhost:8080/"
        },
        "outputId": "bc4bd40c-c6d8-4a75-bf21-f6b442efa087",
        "id": "S-JHZN7VXQe_"
      },
      "execution_count": 88,
      "outputs": [
        {
          "output_type": "stream",
          "name": "stdout",
          "text": [
            "Best: -0.003626 using {'lr': 0.01}\n",
            "-0.003895 (0.001958) with: {'lr': 0.001}\n",
            "-0.003626 (0.002216) with: {'lr': 0.01}\n",
            "-0.005304 (0.001483) with: {'lr': 0.1}\n",
            "-0.003881 (0.001888) with: {'lr': 0.2}\n",
            "-0.006454 (0.002377) with: {'lr': 0.3}\n"
          ]
        }
      ]
    },
    {
      "cell_type": "markdown",
      "source": [
        "## activations"
      ],
      "metadata": {
        "id": "SdsM67wyXQe_"
      }
    },
    {
      "cell_type": "code",
      "source": [
        "seed = 99\n",
        "tf.random.set_seed(seed)"
      ],
      "metadata": {
        "id": "YmPXIe3qXQe_"
      },
      "execution_count": 89,
      "outputs": []
    },
    {
      "cell_type": "code",
      "source": [
        "def create_model(activations):\n",
        "    model = Sequential()\n",
        "    model.add(Dense(26, activation = activations, input_shape=(26,)))\n",
        "    model.add(Dense(26, activation = activations))\n",
        "    model.add(Dense(1))\n",
        "    adam= Adam(lr=0.01)\n",
        "    model.compile(optimizer=adam, loss='mean_squared_error',metrics=['accuracy'])\n",
        "    return model"
      ],
      "metadata": {
        "id": "y7PidykWXQe_"
      },
      "execution_count": 90,
      "outputs": []
    },
    {
      "cell_type": "code",
      "source": [
        "model = KerasRegressor(build_fn=create_model, epochs=50, batch_size=8, verbose=0)"
      ],
      "metadata": {
        "colab": {
          "base_uri": "https://localhost:8080/"
        },
        "outputId": "f171c994-30e2-49c6-8d05-514345879b3e",
        "id": "-_FuWj7JXQe_"
      },
      "execution_count": 91,
      "outputs": [
        {
          "output_type": "stream",
          "name": "stderr",
          "text": [
            "<ipython-input-91-274eb9c7d1e4>:1: DeprecationWarning: KerasRegressor is deprecated, use Sci-Keras (https://github.com/adriangb/scikeras) instead. See https://www.adriangb.com/scikeras/stable/migration.html for help migrating.\n",
            "  model = KerasRegressor(build_fn=create_model, epochs=50, batch_size=8, verbose=0)\n"
          ]
        }
      ]
    },
    {
      "cell_type": "code",
      "source": [
        "activations = ['Linear', 'relu']\n",
        "param_grid = dict(activations = activations)\n",
        "grid = GridSearchCV(estimator=model, param_grid=param_grid, n_jobs=-1, cv=3)\n",
        "grid_result = grid.fit(X3, y3)"
      ],
      "metadata": {
        "colab": {
          "base_uri": "https://localhost:8080/"
        },
        "outputId": "ca16b81e-8987-48f7-cb03-2147d09b8212",
        "id": "pC6PMdUjXQe_"
      },
      "execution_count": 92,
      "outputs": [
        {
          "output_type": "stream",
          "name": "stderr",
          "text": [
            "/usr/local/lib/python3.8/dist-packages/sklearn/model_selection/_validation.py:372: FitFailedWarning: \n",
            "3 fits failed out of a total of 6.\n",
            "The score on these train-test partitions for these parameters will be set to nan.\n",
            "If these failures are not expected, you can try to debug them by setting error_score='raise'.\n",
            "\n",
            "Below are more details about the failures:\n",
            "--------------------------------------------------------------------------------\n",
            "3 fits failed with the following error:\n",
            "Traceback (most recent call last):\n",
            "  File \"/usr/local/lib/python3.8/dist-packages/sklearn/model_selection/_validation.py\", line 680, in _fit_and_score\n",
            "    estimator.fit(X_train, y_train, **fit_params)\n",
            "  File \"/usr/local/lib/python3.8/dist-packages/keras/wrappers/scikit_learn.py\", line 164, in fit\n",
            "    self.model = self.build_fn(**self.filter_sk_params(self.build_fn))\n",
            "  File \"<ipython-input-90-6c04643145f7>\", line 3, in create_model\n",
            "  File \"/usr/local/lib/python3.8/dist-packages/keras/dtensor/utils.py\", line 96, in _wrap_function\n",
            "    init_method(layer_instance, *args, **kwargs)\n",
            "  File \"/usr/local/lib/python3.8/dist-packages/keras/layers/core/dense.py\", line 125, in __init__\n",
            "    self.activation = activations.get(activation)\n",
            "  File \"/usr/local/lib/python3.8/dist-packages/tensorflow/python/util/traceback_utils.py\", line 153, in error_handler\n",
            "    raise e.with_traceback(filtered_tb) from None\n",
            "  File \"/usr/local/lib/python3.8/dist-packages/keras/activations.py\", line 609, in get\n",
            "    return deserialize(identifier)\n",
            "  File \"/usr/local/lib/python3.8/dist-packages/keras/activations.py\", line 568, in deserialize\n",
            "    return serialization.deserialize_keras_object(\n",
            "  File \"/usr/local/lib/python3.8/dist-packages/keras/saving/legacy/serialization.py\", line 557, in deserialize_keras_object\n",
            "    raise ValueError(\n",
            "ValueError: Unknown activation function: 'Linear'. Please ensure you are using a `keras.utils.custom_object_scope` and that this object is included in the scope. See https://www.tensorflow.org/guide/keras/save_and_serialize#registering_the_custom_object for details.\n",
            "\n",
            "  warnings.warn(some_fits_failed_message, FitFailedWarning)\n",
            "/usr/local/lib/python3.8/dist-packages/sklearn/model_selection/_search.py:969: UserWarning: One or more of the test scores are non-finite: [        nan -0.00498195]\n",
            "  warnings.warn(\n",
            "/usr/local/lib/python3.8/dist-packages/keras/optimizers/optimizer_v2/adam.py:117: UserWarning: The `lr` argument is deprecated, use `learning_rate` instead.\n",
            "  super().__init__(name, **kwargs)\n"
          ]
        }
      ]
    },
    {
      "cell_type": "code",
      "source": [
        "# summarize results\n",
        "print(\"Best: %f using %s\" % (grid_result.best_score_, grid_result.best_params_))\n",
        "means = grid_result.cv_results_['mean_test_score']\n",
        "stds = grid_result.cv_results_['std_test_score']\n",
        "params = grid_result.cv_results_['params']\n",
        "for mean, stdev, param in zip(means, stds, params):\n",
        "    print(\"%f (%f) with: %r\" % (mean, stdev, param))"
      ],
      "metadata": {
        "colab": {
          "base_uri": "https://localhost:8080/"
        },
        "outputId": "f897b1c1-e7de-43df-ffaa-2eb0b2dc3533",
        "id": "RbXYIN4jXQe_"
      },
      "execution_count": 93,
      "outputs": [
        {
          "output_type": "stream",
          "name": "stdout",
          "text": [
            "Best: -0.004982 using {'activations': 'relu'}\n",
            "nan (nan) with: {'activations': 'Linear'}\n",
            "-0.004982 (0.002746) with: {'activations': 'relu'}\n"
          ]
        }
      ]
    },
    {
      "cell_type": "markdown",
      "source": [
        "## Hidden Layer"
      ],
      "metadata": {
        "id": "JZqZ8RYqXQe_"
      }
    },
    {
      "cell_type": "code",
      "source": [
        "seed = 99\n",
        "tf.random.set_seed(seed)"
      ],
      "metadata": {
        "id": "OZMQOC8kXQe_"
      },
      "execution_count": 94,
      "outputs": []
    },
    {
      "cell_type": "code",
      "source": [
        "def create_model(neurons):\n",
        "    model = Sequential()\n",
        "    model.add(Dense(neurons, activation = 'relu', input_shape=(26,)))\n",
        "    model.add(Dense(neurons, activation = 'relu'))\n",
        "    model.add(Dense(1))\n",
        "    adam= Adam(lr=0.01)\n",
        "    model.compile(optimizer=adam, loss='mean_squared_error',metrics=['accuracy'])\n",
        "    return model"
      ],
      "metadata": {
        "id": "sLHc9mE6XQe_"
      },
      "execution_count": 95,
      "outputs": []
    },
    {
      "cell_type": "code",
      "source": [
        "model = KerasRegressor(build_fn=create_model, epochs=50, batch_size=8, verbose=0)"
      ],
      "metadata": {
        "colab": {
          "base_uri": "https://localhost:8080/"
        },
        "outputId": "ce233b1f-d76b-40e2-c3d6-92718814ad4c",
        "id": "i07nALFmXQe_"
      },
      "execution_count": 96,
      "outputs": [
        {
          "output_type": "stream",
          "name": "stderr",
          "text": [
            "<ipython-input-96-274eb9c7d1e4>:1: DeprecationWarning: KerasRegressor is deprecated, use Sci-Keras (https://github.com/adriangb/scikeras) instead. See https://www.adriangb.com/scikeras/stable/migration.html for help migrating.\n",
            "  model = KerasRegressor(build_fn=create_model, epochs=50, batch_size=8, verbose=0)\n"
          ]
        }
      ]
    },
    {
      "cell_type": "code",
      "source": [
        "# define the grid search parameters\n",
        "neurons = [10, 20, 30, 40, 50, 100 ]\n",
        "param_grid = dict(neurons=neurons)\n",
        "grid = GridSearchCV(estimator=model, param_grid=param_grid, n_jobs=-1, cv=3)\n",
        "grid_result = grid.fit(X3, y3)"
      ],
      "metadata": {
        "colab": {
          "base_uri": "https://localhost:8080/"
        },
        "outputId": "15d0e20e-72be-4df7-addb-c8ec14bd3e80",
        "id": "cO1Xf_tmXQe_"
      },
      "execution_count": 97,
      "outputs": [
        {
          "output_type": "stream",
          "name": "stderr",
          "text": [
            "/usr/local/lib/python3.8/dist-packages/keras/optimizers/optimizer_v2/adam.py:117: UserWarning: The `lr` argument is deprecated, use `learning_rate` instead.\n",
            "  super().__init__(name, **kwargs)\n"
          ]
        }
      ]
    },
    {
      "cell_type": "code",
      "source": [
        "# summarize results\n",
        "print(\"Best: %f using %s\" % (grid_result.best_score_, grid_result.best_params_))\n",
        "means = grid_result.cv_results_['mean_test_score']\n",
        "stds = grid_result.cv_results_['std_test_score']\n",
        "params = grid_result.cv_results_['params']\n",
        "for mean, stdev, param in zip(means, stds, params):\n",
        "    print(\"%f (%f) with: %r\" % (mean, stdev, param))"
      ],
      "metadata": {
        "colab": {
          "base_uri": "https://localhost:8080/"
        },
        "outputId": "a2003a9f-9d2f-4182-9b84-6f166382bf20",
        "id": "v2-rrEewXQe_"
      },
      "execution_count": 98,
      "outputs": [
        {
          "output_type": "stream",
          "name": "stdout",
          "text": [
            "Best: -0.003200 using {'neurons': 100}\n",
            "-0.003475 (0.002023) with: {'neurons': 10}\n",
            "-0.004124 (0.002141) with: {'neurons': 20}\n",
            "-0.004434 (0.002508) with: {'neurons': 30}\n",
            "-0.003317 (0.002080) with: {'neurons': 40}\n",
            "-0.003310 (0.002227) with: {'neurons': 50}\n",
            "-0.003200 (0.002280) with: {'neurons': 100}\n"
          ]
        }
      ]
    }
  ]
}