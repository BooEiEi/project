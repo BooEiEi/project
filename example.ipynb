{
  "nbformat": 4,
  "nbformat_minor": 0,
  "metadata": {
    "colab": {
      "provenance": [],
      "authorship_tag": "ABX9TyNt1XRNAdwLq+fJgTIDp+yM",
      "include_colab_link": true
    },
    "kernelspec": {
      "name": "python3",
      "display_name": "Python 3"
    },
    "language_info": {
      "name": "python"
    }
  },
  "cells": [
    {
      "cell_type": "markdown",
      "metadata": {
        "id": "view-in-github",
        "colab_type": "text"
      },
      "source": [
        "<a href=\"https://colab.research.google.com/github/BooEiEi/project/blob/main/example.ipynb\" target=\"_parent\"><img src=\"https://colab.research.google.com/assets/colab-badge.svg\" alt=\"Open In Colab\"/></a>"
      ]
    },
    {
      "cell_type": "code",
      "execution_count": null,
      "metadata": {
        "id": "JQalLXoMfA6j"
      },
      "outputs": [],
      "source": [
        "from sklearn.datasets import load_boston\n",
        "from sklearn.model_selection import KFold, GridSearchCV, cross_val_score, train_test_split\n",
        "from sklearn.linear_model import Ridge\n",
        "\n",
        "# Load the Boston Housing dataset\n",
        "boston = load_boston()\n",
        "\n",
        "# Define the features and target variable\n",
        "X = boston.data\n",
        "y = boston.target\n",
        "\n",
        "# Split the data into training and test sets\n",
        "X_train, X_test, y_train, y_test = train_test_split(X, y, test_size=0.2, random_state=42)\n",
        "\n",
        "# Define the outer cross-validation technique\n",
        "outer_cv = KFold(n_splits=5, shuffle=True, random_state=42)\n",
        "\n",
        "# Define the inner cross-validation technique\n",
        "inner_cv = KFold(n_splits=5, shuffle=True, random_state=42)\n",
        "\n",
        "# Define the parameter grid to search over\n",
        "param_grid = {'alpha': [0.1, 1.0, 10.0]}\n",
        "\n",
        "# Define the Ridge regression model\n",
        "model = Ridge()\n",
        "\n",
        "# Perform nested cross-validation\n",
        "nested_scores = cross_val_score(GridSearchCV(model, param_grid, cv=inner_cv), X_train, y_train, cv=outer_cv)\n",
        "\n",
        "# Print the mean score and standard deviation across all outer folds\n",
        "print(\"Nested CV Score: %0.2f (+/- %0.2f)\" % (nested_scores.mean(), nested_scores.std() * 2))\n",
        "\n",
        "# Fit the model on the entire training set using the best hyperparameters\n",
        "best_model = GridSearchCV(model, param_grid, cv=inner_cv).fit(X_train, y_train)\n",
        "\n",
        "# Evaluate the model on the test set\n",
        "test_score = best_model.score(X_test, y_test)\n",
        "\n",
        "# Print the test score\n",
        "print(\"Test Score:\", test_score)\n"
      ]
    }
  ]
}